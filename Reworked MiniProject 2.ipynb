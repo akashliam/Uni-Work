{
 "cells": [
  {
   "cell_type": "markdown",
   "id": "cb1d657d",
   "metadata": {},
   "source": [
    "# MiniProject 2"
   ]
  },
  {
   "cell_type": "markdown",
   "id": "feefdf98",
   "metadata": {},
   "source": [
    "## Brief"
   ]
  },
  {
   "cell_type": "markdown",
   "id": "2dc7e574",
   "metadata": {},
   "source": [
    "We will be using machine learning techniques on a large dataset on Vinho Verde wines. People are flocking in mass to get into this growing industry bringing with it new technology and millions invested. In the first 11 months of 2021 the white Vinho Verde grossed over $118,000,000 NZD in exports. This signifies a 6.9% growth from 2020.\n",
    "Our goal here is to try to optimize the qualities that make a Vinho Verde wine so special and perform data anaylitics to help producers create the best possible product to further the industries growth.\n",
    "\n",
    "https://www.theportugalnews.com/news/2022-01-25/record-year-for-vinho-verde/64832#:~:text=The%20production%20of%20%E2%80%9Cvinho%20verde,(CVRVV)%2C%20Manuel%20Pinheiro."
   ]
  },
  {
   "cell_type": "markdown",
   "id": "9becc609",
   "metadata": {},
   "source": [
    "### LIBRARIES"
   ]
  },
  {
   "cell_type": "code",
   "execution_count": 79,
   "id": "2761b4bb",
   "metadata": {},
   "outputs": [
    {
     "name": "stdout",
     "output_type": "stream",
     "text": [
      "Collecting package metadata (current_repodata.json): ...working... done\n",
      "Solving environment: ...working... done\n",
      "\n",
      "# All requested packages already installed.\n",
      "\n",
      "\n",
      "Note: you may need to restart the kernel to use updated packages.\n"
     ]
    }
   ],
   "source": [
    "conda install -c conda-forge python-cufflinks"
   ]
  },
  {
   "cell_type": "code",
   "execution_count": 108,
   "id": "12bb40d3",
   "metadata": {},
   "outputs": [
    {
     "data": {
      "text/html": [
       "        <script type=\"text/javascript\">\n",
       "        window.PlotlyConfig = {MathJaxConfig: 'local'};\n",
       "        if (window.MathJax && window.MathJax.Hub && window.MathJax.Hub.Config) {window.MathJax.Hub.Config({SVG: {font: \"STIX-Web\"}});}\n",
       "        if (typeof require !== 'undefined') {\n",
       "        require.undef(\"plotly\");\n",
       "        requirejs.config({\n",
       "            paths: {\n",
       "                'plotly': ['https://cdn.plot.ly/plotly-2.12.1.min']\n",
       "            }\n",
       "        });\n",
       "        require(['plotly'], function(Plotly) {\n",
       "            window._Plotly = Plotly;\n",
       "        });\n",
       "        }\n",
       "        </script>\n",
       "        "
      ]
     },
     "metadata": {},
     "output_type": "display_data"
    }
   ],
   "source": [
    "## Import Libraries\n",
    "\n",
    "import numpy as np\n",
    "import pandas as pd\n",
    "\n",
    "%matplotlib inline\n",
    "import matplotlib.pyplot as plt\n",
    "from matplotlib import style\n",
    "import plotly.offline as py\n",
    "import plotly.express as px\n",
    "import plotly.graph_objects as go\n",
    "from plotly.subplots import make_subplots\n",
    "from sklearn.metrics import f1_score\n",
    "import plotly.figure_factory as ff\n",
    "import cufflinks as cf\n",
    "cf.set_config_file(offline=True, sharing=False, theme='ggplot');\n",
    "from sklearn.metrics import classification_report, precision_recall_fscore_support\n",
    "import seaborn as sns\n",
    "from sklearn import datasets, linear_model\n",
    "from sklearn.metrics import mean_squared_error, r2_score\n",
    "from sklearn.compose import ColumnTransformer\n",
    "from sklearn.preprocessing import FunctionTransformer\n",
    "from sklearn.impute import SimpleImputer\n",
    "from sklearn import datasets\n",
    "from scipy.special import expit\n",
    "from sklearn.linear_model import LinearRegression\n",
    "from sklearn.preprocessing import LabelEncoder\n",
    "from sklearn.linear_model import Ridge, RidgeCV\n",
    "from sklearn.linear_model import Lasso, LassoCV\n",
    "from sklearn.model_selection import train_test_split\n",
    "from sklearn.metrics import mean_squared_error\n",
    "from sklearn.model_selection import cross_val_score\n",
    "from sklearn.preprocessing import StandardScaler\n",
    "from sklearn import metrics\n",
    "from sklearn.metrics import roc_curve, roc_auc_score\n",
    "from sklearn.preprocessing import OneHotEncoder\n",
    "from scipy.stats import norm \n",
    "from sklearn.metrics import confusion_matrix, classification_report, accuracy_score, ConfusionMatrixDisplay\n",
    "from sklearn.linear_model import LogisticRegression\n",
    "from sklearn.tree import DecisionTreeClassifier\n",
    "from sklearn.ensemble import RandomForestClassifier\n",
    "from sklearn.feature_extraction.text import CountVectorizer\n",
    "from scipy import stats\n",
    "from sklearn.model_selection import GridSearchCV\n",
    "from sklearn.model_selection import KFold\n",
    "from sklearn.pipeline import Pipeline\n",
    "## Avoid some version change warnings\n",
    "import warnings\n",
    "warnings.filterwarnings('ignore', message='numpy.dtype size changed')"
   ]
  },
  {
   "cell_type": "markdown",
   "id": "7886ffe2",
   "metadata": {},
   "source": [
    "## DATASET"
   ]
  },
  {
   "cell_type": "markdown",
   "id": "4b480e53",
   "metadata": {},
   "source": [
    "The dataset comprises 1599 red and 4898 white vinho verde wines produced in Portugal. Each entry carries with it a wine quality which i have chosen to be my target variable. It also has 11 other variables which will act as my predictor variables and i will see if there are any links between these 11 variables and the quality of the wine"
   ]
  },
  {
   "cell_type": "code",
   "execution_count": 109,
   "id": "803a4716",
   "metadata": {},
   "outputs": [],
   "source": [
    "wine = pd.read_csv(r'C:\\Users\\user\\Documents\\Data Science\\Data sets\\winequality_merged.csv')\n",
    "##comment_muru the dataset provided in the google classroom is winequality_white.csv but ok."
   ]
  },
  {
   "cell_type": "code",
   "execution_count": 110,
   "id": "4fa10bf7",
   "metadata": {},
   "outputs": [
    {
     "data": {
      "text/html": [
       "<div>\n",
       "<style scoped>\n",
       "    .dataframe tbody tr th:only-of-type {\n",
       "        vertical-align: middle;\n",
       "    }\n",
       "\n",
       "    .dataframe tbody tr th {\n",
       "        vertical-align: top;\n",
       "    }\n",
       "\n",
       "    .dataframe thead th {\n",
       "        text-align: right;\n",
       "    }\n",
       "</style>\n",
       "<table border=\"1\" class=\"dataframe\">\n",
       "  <thead>\n",
       "    <tr style=\"text-align: right;\">\n",
       "      <th></th>\n",
       "      <th>fixed acidity</th>\n",
       "      <th>volatile acidity</th>\n",
       "      <th>citric acid</th>\n",
       "      <th>residual sugar</th>\n",
       "      <th>chlorides</th>\n",
       "      <th>free sulfur dioxide</th>\n",
       "      <th>total sulfur dioxide</th>\n",
       "      <th>density</th>\n",
       "      <th>pH</th>\n",
       "      <th>sulphates</th>\n",
       "      <th>alcohol</th>\n",
       "      <th>quality</th>\n",
       "      <th>red_wine</th>\n",
       "    </tr>\n",
       "  </thead>\n",
       "  <tbody>\n",
       "    <tr>\n",
       "      <th>0</th>\n",
       "      <td>7.4</td>\n",
       "      <td>0.70</td>\n",
       "      <td>0.00</td>\n",
       "      <td>1.9</td>\n",
       "      <td>0.076</td>\n",
       "      <td>11.0</td>\n",
       "      <td>34.0</td>\n",
       "      <td>0.9978</td>\n",
       "      <td>3.51</td>\n",
       "      <td>0.56</td>\n",
       "      <td>9.4</td>\n",
       "      <td>5</td>\n",
       "      <td>1</td>\n",
       "    </tr>\n",
       "    <tr>\n",
       "      <th>1</th>\n",
       "      <td>7.8</td>\n",
       "      <td>0.88</td>\n",
       "      <td>0.00</td>\n",
       "      <td>2.6</td>\n",
       "      <td>0.098</td>\n",
       "      <td>25.0</td>\n",
       "      <td>67.0</td>\n",
       "      <td>0.9968</td>\n",
       "      <td>3.20</td>\n",
       "      <td>0.68</td>\n",
       "      <td>9.8</td>\n",
       "      <td>5</td>\n",
       "      <td>1</td>\n",
       "    </tr>\n",
       "    <tr>\n",
       "      <th>2</th>\n",
       "      <td>7.8</td>\n",
       "      <td>0.76</td>\n",
       "      <td>0.04</td>\n",
       "      <td>2.3</td>\n",
       "      <td>0.092</td>\n",
       "      <td>15.0</td>\n",
       "      <td>54.0</td>\n",
       "      <td>0.9970</td>\n",
       "      <td>3.26</td>\n",
       "      <td>0.65</td>\n",
       "      <td>9.8</td>\n",
       "      <td>5</td>\n",
       "      <td>1</td>\n",
       "    </tr>\n",
       "    <tr>\n",
       "      <th>3</th>\n",
       "      <td>11.2</td>\n",
       "      <td>0.28</td>\n",
       "      <td>0.56</td>\n",
       "      <td>1.9</td>\n",
       "      <td>0.075</td>\n",
       "      <td>17.0</td>\n",
       "      <td>60.0</td>\n",
       "      <td>0.9980</td>\n",
       "      <td>3.16</td>\n",
       "      <td>0.58</td>\n",
       "      <td>9.8</td>\n",
       "      <td>6</td>\n",
       "      <td>1</td>\n",
       "    </tr>\n",
       "    <tr>\n",
       "      <th>4</th>\n",
       "      <td>7.4</td>\n",
       "      <td>0.70</td>\n",
       "      <td>0.00</td>\n",
       "      <td>1.9</td>\n",
       "      <td>0.076</td>\n",
       "      <td>11.0</td>\n",
       "      <td>34.0</td>\n",
       "      <td>0.9978</td>\n",
       "      <td>3.51</td>\n",
       "      <td>0.56</td>\n",
       "      <td>9.4</td>\n",
       "      <td>5</td>\n",
       "      <td>1</td>\n",
       "    </tr>\n",
       "  </tbody>\n",
       "</table>\n",
       "</div>"
      ],
      "text/plain": [
       "   fixed acidity  volatile acidity  citric acid  residual sugar  chlorides  \\\n",
       "0            7.4              0.70         0.00             1.9      0.076   \n",
       "1            7.8              0.88         0.00             2.6      0.098   \n",
       "2            7.8              0.76         0.04             2.3      0.092   \n",
       "3           11.2              0.28         0.56             1.9      0.075   \n",
       "4            7.4              0.70         0.00             1.9      0.076   \n",
       "\n",
       "   free sulfur dioxide  total sulfur dioxide  density    pH  sulphates  \\\n",
       "0                 11.0                  34.0   0.9978  3.51       0.56   \n",
       "1                 25.0                  67.0   0.9968  3.20       0.68   \n",
       "2                 15.0                  54.0   0.9970  3.26       0.65   \n",
       "3                 17.0                  60.0   0.9980  3.16       0.58   \n",
       "4                 11.0                  34.0   0.9978  3.51       0.56   \n",
       "\n",
       "   alcohol  quality  red_wine  \n",
       "0      9.4        5         1  \n",
       "1      9.8        5         1  \n",
       "2      9.8        5         1  \n",
       "3      9.8        6         1  \n",
       "4      9.4        5         1  "
      ]
     },
     "execution_count": 110,
     "metadata": {},
     "output_type": "execute_result"
    }
   ],
   "source": [
    "wine.head()"
   ]
  },
  {
   "cell_type": "code",
   "execution_count": 111,
   "id": "d306116b",
   "metadata": {},
   "outputs": [
    {
     "data": {
      "text/plain": [
       "6497"
      ]
     },
     "execution_count": 111,
     "metadata": {},
     "output_type": "execute_result"
    }
   ],
   "source": [
    "len(wine)"
   ]
  },
  {
   "cell_type": "code",
   "execution_count": 112,
   "id": "48106770",
   "metadata": {},
   "outputs": [
    {
     "data": {
      "text/plain": [
       "fixed acidity           0\n",
       "volatile acidity        0\n",
       "citric acid             0\n",
       "residual sugar          0\n",
       "chlorides               0\n",
       "free sulfur dioxide     0\n",
       "total sulfur dioxide    0\n",
       "density                 0\n",
       "pH                      0\n",
       "sulphates               0\n",
       "alcohol                 0\n",
       "quality                 0\n",
       "red_wine                0\n",
       "dtype: int64"
      ]
     },
     "execution_count": 112,
     "metadata": {},
     "output_type": "execute_result"
    }
   ],
   "source": [
    "wine.isnull().sum()\n",
    "#no need to clean data of any datapoints\n",
    "#comment_muru : explain "
   ]
  },
  {
   "cell_type": "code",
   "execution_count": 113,
   "id": "43d1912e",
   "metadata": {},
   "outputs": [
    {
     "name": "stderr",
     "output_type": "stream",
     "text": [
      "C:\\Users\\user\\anaconda3\\lib\\site-packages\\seaborn\\_decorators.py:36: FutureWarning:\n",
      "\n",
      "Pass the following variable as a keyword arg: x. From version 0.12, the only valid positional argument will be `data`, and passing other arguments without an explicit keyword will result in an error or misinterpretation.\n",
      "\n"
     ]
    },
    {
     "data": {
      "text/plain": [
       "<AxesSubplot:xlabel='quality', ylabel='count'>"
      ]
     },
     "execution_count": 113,
     "metadata": {},
     "output_type": "execute_result"
    },
    {
     "data": {
      "image/png": "[encoded data removed]",
      "text/plain": [
       "<Figure size 432x288 with 1 Axes>"
      ]
     },
     "metadata": {},
     "output_type": "display_data"
    }
   ],
   "source": [
    "style.use('ggplot')\n",
    "sns.countplot(wine['quality'])"
   ]
  },
  {
   "cell_type": "markdown",
   "id": "974c3aa8",
   "metadata": {},
   "source": [
    "The distrubtion of the quality of wine is approximately guassian distrubted with the most wines being averagely rated with few exceptional and terrible wines"
   ]
  },
  {
   "cell_type": "code",
   "execution_count": 114,
   "id": "1d8071e1",
   "metadata": {},
   "outputs": [
    {
     "data": {
      "image/png": "[encoded data removed]",
      "text/plain": [
       "<Figure size 720x1440 with 16 Axes>"
      ]
     },
     "metadata": {},
     "output_type": "display_data"
    }
   ],
   "source": [
    "wine.hist(bins = 100, figsize = (10, 20))\n",
    "plt.show()"
   ]
  },
  {
   "cell_type": "markdown",
   "id": "8540442c",
   "metadata": {},
   "source": [
    "Analysing these graphs you can see most graphs are noramlly distrubted, some graphs right skewed meaning most values are at the low end and then some values are spread out in the higher values. Total sulfure dioxide is bimodal so there would be two main groups."
   ]
  },
  {
   "cell_type": "code",
   "execution_count": 115,
   "id": "f07c7bcf",
   "metadata": {},
   "outputs": [
    {
     "data": {
      "image/png": "[encoded data removed]",
      "text/plain": [
       "<Figure size 1080x720 with 2 Axes>"
      ]
     },
     "metadata": {},
     "output_type": "display_data"
    }
   ],
   "source": [
    "plt.figure(figsize = (15,10))\n",
    "corr = wine.corr()\n",
    "sns.heatmap(corr, annot = True)\n",
    "plt.savefig('Correlation Matrix.png')\n",
    "plt.show()"
   ]
  },
  {
   "cell_type": "code",
   "execution_count": 116,
   "id": "4ae6182b",
   "metadata": {},
   "outputs": [
    {
     "data": {
      "image/png": "[encoded data removed]",
      "text/plain": [
       "<Figure size 792x648 with 2 Axes>"
      ]
     },
     "metadata": {},
     "output_type": "display_data"
    }
   ],
   "source": [
    "corr_list = corr.quality.abs().sort_values(ascending=False).index[0:]\n",
    "\n",
    "plt.figure(figsize=(11,9))\n",
    "dropSelf = np.zeros_like(corr)\n",
    "dropSelf[np.triu_indices_from(dropSelf)] = True\n",
    "\n",
    "sns.heatmap(corr, cmap=sns.diverging_palette(220, 10, as_cmap=True), annot=True, fmt=\".2f\", mask=dropSelf)\n",
    "\n",
    "sns.set(font_scale=1.5)"
   ]
  },
  {
   "cell_type": "markdown",
   "id": "4e587096",
   "metadata": {},
   "source": [
    "looks like the alcohol quantity is the most correleated towards the quality of the wine."
   ]
  },
  {
   "cell_type": "markdown",
   "id": "ed87afd7",
   "metadata": {},
   "source": [
    "### Cleaning data"
   ]
  },
  {
   "cell_type": "code",
   "execution_count": 117,
   "id": "a9c91d3a",
   "metadata": {},
   "outputs": [],
   "source": [
    "#Seperating data into the two wine groups\n",
    "whitewine_csv = wine[wine['red_wine'] == 0]\n",
    "redwine_csv = wine[wine['red_wine'] == 1]"
   ]
  },
  {
   "cell_type": "code",
   "execution_count": 118,
   "id": "e41077f1",
   "metadata": {},
   "outputs": [
    {
     "data": {
      "text/plain": [
       "fixed acidity           0.124052\n",
       "volatile acidity       -0.390558\n",
       "citric acid             0.226373\n",
       "residual sugar          0.013732\n",
       "chlorides              -0.128907\n",
       "free sulfur dioxide    -0.050656\n",
       "total sulfur dioxide   -0.185100\n",
       "density                -0.174919\n",
       "pH                     -0.057731\n",
       "sulphates               0.251397\n",
       "alcohol                 0.476166\n",
       "quality                 1.000000\n",
       "red_wine                     NaN\n",
       "Name: quality, dtype: float64"
      ]
     },
     "execution_count": 118,
     "metadata": {},
     "output_type": "execute_result"
    }
   ],
   "source": [
    "a = redwine_csv.corr()\n",
    "a['quality']"
   ]
  },
  {
   "cell_type": "code",
   "execution_count": 119,
   "id": "a09d51f8",
   "metadata": {},
   "outputs": [
    {
     "data": {
      "text/plain": [
       "fixed acidity          -0.113663\n",
       "volatile acidity       -0.194723\n",
       "citric acid            -0.009209\n",
       "residual sugar         -0.097577\n",
       "chlorides              -0.209934\n",
       "free sulfur dioxide     0.008158\n",
       "total sulfur dioxide   -0.174737\n",
       "density                -0.307123\n",
       "pH                      0.099427\n",
       "sulphates               0.053678\n",
       "alcohol                 0.435575\n",
       "quality                 1.000000\n",
       "red_wine                     NaN\n",
       "Name: quality, dtype: float64"
      ]
     },
     "execution_count": 119,
     "metadata": {},
     "output_type": "execute_result"
    }
   ],
   "source": [
    "b = whitewine_csv.corr()\n",
    "b['quality']"
   ]
  },
  {
   "cell_type": "markdown",
   "id": "c120f776",
   "metadata": {},
   "source": [
    "looks like red wine's quality has a greater correlation with alcohol content. From the tables above you can see that there are very different correlated attributes towards each wine group. White wine has denisty as its second biggest correlated attribute with the thicker the wine, the worse quality. Whereas red wine has volatile acidity as its second most correlated but also being inversely correlated. It also looks like both wines quality has minimal effects with its residual sugar, free sulfur dioxide and pH, "
   ]
  },
  {
   "cell_type": "markdown",
   "id": "1feea1ec",
   "metadata": {},
   "source": [
    "## Normalize the Data"
   ]
  },
  {
   "cell_type": "markdown",
   "id": "75e9fb55",
   "metadata": {},
   "source": [
    "Normalizing each attribute of the data means we have a standard deviation of 1, this means spread of the attribute is 1 unit away from its mean. Doing this takes only the direction of the attribute and not its magnitude, but keeps its comparitive magnitude against other normalized attributes. We do this so each attribute has equal weight to the trend and we only focus on its overall contribution."
   ]
  },
  {
   "cell_type": "code",
   "execution_count": 120,
   "id": "b58bc654",
   "metadata": {},
   "outputs": [],
   "source": [
    "def normalise_data(df):\n",
    "    df_new = pd.DataFrame()\n",
    "    for col in df.columns:\n",
    "        mean = np.mean(df[col])\n",
    "        std = np.std(df[col])\n",
    "        df_new[col] = (df[col] - mean) / std\n",
    "    return df_new"
   ]
  },
  {
   "cell_type": "markdown",
   "id": "1f04dfcd",
   "metadata": {},
   "source": [
    "This section we are only choosing one indicator variable which will be alcohol as it has the greatest correlation. I will also choose the redwine subset as it also has the greatest correlation number compared to white wine and combined datasets."
   ]
  },
  {
   "cell_type": "markdown",
   "id": "882d29bf",
   "metadata": {},
   "source": [
    "## Univariant Regression Model"
   ]
  },
  {
   "cell_type": "code",
   "execution_count": 121,
   "id": "c3db4b37",
   "metadata": {},
   "outputs": [],
   "source": [
    "#Splitting into target variable and predictor variable\n",
    "predictor = pd.DataFrame(redwine_csv['alcohol'])\n",
    "X = normalise_data(predictor).values.reshape(-1,1)\n",
    "y = redwine_csv['quality'].values.reshape(-1,1)\n",
    "#Splitting into testing and training datasets\n",
    "X_train, X_test, y_train, y_test = train_test_split(X, y, test_size=0.3, random_state=42)"
   ]
  },
  {
   "cell_type": "code",
   "execution_count": 122,
   "id": "f84b3785",
   "metadata": {},
   "outputs": [
    {
     "data": {
      "text/plain": [
       "numpy.ndarray"
      ]
     },
     "execution_count": 122,
     "metadata": {},
     "output_type": "execute_result"
    }
   ],
   "source": [
    "type(y_test)"
   ]
  },
  {
   "cell_type": "code",
   "execution_count": 123,
   "id": "bf33ea67",
   "metadata": {},
   "outputs": [
    {
     "data": {
      "text/plain": [
       "(1119, 1)"
      ]
     },
     "execution_count": 123,
     "metadata": {},
     "output_type": "execute_result"
    }
   ],
   "source": [
    "np.shape(y_train)"
   ]
  },
  {
   "cell_type": "code",
   "execution_count": 124,
   "id": "16e31c85",
   "metadata": {},
   "outputs": [
    {
     "data": {
      "text/plain": [
       "(1119, 1)"
      ]
     },
     "execution_count": 124,
     "metadata": {},
     "output_type": "execute_result"
    }
   ],
   "source": [
    "np.shape(X_train)"
   ]
  },
  {
   "cell_type": "code",
   "execution_count": 125,
   "id": "66384f89",
   "metadata": {},
   "outputs": [
    {
     "name": "stdout",
     "output_type": "stream",
     "text": [
      "Models r2 score is: 0.18535810854402757\n",
      "Models mean square error: 0.5165020523524175\n"
     ]
    }
   ],
   "source": [
    "# Create a model for Linear Regression\n",
    "linreg = linear_model.LinearRegression()\n",
    "linreg.fit(X_train, y_train)\n",
    "\n",
    "#Using linear regression model to predict y values\n",
    "pred = linreg.predict(X_test)\n",
    "predicted = np.array(pred)\n",
    "\n",
    "# Calculate the score (R^2 for Regression) for predicted values\n",
    "a = (r2_score(y_test, predicted, multioutput='variance_weighted'))\n",
    "print('Models r2 score is:', a)\n",
    "\n",
    "#getting the mean squared error\n",
    "b = (mean_squared_error(y_test, predicted ))\n",
    "print('Models mean square error:', b )"
   ]
  },
  {
   "cell_type": "markdown",
   "id": "ca99176f",
   "metadata": {},
   "source": [
    "The r2 score indicates the amount of variance the target variable (quality) has that can be explained by the predictor variable (alcohol) as a percentage. It does this by calculating the variance due to our predictor variable divided by the total variance. So it tells us the strength of the relationship between our target and predictor variables. \n",
    "\n",
    "NB: Variance is the square of the standard deviation so the square of the difference in the datapoints are from the mean of its expected value\n",
    "\n",
    "Variance and mean square error are tightly related however the mean square error is the average of the squared distance from its expected value "
   ]
  },
  {
   "cell_type": "code",
   "execution_count": 126,
   "id": "d2ac4ad7",
   "metadata": {},
   "outputs": [
    {
     "data": {
      "text/plain": [
       "(480, 1)"
      ]
     },
     "execution_count": 126,
     "metadata": {},
     "output_type": "execute_result"
    }
   ],
   "source": [
    "np.shape(predicted)"
   ]
  },
  {
   "cell_type": "code",
   "execution_count": 127,
   "id": "365f3396",
   "metadata": {},
   "outputs": [
    {
     "data": {
      "text/plain": [
       "(480, 1)"
      ]
     },
     "execution_count": 127,
     "metadata": {},
     "output_type": "execute_result"
    }
   ],
   "source": [
    "np.shape(y_test)"
   ]
  },
  {
   "cell_type": "code",
   "execution_count": 128,
   "id": "ecba8b3d",
   "metadata": {},
   "outputs": [],
   "source": [
    "#comment_muru sounds good!"
   ]
  },
  {
   "cell_type": "code",
   "execution_count": 129,
   "id": "f5dc4d56",
   "metadata": {},
   "outputs": [
    {
     "name": "stdout",
     "output_type": "stream",
     "text": [
      "The linear regression coeffienct is: 0.4016231736139674\n"
     ]
    }
   ],
   "source": [
    "print('The linear regression coeffienct is:', float(linreg.coef_))"
   ]
  },
  {
   "cell_type": "markdown",
   "id": "41c944be",
   "metadata": {},
   "source": [
    "The positive regression coeffient tells us that alcohol and quality are positively correlated. In our case our regression coeffient means that for one increased unit of alcohol the mean of the quality increases by 0.5149 units while holding other variables constant"
   ]
  },
  {
   "cell_type": "code",
   "execution_count": 130,
   "id": "1f3eef30",
   "metadata": {},
   "outputs": [
    {
     "name": "stdout",
     "output_type": "stream",
     "text": [
      "the intercept is : 5.624112492412067\n"
     ]
    }
   ],
   "source": [
    "print(\"the intercept is :\", float(linreg.intercept_))"
   ]
  },
  {
   "cell_type": "markdown",
   "id": "8d0b58de",
   "metadata": {},
   "source": [
    "This indicates the y intercept, so the predicted line equation would be y = intercept + (regression coeffient)x or           y = -0.1928+ 0.5149x"
   ]
  },
  {
   "cell_type": "markdown",
   "id": "05bad72d",
   "metadata": {},
   "source": [
    "## All variables"
   ]
  },
  {
   "cell_type": "code",
   "execution_count": 131,
   "id": "fab55ff0",
   "metadata": {},
   "outputs": [],
   "source": [
    "models = {}"
   ]
  },
  {
   "cell_type": "code",
   "execution_count": 132,
   "id": "3ff5d14e",
   "metadata": {},
   "outputs": [],
   "source": [
    "wine_csv = normalise_data(wine)\n",
    "tr, te = train_test_split(wine_csv, test_size=0.25, random_state=83)"
   ]
  },
  {
   "cell_type": "code",
   "execution_count": 133,
   "id": "40dbfdcb",
   "metadata": {},
   "outputs": [
    {
     "data": {
      "text/plain": [
       "['fixed acidity',\n",
       " 'volatile acidity',\n",
       " 'citric acid',\n",
       " 'residual sugar',\n",
       " 'chlorides',\n",
       " 'free sulfur dioxide',\n",
       " 'total sulfur dioxide',\n",
       " 'density',\n",
       " 'pH',\n",
       " 'sulphates',\n",
       " 'alcohol']"
      ]
     },
     "execution_count": 133,
     "metadata": {},
     "output_type": "execute_result"
    }
   ],
   "source": [
    "#getting all predictor features we will test\n",
    "all_features = wine_csv.drop(columns = ['quality', 'red_wine'])\n",
    "names = all_features.columns\n",
    "quantitative_features = []\n",
    "for i in range(len(names)):\n",
    "    quantitative_features.append(names[i])\n",
    "quantitative_features"
   ]
  },
  {
   "cell_type": "code",
   "execution_count": 134,
   "id": "6926beba",
   "metadata": {},
   "outputs": [],
   "source": [
    "for i in range(len(quantitative_features)):\n",
    "    # The features to include in the ith model\n",
    "    features = quantitative_features[:(i+1)]\n",
    "    # The name we are giving to the ith model\n",
    "    name = \",\".join([str(i+1)])\n",
    "    # The pipeline for the ith model\n",
    "    model = Pipeline([\n",
    "        (\"SelectColumns\", ColumnTransformer([\n",
    "            (\"keep\", \"passthrough\", features),\n",
    "        ])),\n",
    "        (\"LinearModel\", LinearRegression())\n",
    "    ])\n",
    "    # Fit the pipeline\n",
    "    model.fit(tr, tr['quality']);\n",
    "    # Saving the ith model\n",
    "    models[name] = model"
   ]
  },
  {
   "cell_type": "code",
   "execution_count": 135,
   "id": "fdaee197",
   "metadata": {},
   "outputs": [],
   "source": [
    "def rmse_score(model, X, y):\n",
    "    return np.sqrt(np.mean((y - model.predict(X))**2))"
   ]
  },
  {
   "cell_type": "code",
   "execution_count": 136,
   "id": "e941949a",
   "metadata": {},
   "outputs": [],
   "source": [
    "def compare_models(models):\n",
    "    # Compute the training error for each model\n",
    "    training_rmse = [rmse_score(model, tr, tr['quality']) for model in models.values()]\n",
    "    # Compute the cross validation error for each model\n",
    "    validation_rmse = [np.mean(cross_val_score(model, tr, tr['quality'], scoring=rmse_score, cv=5)) \n",
    "                       for model in models.values()]\n",
    "    # Compute the test error for each model (don't do this!)\n",
    "    test_rmse = [rmse_score(model, te, te['quality']) for model in models.values()]\n",
    "    names = list(models.keys())\n",
    "    fig = go.Figure([\n",
    "        go.Bar(x = names, y = training_rmse, name=\"Training RMSE\"),\n",
    "        go.Bar(x = names, y = validation_rmse, name=\"CV RMSE\"),\n",
    "        go.Bar(x = names, y = test_rmse, name=\"Test RMSE\", opacity=.3)])\n",
    "    fig.update_xaxes(title=\"Number of Variables\")\n",
    "    fig.update_yaxes(title=\"RMSE\")\n",
    "    return fig"
   ]
  },
  {
   "cell_type": "code",
   "execution_count": 137,
   "id": "130af2ac",
   "metadata": {},
   "outputs": [
    {
     "data": {
      "application/vnd.plotly.v1+json": {
       "config": {
        "plotlyServerURL": "https://plot.ly"
       },
       "data": [
        {
         "name": "Training RMSE",
         "type": "bar",
         "x": [
          "1",
          "2",
          "3",
          "4",
          "5",
          "6",
          "7",
          "8",
          "9",
          "10",
          "11"
         ],
         "y": [
          0.9867597184152926,
          0.9553456842095448,
          0.955136159147521,
          0.9515528582803472,
          0.9458031955274434,
          0.9455867940371975,
          0.9259455301454893,
          0.8902595120481971,
          0.8666492687340537,
          0.8515798757231956,
          0.8357178662188384
         ]
        },
        {
         "name": "CV RMSE",
         "type": "bar",
         "x": [
          "1",
          "2",
          "3",
          "4",
          "5",
          "6",
          "7",
          "8",
          "9",
          "10",
          "11"
         ],
         "y": [
          0.9870150638085813,
          0.9556756271247556,
          0.9557497851268671,
          0.9524709943151436,
          0.9471152327161333,
          0.9474286692832811,
          0.9279370349579781,
          0.8926280594900717,
          0.8694479872885645,
          0.8547226482222399,
          0.8387272324673581
         ]
        },
        {
         "name": "Test RMSE",
         "opacity": 0.3,
         "type": "bar",
         "x": [
          "1",
          "2",
          "3",
          "4",
          "5",
          "6",
          "7",
          "8",
          "9",
          "10",
          "11"
         ],
         "y": [
          1.027433608864375,
          0.98914593180018,
          0.9898665549264807,
          0.9832452289843855,
          0.9742010877366526,
          0.9743415525612351,
          0.9528718073886652,
          0.9105693932339755,
          0.8973434063184984,
          0.8772701537957615,
          0.8594058872617306
         ]
        }
       ],
       "layout": {
        "template": {
         "data": {
          "bar": [
           {
            "error_x": {
             "color": "#2a3f5f"
            },
            "error_y": {
             "color": "#2a3f5f"
            },
            "marker": {
             "line": {
              "color": "#E5ECF6",
              "width": 0.5
             },
             "pattern": {
              "fillmode": "overlay",
              "size": 10,
              "solidity": 0.2
             }
            },
            "type": "bar"
           }
          ],
          "barpolar": [
           {
            "marker": {
             "line": {
              "color": "#E5ECF6",
              "width": 0.5
             },
             "pattern": {
              "fillmode": "overlay",
              "size": 10,
              "solidity": 0.2
             }
            },
            "type": "barpolar"
           }
          ],
          "carpet": [
           {
            "aaxis": {
             "endlinecolor": "#2a3f5f",
             "gridcolor": "white",
             "linecolor": "white",
             "minorgridcolor": "white",
             "startlinecolor": "#2a3f5f"
            },
            "baxis": {
             "endlinecolor": "#2a3f5f",
             "gridcolor": "white",
             "linecolor": "white",
             "minorgridcolor": "white",
             "startlinecolor": "#2a3f5f"
            },
            "type": "carpet"
           }
          ],
          "choropleth": [
           {
            "colorbar": {
             "outlinewidth": 0,
             "ticks": ""
            },
            "type": "choropleth"
           }
          ],
          "contour": [
           {
            "colorbar": {
             "outlinewidth": 0,
             "ticks": ""
            },
            "colorscale": [
             [
              0,
              "#0d0887"
             ],
             [
              0.1111111111111111,
              "#46039f"
             ],
             [
              0.2222222222222222,
              "#7201a8"
             ],
             [
              0.3333333333333333,
              "#9c179e"
             ],
             [
              0.4444444444444444,
              "#bd3786"
             ],
             [
              0.5555555555555556,
              "#d8576b"
             ],
             [
              0.6666666666666666,
              "#ed7953"
             ],
             [
              0.7777777777777778,
              "#fb9f3a"
             ],
             [
              0.8888888888888888,
              "#fdca26"
             ],
             [
              1,
              "#f0f921"
             ]
            ],
            "type": "contour"
           }
          ],
          "contourcarpet": [
           {
            "colorbar": {
             "outlinewidth": 0,
             "ticks": ""
            },
            "type": "contourcarpet"
           }
          ],
          "heatmap": [
           {
            "colorbar": {
             "outlinewidth": 0,
             "ticks": ""
            },
            "colorscale": [
             [
              0,
              "#0d0887"
             ],
             [
              0.1111111111111111,
              "#46039f"
             ],
             [
              0.2222222222222222,
              "#7201a8"
             ],
             [
              0.3333333333333333,
              "#9c179e"
             ],
             [
              0.4444444444444444,
              "#bd3786"
             ],
             [
              0.5555555555555556,
              "#d8576b"
             ],
             [
              0.6666666666666666,
              "#ed7953"
             ],
             [
              0.7777777777777778,
              "#fb9f3a"
             ],
             [
              0.8888888888888888,
              "#fdca26"
             ],
             [
              1,
              "#f0f921"
             ]
            ],
            "type": "heatmap"
           }
          ],
          "heatmapgl": [
           {
            "colorbar": {
             "outlinewidth": 0,
             "ticks": ""
            },
            "colorscale": [
             [
              0,
              "#0d0887"
             ],
             [
              0.1111111111111111,
              "#46039f"
             ],
             [
              0.2222222222222222,
              "#7201a8"
             ],
             [
              0.3333333333333333,
              "#9c179e"
             ],
             [
              0.4444444444444444,
              "#bd3786"
             ],
             [
              0.5555555555555556,
              "#d8576b"
             ],
             [
              0.6666666666666666,
              "#ed7953"
             ],
             [
              0.7777777777777778,
              "#fb9f3a"
             ],
             [
              0.8888888888888888,
              "#fdca26"
             ],
             [
              1,
              "#f0f921"
             ]
            ],
            "type": "heatmapgl"
           }
          ],
          "histogram": [
           {
            "marker": {
             "pattern": {
              "fillmode": "overlay",
              "size": 10,
              "solidity": 0.2
             }
            },
            "type": "histogram"
           }
          ],
          "histogram2d": [
           {
            "colorbar": {
             "outlinewidth": 0,
             "ticks": ""
            },
            "colorscale": [
             [
              0,
              "#0d0887"
             ],
             [
              0.1111111111111111,
              "#46039f"
             ],
             [
              0.2222222222222222,
              "#7201a8"
             ],
             [
              0.3333333333333333,
              "#9c179e"
             ],
             [
              0.4444444444444444,
              "#bd3786"
             ],
             [
              0.5555555555555556,
              "#d8576b"
             ],
             [
              0.6666666666666666,
              "#ed7953"
             ],
             [
              0.7777777777777778,
              "#fb9f3a"
             ],
             [
              0.8888888888888888,
              "#fdca26"
             ],
             [
              1,
              "#f0f921"
             ]
            ],
            "type": "histogram2d"
           }
          ],
          "histogram2dcontour": [
           {
            "colorbar": {
             "outlinewidth": 0,
             "ticks": ""
            },
            "colorscale": [
             [
              0,
              "#0d0887"
             ],
             [
              0.1111111111111111,
              "#46039f"
             ],
             [
              0.2222222222222222,
              "#7201a8"
             ],
             [
              0.3333333333333333,
              "#9c179e"
             ],
             [
              0.4444444444444444,
              "#bd3786"
             ],
             [
              0.5555555555555556,
              "#d8576b"
             ],
             [
              0.6666666666666666,
              "#ed7953"
             ],
             [
              0.7777777777777778,
              "#fb9f3a"
             ],
             [
              0.8888888888888888,
              "#fdca26"
             ],
             [
              1,
              "#f0f921"
             ]
            ],
            "type": "histogram2dcontour"
           }
          ],
          "mesh3d": [
           {
            "colorbar": {
             "outlinewidth": 0,
             "ticks": ""
            },
            "type": "mesh3d"
           }
          ],
          "parcoords": [
           {
            "line": {
             "colorbar": {
              "outlinewidth": 0,
              "ticks": ""
             }
            },
            "type": "parcoords"
           }
          ],
          "pie": [
           {
            "automargin": true,
            "type": "pie"
           }
          ],
          "scatter": [
           {
            "fillpattern": {
             "fillmode": "overlay",
             "size": 10,
             "solidity": 0.2
            },
            "type": "scatter"
           }
          ],
          "scatter3d": [
           {
            "line": {
             "colorbar": {
              "outlinewidth": 0,
              "ticks": ""
             }
            },
            "marker": {
             "colorbar": {
              "outlinewidth": 0,
              "ticks": ""
             }
            },
            "type": "scatter3d"
           }
          ],
          "scattercarpet": [
           {
            "marker": {
             "colorbar": {
              "outlinewidth": 0,
              "ticks": ""
             }
            },
            "type": "scattercarpet"
           }
          ],
          "scattergeo": [
           {
            "marker": {
             "colorbar": {
              "outlinewidth": 0,
              "ticks": ""
             }
            },
            "type": "scattergeo"
           }
          ],
          "scattergl": [
           {
            "marker": {
             "colorbar": {
              "outlinewidth": 0,
              "ticks": ""
             }
            },
            "type": "scattergl"
           }
          ],
          "scattermapbox": [
           {
            "marker": {
             "colorbar": {
              "outlinewidth": 0,
              "ticks": ""
             }
            },
            "type": "scattermapbox"
           }
          ],
          "scatterpolar": [
           {
            "marker": {
             "colorbar": {
              "outlinewidth": 0,
              "ticks": ""
             }
            },
            "type": "scatterpolar"
           }
          ],
          "scatterpolargl": [
           {
            "marker": {
             "colorbar": {
              "outlinewidth": 0,
              "ticks": ""
             }
            },
            "type": "scatterpolargl"
           }
          ],
          "scatterternary": [
           {
            "marker": {
             "colorbar": {
              "outlinewidth": 0,
              "ticks": ""
             }
            },
            "type": "scatterternary"
           }
          ],
          "surface": [
           {
            "colorbar": {
             "outlinewidth": 0,
             "ticks": ""
            },
            "colorscale": [
             [
              0,
              "#0d0887"
             ],
             [
              0.1111111111111111,
              "#46039f"
             ],
             [
              0.2222222222222222,
              "#7201a8"
             ],
             [
              0.3333333333333333,
              "#9c179e"
             ],
             [
              0.4444444444444444,
              "#bd3786"
             ],
             [
              0.5555555555555556,
              "#d8576b"
             ],
             [
              0.6666666666666666,
              "#ed7953"
             ],
             [
              0.7777777777777778,
              "#fb9f3a"
             ],
             [
              0.8888888888888888,
              "#fdca26"
             ],
             [
              1,
              "#f0f921"
             ]
            ],
            "type": "surface"
           }
          ],
          "table": [
           {
            "cells": {
             "fill": {
              "color": "#EBF0F8"
             },
             "line": {
              "color": "white"
             }
            },
            "header": {
             "fill": {
              "color": "#C8D4E3"
             },
             "line": {
              "color": "white"
             }
            },
            "type": "table"
           }
          ]
         },
         "layout": {
          "annotationdefaults": {
           "arrowcolor": "#2a3f5f",
           "arrowhead": 0,
           "arrowwidth": 1
          },
          "autotypenumbers": "strict",
          "coloraxis": {
           "colorbar": {
            "outlinewidth": 0,
            "ticks": ""
           }
          },
          "colorscale": {
           "diverging": [
            [
             0,
             "#8e0152"
            ],
            [
             0.1,
             "#c51b7d"
            ],
            [
             0.2,
             "#de77ae"
            ],
            [
             0.3,
             "#f1b6da"
            ],
            [
             0.4,
             "#fde0ef"
            ],
            [
             0.5,
             "#f7f7f7"
            ],
            [
             0.6,
             "#e6f5d0"
            ],
            [
             0.7,
             "#b8e186"
            ],
            [
             0.8,
             "#7fbc41"
            ],
            [
             0.9,
             "#4d9221"
            ],
            [
             1,
             "#276419"
            ]
           ],
           "sequential": [
            [
             0,
             "#0d0887"
            ],
            [
             0.1111111111111111,
             "#46039f"
            ],
            [
             0.2222222222222222,
             "#7201a8"
            ],
            [
             0.3333333333333333,
             "#9c179e"
            ],
            [
             0.4444444444444444,
             "#bd3786"
            ],
            [
             0.5555555555555556,
             "#d8576b"
            ],
            [
             0.6666666666666666,
             "#ed7953"
            ],
            [
             0.7777777777777778,
             "#fb9f3a"
            ],
            [
             0.8888888888888888,
             "#fdca26"
            ],
            [
             1,
             "#f0f921"
            ]
           ],
           "sequentialminus": [
            [
             0,
             "#0d0887"
            ],
            [
             0.1111111111111111,
             "#46039f"
            ],
            [
             0.2222222222222222,
             "#7201a8"
            ],
            [
             0.3333333333333333,
             "#9c179e"
            ],
            [
             0.4444444444444444,
             "#bd3786"
            ],
            [
             0.5555555555555556,
             "#d8576b"
            ],
            [
             0.6666666666666666,
             "#ed7953"
            ],
            [
             0.7777777777777778,
             "#fb9f3a"
            ],
            [
             0.8888888888888888,
             "#fdca26"
            ],
            [
             1,
             "#f0f921"
            ]
           ]
          },
          "colorway": [
           "#636efa",
           "#EF553B",
           "#00cc96",
           "#ab63fa",
           "#FFA15A",
           "#19d3f3",
           "#FF6692",
           "#B6E880",
           "#FF97FF",
           "#FECB52"
          ],
          "font": {
           "color": "#2a3f5f"
          },
          "geo": {
           "bgcolor": "white",
           "lakecolor": "white",
           "landcolor": "#E5ECF6",
           "showlakes": true,
           "showland": true,
           "subunitcolor": "white"
          },
          "hoverlabel": {
           "align": "left"
          },
          "hovermode": "closest",
          "mapbox": {
           "style": "light"
          },
          "paper_bgcolor": "white",
          "plot_bgcolor": "#E5ECF6",
          "polar": {
           "angularaxis": {
            "gridcolor": "white",
            "linecolor": "white",
            "ticks": ""
           },
           "bgcolor": "#E5ECF6",
           "radialaxis": {
            "gridcolor": "white",
            "linecolor": "white",
            "ticks": ""
           }
          },
          "scene": {
           "xaxis": {
            "backgroundcolor": "#E5ECF6",
            "gridcolor": "white",
            "gridwidth": 2,
            "linecolor": "white",
            "showbackground": true,
            "ticks": "",
            "zerolinecolor": "white"
           },
           "yaxis": {
            "backgroundcolor": "#E5ECF6",
            "gridcolor": "white",
            "gridwidth": 2,
            "linecolor": "white",
            "showbackground": true,
            "ticks": "",
            "zerolinecolor": "white"
           },
           "zaxis": {
            "backgroundcolor": "#E5ECF6",
            "gridcolor": "white",
            "gridwidth": 2,
            "linecolor": "white",
            "showbackground": true,
            "ticks": "",
            "zerolinecolor": "white"
           }
          },
          "shapedefaults": {
           "line": {
            "color": "#2a3f5f"
           }
          },
          "ternary": {
           "aaxis": {
            "gridcolor": "white",
            "linecolor": "white",
            "ticks": ""
           },
           "baxis": {
            "gridcolor": "white",
            "linecolor": "white",
            "ticks": ""
           },
           "bgcolor": "#E5ECF6",
           "caxis": {
            "gridcolor": "white",
            "linecolor": "white",
            "ticks": ""
           }
          },
          "title": {
           "x": 0.05
          },
          "xaxis": {
           "automargin": true,
           "gridcolor": "white",
           "linecolor": "white",
           "ticks": "",
           "title": {
            "standoff": 15
           },
           "zerolinecolor": "white",
           "zerolinewidth": 2
          },
          "yaxis": {
           "automargin": true,
           "gridcolor": "white",
           "linecolor": "white",
           "ticks": "",
           "title": {
            "standoff": 15
           },
           "zerolinecolor": "white",
           "zerolinewidth": 2
          }
         }
        },
        "xaxis": {
         "title": {
          "text": "Number of Variables"
         }
        },
        "yaxis": {
         "title": {
          "text": "RMSE"
         }
        }
       }
      },
      "text/html": [
       "<div>                            <div id=\"1e0ef92d-4836-4a03-893a-e76b7b14a415\" class=\"plotly-graph-div\" style=\"height:525px; width:100%;\"></div>            <script type=\"text/javascript\">                require([\"plotly\"], function(Plotly) {                    window.PLOTLYENV=window.PLOTLYENV || {};                                    if (document.getElementById(\"1e0ef92d-4836-4a03-893a-e76b7b14a415\")) {                    Plotly.newPlot(                        \"1e0ef92d-4836-4a03-893a-e76b7b14a415\",                        [{\"name\":\"Training RMSE\",\"x\":[\"1\",\"2\",\"3\",\"4\",\"5\",\"6\",\"7\",\"8\",\"9\",\"10\",\"11\"],\"y\":[0.9867597184152926,0.9553456842095448,0.955136159147521,0.9515528582803472,0.9458031955274434,0.9455867940371975,0.9259455301454893,0.8902595120481971,0.8666492687340537,0.8515798757231956,0.8357178662188384],\"type\":\"bar\"},{\"name\":\"CV RMSE\",\"x\":[\"1\",\"2\",\"3\",\"4\",\"5\",\"6\",\"7\",\"8\",\"9\",\"10\",\"11\"],\"y\":[0.9870150638085813,0.9556756271247556,0.9557497851268671,0.9524709943151436,0.9471152327161333,0.9474286692832811,0.9279370349579781,0.8926280594900717,0.8694479872885645,0.8547226482222399,0.8387272324673581],\"type\":\"bar\"},{\"name\":\"Test RMSE\",\"opacity\":0.3,\"x\":[\"1\",\"2\",\"3\",\"4\",\"5\",\"6\",\"7\",\"8\",\"9\",\"10\",\"11\"],\"y\":[1.027433608864375,0.98914593180018,0.9898665549264807,0.9832452289843855,0.9742010877366526,0.9743415525612351,0.9528718073886652,0.9105693932339755,0.8973434063184984,0.8772701537957615,0.8594058872617306],\"type\":\"bar\"}],                        {\"template\":{\"data\":{\"histogram2dcontour\":[{\"type\":\"histogram2dcontour\",\"colorbar\":{\"outlinewidth\":0,\"ticks\":\"\"},\"colorscale\":[[0.0,\"#0d0887\"],[0.1111111111111111,\"#46039f\"],[0.2222222222222222,\"#7201a8\"],[0.3333333333333333,\"#9c179e\"],[0.4444444444444444,\"#bd3786\"],[0.5555555555555556,\"#d8576b\"],[0.6666666666666666,\"#ed7953\"],[0.7777777777777778,\"#fb9f3a\"],[0.8888888888888888,\"#fdca26\"],[1.0,\"#f0f921\"]]}],\"choropleth\":[{\"type\":\"choropleth\",\"colorbar\":{\"outlinewidth\":0,\"ticks\":\"\"}}],\"histogram2d\":[{\"type\":\"histogram2d\",\"colorbar\":{\"outlinewidth\":0,\"ticks\":\"\"},\"colorscale\":[[0.0,\"#0d0887\"],[0.1111111111111111,\"#46039f\"],[0.2222222222222222,\"#7201a8\"],[0.3333333333333333,\"#9c179e\"],[0.4444444444444444,\"#bd3786\"],[0.5555555555555556,\"#d8576b\"],[0.6666666666666666,\"#ed7953\"],[0.7777777777777778,\"#fb9f3a\"],[0.8888888888888888,\"#fdca26\"],[1.0,\"#f0f921\"]]}],\"heatmap\":[{\"type\":\"heatmap\",\"colorbar\":{\"outlinewidth\":0,\"ticks\":\"\"},\"colorscale\":[[0.0,\"#0d0887\"],[0.1111111111111111,\"#46039f\"],[0.2222222222222222,\"#7201a8\"],[0.3333333333333333,\"#9c179e\"],[0.4444444444444444,\"#bd3786\"],[0.5555555555555556,\"#d8576b\"],[0.6666666666666666,\"#ed7953\"],[0.7777777777777778,\"#fb9f3a\"],[0.8888888888888888,\"#fdca26\"],[1.0,\"#f0f921\"]]}],\"heatmapgl\":[{\"type\":\"heatmapgl\",\"colorbar\":{\"outlinewidth\":0,\"ticks\":\"\"},\"colorscale\":[[0.0,\"#0d0887\"],[0.1111111111111111,\"#46039f\"],[0.2222222222222222,\"#7201a8\"],[0.3333333333333333,\"#9c179e\"],[0.4444444444444444,\"#bd3786\"],[0.5555555555555556,\"#d8576b\"],[0.6666666666666666,\"#ed7953\"],[0.7777777777777778,\"#fb9f3a\"],[0.8888888888888888,\"#fdca26\"],[1.0,\"#f0f921\"]]}],\"contourcarpet\":[{\"type\":\"contourcarpet\",\"colorbar\":{\"outlinewidth\":0,\"ticks\":\"\"}}],\"contour\":[{\"type\":\"contour\",\"colorbar\":{\"outlinewidth\":0,\"ticks\":\"\"},\"colorscale\":[[0.0,\"#0d0887\"],[0.1111111111111111,\"#46039f\"],[0.2222222222222222,\"#7201a8\"],[0.3333333333333333,\"#9c179e\"],[0.4444444444444444,\"#bd3786\"],[0.5555555555555556,\"#d8576b\"],[0.6666666666666666,\"#ed7953\"],[0.7777777777777778,\"#fb9f3a\"],[0.8888888888888888,\"#fdca26\"],[1.0,\"#f0f921\"]]}],\"surface\":[{\"type\":\"surface\",\"colorbar\":{\"outlinewidth\":0,\"ticks\":\"\"},\"colorscale\":[[0.0,\"#0d0887\"],[0.1111111111111111,\"#46039f\"],[0.2222222222222222,\"#7201a8\"],[0.3333333333333333,\"#9c179e\"],[0.4444444444444444,\"#bd3786\"],[0.5555555555555556,\"#d8576b\"],[0.6666666666666666,\"#ed7953\"],[0.7777777777777778,\"#fb9f3a\"],[0.8888888888888888,\"#fdca26\"],[1.0,\"#f0f921\"]]}],\"mesh3d\":[{\"type\":\"mesh3d\",\"colorbar\":{\"outlinewidth\":0,\"ticks\":\"\"}}],\"scatter\":[{\"fillpattern\":{\"fillmode\":\"overlay\",\"size\":10,\"solidity\":0.2},\"type\":\"scatter\"}],\"parcoords\":[{\"type\":\"parcoords\",\"line\":{\"colorbar\":{\"outlinewidth\":0,\"ticks\":\"\"}}}],\"scatterpolargl\":[{\"type\":\"scatterpolargl\",\"marker\":{\"colorbar\":{\"outlinewidth\":0,\"ticks\":\"\"}}}],\"bar\":[{\"error_x\":{\"color\":\"#2a3f5f\"},\"error_y\":{\"color\":\"#2a3f5f\"},\"marker\":{\"line\":{\"color\":\"#E5ECF6\",\"width\":0.5},\"pattern\":{\"fillmode\":\"overlay\",\"size\":10,\"solidity\":0.2}},\"type\":\"bar\"}],\"scattergeo\":[{\"type\":\"scattergeo\",\"marker\":{\"colorbar\":{\"outlinewidth\":0,\"ticks\":\"\"}}}],\"scatterpolar\":[{\"type\":\"scatterpolar\",\"marker\":{\"colorbar\":{\"outlinewidth\":0,\"ticks\":\"\"}}}],\"histogram\":[{\"marker\":{\"pattern\":{\"fillmode\":\"overlay\",\"size\":10,\"solidity\":0.2}},\"type\":\"histogram\"}],\"scattergl\":[{\"type\":\"scattergl\",\"marker\":{\"colorbar\":{\"outlinewidth\":0,\"ticks\":\"\"}}}],\"scatter3d\":[{\"type\":\"scatter3d\",\"line\":{\"colorbar\":{\"outlinewidth\":0,\"ticks\":\"\"}},\"marker\":{\"colorbar\":{\"outlinewidth\":0,\"ticks\":\"\"}}}],\"scattermapbox\":[{\"type\":\"scattermapbox\",\"marker\":{\"colorbar\":{\"outlinewidth\":0,\"ticks\":\"\"}}}],\"scatterternary\":[{\"type\":\"scatterternary\",\"marker\":{\"colorbar\":{\"outlinewidth\":0,\"ticks\":\"\"}}}],\"scattercarpet\":[{\"type\":\"scattercarpet\",\"marker\":{\"colorbar\":{\"outlinewidth\":0,\"ticks\":\"\"}}}],\"carpet\":[{\"aaxis\":{\"endlinecolor\":\"#2a3f5f\",\"gridcolor\":\"white\",\"linecolor\":\"white\",\"minorgridcolor\":\"white\",\"startlinecolor\":\"#2a3f5f\"},\"baxis\":{\"endlinecolor\":\"#2a3f5f\",\"gridcolor\":\"white\",\"linecolor\":\"white\",\"minorgridcolor\":\"white\",\"startlinecolor\":\"#2a3f5f\"},\"type\":\"carpet\"}],\"table\":[{\"cells\":{\"fill\":{\"color\":\"#EBF0F8\"},\"line\":{\"color\":\"white\"}},\"header\":{\"fill\":{\"color\":\"#C8D4E3\"},\"line\":{\"color\":\"white\"}},\"type\":\"table\"}],\"barpolar\":[{\"marker\":{\"line\":{\"color\":\"#E5ECF6\",\"width\":0.5},\"pattern\":{\"fillmode\":\"overlay\",\"size\":10,\"solidity\":0.2}},\"type\":\"barpolar\"}],\"pie\":[{\"automargin\":true,\"type\":\"pie\"}]},\"layout\":{\"autotypenumbers\":\"strict\",\"colorway\":[\"#636efa\",\"#EF553B\",\"#00cc96\",\"#ab63fa\",\"#FFA15A\",\"#19d3f3\",\"#FF6692\",\"#B6E880\",\"#FF97FF\",\"#FECB52\"],\"font\":{\"color\":\"#2a3f5f\"},\"hovermode\":\"closest\",\"hoverlabel\":{\"align\":\"left\"},\"paper_bgcolor\":\"white\",\"plot_bgcolor\":\"#E5ECF6\",\"polar\":{\"bgcolor\":\"#E5ECF6\",\"angularaxis\":{\"gridcolor\":\"white\",\"linecolor\":\"white\",\"ticks\":\"\"},\"radialaxis\":{\"gridcolor\":\"white\",\"linecolor\":\"white\",\"ticks\":\"\"}},\"ternary\":{\"bgcolor\":\"#E5ECF6\",\"aaxis\":{\"gridcolor\":\"white\",\"linecolor\":\"white\",\"ticks\":\"\"},\"baxis\":{\"gridcolor\":\"white\",\"linecolor\":\"white\",\"ticks\":\"\"},\"caxis\":{\"gridcolor\":\"white\",\"linecolor\":\"white\",\"ticks\":\"\"}},\"coloraxis\":{\"colorbar\":{\"outlinewidth\":0,\"ticks\":\"\"}},\"colorscale\":{\"sequential\":[[0.0,\"#0d0887\"],[0.1111111111111111,\"#46039f\"],[0.2222222222222222,\"#7201a8\"],[0.3333333333333333,\"#9c179e\"],[0.4444444444444444,\"#bd3786\"],[0.5555555555555556,\"#d8576b\"],[0.6666666666666666,\"#ed7953\"],[0.7777777777777778,\"#fb9f3a\"],[0.8888888888888888,\"#fdca26\"],[1.0,\"#f0f921\"]],\"sequentialminus\":[[0.0,\"#0d0887\"],[0.1111111111111111,\"#46039f\"],[0.2222222222222222,\"#7201a8\"],[0.3333333333333333,\"#9c179e\"],[0.4444444444444444,\"#bd3786\"],[0.5555555555555556,\"#d8576b\"],[0.6666666666666666,\"#ed7953\"],[0.7777777777777778,\"#fb9f3a\"],[0.8888888888888888,\"#fdca26\"],[1.0,\"#f0f921\"]],\"diverging\":[[0,\"#8e0152\"],[0.1,\"#c51b7d\"],[0.2,\"#de77ae\"],[0.3,\"#f1b6da\"],[0.4,\"#fde0ef\"],[0.5,\"#f7f7f7\"],[0.6,\"#e6f5d0\"],[0.7,\"#b8e186\"],[0.8,\"#7fbc41\"],[0.9,\"#4d9221\"],[1,\"#276419\"]]},\"xaxis\":{\"gridcolor\":\"white\",\"linecolor\":\"white\",\"ticks\":\"\",\"title\":{\"standoff\":15},\"zerolinecolor\":\"white\",\"automargin\":true,\"zerolinewidth\":2},\"yaxis\":{\"gridcolor\":\"white\",\"linecolor\":\"white\",\"ticks\":\"\",\"title\":{\"standoff\":15},\"zerolinecolor\":\"white\",\"automargin\":true,\"zerolinewidth\":2},\"scene\":{\"xaxis\":{\"backgroundcolor\":\"#E5ECF6\",\"gridcolor\":\"white\",\"linecolor\":\"white\",\"showbackground\":true,\"ticks\":\"\",\"zerolinecolor\":\"white\",\"gridwidth\":2},\"yaxis\":{\"backgroundcolor\":\"#E5ECF6\",\"gridcolor\":\"white\",\"linecolor\":\"white\",\"showbackground\":true,\"ticks\":\"\",\"zerolinecolor\":\"white\",\"gridwidth\":2},\"zaxis\":{\"backgroundcolor\":\"#E5ECF6\",\"gridcolor\":\"white\",\"linecolor\":\"white\",\"showbackground\":true,\"ticks\":\"\",\"zerolinecolor\":\"white\",\"gridwidth\":2}},\"shapedefaults\":{\"line\":{\"color\":\"#2a3f5f\"}},\"annotationdefaults\":{\"arrowcolor\":\"#2a3f5f\",\"arrowhead\":0,\"arrowwidth\":1},\"geo\":{\"bgcolor\":\"white\",\"landcolor\":\"#E5ECF6\",\"subunitcolor\":\"white\",\"showland\":true,\"showlakes\":true,\"lakecolor\":\"white\"},\"title\":{\"x\":0.05},\"mapbox\":{\"style\":\"light\"}}},\"xaxis\":{\"title\":{\"text\":\"Number of Variables\"}},\"yaxis\":{\"title\":{\"text\":\"RMSE\"}}},                        {\"responsive\": true}                    ).then(function(){\n",
       "                            \n",
       "var gd = document.getElementById('1e0ef92d-4836-4a03-893a-e76b7b14a415');\n",
       "var x = new MutationObserver(function (mutations, observer) {{\n",
       "        var display = window.getComputedStyle(gd).display;\n",
       "        if (!display || display === 'none') {{\n",
       "            console.log([gd, 'removed!']);\n",
       "            Plotly.purge(gd);\n",
       "            observer.disconnect();\n",
       "        }}\n",
       "}});\n",
       "\n",
       "// Listen for the removal of the full notebook cells\n",
       "var notebookContainer = gd.closest('#notebook-container');\n",
       "if (notebookContainer) {{\n",
       "    x.observe(notebookContainer, {childList: true});\n",
       "}}\n",
       "\n",
       "// Listen for the clearing of the current output cell\n",
       "var outputEl = gd.closest('.output');\n",
       "if (outputEl) {{\n",
       "    x.observe(outputEl, {childList: true});\n",
       "}}\n",
       "\n",
       "                        })                };                });            </script>        </div>"
      ]
     },
     "metadata": {},
     "output_type": "display_data"
    }
   ],
   "source": [
    "compare_models(models)"
   ]
  },
  {
   "cell_type": "code",
   "execution_count": 138,
   "id": "a4360bc5",
   "metadata": {},
   "outputs": [
    {
     "data": {
      "text/html": [
       "<div>\n",
       "<style scoped>\n",
       "    .dataframe tbody tr th:only-of-type {\n",
       "        vertical-align: middle;\n",
       "    }\n",
       "\n",
       "    .dataframe tbody tr th {\n",
       "        vertical-align: top;\n",
       "    }\n",
       "\n",
       "    .dataframe thead th {\n",
       "        text-align: right;\n",
       "    }\n",
       "</style>\n",
       "<table border=\"1\" class=\"dataframe\">\n",
       "  <thead>\n",
       "    <tr style=\"text-align: right;\">\n",
       "      <th></th>\n",
       "      <th>Vairable Name</th>\n",
       "    </tr>\n",
       "  </thead>\n",
       "  <tbody>\n",
       "    <tr>\n",
       "      <th>1</th>\n",
       "      <td>fixed acidity</td>\n",
       "    </tr>\n",
       "    <tr>\n",
       "      <th>2</th>\n",
       "      <td>volatile acidity</td>\n",
       "    </tr>\n",
       "    <tr>\n",
       "      <th>3</th>\n",
       "      <td>citric acid</td>\n",
       "    </tr>\n",
       "    <tr>\n",
       "      <th>4</th>\n",
       "      <td>residual sugar</td>\n",
       "    </tr>\n",
       "    <tr>\n",
       "      <th>5</th>\n",
       "      <td>chlorides</td>\n",
       "    </tr>\n",
       "    <tr>\n",
       "      <th>6</th>\n",
       "      <td>free sulfur dioxide</td>\n",
       "    </tr>\n",
       "    <tr>\n",
       "      <th>7</th>\n",
       "      <td>total sulfur dioxide</td>\n",
       "    </tr>\n",
       "    <tr>\n",
       "      <th>8</th>\n",
       "      <td>density</td>\n",
       "    </tr>\n",
       "    <tr>\n",
       "      <th>9</th>\n",
       "      <td>pH</td>\n",
       "    </tr>\n",
       "    <tr>\n",
       "      <th>10</th>\n",
       "      <td>sulphates</td>\n",
       "    </tr>\n",
       "    <tr>\n",
       "      <th>11</th>\n",
       "      <td>alcohol</td>\n",
       "    </tr>\n",
       "  </tbody>\n",
       "</table>\n",
       "</div>"
      ],
      "text/plain": [
       "           Vairable Name\n",
       "1          fixed acidity\n",
       "2       volatile acidity\n",
       "3            citric acid\n",
       "4         residual sugar\n",
       "5              chlorides\n",
       "6    free sulfur dioxide\n",
       "7   total sulfur dioxide\n",
       "8                density\n",
       "9                     pH\n",
       "10             sulphates\n",
       "11               alcohol"
      ]
     },
     "execution_count": 138,
     "metadata": {},
     "output_type": "execute_result"
    }
   ],
   "source": [
    "#key relating number of variable to which variable is used\n",
    "skey = pd.DataFrame(quantitative_features, columns = ['Vairable Name'])\n",
    "skey.index += 1\n",
    "skey"
   ]
  },
  {
   "cell_type": "markdown",
   "id": "685e6100",
   "metadata": {},
   "source": [
    "From the above graph I have chosen my metric to be the root mean square error, this is because it is considered an excellent general purpose error metric. The RMSE takes the square root of the mean of the square of all of the errors.\n",
    "\n",
    "Like all errors the smaller the error the better the model is to predict, so from the graph you can see the higher the number of variables used, the lower the error becomes which is to be expected.\n",
    "\n",
    "However you can also see that the decrease in the errors are not linear with the number of variables and each variable decreases the error by a unique amount\n",
    "\n",
    "Typically the training error will be smaller than the cross validation and testing error as we have optimized the model to minimize the training error and acts as an underestimate of the CV and test error. The main error which we should focus on is the CV error."
   ]
  },
  {
   "cell_type": "markdown",
   "id": "16326adc",
   "metadata": {},
   "source": [
    "An increasing CV RSME indicates that the model is either being underfitted or overfitted meaning that the model is not taking in the optimal amount of information from the training data set and is either becoming to specific to the training data, or is becoming to general."
   ]
  },
  {
   "cell_type": "markdown",
   "id": "34c76a32",
   "metadata": {},
   "source": [
    "Including the test RMSE shouldnt be done in normal practice as it creates bias for us as the models creator. It can be compared to looking at practice tests before an exam, this skews your results towards doing better but not nescessaryly knowing the concepts which are tested better "
   ]
  },
  {
   "cell_type": "markdown",
   "id": "ad2967e3",
   "metadata": {},
   "source": [
    "## Monovariable K Fold Cross Validation"
   ]
  },
  {
   "cell_type": "markdown",
   "id": "57db0cf4",
   "metadata": {},
   "source": [
    "Cross validation is the process of splitting the total data into different groups, a training set and a testing set. The training set is used to train the machine learning algorithm, then the algorithm is tested on a new set of data (testing set) which it hasnt seen before and can see if the models predictions are accurate to the general trend of the data and not just the specific training data.\n",
    "\n",
    "There are several ways and orders in which to split the data into the training set and testing set"
   ]
  },
  {
   "cell_type": "markdown",
   "id": "85b01855",
   "metadata": {},
   "source": [
    "the K fold method works by splitting the data into K sections (in our case 5). It takes 4 out of the 5 sections as a training set and compares it against the left over section as a testing set. It then alternates which 4 sections are chosen as the training set and sees which sets would make for the best training and testing set."
   ]
  },
  {
   "cell_type": "code",
   "execution_count": 139,
   "id": "e9036f81",
   "metadata": {},
   "outputs": [
    {
     "data": {
      "text/html": [
       "<div>\n",
       "<style scoped>\n",
       "    .dataframe tbody tr th:only-of-type {\n",
       "        vertical-align: middle;\n",
       "    }\n",
       "\n",
       "    .dataframe tbody tr th {\n",
       "        vertical-align: top;\n",
       "    }\n",
       "\n",
       "    .dataframe thead th {\n",
       "        text-align: right;\n",
       "    }\n",
       "</style>\n",
       "<table border=\"1\" class=\"dataframe\">\n",
       "  <thead>\n",
       "    <tr style=\"text-align: right;\">\n",
       "      <th></th>\n",
       "      <th>Training R2</th>\n",
       "      <th>Test R2</th>\n",
       "      <th>Test RMSE</th>\n",
       "    </tr>\n",
       "  </thead>\n",
       "  <tbody>\n",
       "    <tr>\n",
       "      <th>1</th>\n",
       "      <td>0.374765</td>\n",
       "      <td>0.266113</td>\n",
       "      <td>0.669917</td>\n",
       "    </tr>\n",
       "    <tr>\n",
       "      <th>2</th>\n",
       "      <td>0.352022</td>\n",
       "      <td>0.391364</td>\n",
       "      <td>0.623492</td>\n",
       "    </tr>\n",
       "    <tr>\n",
       "      <th>3</th>\n",
       "      <td>0.357750</td>\n",
       "      <td>0.356522</td>\n",
       "      <td>0.673532</td>\n",
       "    </tr>\n",
       "    <tr>\n",
       "      <th>4</th>\n",
       "      <td>0.360961</td>\n",
       "      <td>0.355867</td>\n",
       "      <td>0.623650</td>\n",
       "    </tr>\n",
       "    <tr>\n",
       "      <th>5</th>\n",
       "      <td>0.363659</td>\n",
       "      <td>0.339698</td>\n",
       "      <td>0.670798</td>\n",
       "    </tr>\n",
       "  </tbody>\n",
       "</table>\n",
       "</div>"
      ],
      "text/plain": [
       "   Training R2   Test R2  Test RMSE\n",
       "1     0.374765  0.266113   0.669917\n",
       "2     0.352022  0.391364   0.623492\n",
       "3     0.357750  0.356522   0.673532\n",
       "4     0.360961  0.355867   0.623650\n",
       "5     0.363659  0.339698   0.670798"
      ]
     },
     "execution_count": 139,
     "metadata": {},
     "output_type": "execute_result"
    }
   ],
   "source": [
    "# Set up 5-fold cross validation  \n",
    "k_fold = KFold(5, shuffle=True)\n",
    "#setting up variables so iloc works\n",
    "x = pd.DataFrame(wine_csv[quantitative_features])\n",
    "Y = pd.DataFrame(y, columns = ['quality'])\n",
    "lr = linear_model.LinearRegression()\n",
    "train_scores = []\n",
    "test_scores = []\n",
    "test_rmse = []\n",
    "\n",
    "for k, (train, test) in enumerate(k_fold.split(X)):\n",
    "    \n",
    "    # Get training and test sets for X and y\n",
    "    X_train = x.iloc[train, ]\n",
    "    y_train = Y.iloc[train, ]\n",
    "    X_test = x.iloc[test, ]\n",
    "    y_test = Y.iloc[test, ]\n",
    "    \n",
    "    # Fit model with training set\n",
    "    lr.fit(X_train, y_train)\n",
    "    \n",
    "    # Make predictions with training and test set\n",
    "    test_preds = lr.predict(X_test) \n",
    "    \n",
    "    # Score R2 and RMSE on training and test sets and store in list\n",
    "    train_scores.append(lr.score(X_train, y_train))\n",
    "    test_scores.append(lr.score(X_test, y_test))\n",
    "\n",
    "    # Mean squared error of predicted vs actual\n",
    "    test_rmse.append(mean_squared_error(y_test, test_preds, squared = False))\n",
    "    \n",
    "# Create a metrics_df dataframe to display r2 and rmse scores\n",
    "metrics_df = pd.DataFrame({'Training R2': train_scores, \n",
    "                          'Test R2': test_scores,\n",
    "                          'Test RMSE': test_rmse},\n",
    "                         index = [i+1 for i in range(5)])\n",
    "metrics_df"
   ]
  },
  {
   "cell_type": "code",
   "execution_count": 140,
   "id": "a46d5de1",
   "metadata": {},
   "outputs": [
    {
     "data": {
      "text/plain": [
       "0.36183145529838223"
      ]
     },
     "execution_count": 140,
     "metadata": {},
     "output_type": "execute_result"
    }
   ],
   "source": [
    "np.average(metrics_df['Training R2'])"
   ]
  },
  {
   "cell_type": "markdown",
   "id": "2261e01d",
   "metadata": {},
   "source": [
    "## Ridge Regression"
   ]
  },
  {
   "cell_type": "markdown",
   "id": "898a7805",
   "metadata": {},
   "source": [
    "When we add more and more parameters to our model, we also add to its complexitiy. Doing this makes our model more and more accurate as its using more information on the dataset. However it also makes it more and more specific to the parameters weve exposed it to and we run into a problem of overfitting. Over fitting is when our model bases itself too tightly to the training data set and not to the general trend of qualities we are testing, it then performs worst when exposed to a different dataset.\n",
    "Our goal is to reach a sweet inbetween spot, to extract as much information from our training data without becoming overly specific to that data. Regularization is a tool to find the middle ground.\n",
    "We have a regularization parameter which works as a dial which we can tune the amount of complexity in which we use to fit the model. Adjusting this dial we can then stumble across the perfect balance between complexity and specificity to avoid overfitting.\n",
    "There are two types of regularization:\n",
    "Ridge Regression (L2) : Adds an extra term onto the model (alpha * the slope of the line squared) where alpha is an arbitary constant and the slope squared can be thought of as a penalty term  \n",
    "\n",
    "Linear regression model is caluclated to find a line through the data which has the smallest sum of squared residuals between all datapoints. It is comprised of a y intercept and a slope term"
   ]
  },
  {
   "cell_type": "code",
   "execution_count": 142,
   "id": "b299e421",
   "metadata": {},
   "outputs": [],
   "source": [
    "ridge_model = Pipeline([\n",
    "    (\"SelectColumns\", ColumnTransformer([\n",
    "        (\"keep\", \"passthrough\", quantitative_features),\n",
    "    ])),\n",
    "    (\"LinearModel\", Ridge(alpha=0.5))\n",
    "])"
   ]
  },
  {
   "cell_type": "code",
   "execution_count": 143,
   "id": "922525f1",
   "metadata": {},
   "outputs": [
    {
     "data": {
      "application/vnd.plotly.v1+json": {
       "config": {
        "plotlyServerURL": "https://plot.ly"
       },
       "data": [
        {
         "name": "Training RMSE",
         "type": "bar",
         "x": [
          "1",
          "2",
          "3",
          "4",
          "5",
          "6",
          "7",
          "8",
          "9",
          "10",
          "11",
          "Ridge(alpha=0.5)"
         ],
         "y": [
          0.9867597184152926,
          0.9553456842095448,
          0.955136159147521,
          0.9515528582803472,
          0.9458031955274434,
          0.9455867940371975,
          0.9259455301454893,
          0.8902595120481971,
          0.8666492687340537,
          0.8515798757231956,
          0.8357178662188384,
          0.8357178778268337
         ]
        },
        {
         "name": "CV RMSE",
         "type": "bar",
         "x": [
          "1",
          "2",
          "3",
          "4",
          "5",
          "6",
          "7",
          "8",
          "9",
          "10",
          "11",
          "Ridge(alpha=0.5)"
         ],
         "y": [
          0.9870150638085813,
          0.9556756271247556,
          0.9557497851268671,
          0.9524709943151436,
          0.9471152327161333,
          0.9474286692832811,
          0.9279370349579781,
          0.8926280594900717,
          0.8694479872885645,
          0.8547226482222399,
          0.8387272324673581,
          0.8387242440856395
         ]
        },
        {
         "name": "Test RMSE",
         "opacity": 0.3,
         "type": "bar",
         "x": [
          "1",
          "2",
          "3",
          "4",
          "5",
          "6",
          "7",
          "8",
          "9",
          "10",
          "11",
          "Ridge(alpha=0.5)"
         ],
         "y": [
          1.027433608864375,
          0.98914593180018,
          0.9898665549264807,
          0.9832452289843855,
          0.9742010877366526,
          0.9743415525612351,
          0.9528718073886652,
          0.9105693932339755,
          0.8973434063184984,
          0.8772701537957615,
          0.8594058872617306,
          0.8594017914780582
         ]
        }
       ],
       "layout": {
        "template": {
         "data": {
          "bar": [
           {
            "error_x": {
             "color": "#2a3f5f"
            },
            "error_y": {
             "color": "#2a3f5f"
            },
            "marker": {
             "line": {
              "color": "#E5ECF6",
              "width": 0.5
             },
             "pattern": {
              "fillmode": "overlay",
              "size": 10,
              "solidity": 0.2
             }
            },
            "type": "bar"
           }
          ],
          "barpolar": [
           {
            "marker": {
             "line": {
              "color": "#E5ECF6",
              "width": 0.5
             },
             "pattern": {
              "fillmode": "overlay",
              "size": 10,
              "solidity": 0.2
             }
            },
            "type": "barpolar"
           }
          ],
          "carpet": [
           {
            "aaxis": {
             "endlinecolor": "#2a3f5f",
             "gridcolor": "white",
             "linecolor": "white",
             "minorgridcolor": "white",
             "startlinecolor": "#2a3f5f"
            },
            "baxis": {
             "endlinecolor": "#2a3f5f",
             "gridcolor": "white",
             "linecolor": "white",
             "minorgridcolor": "white",
             "startlinecolor": "#2a3f5f"
            },
            "type": "carpet"
           }
          ],
          "choropleth": [
           {
            "colorbar": {
             "outlinewidth": 0,
             "ticks": ""
            },
            "type": "choropleth"
           }
          ],
          "contour": [
           {
            "colorbar": {
             "outlinewidth": 0,
             "ticks": ""
            },
            "colorscale": [
             [
              0,
              "#0d0887"
             ],
             [
              0.1111111111111111,
              "#46039f"
             ],
             [
              0.2222222222222222,
              "#7201a8"
             ],
             [
              0.3333333333333333,
              "#9c179e"
             ],
             [
              0.4444444444444444,
              "#bd3786"
             ],
             [
              0.5555555555555556,
              "#d8576b"
             ],
             [
              0.6666666666666666,
              "#ed7953"
             ],
             [
              0.7777777777777778,
              "#fb9f3a"
             ],
             [
              0.8888888888888888,
              "#fdca26"
             ],
             [
              1,
              "#f0f921"
             ]
            ],
            "type": "contour"
           }
          ],
          "contourcarpet": [
           {
            "colorbar": {
             "outlinewidth": 0,
             "ticks": ""
            },
            "type": "contourcarpet"
           }
          ],
          "heatmap": [
           {
            "colorbar": {
             "outlinewidth": 0,
             "ticks": ""
            },
            "colorscale": [
             [
              0,
              "#0d0887"
             ],
             [
              0.1111111111111111,
              "#46039f"
             ],
             [
              0.2222222222222222,
              "#7201a8"
             ],
             [
              0.3333333333333333,
              "#9c179e"
             ],
             [
              0.4444444444444444,
              "#bd3786"
             ],
             [
              0.5555555555555556,
              "#d8576b"
             ],
             [
              0.6666666666666666,
              "#ed7953"
             ],
             [
              0.7777777777777778,
              "#fb9f3a"
             ],
             [
              0.8888888888888888,
              "#fdca26"
             ],
             [
              1,
              "#f0f921"
             ]
            ],
            "type": "heatmap"
           }
          ],
          "heatmapgl": [
           {
            "colorbar": {
             "outlinewidth": 0,
             "ticks": ""
            },
            "colorscale": [
             [
              0,
              "#0d0887"
             ],
             [
              0.1111111111111111,
              "#46039f"
             ],
             [
              0.2222222222222222,
              "#7201a8"
             ],
             [
              0.3333333333333333,
              "#9c179e"
             ],
             [
              0.4444444444444444,
              "#bd3786"
             ],
             [
              0.5555555555555556,
              "#d8576b"
             ],
             [
              0.6666666666666666,
              "#ed7953"
             ],
             [
              0.7777777777777778,
              "#fb9f3a"
             ],
             [
              0.8888888888888888,
              "#fdca26"
             ],
             [
              1,
              "#f0f921"
             ]
            ],
            "type": "heatmapgl"
           }
          ],
          "histogram": [
           {
            "marker": {
             "pattern": {
              "fillmode": "overlay",
              "size": 10,
              "solidity": 0.2
             }
            },
            "type": "histogram"
           }
          ],
          "histogram2d": [
           {
            "colorbar": {
             "outlinewidth": 0,
             "ticks": ""
            },
            "colorscale": [
             [
              0,
              "#0d0887"
             ],
             [
              0.1111111111111111,
              "#46039f"
             ],
             [
              0.2222222222222222,
              "#7201a8"
             ],
             [
              0.3333333333333333,
              "#9c179e"
             ],
             [
              0.4444444444444444,
              "#bd3786"
             ],
             [
              0.5555555555555556,
              "#d8576b"
             ],
             [
              0.6666666666666666,
              "#ed7953"
             ],
             [
              0.7777777777777778,
              "#fb9f3a"
             ],
             [
              0.8888888888888888,
              "#fdca26"
             ],
             [
              1,
              "#f0f921"
             ]
            ],
            "type": "histogram2d"
           }
          ],
          "histogram2dcontour": [
           {
            "colorbar": {
             "outlinewidth": 0,
             "ticks": ""
            },
            "colorscale": [
             [
              0,
              "#0d0887"
             ],
             [
              0.1111111111111111,
              "#46039f"
             ],
             [
              0.2222222222222222,
              "#7201a8"
             ],
             [
              0.3333333333333333,
              "#9c179e"
             ],
             [
              0.4444444444444444,
              "#bd3786"
             ],
             [
              0.5555555555555556,
              "#d8576b"
             ],
             [
              0.6666666666666666,
              "#ed7953"
             ],
             [
              0.7777777777777778,
              "#fb9f3a"
             ],
             [
              0.8888888888888888,
              "#fdca26"
             ],
             [
              1,
              "#f0f921"
             ]
            ],
            "type": "histogram2dcontour"
           }
          ],
          "mesh3d": [
           {
            "colorbar": {
             "outlinewidth": 0,
             "ticks": ""
            },
            "type": "mesh3d"
           }
          ],
          "parcoords": [
           {
            "line": {
             "colorbar": {
              "outlinewidth": 0,
              "ticks": ""
             }
            },
            "type": "parcoords"
           }
          ],
          "pie": [
           {
            "automargin": true,
            "type": "pie"
           }
          ],
          "scatter": [
           {
            "fillpattern": {
             "fillmode": "overlay",
             "size": 10,
             "solidity": 0.2
            },
            "type": "scatter"
           }
          ],
          "scatter3d": [
           {
            "line": {
             "colorbar": {
              "outlinewidth": 0,
              "ticks": ""
             }
            },
            "marker": {
             "colorbar": {
              "outlinewidth": 0,
              "ticks": ""
             }
            },
            "type": "scatter3d"
           }
          ],
          "scattercarpet": [
           {
            "marker": {
             "colorbar": {
              "outlinewidth": 0,
              "ticks": ""
             }
            },
            "type": "scattercarpet"
           }
          ],
          "scattergeo": [
           {
            "marker": {
             "colorbar": {
              "outlinewidth": 0,
              "ticks": ""
             }
            },
            "type": "scattergeo"
           }
          ],
          "scattergl": [
           {
            "marker": {
             "colorbar": {
              "outlinewidth": 0,
              "ticks": ""
             }
            },
            "type": "scattergl"
           }
          ],
          "scattermapbox": [
           {
            "marker": {
             "colorbar": {
              "outlinewidth": 0,
              "ticks": ""
             }
            },
            "type": "scattermapbox"
           }
          ],
          "scatterpolar": [
           {
            "marker": {
             "colorbar": {
              "outlinewidth": 0,
              "ticks": ""
             }
            },
            "type": "scatterpolar"
           }
          ],
          "scatterpolargl": [
           {
            "marker": {
             "colorbar": {
              "outlinewidth": 0,
              "ticks": ""
             }
            },
            "type": "scatterpolargl"
           }
          ],
          "scatterternary": [
           {
            "marker": {
             "colorbar": {
              "outlinewidth": 0,
              "ticks": ""
             }
            },
            "type": "scatterternary"
           }
          ],
          "surface": [
           {
            "colorbar": {
             "outlinewidth": 0,
             "ticks": ""
            },
            "colorscale": [
             [
              0,
              "#0d0887"
             ],
             [
              0.1111111111111111,
              "#46039f"
             ],
             [
              0.2222222222222222,
              "#7201a8"
             ],
             [
              0.3333333333333333,
              "#9c179e"
             ],
             [
              0.4444444444444444,
              "#bd3786"
             ],
             [
              0.5555555555555556,
              "#d8576b"
             ],
             [
              0.6666666666666666,
              "#ed7953"
             ],
             [
              0.7777777777777778,
              "#fb9f3a"
             ],
             [
              0.8888888888888888,
              "#fdca26"
             ],
             [
              1,
              "#f0f921"
             ]
            ],
            "type": "surface"
           }
          ],
          "table": [
           {
            "cells": {
             "fill": {
              "color": "#EBF0F8"
             },
             "line": {
              "color": "white"
             }
            },
            "header": {
             "fill": {
              "color": "#C8D4E3"
             },
             "line": {
              "color": "white"
             }
            },
            "type": "table"
           }
          ]
         },
         "layout": {
          "annotationdefaults": {
           "arrowcolor": "#2a3f5f",
           "arrowhead": 0,
           "arrowwidth": 1
          },
          "autotypenumbers": "strict",
          "coloraxis": {
           "colorbar": {
            "outlinewidth": 0,
            "ticks": ""
           }
          },
          "colorscale": {
           "diverging": [
            [
             0,
             "#8e0152"
            ],
            [
             0.1,
             "#c51b7d"
            ],
            [
             0.2,
             "#de77ae"
            ],
            [
             0.3,
             "#f1b6da"
            ],
            [
             0.4,
             "#fde0ef"
            ],
            [
             0.5,
             "#f7f7f7"
            ],
            [
             0.6,
             "#e6f5d0"
            ],
            [
             0.7,
             "#b8e186"
            ],
            [
             0.8,
             "#7fbc41"
            ],
            [
             0.9,
             "#4d9221"
            ],
            [
             1,
             "#276419"
            ]
           ],
           "sequential": [
            [
             0,
             "#0d0887"
            ],
            [
             0.1111111111111111,
             "#46039f"
            ],
            [
             0.2222222222222222,
             "#7201a8"
            ],
            [
             0.3333333333333333,
             "#9c179e"
            ],
            [
             0.4444444444444444,
             "#bd3786"
            ],
            [
             0.5555555555555556,
             "#d8576b"
            ],
            [
             0.6666666666666666,
             "#ed7953"
            ],
            [
             0.7777777777777778,
             "#fb9f3a"
            ],
            [
             0.8888888888888888,
             "#fdca26"
            ],
            [
             1,
             "#f0f921"
            ]
           ],
           "sequentialminus": [
            [
             0,
             "#0d0887"
            ],
            [
             0.1111111111111111,
             "#46039f"
            ],
            [
             0.2222222222222222,
             "#7201a8"
            ],
            [
             0.3333333333333333,
             "#9c179e"
            ],
            [
             0.4444444444444444,
             "#bd3786"
            ],
            [
             0.5555555555555556,
             "#d8576b"
            ],
            [
             0.6666666666666666,
             "#ed7953"
            ],
            [
             0.7777777777777778,
             "#fb9f3a"
            ],
            [
             0.8888888888888888,
             "#fdca26"
            ],
            [
             1,
             "#f0f921"
            ]
           ]
          },
          "colorway": [
           "#636efa",
           "#EF553B",
           "#00cc96",
           "#ab63fa",
           "#FFA15A",
           "#19d3f3",
           "#FF6692",
           "#B6E880",
           "#FF97FF",
           "#FECB52"
          ],
          "font": {
           "color": "#2a3f5f"
          },
          "geo": {
           "bgcolor": "white",
           "lakecolor": "white",
           "landcolor": "#E5ECF6",
           "showlakes": true,
           "showland": true,
           "subunitcolor": "white"
          },
          "hoverlabel": {
           "align": "left"
          },
          "hovermode": "closest",
          "mapbox": {
           "style": "light"
          },
          "paper_bgcolor": "white",
          "plot_bgcolor": "#E5ECF6",
          "polar": {
           "angularaxis": {
            "gridcolor": "white",
            "linecolor": "white",
            "ticks": ""
           },
           "bgcolor": "#E5ECF6",
           "radialaxis": {
            "gridcolor": "white",
            "linecolor": "white",
            "ticks": ""
           }
          },
          "scene": {
           "xaxis": {
            "backgroundcolor": "#E5ECF6",
            "gridcolor": "white",
            "gridwidth": 2,
            "linecolor": "white",
            "showbackground": true,
            "ticks": "",
            "zerolinecolor": "white"
           },
           "yaxis": {
            "backgroundcolor": "#E5ECF6",
            "gridcolor": "white",
            "gridwidth": 2,
            "linecolor": "white",
            "showbackground": true,
            "ticks": "",
            "zerolinecolor": "white"
           },
           "zaxis": {
            "backgroundcolor": "#E5ECF6",
            "gridcolor": "white",
            "gridwidth": 2,
            "linecolor": "white",
            "showbackground": true,
            "ticks": "",
            "zerolinecolor": "white"
           }
          },
          "shapedefaults": {
           "line": {
            "color": "#2a3f5f"
           }
          },
          "ternary": {
           "aaxis": {
            "gridcolor": "white",
            "linecolor": "white",
            "ticks": ""
           },
           "baxis": {
            "gridcolor": "white",
            "linecolor": "white",
            "ticks": ""
           },
           "bgcolor": "#E5ECF6",
           "caxis": {
            "gridcolor": "white",
            "linecolor": "white",
            "ticks": ""
           }
          },
          "title": {
           "x": 0.05
          },
          "xaxis": {
           "automargin": true,
           "gridcolor": "white",
           "linecolor": "white",
           "ticks": "",
           "title": {
            "standoff": 15
           },
           "zerolinecolor": "white",
           "zerolinewidth": 2
          },
          "yaxis": {
           "automargin": true,
           "gridcolor": "white",
           "linecolor": "white",
           "ticks": "",
           "title": {
            "standoff": 15
           },
           "zerolinecolor": "white",
           "zerolinewidth": 2
          }
         }
        },
        "xaxis": {
         "title": {
          "text": "Number of Variables"
         }
        },
        "yaxis": {
         "title": {
          "text": "RMSE"
         }
        }
       }
      },
      "text/html": [
       "<div>                            <div id=\"78b1c5da-03e9-41a5-8274-5ab807338ff5\" class=\"plotly-graph-div\" style=\"height:525px; width:100%;\"></div>            <script type=\"text/javascript\">                require([\"plotly\"], function(Plotly) {                    window.PLOTLYENV=window.PLOTLYENV || {};                                    if (document.getElementById(\"78b1c5da-03e9-41a5-8274-5ab807338ff5\")) {                    Plotly.newPlot(                        \"78b1c5da-03e9-41a5-8274-5ab807338ff5\",                        [{\"name\":\"Training RMSE\",\"x\":[\"1\",\"2\",\"3\",\"4\",\"5\",\"6\",\"7\",\"8\",\"9\",\"10\",\"11\",\"Ridge(alpha=0.5)\"],\"y\":[0.9867597184152926,0.9553456842095448,0.955136159147521,0.9515528582803472,0.9458031955274434,0.9455867940371975,0.9259455301454893,0.8902595120481971,0.8666492687340537,0.8515798757231956,0.8357178662188384,0.8357178778268337],\"type\":\"bar\"},{\"name\":\"CV RMSE\",\"x\":[\"1\",\"2\",\"3\",\"4\",\"5\",\"6\",\"7\",\"8\",\"9\",\"10\",\"11\",\"Ridge(alpha=0.5)\"],\"y\":[0.9870150638085813,0.9556756271247556,0.9557497851268671,0.9524709943151436,0.9471152327161333,0.9474286692832811,0.9279370349579781,0.8926280594900717,0.8694479872885645,0.8547226482222399,0.8387272324673581,0.8387242440856395],\"type\":\"bar\"},{\"name\":\"Test RMSE\",\"opacity\":0.3,\"x\":[\"1\",\"2\",\"3\",\"4\",\"5\",\"6\",\"7\",\"8\",\"9\",\"10\",\"11\",\"Ridge(alpha=0.5)\"],\"y\":[1.027433608864375,0.98914593180018,0.9898665549264807,0.9832452289843855,0.9742010877366526,0.9743415525612351,0.9528718073886652,0.9105693932339755,0.8973434063184984,0.8772701537957615,0.8594058872617306,0.8594017914780582],\"type\":\"bar\"}],                        {\"template\":{\"data\":{\"histogram2dcontour\":[{\"type\":\"histogram2dcontour\",\"colorbar\":{\"outlinewidth\":0,\"ticks\":\"\"},\"colorscale\":[[0.0,\"#0d0887\"],[0.1111111111111111,\"#46039f\"],[0.2222222222222222,\"#7201a8\"],[0.3333333333333333,\"#9c179e\"],[0.4444444444444444,\"#bd3786\"],[0.5555555555555556,\"#d8576b\"],[0.6666666666666666,\"#ed7953\"],[0.7777777777777778,\"#fb9f3a\"],[0.8888888888888888,\"#fdca26\"],[1.0,\"#f0f921\"]]}],\"choropleth\":[{\"type\":\"choropleth\",\"colorbar\":{\"outlinewidth\":0,\"ticks\":\"\"}}],\"histogram2d\":[{\"type\":\"histogram2d\",\"colorbar\":{\"outlinewidth\":0,\"ticks\":\"\"},\"colorscale\":[[0.0,\"#0d0887\"],[0.1111111111111111,\"#46039f\"],[0.2222222222222222,\"#7201a8\"],[0.3333333333333333,\"#9c179e\"],[0.4444444444444444,\"#bd3786\"],[0.5555555555555556,\"#d8576b\"],[0.6666666666666666,\"#ed7953\"],[0.7777777777777778,\"#fb9f3a\"],[0.8888888888888888,\"#fdca26\"],[1.0,\"#f0f921\"]]}],\"heatmap\":[{\"type\":\"heatmap\",\"colorbar\":{\"outlinewidth\":0,\"ticks\":\"\"},\"colorscale\":[[0.0,\"#0d0887\"],[0.1111111111111111,\"#46039f\"],[0.2222222222222222,\"#7201a8\"],[0.3333333333333333,\"#9c179e\"],[0.4444444444444444,\"#bd3786\"],[0.5555555555555556,\"#d8576b\"],[0.6666666666666666,\"#ed7953\"],[0.7777777777777778,\"#fb9f3a\"],[0.8888888888888888,\"#fdca26\"],[1.0,\"#f0f921\"]]}],\"heatmapgl\":[{\"type\":\"heatmapgl\",\"colorbar\":{\"outlinewidth\":0,\"ticks\":\"\"},\"colorscale\":[[0.0,\"#0d0887\"],[0.1111111111111111,\"#46039f\"],[0.2222222222222222,\"#7201a8\"],[0.3333333333333333,\"#9c179e\"],[0.4444444444444444,\"#bd3786\"],[0.5555555555555556,\"#d8576b\"],[0.6666666666666666,\"#ed7953\"],[0.7777777777777778,\"#fb9f3a\"],[0.8888888888888888,\"#fdca26\"],[1.0,\"#f0f921\"]]}],\"contourcarpet\":[{\"type\":\"contourcarpet\",\"colorbar\":{\"outlinewidth\":0,\"ticks\":\"\"}}],\"contour\":[{\"type\":\"contour\",\"colorbar\":{\"outlinewidth\":0,\"ticks\":\"\"},\"colorscale\":[[0.0,\"#0d0887\"],[0.1111111111111111,\"#46039f\"],[0.2222222222222222,\"#7201a8\"],[0.3333333333333333,\"#9c179e\"],[0.4444444444444444,\"#bd3786\"],[0.5555555555555556,\"#d8576b\"],[0.6666666666666666,\"#ed7953\"],[0.7777777777777778,\"#fb9f3a\"],[0.8888888888888888,\"#fdca26\"],[1.0,\"#f0f921\"]]}],\"surface\":[{\"type\":\"surface\",\"colorbar\":{\"outlinewidth\":0,\"ticks\":\"\"},\"colorscale\":[[0.0,\"#0d0887\"],[0.1111111111111111,\"#46039f\"],[0.2222222222222222,\"#7201a8\"],[0.3333333333333333,\"#9c179e\"],[0.4444444444444444,\"#bd3786\"],[0.5555555555555556,\"#d8576b\"],[0.6666666666666666,\"#ed7953\"],[0.7777777777777778,\"#fb9f3a\"],[0.8888888888888888,\"#fdca26\"],[1.0,\"#f0f921\"]]}],\"mesh3d\":[{\"type\":\"mesh3d\",\"colorbar\":{\"outlinewidth\":0,\"ticks\":\"\"}}],\"scatter\":[{\"fillpattern\":{\"fillmode\":\"overlay\",\"size\":10,\"solidity\":0.2},\"type\":\"scatter\"}],\"parcoords\":[{\"type\":\"parcoords\",\"line\":{\"colorbar\":{\"outlinewidth\":0,\"ticks\":\"\"}}}],\"scatterpolargl\":[{\"type\":\"scatterpolargl\",\"marker\":{\"colorbar\":{\"outlinewidth\":0,\"ticks\":\"\"}}}],\"bar\":[{\"error_x\":{\"color\":\"#2a3f5f\"},\"error_y\":{\"color\":\"#2a3f5f\"},\"marker\":{\"line\":{\"color\":\"#E5ECF6\",\"width\":0.5},\"pattern\":{\"fillmode\":\"overlay\",\"size\":10,\"solidity\":0.2}},\"type\":\"bar\"}],\"scattergeo\":[{\"type\":\"scattergeo\",\"marker\":{\"colorbar\":{\"outlinewidth\":0,\"ticks\":\"\"}}}],\"scatterpolar\":[{\"type\":\"scatterpolar\",\"marker\":{\"colorbar\":{\"outlinewidth\":0,\"ticks\":\"\"}}}],\"histogram\":[{\"marker\":{\"pattern\":{\"fillmode\":\"overlay\",\"size\":10,\"solidity\":0.2}},\"type\":\"histogram\"}],\"scattergl\":[{\"type\":\"scattergl\",\"marker\":{\"colorbar\":{\"outlinewidth\":0,\"ticks\":\"\"}}}],\"scatter3d\":[{\"type\":\"scatter3d\",\"line\":{\"colorbar\":{\"outlinewidth\":0,\"ticks\":\"\"}},\"marker\":{\"colorbar\":{\"outlinewidth\":0,\"ticks\":\"\"}}}],\"scattermapbox\":[{\"type\":\"scattermapbox\",\"marker\":{\"colorbar\":{\"outlinewidth\":0,\"ticks\":\"\"}}}],\"scatterternary\":[{\"type\":\"scatterternary\",\"marker\":{\"colorbar\":{\"outlinewidth\":0,\"ticks\":\"\"}}}],\"scattercarpet\":[{\"type\":\"scattercarpet\",\"marker\":{\"colorbar\":{\"outlinewidth\":0,\"ticks\":\"\"}}}],\"carpet\":[{\"aaxis\":{\"endlinecolor\":\"#2a3f5f\",\"gridcolor\":\"white\",\"linecolor\":\"white\",\"minorgridcolor\":\"white\",\"startlinecolor\":\"#2a3f5f\"},\"baxis\":{\"endlinecolor\":\"#2a3f5f\",\"gridcolor\":\"white\",\"linecolor\":\"white\",\"minorgridcolor\":\"white\",\"startlinecolor\":\"#2a3f5f\"},\"type\":\"carpet\"}],\"table\":[{\"cells\":{\"fill\":{\"color\":\"#EBF0F8\"},\"line\":{\"color\":\"white\"}},\"header\":{\"fill\":{\"color\":\"#C8D4E3\"},\"line\":{\"color\":\"white\"}},\"type\":\"table\"}],\"barpolar\":[{\"marker\":{\"line\":{\"color\":\"#E5ECF6\",\"width\":0.5},\"pattern\":{\"fillmode\":\"overlay\",\"size\":10,\"solidity\":0.2}},\"type\":\"barpolar\"}],\"pie\":[{\"automargin\":true,\"type\":\"pie\"}]},\"layout\":{\"autotypenumbers\":\"strict\",\"colorway\":[\"#636efa\",\"#EF553B\",\"#00cc96\",\"#ab63fa\",\"#FFA15A\",\"#19d3f3\",\"#FF6692\",\"#B6E880\",\"#FF97FF\",\"#FECB52\"],\"font\":{\"color\":\"#2a3f5f\"},\"hovermode\":\"closest\",\"hoverlabel\":{\"align\":\"left\"},\"paper_bgcolor\":\"white\",\"plot_bgcolor\":\"#E5ECF6\",\"polar\":{\"bgcolor\":\"#E5ECF6\",\"angularaxis\":{\"gridcolor\":\"white\",\"linecolor\":\"white\",\"ticks\":\"\"},\"radialaxis\":{\"gridcolor\":\"white\",\"linecolor\":\"white\",\"ticks\":\"\"}},\"ternary\":{\"bgcolor\":\"#E5ECF6\",\"aaxis\":{\"gridcolor\":\"white\",\"linecolor\":\"white\",\"ticks\":\"\"},\"baxis\":{\"gridcolor\":\"white\",\"linecolor\":\"white\",\"ticks\":\"\"},\"caxis\":{\"gridcolor\":\"white\",\"linecolor\":\"white\",\"ticks\":\"\"}},\"coloraxis\":{\"colorbar\":{\"outlinewidth\":0,\"ticks\":\"\"}},\"colorscale\":{\"sequential\":[[0.0,\"#0d0887\"],[0.1111111111111111,\"#46039f\"],[0.2222222222222222,\"#7201a8\"],[0.3333333333333333,\"#9c179e\"],[0.4444444444444444,\"#bd3786\"],[0.5555555555555556,\"#d8576b\"],[0.6666666666666666,\"#ed7953\"],[0.7777777777777778,\"#fb9f3a\"],[0.8888888888888888,\"#fdca26\"],[1.0,\"#f0f921\"]],\"sequentialminus\":[[0.0,\"#0d0887\"],[0.1111111111111111,\"#46039f\"],[0.2222222222222222,\"#7201a8\"],[0.3333333333333333,\"#9c179e\"],[0.4444444444444444,\"#bd3786\"],[0.5555555555555556,\"#d8576b\"],[0.6666666666666666,\"#ed7953\"],[0.7777777777777778,\"#fb9f3a\"],[0.8888888888888888,\"#fdca26\"],[1.0,\"#f0f921\"]],\"diverging\":[[0,\"#8e0152\"],[0.1,\"#c51b7d\"],[0.2,\"#de77ae\"],[0.3,\"#f1b6da\"],[0.4,\"#fde0ef\"],[0.5,\"#f7f7f7\"],[0.6,\"#e6f5d0\"],[0.7,\"#b8e186\"],[0.8,\"#7fbc41\"],[0.9,\"#4d9221\"],[1,\"#276419\"]]},\"xaxis\":{\"gridcolor\":\"white\",\"linecolor\":\"white\",\"ticks\":\"\",\"title\":{\"standoff\":15},\"zerolinecolor\":\"white\",\"automargin\":true,\"zerolinewidth\":2},\"yaxis\":{\"gridcolor\":\"white\",\"linecolor\":\"white\",\"ticks\":\"\",\"title\":{\"standoff\":15},\"zerolinecolor\":\"white\",\"automargin\":true,\"zerolinewidth\":2},\"scene\":{\"xaxis\":{\"backgroundcolor\":\"#E5ECF6\",\"gridcolor\":\"white\",\"linecolor\":\"white\",\"showbackground\":true,\"ticks\":\"\",\"zerolinecolor\":\"white\",\"gridwidth\":2},\"yaxis\":{\"backgroundcolor\":\"#E5ECF6\",\"gridcolor\":\"white\",\"linecolor\":\"white\",\"showbackground\":true,\"ticks\":\"\",\"zerolinecolor\":\"white\",\"gridwidth\":2},\"zaxis\":{\"backgroundcolor\":\"#E5ECF6\",\"gridcolor\":\"white\",\"linecolor\":\"white\",\"showbackground\":true,\"ticks\":\"\",\"zerolinecolor\":\"white\",\"gridwidth\":2}},\"shapedefaults\":{\"line\":{\"color\":\"#2a3f5f\"}},\"annotationdefaults\":{\"arrowcolor\":\"#2a3f5f\",\"arrowhead\":0,\"arrowwidth\":1},\"geo\":{\"bgcolor\":\"white\",\"landcolor\":\"#E5ECF6\",\"subunitcolor\":\"white\",\"showland\":true,\"showlakes\":true,\"lakecolor\":\"white\"},\"title\":{\"x\":0.05},\"mapbox\":{\"style\":\"light\"}}},\"xaxis\":{\"title\":{\"text\":\"Number of Variables\"}},\"yaxis\":{\"title\":{\"text\":\"RMSE\"}}},                        {\"responsive\": true}                    ).then(function(){\n",
       "                            \n",
       "var gd = document.getElementById('78b1c5da-03e9-41a5-8274-5ab807338ff5');\n",
       "var x = new MutationObserver(function (mutations, observer) {{\n",
       "        var display = window.getComputedStyle(gd).display;\n",
       "        if (!display || display === 'none') {{\n",
       "            console.log([gd, 'removed!']);\n",
       "            Plotly.purge(gd);\n",
       "            observer.disconnect();\n",
       "        }}\n",
       "}});\n",
       "\n",
       "// Listen for the removal of the full notebook cells\n",
       "var notebookContainer = gd.closest('#notebook-container');\n",
       "if (notebookContainer) {{\n",
       "    x.observe(notebookContainer, {childList: true});\n",
       "}}\n",
       "\n",
       "// Listen for the clearing of the current output cell\n",
       "var outputEl = gd.closest('.output');\n",
       "if (outputEl) {{\n",
       "    x.observe(outputEl, {childList: true});\n",
       "}}\n",
       "\n",
       "                        })                };                });            </script>        </div>"
      ]
     },
     "metadata": {},
     "output_type": "display_data"
    }
   ],
   "source": [
    "ridge_model.fit(tr, tr['quality'])\n",
    "models[\"Ridge(alpha=0.5)\"] = ridge_model\n",
    "compare_models(models)"
   ]
  },
  {
   "cell_type": "markdown",
   "id": "1c7c920d",
   "metadata": {},
   "source": [
    "### Now to find the most optimal alpha value"
   ]
  },
  {
   "cell_type": "code",
   "execution_count": 144,
   "id": "ce01c0a1",
   "metadata": {},
   "outputs": [],
   "source": [
    "#comment_muru: you can use sklearn's RidgeCV function.\n",
    "alphas = np.linspace(0.5, 20, 50)\n",
    "cv_values = []\n",
    "train_values = []\n",
    "test_values = []\n",
    "for alpha in alphas:\n",
    "    ridge_model.set_params(LinearModel__alpha=alpha)\n",
    "    cv_values.append(np.mean(cross_val_score(ridge_model, tr, tr['quality'], scoring=rmse_score, cv=5)))\n",
    "    ridge_model.fit(tr, tr['quality'])\n",
    "    train_values.append(rmse_score(ridge_model, tr, tr['quality']))\n",
    "    test_values.append(rmse_score(ridge_model, te, te['quality']))"
   ]
  },
  {
   "cell_type": "code",
   "execution_count": 145,
   "id": "811e713e",
   "metadata": {},
   "outputs": [
    {
     "data": {
      "application/vnd.plotly.v1+json": {
       "config": {
        "plotlyServerURL": "https://plot.ly"
       },
       "data": [
        {
         "mode": "lines+markers",
         "name": "Train",
         "type": "scatter",
         "x": [
          0.5,
          0.8979591836734694,
          1.2959183673469388,
          1.693877551020408,
          2.0918367346938775,
          2.489795918367347,
          2.887755102040816,
          3.2857142857142856,
          3.683673469387755,
          4.081632653061225,
          4.479591836734694,
          4.877551020408164,
          5.275510204081632,
          5.673469387755102,
          6.071428571428571,
          6.469387755102041,
          6.86734693877551,
          7.26530612244898,
          7.663265306122449,
          8.061224489795919,
          8.459183673469388,
          8.857142857142858,
          9.255102040816327,
          9.653061224489797,
          10.051020408163264,
          10.448979591836734,
          10.846938775510203,
          11.244897959183673,
          11.642857142857142,
          12.040816326530612,
          12.438775510204081,
          12.83673469387755,
          13.23469387755102,
          13.63265306122449,
          14.03061224489796,
          14.428571428571429,
          14.826530612244898,
          15.224489795918368,
          15.622448979591837,
          16.02040816326531,
          16.418367346938776,
          16.816326530612244,
          17.214285714285715,
          17.612244897959183,
          18.010204081632654,
          18.408163265306122,
          18.806122448979593,
          19.20408163265306,
          19.60204081632653,
          20
         ],
         "y": [
          0.8357178778268337,
          0.835717903534437,
          0.8357179436824517,
          0.8357179981286104,
          0.8357180667326274,
          0.8357181493561622,
          0.8357182458627772,
          0.8357183561179279,
          0.8357184799889144,
          0.8357186173448667,
          0.8357187680567091,
          0.8357189319971232,
          0.8357191090405455,
          0.8357192990631092,
          0.8357195019426397,
          0.8357197175586205,
          0.835719945792168,
          0.8357201865260014,
          0.8357204396444291,
          0.8357207050333105,
          0.8357209825800468,
          0.8357212721735425,
          0.835721573704193,
          0.8357218870638542,
          0.8357222121458285,
          0.8357225488448337,
          0.8357228970569865,
          0.8357232566797823,
          0.83572362761207,
          0.8357240097540345,
          0.8357244030071732,
          0.8357248072742831,
          0.835725222459434,
          0.8357256484679498,
          0.8357260852063941,
          0.8357265325825498,
          0.8357269905053977,
          0.8357274588851027,
          0.8357279376329938,
          0.8357284266615514,
          0.835728925884378,
          0.835729435216194,
          0.8357299545728215,
          0.8357304838711588,
          0.8357310230291654,
          0.8357315719658541,
          0.8357321306012749,
          0.8357326988564893,
          0.8357332766535664,
          0.8357338639155634
         ]
        },
        {
         "mode": "lines+markers",
         "name": "CV",
         "type": "scatter",
         "x": [
          0.5,
          0.8979591836734694,
          1.2959183673469388,
          1.693877551020408,
          2.0918367346938775,
          2.489795918367347,
          2.887755102040816,
          3.2857142857142856,
          3.683673469387755,
          4.081632653061225,
          4.479591836734694,
          4.877551020408164,
          5.275510204081632,
          5.673469387755102,
          6.071428571428571,
          6.469387755102041,
          6.86734693877551,
          7.26530612244898,
          7.663265306122449,
          8.061224489795919,
          8.459183673469388,
          8.857142857142858,
          9.255102040816327,
          9.653061224489797,
          10.051020408163264,
          10.448979591836734,
          10.846938775510203,
          11.244897959183673,
          11.642857142857142,
          12.040816326530612,
          12.438775510204081,
          12.83673469387755,
          13.23469387755102,
          13.63265306122449,
          14.03061224489796,
          14.428571428571429,
          14.826530612244898,
          15.224489795918368,
          15.622448979591837,
          16.02040816326531,
          16.418367346938776,
          16.816326530612244,
          17.214285714285715,
          17.612244897959183,
          18.010204081632654,
          18.408163265306122,
          18.806122448979593,
          19.20408163265306,
          19.60204081632653,
          20
         ],
         "y": [
          0.8387242440856395,
          0.838721912201492,
          0.8387196210534327,
          0.8387173701086164,
          0.8387151588436103,
          0.8387129867442035,
          0.8387108533052132,
          0.8387087580303019,
          0.8387067004317927,
          0.8387046800304934,
          0.8387026963555243,
          0.838700748944146,
          0.8386988373415978,
          0.8386969611009333,
          0.8386951197828653,
          0.8386933129556091,
          0.8386915401947348,
          0.8386898010830182,
          0.8386880952102983,
          0.838686422173337,
          0.8386847815756804,
          0.8386831730275265,
          0.8386815961455939,
          0.8386800505529928,
          0.8386785358791,
          0.8386770517594379,
          0.8386755978355523,
          0.8386741737548988,
          0.8386727791707239,
          0.8386714137419584,
          0.8386700771331036,
          0.8386687690141266,
          0.8386674890603544,
          0.8386662369523725,
          0.8386650123759255,
          0.8386638150218163,
          0.8386626445858131,
          0.8386615007685554,
          0.8386603832754602,
          0.8386592918166335,
          0.8386582261067836,
          0.8386571858651342,
          0.8386561708153387,
          0.8386551806854005,
          0.8386542152075908,
          0.8386532741183711,
          0.8386523571583139,
          0.8386514640720282,
          0.8386505946080881,
          0.8386497485189539
         ]
        },
        {
         "mode": "lines+markers",
         "name": "Test",
         "type": "scatter",
         "x": [
          0.5,
          0.8979591836734694,
          1.2959183673469388,
          1.693877551020408,
          2.0918367346938775,
          2.489795918367347,
          2.887755102040816,
          3.2857142857142856,
          3.683673469387755,
          4.081632653061225,
          4.479591836734694,
          4.877551020408164,
          5.275510204081632,
          5.673469387755102,
          6.071428571428571,
          6.469387755102041,
          6.86734693877551,
          7.26530612244898,
          7.663265306122449,
          8.061224489795919,
          8.459183673469388,
          8.857142857142858,
          9.255102040816327,
          9.653061224489797,
          10.051020408163264,
          10.448979591836734,
          10.846938775510203,
          11.244897959183673,
          11.642857142857142,
          12.040816326530612,
          12.438775510204081,
          12.83673469387755,
          13.23469387755102,
          13.63265306122449,
          14.03061224489796,
          14.428571428571429,
          14.826530612244898,
          15.224489795918368,
          15.622448979591837,
          16.02040816326531,
          16.418367346938776,
          16.816326530612244,
          17.214285714285715,
          17.612244897959183,
          18.010204081632654,
          18.408163265306122,
          18.806122448979593,
          19.20408163265306,
          19.60204081632653,
          20
         ],
         "y": [
          0.8594017914780582,
          0.8593985621775174,
          0.8593953597657488,
          0.8593921840228,
          0.8593890347313607,
          0.8593859116767334,
          0.8593828146467861,
          0.8593797434319175,
          0.8593766978250221,
          0.8593736776214543,
          0.8593706826189901,
          0.8593677126177929,
          0.8593647674203827,
          0.8593618468316008,
          0.8593589506585707,
          0.8593560787106745,
          0.8593532307995186,
          0.8593504067388938,
          0.8593476063447589,
          0.8593448294351945,
          0.8593420758303882,
          0.8593393453525929,
          0.8593366378261016,
          0.859333953077222,
          0.8593312909342473,
          0.8593286512274251,
          0.8593260337889344,
          0.859323438452851,
          0.8593208650551358,
          0.8593183134335948,
          0.859315783427862,
          0.8593132748793665,
          0.8593107876313151,
          0.8593083215286715,
          0.8593058764181146,
          0.8593034521480362,
          0.8593010485685056,
          0.8592986655312481,
          0.8592963028896272,
          0.8592939604986156,
          0.8592916382147815,
          0.8592893358962606,
          0.859287053402735,
          0.8592847905954225,
          0.8592825473370418,
          0.859280323491801,
          0.8592781189253769,
          0.8592759335048957,
          0.8592737670989105,
          0.8592716195773854
         ]
        }
       ],
       "layout": {
        "template": {
         "data": {
          "bar": [
           {
            "error_x": {
             "color": "#2a3f5f"
            },
            "error_y": {
             "color": "#2a3f5f"
            },
            "marker": {
             "line": {
              "color": "#E5ECF6",
              "width": 0.5
             },
             "pattern": {
              "fillmode": "overlay",
              "size": 10,
              "solidity": 0.2
             }
            },
            "type": "bar"
           }
          ],
          "barpolar": [
           {
            "marker": {
             "line": {
              "color": "#E5ECF6",
              "width": 0.5
             },
             "pattern": {
              "fillmode": "overlay",
              "size": 10,
              "solidity": 0.2
             }
            },
            "type": "barpolar"
           }
          ],
          "carpet": [
           {
            "aaxis": {
             "endlinecolor": "#2a3f5f",
             "gridcolor": "white",
             "linecolor": "white",
             "minorgridcolor": "white",
             "startlinecolor": "#2a3f5f"
            },
            "baxis": {
             "endlinecolor": "#2a3f5f",
             "gridcolor": "white",
             "linecolor": "white",
             "minorgridcolor": "white",
             "startlinecolor": "#2a3f5f"
            },
            "type": "carpet"
           }
          ],
          "choropleth": [
           {
            "colorbar": {
             "outlinewidth": 0,
             "ticks": ""
            },
            "type": "choropleth"
           }
          ],
          "contour": [
           {
            "colorbar": {
             "outlinewidth": 0,
             "ticks": ""
            },
            "colorscale": [
             [
              0,
              "#0d0887"
             ],
             [
              0.1111111111111111,
              "#46039f"
             ],
             [
              0.2222222222222222,
              "#7201a8"
             ],
             [
              0.3333333333333333,
              "#9c179e"
             ],
             [
              0.4444444444444444,
              "#bd3786"
             ],
             [
              0.5555555555555556,
              "#d8576b"
             ],
             [
              0.6666666666666666,
              "#ed7953"
             ],
             [
              0.7777777777777778,
              "#fb9f3a"
             ],
             [
              0.8888888888888888,
              "#fdca26"
             ],
             [
              1,
              "#f0f921"
             ]
            ],
            "type": "contour"
           }
          ],
          "contourcarpet": [
           {
            "colorbar": {
             "outlinewidth": 0,
             "ticks": ""
            },
            "type": "contourcarpet"
           }
          ],
          "heatmap": [
           {
            "colorbar": {
             "outlinewidth": 0,
             "ticks": ""
            },
            "colorscale": [
             [
              0,
              "#0d0887"
             ],
             [
              0.1111111111111111,
              "#46039f"
             ],
             [
              0.2222222222222222,
              "#7201a8"
             ],
             [
              0.3333333333333333,
              "#9c179e"
             ],
             [
              0.4444444444444444,
              "#bd3786"
             ],
             [
              0.5555555555555556,
              "#d8576b"
             ],
             [
              0.6666666666666666,
              "#ed7953"
             ],
             [
              0.7777777777777778,
              "#fb9f3a"
             ],
             [
              0.8888888888888888,
              "#fdca26"
             ],
             [
              1,
              "#f0f921"
             ]
            ],
            "type": "heatmap"
           }
          ],
          "heatmapgl": [
           {
            "colorbar": {
             "outlinewidth": 0,
             "ticks": ""
            },
            "colorscale": [
             [
              0,
              "#0d0887"
             ],
             [
              0.1111111111111111,
              "#46039f"
             ],
             [
              0.2222222222222222,
              "#7201a8"
             ],
             [
              0.3333333333333333,
              "#9c179e"
             ],
             [
              0.4444444444444444,
              "#bd3786"
             ],
             [
              0.5555555555555556,
              "#d8576b"
             ],
             [
              0.6666666666666666,
              "#ed7953"
             ],
             [
              0.7777777777777778,
              "#fb9f3a"
             ],
             [
              0.8888888888888888,
              "#fdca26"
             ],
             [
              1,
              "#f0f921"
             ]
            ],
            "type": "heatmapgl"
           }
          ],
          "histogram": [
           {
            "marker": {
             "pattern": {
              "fillmode": "overlay",
              "size": 10,
              "solidity": 0.2
             }
            },
            "type": "histogram"
           }
          ],
          "histogram2d": [
           {
            "colorbar": {
             "outlinewidth": 0,
             "ticks": ""
            },
            "colorscale": [
             [
              0,
              "#0d0887"
             ],
             [
              0.1111111111111111,
              "#46039f"
             ],
             [
              0.2222222222222222,
              "#7201a8"
             ],
             [
              0.3333333333333333,
              "#9c179e"
             ],
             [
              0.4444444444444444,
              "#bd3786"
             ],
             [
              0.5555555555555556,
              "#d8576b"
             ],
             [
              0.6666666666666666,
              "#ed7953"
             ],
             [
              0.7777777777777778,
              "#fb9f3a"
             ],
             [
              0.8888888888888888,
              "#fdca26"
             ],
             [
              1,
              "#f0f921"
             ]
            ],
            "type": "histogram2d"
           }
          ],
          "histogram2dcontour": [
           {
            "colorbar": {
             "outlinewidth": 0,
             "ticks": ""
            },
            "colorscale": [
             [
              0,
              "#0d0887"
             ],
             [
              0.1111111111111111,
              "#46039f"
             ],
             [
              0.2222222222222222,
              "#7201a8"
             ],
             [
              0.3333333333333333,
              "#9c179e"
             ],
             [
              0.4444444444444444,
              "#bd3786"
             ],
             [
              0.5555555555555556,
              "#d8576b"
             ],
             [
              0.6666666666666666,
              "#ed7953"
             ],
             [
              0.7777777777777778,
              "#fb9f3a"
             ],
             [
              0.8888888888888888,
              "#fdca26"
             ],
             [
              1,
              "#f0f921"
             ]
            ],
            "type": "histogram2dcontour"
           }
          ],
          "mesh3d": [
           {
            "colorbar": {
             "outlinewidth": 0,
             "ticks": ""
            },
            "type": "mesh3d"
           }
          ],
          "parcoords": [
           {
            "line": {
             "colorbar": {
              "outlinewidth": 0,
              "ticks": ""
             }
            },
            "type": "parcoords"
           }
          ],
          "pie": [
           {
            "automargin": true,
            "type": "pie"
           }
          ],
          "scatter": [
           {
            "fillpattern": {
             "fillmode": "overlay",
             "size": 10,
             "solidity": 0.2
            },
            "type": "scatter"
           }
          ],
          "scatter3d": [
           {
            "line": {
             "colorbar": {
              "outlinewidth": 0,
              "ticks": ""
             }
            },
            "marker": {
             "colorbar": {
              "outlinewidth": 0,
              "ticks": ""
             }
            },
            "type": "scatter3d"
           }
          ],
          "scattercarpet": [
           {
            "marker": {
             "colorbar": {
              "outlinewidth": 0,
              "ticks": ""
             }
            },
            "type": "scattercarpet"
           }
          ],
          "scattergeo": [
           {
            "marker": {
             "colorbar": {
              "outlinewidth": 0,
              "ticks": ""
             }
            },
            "type": "scattergeo"
           }
          ],
          "scattergl": [
           {
            "marker": {
             "colorbar": {
              "outlinewidth": 0,
              "ticks": ""
             }
            },
            "type": "scattergl"
           }
          ],
          "scattermapbox": [
           {
            "marker": {
             "colorbar": {
              "outlinewidth": 0,
              "ticks": ""
             }
            },
            "type": "scattermapbox"
           }
          ],
          "scatterpolar": [
           {
            "marker": {
             "colorbar": {
              "outlinewidth": 0,
              "ticks": ""
             }
            },
            "type": "scatterpolar"
           }
          ],
          "scatterpolargl": [
           {
            "marker": {
             "colorbar": {
              "outlinewidth": 0,
              "ticks": ""
             }
            },
            "type": "scatterpolargl"
           }
          ],
          "scatterternary": [
           {
            "marker": {
             "colorbar": {
              "outlinewidth": 0,
              "ticks": ""
             }
            },
            "type": "scatterternary"
           }
          ],
          "surface": [
           {
            "colorbar": {
             "outlinewidth": 0,
             "ticks": ""
            },
            "colorscale": [
             [
              0,
              "#0d0887"
             ],
             [
              0.1111111111111111,
              "#46039f"
             ],
             [
              0.2222222222222222,
              "#7201a8"
             ],
             [
              0.3333333333333333,
              "#9c179e"
             ],
             [
              0.4444444444444444,
              "#bd3786"
             ],
             [
              0.5555555555555556,
              "#d8576b"
             ],
             [
              0.6666666666666666,
              "#ed7953"
             ],
             [
              0.7777777777777778,
              "#fb9f3a"
             ],
             [
              0.8888888888888888,
              "#fdca26"
             ],
             [
              1,
              "#f0f921"
             ]
            ],
            "type": "surface"
           }
          ],
          "table": [
           {
            "cells": {
             "fill": {
              "color": "#EBF0F8"
             },
             "line": {
              "color": "white"
             }
            },
            "header": {
             "fill": {
              "color": "#C8D4E3"
             },
             "line": {
              "color": "white"
             }
            },
            "type": "table"
           }
          ]
         },
         "layout": {
          "annotationdefaults": {
           "arrowcolor": "#2a3f5f",
           "arrowhead": 0,
           "arrowwidth": 1
          },
          "autotypenumbers": "strict",
          "coloraxis": {
           "colorbar": {
            "outlinewidth": 0,
            "ticks": ""
           }
          },
          "colorscale": {
           "diverging": [
            [
             0,
             "#8e0152"
            ],
            [
             0.1,
             "#c51b7d"
            ],
            [
             0.2,
             "#de77ae"
            ],
            [
             0.3,
             "#f1b6da"
            ],
            [
             0.4,
             "#fde0ef"
            ],
            [
             0.5,
             "#f7f7f7"
            ],
            [
             0.6,
             "#e6f5d0"
            ],
            [
             0.7,
             "#b8e186"
            ],
            [
             0.8,
             "#7fbc41"
            ],
            [
             0.9,
             "#4d9221"
            ],
            [
             1,
             "#276419"
            ]
           ],
           "sequential": [
            [
             0,
             "#0d0887"
            ],
            [
             0.1111111111111111,
             "#46039f"
            ],
            [
             0.2222222222222222,
             "#7201a8"
            ],
            [
             0.3333333333333333,
             "#9c179e"
            ],
            [
             0.4444444444444444,
             "#bd3786"
            ],
            [
             0.5555555555555556,
             "#d8576b"
            ],
            [
             0.6666666666666666,
             "#ed7953"
            ],
            [
             0.7777777777777778,
             "#fb9f3a"
            ],
            [
             0.8888888888888888,
             "#fdca26"
            ],
            [
             1,
             "#f0f921"
            ]
           ],
           "sequentialminus": [
            [
             0,
             "#0d0887"
            ],
            [
             0.1111111111111111,
             "#46039f"
            ],
            [
             0.2222222222222222,
             "#7201a8"
            ],
            [
             0.3333333333333333,
             "#9c179e"
            ],
            [
             0.4444444444444444,
             "#bd3786"
            ],
            [
             0.5555555555555556,
             "#d8576b"
            ],
            [
             0.6666666666666666,
             "#ed7953"
            ],
            [
             0.7777777777777778,
             "#fb9f3a"
            ],
            [
             0.8888888888888888,
             "#fdca26"
            ],
            [
             1,
             "#f0f921"
            ]
           ]
          },
          "colorway": [
           "#636efa",
           "#EF553B",
           "#00cc96",
           "#ab63fa",
           "#FFA15A",
           "#19d3f3",
           "#FF6692",
           "#B6E880",
           "#FF97FF",
           "#FECB52"
          ],
          "font": {
           "color": "#2a3f5f"
          },
          "geo": {
           "bgcolor": "white",
           "lakecolor": "white",
           "landcolor": "#E5ECF6",
           "showlakes": true,
           "showland": true,
           "subunitcolor": "white"
          },
          "hoverlabel": {
           "align": "left"
          },
          "hovermode": "closest",
          "mapbox": {
           "style": "light"
          },
          "paper_bgcolor": "white",
          "plot_bgcolor": "#E5ECF6",
          "polar": {
           "angularaxis": {
            "gridcolor": "white",
            "linecolor": "white",
            "ticks": ""
           },
           "bgcolor": "#E5ECF6",
           "radialaxis": {
            "gridcolor": "white",
            "linecolor": "white",
            "ticks": ""
           }
          },
          "scene": {
           "xaxis": {
            "backgroundcolor": "#E5ECF6",
            "gridcolor": "white",
            "gridwidth": 2,
            "linecolor": "white",
            "showbackground": true,
            "ticks": "",
            "zerolinecolor": "white"
           },
           "yaxis": {
            "backgroundcolor": "#E5ECF6",
            "gridcolor": "white",
            "gridwidth": 2,
            "linecolor": "white",
            "showbackground": true,
            "ticks": "",
            "zerolinecolor": "white"
           },
           "zaxis": {
            "backgroundcolor": "#E5ECF6",
            "gridcolor": "white",
            "gridwidth": 2,
            "linecolor": "white",
            "showbackground": true,
            "ticks": "",
            "zerolinecolor": "white"
           }
          },
          "shapedefaults": {
           "line": {
            "color": "#2a3f5f"
           }
          },
          "ternary": {
           "aaxis": {
            "gridcolor": "white",
            "linecolor": "white",
            "ticks": ""
           },
           "baxis": {
            "gridcolor": "white",
            "linecolor": "white",
            "ticks": ""
           },
           "bgcolor": "#E5ECF6",
           "caxis": {
            "gridcolor": "white",
            "linecolor": "white",
            "ticks": ""
           }
          },
          "title": {
           "x": 0.05
          },
          "xaxis": {
           "automargin": true,
           "gridcolor": "white",
           "linecolor": "white",
           "ticks": "",
           "title": {
            "standoff": 15
           },
           "zerolinecolor": "white",
           "zerolinewidth": 2
          },
          "yaxis": {
           "automargin": true,
           "gridcolor": "white",
           "linecolor": "white",
           "ticks": "",
           "title": {
            "standoff": 15
           },
           "zerolinecolor": "white",
           "zerolinewidth": 2
          }
         }
        },
        "xaxis": {
         "title": {
          "text": "$\\alpha$"
         }
        },
        "yaxis": {
         "title": {
          "text": "CV RMSE"
         }
        }
       }
      },
      "text/html": [
       "<div>                            <div id=\"189604c2-bed2-4e72-8ae7-cd709338f04e\" class=\"plotly-graph-div\" style=\"height:525px; width:100%;\"></div>            <script type=\"text/javascript\">                require([\"plotly\"], function(Plotly) {                    window.PLOTLYENV=window.PLOTLYENV || {};                                    if (document.getElementById(\"189604c2-bed2-4e72-8ae7-cd709338f04e\")) {                    Plotly.newPlot(                        \"189604c2-bed2-4e72-8ae7-cd709338f04e\",                        [{\"mode\":\"lines+markers\",\"name\":\"Train\",\"x\":[0.5,0.8979591836734694,1.2959183673469388,1.693877551020408,2.0918367346938775,2.489795918367347,2.887755102040816,3.2857142857142856,3.683673469387755,4.081632653061225,4.479591836734694,4.877551020408164,5.275510204081632,5.673469387755102,6.071428571428571,6.469387755102041,6.86734693877551,7.26530612244898,7.663265306122449,8.061224489795919,8.459183673469388,8.857142857142858,9.255102040816327,9.653061224489797,10.051020408163264,10.448979591836734,10.846938775510203,11.244897959183673,11.642857142857142,12.040816326530612,12.438775510204081,12.83673469387755,13.23469387755102,13.63265306122449,14.03061224489796,14.428571428571429,14.826530612244898,15.224489795918368,15.622448979591837,16.02040816326531,16.418367346938776,16.816326530612244,17.214285714285715,17.612244897959183,18.010204081632654,18.408163265306122,18.806122448979593,19.20408163265306,19.60204081632653,20.0],\"y\":[0.8357178778268337,0.835717903534437,0.8357179436824517,0.8357179981286104,0.8357180667326274,0.8357181493561622,0.8357182458627772,0.8357183561179279,0.8357184799889144,0.8357186173448667,0.8357187680567091,0.8357189319971232,0.8357191090405455,0.8357192990631092,0.8357195019426397,0.8357197175586205,0.835719945792168,0.8357201865260014,0.8357204396444291,0.8357207050333105,0.8357209825800468,0.8357212721735425,0.835721573704193,0.8357218870638542,0.8357222121458285,0.8357225488448337,0.8357228970569865,0.8357232566797823,0.83572362761207,0.8357240097540345,0.8357244030071732,0.8357248072742831,0.835725222459434,0.8357256484679498,0.8357260852063941,0.8357265325825498,0.8357269905053977,0.8357274588851027,0.8357279376329938,0.8357284266615514,0.835728925884378,0.835729435216194,0.8357299545728215,0.8357304838711588,0.8357310230291654,0.8357315719658541,0.8357321306012749,0.8357326988564893,0.8357332766535664,0.8357338639155634],\"type\":\"scatter\"},{\"mode\":\"lines+markers\",\"name\":\"CV\",\"x\":[0.5,0.8979591836734694,1.2959183673469388,1.693877551020408,2.0918367346938775,2.489795918367347,2.887755102040816,3.2857142857142856,3.683673469387755,4.081632653061225,4.479591836734694,4.877551020408164,5.275510204081632,5.673469387755102,6.071428571428571,6.469387755102041,6.86734693877551,7.26530612244898,7.663265306122449,8.061224489795919,8.459183673469388,8.857142857142858,9.255102040816327,9.653061224489797,10.051020408163264,10.448979591836734,10.846938775510203,11.244897959183673,11.642857142857142,12.040816326530612,12.438775510204081,12.83673469387755,13.23469387755102,13.63265306122449,14.03061224489796,14.428571428571429,14.826530612244898,15.224489795918368,15.622448979591837,16.02040816326531,16.418367346938776,16.816326530612244,17.214285714285715,17.612244897959183,18.010204081632654,18.408163265306122,18.806122448979593,19.20408163265306,19.60204081632653,20.0],\"y\":[0.8387242440856395,0.838721912201492,0.8387196210534327,0.8387173701086164,0.8387151588436103,0.8387129867442035,0.8387108533052132,0.8387087580303019,0.8387067004317927,0.8387046800304934,0.8387026963555243,0.838700748944146,0.8386988373415978,0.8386969611009333,0.8386951197828653,0.8386933129556091,0.8386915401947348,0.8386898010830182,0.8386880952102983,0.838686422173337,0.8386847815756804,0.8386831730275265,0.8386815961455939,0.8386800505529928,0.8386785358791,0.8386770517594379,0.8386755978355523,0.8386741737548988,0.8386727791707239,0.8386714137419584,0.8386700771331036,0.8386687690141266,0.8386674890603544,0.8386662369523725,0.8386650123759255,0.8386638150218163,0.8386626445858131,0.8386615007685554,0.8386603832754602,0.8386592918166335,0.8386582261067836,0.8386571858651342,0.8386561708153387,0.8386551806854005,0.8386542152075908,0.8386532741183711,0.8386523571583139,0.8386514640720282,0.8386505946080881,0.8386497485189539],\"type\":\"scatter\"},{\"mode\":\"lines+markers\",\"name\":\"Test\",\"x\":[0.5,0.8979591836734694,1.2959183673469388,1.693877551020408,2.0918367346938775,2.489795918367347,2.887755102040816,3.2857142857142856,3.683673469387755,4.081632653061225,4.479591836734694,4.877551020408164,5.275510204081632,5.673469387755102,6.071428571428571,6.469387755102041,6.86734693877551,7.26530612244898,7.663265306122449,8.061224489795919,8.459183673469388,8.857142857142858,9.255102040816327,9.653061224489797,10.051020408163264,10.448979591836734,10.846938775510203,11.244897959183673,11.642857142857142,12.040816326530612,12.438775510204081,12.83673469387755,13.23469387755102,13.63265306122449,14.03061224489796,14.428571428571429,14.826530612244898,15.224489795918368,15.622448979591837,16.02040816326531,16.418367346938776,16.816326530612244,17.214285714285715,17.612244897959183,18.010204081632654,18.408163265306122,18.806122448979593,19.20408163265306,19.60204081632653,20.0],\"y\":[0.8594017914780582,0.8593985621775174,0.8593953597657488,0.8593921840228,0.8593890347313607,0.8593859116767334,0.8593828146467861,0.8593797434319175,0.8593766978250221,0.8593736776214543,0.8593706826189901,0.8593677126177929,0.8593647674203827,0.8593618468316008,0.8593589506585707,0.8593560787106745,0.8593532307995186,0.8593504067388938,0.8593476063447589,0.8593448294351945,0.8593420758303882,0.8593393453525929,0.8593366378261016,0.859333953077222,0.8593312909342473,0.8593286512274251,0.8593260337889344,0.859323438452851,0.8593208650551358,0.8593183134335948,0.859315783427862,0.8593132748793665,0.8593107876313151,0.8593083215286715,0.8593058764181146,0.8593034521480362,0.8593010485685056,0.8592986655312481,0.8592963028896272,0.8592939604986156,0.8592916382147815,0.8592893358962606,0.859287053402735,0.8592847905954225,0.8592825473370418,0.859280323491801,0.8592781189253769,0.8592759335048957,0.8592737670989105,0.8592716195773854],\"type\":\"scatter\"}],                        {\"template\":{\"data\":{\"histogram2dcontour\":[{\"type\":\"histogram2dcontour\",\"colorbar\":{\"outlinewidth\":0,\"ticks\":\"\"},\"colorscale\":[[0.0,\"#0d0887\"],[0.1111111111111111,\"#46039f\"],[0.2222222222222222,\"#7201a8\"],[0.3333333333333333,\"#9c179e\"],[0.4444444444444444,\"#bd3786\"],[0.5555555555555556,\"#d8576b\"],[0.6666666666666666,\"#ed7953\"],[0.7777777777777778,\"#fb9f3a\"],[0.8888888888888888,\"#fdca26\"],[1.0,\"#f0f921\"]]}],\"choropleth\":[{\"type\":\"choropleth\",\"colorbar\":{\"outlinewidth\":0,\"ticks\":\"\"}}],\"histogram2d\":[{\"type\":\"histogram2d\",\"colorbar\":{\"outlinewidth\":0,\"ticks\":\"\"},\"colorscale\":[[0.0,\"#0d0887\"],[0.1111111111111111,\"#46039f\"],[0.2222222222222222,\"#7201a8\"],[0.3333333333333333,\"#9c179e\"],[0.4444444444444444,\"#bd3786\"],[0.5555555555555556,\"#d8576b\"],[0.6666666666666666,\"#ed7953\"],[0.7777777777777778,\"#fb9f3a\"],[0.8888888888888888,\"#fdca26\"],[1.0,\"#f0f921\"]]}],\"heatmap\":[{\"type\":\"heatmap\",\"colorbar\":{\"outlinewidth\":0,\"ticks\":\"\"},\"colorscale\":[[0.0,\"#0d0887\"],[0.1111111111111111,\"#46039f\"],[0.2222222222222222,\"#7201a8\"],[0.3333333333333333,\"#9c179e\"],[0.4444444444444444,\"#bd3786\"],[0.5555555555555556,\"#d8576b\"],[0.6666666666666666,\"#ed7953\"],[0.7777777777777778,\"#fb9f3a\"],[0.8888888888888888,\"#fdca26\"],[1.0,\"#f0f921\"]]}],\"heatmapgl\":[{\"type\":\"heatmapgl\",\"colorbar\":{\"outlinewidth\":0,\"ticks\":\"\"},\"colorscale\":[[0.0,\"#0d0887\"],[0.1111111111111111,\"#46039f\"],[0.2222222222222222,\"#7201a8\"],[0.3333333333333333,\"#9c179e\"],[0.4444444444444444,\"#bd3786\"],[0.5555555555555556,\"#d8576b\"],[0.6666666666666666,\"#ed7953\"],[0.7777777777777778,\"#fb9f3a\"],[0.8888888888888888,\"#fdca26\"],[1.0,\"#f0f921\"]]}],\"contourcarpet\":[{\"type\":\"contourcarpet\",\"colorbar\":{\"outlinewidth\":0,\"ticks\":\"\"}}],\"contour\":[{\"type\":\"contour\",\"colorbar\":{\"outlinewidth\":0,\"ticks\":\"\"},\"colorscale\":[[0.0,\"#0d0887\"],[0.1111111111111111,\"#46039f\"],[0.2222222222222222,\"#7201a8\"],[0.3333333333333333,\"#9c179e\"],[0.4444444444444444,\"#bd3786\"],[0.5555555555555556,\"#d8576b\"],[0.6666666666666666,\"#ed7953\"],[0.7777777777777778,\"#fb9f3a\"],[0.8888888888888888,\"#fdca26\"],[1.0,\"#f0f921\"]]}],\"surface\":[{\"type\":\"surface\",\"colorbar\":{\"outlinewidth\":0,\"ticks\":\"\"},\"colorscale\":[[0.0,\"#0d0887\"],[0.1111111111111111,\"#46039f\"],[0.2222222222222222,\"#7201a8\"],[0.3333333333333333,\"#9c179e\"],[0.4444444444444444,\"#bd3786\"],[0.5555555555555556,\"#d8576b\"],[0.6666666666666666,\"#ed7953\"],[0.7777777777777778,\"#fb9f3a\"],[0.8888888888888888,\"#fdca26\"],[1.0,\"#f0f921\"]]}],\"mesh3d\":[{\"type\":\"mesh3d\",\"colorbar\":{\"outlinewidth\":0,\"ticks\":\"\"}}],\"scatter\":[{\"fillpattern\":{\"fillmode\":\"overlay\",\"size\":10,\"solidity\":0.2},\"type\":\"scatter\"}],\"parcoords\":[{\"type\":\"parcoords\",\"line\":{\"colorbar\":{\"outlinewidth\":0,\"ticks\":\"\"}}}],\"scatterpolargl\":[{\"type\":\"scatterpolargl\",\"marker\":{\"colorbar\":{\"outlinewidth\":0,\"ticks\":\"\"}}}],\"bar\":[{\"error_x\":{\"color\":\"#2a3f5f\"},\"error_y\":{\"color\":\"#2a3f5f\"},\"marker\":{\"line\":{\"color\":\"#E5ECF6\",\"width\":0.5},\"pattern\":{\"fillmode\":\"overlay\",\"size\":10,\"solidity\":0.2}},\"type\":\"bar\"}],\"scattergeo\":[{\"type\":\"scattergeo\",\"marker\":{\"colorbar\":{\"outlinewidth\":0,\"ticks\":\"\"}}}],\"scatterpolar\":[{\"type\":\"scatterpolar\",\"marker\":{\"colorbar\":{\"outlinewidth\":0,\"ticks\":\"\"}}}],\"histogram\":[{\"marker\":{\"pattern\":{\"fillmode\":\"overlay\",\"size\":10,\"solidity\":0.2}},\"type\":\"histogram\"}],\"scattergl\":[{\"type\":\"scattergl\",\"marker\":{\"colorbar\":{\"outlinewidth\":0,\"ticks\":\"\"}}}],\"scatter3d\":[{\"type\":\"scatter3d\",\"line\":{\"colorbar\":{\"outlinewidth\":0,\"ticks\":\"\"}},\"marker\":{\"colorbar\":{\"outlinewidth\":0,\"ticks\":\"\"}}}],\"scattermapbox\":[{\"type\":\"scattermapbox\",\"marker\":{\"colorbar\":{\"outlinewidth\":0,\"ticks\":\"\"}}}],\"scatterternary\":[{\"type\":\"scatterternary\",\"marker\":{\"colorbar\":{\"outlinewidth\":0,\"ticks\":\"\"}}}],\"scattercarpet\":[{\"type\":\"scattercarpet\",\"marker\":{\"colorbar\":{\"outlinewidth\":0,\"ticks\":\"\"}}}],\"carpet\":[{\"aaxis\":{\"endlinecolor\":\"#2a3f5f\",\"gridcolor\":\"white\",\"linecolor\":\"white\",\"minorgridcolor\":\"white\",\"startlinecolor\":\"#2a3f5f\"},\"baxis\":{\"endlinecolor\":\"#2a3f5f\",\"gridcolor\":\"white\",\"linecolor\":\"white\",\"minorgridcolor\":\"white\",\"startlinecolor\":\"#2a3f5f\"},\"type\":\"carpet\"}],\"table\":[{\"cells\":{\"fill\":{\"color\":\"#EBF0F8\"},\"line\":{\"color\":\"white\"}},\"header\":{\"fill\":{\"color\":\"#C8D4E3\"},\"line\":{\"color\":\"white\"}},\"type\":\"table\"}],\"barpolar\":[{\"marker\":{\"line\":{\"color\":\"#E5ECF6\",\"width\":0.5},\"pattern\":{\"fillmode\":\"overlay\",\"size\":10,\"solidity\":0.2}},\"type\":\"barpolar\"}],\"pie\":[{\"automargin\":true,\"type\":\"pie\"}]},\"layout\":{\"autotypenumbers\":\"strict\",\"colorway\":[\"#636efa\",\"#EF553B\",\"#00cc96\",\"#ab63fa\",\"#FFA15A\",\"#19d3f3\",\"#FF6692\",\"#B6E880\",\"#FF97FF\",\"#FECB52\"],\"font\":{\"color\":\"#2a3f5f\"},\"hovermode\":\"closest\",\"hoverlabel\":{\"align\":\"left\"},\"paper_bgcolor\":\"white\",\"plot_bgcolor\":\"#E5ECF6\",\"polar\":{\"bgcolor\":\"#E5ECF6\",\"angularaxis\":{\"gridcolor\":\"white\",\"linecolor\":\"white\",\"ticks\":\"\"},\"radialaxis\":{\"gridcolor\":\"white\",\"linecolor\":\"white\",\"ticks\":\"\"}},\"ternary\":{\"bgcolor\":\"#E5ECF6\",\"aaxis\":{\"gridcolor\":\"white\",\"linecolor\":\"white\",\"ticks\":\"\"},\"baxis\":{\"gridcolor\":\"white\",\"linecolor\":\"white\",\"ticks\":\"\"},\"caxis\":{\"gridcolor\":\"white\",\"linecolor\":\"white\",\"ticks\":\"\"}},\"coloraxis\":{\"colorbar\":{\"outlinewidth\":0,\"ticks\":\"\"}},\"colorscale\":{\"sequential\":[[0.0,\"#0d0887\"],[0.1111111111111111,\"#46039f\"],[0.2222222222222222,\"#7201a8\"],[0.3333333333333333,\"#9c179e\"],[0.4444444444444444,\"#bd3786\"],[0.5555555555555556,\"#d8576b\"],[0.6666666666666666,\"#ed7953\"],[0.7777777777777778,\"#fb9f3a\"],[0.8888888888888888,\"#fdca26\"],[1.0,\"#f0f921\"]],\"sequentialminus\":[[0.0,\"#0d0887\"],[0.1111111111111111,\"#46039f\"],[0.2222222222222222,\"#7201a8\"],[0.3333333333333333,\"#9c179e\"],[0.4444444444444444,\"#bd3786\"],[0.5555555555555556,\"#d8576b\"],[0.6666666666666666,\"#ed7953\"],[0.7777777777777778,\"#fb9f3a\"],[0.8888888888888888,\"#fdca26\"],[1.0,\"#f0f921\"]],\"diverging\":[[0,\"#8e0152\"],[0.1,\"#c51b7d\"],[0.2,\"#de77ae\"],[0.3,\"#f1b6da\"],[0.4,\"#fde0ef\"],[0.5,\"#f7f7f7\"],[0.6,\"#e6f5d0\"],[0.7,\"#b8e186\"],[0.8,\"#7fbc41\"],[0.9,\"#4d9221\"],[1,\"#276419\"]]},\"xaxis\":{\"gridcolor\":\"white\",\"linecolor\":\"white\",\"ticks\":\"\",\"title\":{\"standoff\":15},\"zerolinecolor\":\"white\",\"automargin\":true,\"zerolinewidth\":2},\"yaxis\":{\"gridcolor\":\"white\",\"linecolor\":\"white\",\"ticks\":\"\",\"title\":{\"standoff\":15},\"zerolinecolor\":\"white\",\"automargin\":true,\"zerolinewidth\":2},\"scene\":{\"xaxis\":{\"backgroundcolor\":\"#E5ECF6\",\"gridcolor\":\"white\",\"linecolor\":\"white\",\"showbackground\":true,\"ticks\":\"\",\"zerolinecolor\":\"white\",\"gridwidth\":2},\"yaxis\":{\"backgroundcolor\":\"#E5ECF6\",\"gridcolor\":\"white\",\"linecolor\":\"white\",\"showbackground\":true,\"ticks\":\"\",\"zerolinecolor\":\"white\",\"gridwidth\":2},\"zaxis\":{\"backgroundcolor\":\"#E5ECF6\",\"gridcolor\":\"white\",\"linecolor\":\"white\",\"showbackground\":true,\"ticks\":\"\",\"zerolinecolor\":\"white\",\"gridwidth\":2}},\"shapedefaults\":{\"line\":{\"color\":\"#2a3f5f\"}},\"annotationdefaults\":{\"arrowcolor\":\"#2a3f5f\",\"arrowhead\":0,\"arrowwidth\":1},\"geo\":{\"bgcolor\":\"white\",\"landcolor\":\"#E5ECF6\",\"subunitcolor\":\"white\",\"showland\":true,\"showlakes\":true,\"lakecolor\":\"white\"},\"title\":{\"x\":0.05},\"mapbox\":{\"style\":\"light\"}}},\"xaxis\":{\"title\":{\"text\":\"$\\\\alpha$\"}},\"yaxis\":{\"title\":{\"text\":\"CV RMSE\"}}},                        {\"responsive\": true}                    ).then(function(){\n",
       "                            \n",
       "var gd = document.getElementById('189604c2-bed2-4e72-8ae7-cd709338f04e');\n",
       "var x = new MutationObserver(function (mutations, observer) {{\n",
       "        var display = window.getComputedStyle(gd).display;\n",
       "        if (!display || display === 'none') {{\n",
       "            console.log([gd, 'removed!']);\n",
       "            Plotly.purge(gd);\n",
       "            observer.disconnect();\n",
       "        }}\n",
       "}});\n",
       "\n",
       "// Listen for the removal of the full notebook cells\n",
       "var notebookContainer = gd.closest('#notebook-container');\n",
       "if (notebookContainer) {{\n",
       "    x.observe(notebookContainer, {childList: true});\n",
       "}}\n",
       "\n",
       "// Listen for the clearing of the current output cell\n",
       "var outputEl = gd.closest('.output');\n",
       "if (outputEl) {{\n",
       "    x.observe(outputEl, {childList: true});\n",
       "}}\n",
       "\n",
       "                        })                };                });            </script>        </div>"
      ]
     },
     "metadata": {},
     "output_type": "display_data"
    }
   ],
   "source": [
    "fig = go.Figure()\n",
    "fig.add_trace(go.Scatter(x = alphas, y = train_values, mode=\"lines+markers\", name=\"Train\"))\n",
    "fig.add_trace(go.Scatter(x = alphas, y = cv_values, mode=\"lines+markers\", name=\"CV\"))\n",
    "fig.add_trace(go.Scatter(x = alphas, y = test_values, mode=\"lines+markers\", name=\"Test\"))\n",
    "fig.update_layout(xaxis_title=r\"$\\alpha$\", yaxis_title=\"CV RMSE\")"
   ]
  },
  {
   "cell_type": "markdown",
   "id": "baec6e5d",
   "metadata": {},
   "source": [
    "Can see not much change with differing alphas but looks like a slight downward trend with the higher alpha. This would symbolize that our first regression line is quite accurate towards the model and adding a the penalty term doesnt add much to its accuracy"
   ]
  },
  {
   "cell_type": "markdown",
   "id": "82026c84",
   "metadata": {},
   "source": [
    "### Finding the Optimal Alpha"
   ]
  },
  {
   "cell_type": "code",
   "execution_count": 146,
   "id": "690f6af3",
   "metadata": {},
   "outputs": [
    {
     "data": {
      "application/vnd.plotly.v1+json": {
       "config": {
        "plotlyServerURL": "https://plot.ly"
       },
       "data": [
        {
         "name": "Training RMSE",
         "type": "bar",
         "x": [
          "1",
          "2",
          "3",
          "4",
          "5",
          "6",
          "7",
          "8",
          "9",
          "10",
          "11",
          "Ridge(alpha=0.5)",
          "Ridge(alpha_best)"
         ],
         "y": [
          0.9867597184152926,
          0.9553456842095448,
          0.955136159147521,
          0.9515528582803472,
          0.9458031955274434,
          0.9455867940371975,
          0.9259455301454893,
          0.8902595120481971,
          0.8666492687340537,
          0.8515798757231956,
          0.8357178662188384,
          0.8357338639155634,
          0.8357338639155634
         ]
        },
        {
         "name": "CV RMSE",
         "type": "bar",
         "x": [
          "1",
          "2",
          "3",
          "4",
          "5",
          "6",
          "7",
          "8",
          "9",
          "10",
          "11",
          "Ridge(alpha=0.5)",
          "Ridge(alpha_best)"
         ],
         "y": [
          0.9870150638085813,
          0.9556756271247556,
          0.9557497851268671,
          0.9524709943151436,
          0.9471152327161333,
          0.9474286692832811,
          0.9279370349579781,
          0.8926280594900717,
          0.8694479872885645,
          0.8547226482222399,
          0.8387272324673581,
          0.8386497485189539,
          0.8386497485189539
         ]
        },
        {
         "name": "Test RMSE",
         "opacity": 0.3,
         "type": "bar",
         "x": [
          "1",
          "2",
          "3",
          "4",
          "5",
          "6",
          "7",
          "8",
          "9",
          "10",
          "11",
          "Ridge(alpha=0.5)",
          "Ridge(alpha_best)"
         ],
         "y": [
          1.027433608864375,
          0.98914593180018,
          0.9898665549264807,
          0.9832452289843855,
          0.9742010877366526,
          0.9743415525612351,
          0.9528718073886652,
          0.9105693932339755,
          0.8973434063184984,
          0.8772701537957615,
          0.8594058872617306,
          0.8592716195773854,
          0.8592716195773854
         ]
        }
       ],
       "layout": {
        "template": {
         "data": {
          "bar": [
           {
            "error_x": {
             "color": "#2a3f5f"
            },
            "error_y": {
             "color": "#2a3f5f"
            },
            "marker": {
             "line": {
              "color": "#E5ECF6",
              "width": 0.5
             },
             "pattern": {
              "fillmode": "overlay",
              "size": 10,
              "solidity": 0.2
             }
            },
            "type": "bar"
           }
          ],
          "barpolar": [
           {
            "marker": {
             "line": {
              "color": "#E5ECF6",
              "width": 0.5
             },
             "pattern": {
              "fillmode": "overlay",
              "size": 10,
              "solidity": 0.2
             }
            },
            "type": "barpolar"
           }
          ],
          "carpet": [
           {
            "aaxis": {
             "endlinecolor": "#2a3f5f",
             "gridcolor": "white",
             "linecolor": "white",
             "minorgridcolor": "white",
             "startlinecolor": "#2a3f5f"
            },
            "baxis": {
             "endlinecolor": "#2a3f5f",
             "gridcolor": "white",
             "linecolor": "white",
             "minorgridcolor": "white",
             "startlinecolor": "#2a3f5f"
            },
            "type": "carpet"
           }
          ],
          "choropleth": [
           {
            "colorbar": {
             "outlinewidth": 0,
             "ticks": ""
            },
            "type": "choropleth"
           }
          ],
          "contour": [
           {
            "colorbar": {
             "outlinewidth": 0,
             "ticks": ""
            },
            "colorscale": [
             [
              0,
              "#0d0887"
             ],
             [
              0.1111111111111111,
              "#46039f"
             ],
             [
              0.2222222222222222,
              "#7201a8"
             ],
             [
              0.3333333333333333,
              "#9c179e"
             ],
             [
              0.4444444444444444,
              "#bd3786"
             ],
             [
              0.5555555555555556,
              "#d8576b"
             ],
             [
              0.6666666666666666,
              "#ed7953"
             ],
             [
              0.7777777777777778,
              "#fb9f3a"
             ],
             [
              0.8888888888888888,
              "#fdca26"
             ],
             [
              1,
              "#f0f921"
             ]
            ],
            "type": "contour"
           }
          ],
          "contourcarpet": [
           {
            "colorbar": {
             "outlinewidth": 0,
             "ticks": ""
            },
            "type": "contourcarpet"
           }
          ],
          "heatmap": [
           {
            "colorbar": {
             "outlinewidth": 0,
             "ticks": ""
            },
            "colorscale": [
             [
              0,
              "#0d0887"
             ],
             [
              0.1111111111111111,
              "#46039f"
             ],
             [
              0.2222222222222222,
              "#7201a8"
             ],
             [
              0.3333333333333333,
              "#9c179e"
             ],
             [
              0.4444444444444444,
              "#bd3786"
             ],
             [
              0.5555555555555556,
              "#d8576b"
             ],
             [
              0.6666666666666666,
              "#ed7953"
             ],
             [
              0.7777777777777778,
              "#fb9f3a"
             ],
             [
              0.8888888888888888,
              "#fdca26"
             ],
             [
              1,
              "#f0f921"
             ]
            ],
            "type": "heatmap"
           }
          ],
          "heatmapgl": [
           {
            "colorbar": {
             "outlinewidth": 0,
             "ticks": ""
            },
            "colorscale": [
             [
              0,
              "#0d0887"
             ],
             [
              0.1111111111111111,
              "#46039f"
             ],
             [
              0.2222222222222222,
              "#7201a8"
             ],
             [
              0.3333333333333333,
              "#9c179e"
             ],
             [
              0.4444444444444444,
              "#bd3786"
             ],
             [
              0.5555555555555556,
              "#d8576b"
             ],
             [
              0.6666666666666666,
              "#ed7953"
             ],
             [
              0.7777777777777778,
              "#fb9f3a"
             ],
             [
              0.8888888888888888,
              "#fdca26"
             ],
             [
              1,
              "#f0f921"
             ]
            ],
            "type": "heatmapgl"
           }
          ],
          "histogram": [
           {
            "marker": {
             "pattern": {
              "fillmode": "overlay",
              "size": 10,
              "solidity": 0.2
             }
            },
            "type": "histogram"
           }
          ],
          "histogram2d": [
           {
            "colorbar": {
             "outlinewidth": 0,
             "ticks": ""
            },
            "colorscale": [
             [
              0,
              "#0d0887"
             ],
             [
              0.1111111111111111,
              "#46039f"
             ],
             [
              0.2222222222222222,
              "#7201a8"
             ],
             [
              0.3333333333333333,
              "#9c179e"
             ],
             [
              0.4444444444444444,
              "#bd3786"
             ],
             [
              0.5555555555555556,
              "#d8576b"
             ],
             [
              0.6666666666666666,
              "#ed7953"
             ],
             [
              0.7777777777777778,
              "#fb9f3a"
             ],
             [
              0.8888888888888888,
              "#fdca26"
             ],
             [
              1,
              "#f0f921"
             ]
            ],
            "type": "histogram2d"
           }
          ],
          "histogram2dcontour": [
           {
            "colorbar": {
             "outlinewidth": 0,
             "ticks": ""
            },
            "colorscale": [
             [
              0,
              "#0d0887"
             ],
             [
              0.1111111111111111,
              "#46039f"
             ],
             [
              0.2222222222222222,
              "#7201a8"
             ],
             [
              0.3333333333333333,
              "#9c179e"
             ],
             [
              0.4444444444444444,
              "#bd3786"
             ],
             [
              0.5555555555555556,
              "#d8576b"
             ],
             [
              0.6666666666666666,
              "#ed7953"
             ],
             [
              0.7777777777777778,
              "#fb9f3a"
             ],
             [
              0.8888888888888888,
              "#fdca26"
             ],
             [
              1,
              "#f0f921"
             ]
            ],
            "type": "histogram2dcontour"
           }
          ],
          "mesh3d": [
           {
            "colorbar": {
             "outlinewidth": 0,
             "ticks": ""
            },
            "type": "mesh3d"
           }
          ],
          "parcoords": [
           {
            "line": {
             "colorbar": {
              "outlinewidth": 0,
              "ticks": ""
             }
            },
            "type": "parcoords"
           }
          ],
          "pie": [
           {
            "automargin": true,
            "type": "pie"
           }
          ],
          "scatter": [
           {
            "fillpattern": {
             "fillmode": "overlay",
             "size": 10,
             "solidity": 0.2
            },
            "type": "scatter"
           }
          ],
          "scatter3d": [
           {
            "line": {
             "colorbar": {
              "outlinewidth": 0,
              "ticks": ""
             }
            },
            "marker": {
             "colorbar": {
              "outlinewidth": 0,
              "ticks": ""
             }
            },
            "type": "scatter3d"
           }
          ],
          "scattercarpet": [
           {
            "marker": {
             "colorbar": {
              "outlinewidth": 0,
              "ticks": ""
             }
            },
            "type": "scattercarpet"
           }
          ],
          "scattergeo": [
           {
            "marker": {
             "colorbar": {
              "outlinewidth": 0,
              "ticks": ""
             }
            },
            "type": "scattergeo"
           }
          ],
          "scattergl": [
           {
            "marker": {
             "colorbar": {
              "outlinewidth": 0,
              "ticks": ""
             }
            },
            "type": "scattergl"
           }
          ],
          "scattermapbox": [
           {
            "marker": {
             "colorbar": {
              "outlinewidth": 0,
              "ticks": ""
             }
            },
            "type": "scattermapbox"
           }
          ],
          "scatterpolar": [
           {
            "marker": {
             "colorbar": {
              "outlinewidth": 0,
              "ticks": ""
             }
            },
            "type": "scatterpolar"
           }
          ],
          "scatterpolargl": [
           {
            "marker": {
             "colorbar": {
              "outlinewidth": 0,
              "ticks": ""
             }
            },
            "type": "scatterpolargl"
           }
          ],
          "scatterternary": [
           {
            "marker": {
             "colorbar": {
              "outlinewidth": 0,
              "ticks": ""
             }
            },
            "type": "scatterternary"
           }
          ],
          "surface": [
           {
            "colorbar": {
             "outlinewidth": 0,
             "ticks": ""
            },
            "colorscale": [
             [
              0,
              "#0d0887"
             ],
             [
              0.1111111111111111,
              "#46039f"
             ],
             [
              0.2222222222222222,
              "#7201a8"
             ],
             [
              0.3333333333333333,
              "#9c179e"
             ],
             [
              0.4444444444444444,
              "#bd3786"
             ],
             [
              0.5555555555555556,
              "#d8576b"
             ],
             [
              0.6666666666666666,
              "#ed7953"
             ],
             [
              0.7777777777777778,
              "#fb9f3a"
             ],
             [
              0.8888888888888888,
              "#fdca26"
             ],
             [
              1,
              "#f0f921"
             ]
            ],
            "type": "surface"
           }
          ],
          "table": [
           {
            "cells": {
             "fill": {
              "color": "#EBF0F8"
             },
             "line": {
              "color": "white"
             }
            },
            "header": {
             "fill": {
              "color": "#C8D4E3"
             },
             "line": {
              "color": "white"
             }
            },
            "type": "table"
           }
          ]
         },
         "layout": {
          "annotationdefaults": {
           "arrowcolor": "#2a3f5f",
           "arrowhead": 0,
           "arrowwidth": 1
          },
          "autotypenumbers": "strict",
          "coloraxis": {
           "colorbar": {
            "outlinewidth": 0,
            "ticks": ""
           }
          },
          "colorscale": {
           "diverging": [
            [
             0,
             "#8e0152"
            ],
            [
             0.1,
             "#c51b7d"
            ],
            [
             0.2,
             "#de77ae"
            ],
            [
             0.3,
             "#f1b6da"
            ],
            [
             0.4,
             "#fde0ef"
            ],
            [
             0.5,
             "#f7f7f7"
            ],
            [
             0.6,
             "#e6f5d0"
            ],
            [
             0.7,
             "#b8e186"
            ],
            [
             0.8,
             "#7fbc41"
            ],
            [
             0.9,
             "#4d9221"
            ],
            [
             1,
             "#276419"
            ]
           ],
           "sequential": [
            [
             0,
             "#0d0887"
            ],
            [
             0.1111111111111111,
             "#46039f"
            ],
            [
             0.2222222222222222,
             "#7201a8"
            ],
            [
             0.3333333333333333,
             "#9c179e"
            ],
            [
             0.4444444444444444,
             "#bd3786"
            ],
            [
             0.5555555555555556,
             "#d8576b"
            ],
            [
             0.6666666666666666,
             "#ed7953"
            ],
            [
             0.7777777777777778,
             "#fb9f3a"
            ],
            [
             0.8888888888888888,
             "#fdca26"
            ],
            [
             1,
             "#f0f921"
            ]
           ],
           "sequentialminus": [
            [
             0,
             "#0d0887"
            ],
            [
             0.1111111111111111,
             "#46039f"
            ],
            [
             0.2222222222222222,
             "#7201a8"
            ],
            [
             0.3333333333333333,
             "#9c179e"
            ],
            [
             0.4444444444444444,
             "#bd3786"
            ],
            [
             0.5555555555555556,
             "#d8576b"
            ],
            [
             0.6666666666666666,
             "#ed7953"
            ],
            [
             0.7777777777777778,
             "#fb9f3a"
            ],
            [
             0.8888888888888888,
             "#fdca26"
            ],
            [
             1,
             "#f0f921"
            ]
           ]
          },
          "colorway": [
           "#636efa",
           "#EF553B",
           "#00cc96",
           "#ab63fa",
           "#FFA15A",
           "#19d3f3",
           "#FF6692",
           "#B6E880",
           "#FF97FF",
           "#FECB52"
          ],
          "font": {
           "color": "#2a3f5f"
          },
          "geo": {
           "bgcolor": "white",
           "lakecolor": "white",
           "landcolor": "#E5ECF6",
           "showlakes": true,
           "showland": true,
           "subunitcolor": "white"
          },
          "hoverlabel": {
           "align": "left"
          },
          "hovermode": "closest",
          "mapbox": {
           "style": "light"
          },
          "paper_bgcolor": "white",
          "plot_bgcolor": "#E5ECF6",
          "polar": {
           "angularaxis": {
            "gridcolor": "white",
            "linecolor": "white",
            "ticks": ""
           },
           "bgcolor": "#E5ECF6",
           "radialaxis": {
            "gridcolor": "white",
            "linecolor": "white",
            "ticks": ""
           }
          },
          "scene": {
           "xaxis": {
            "backgroundcolor": "#E5ECF6",
            "gridcolor": "white",
            "gridwidth": 2,
            "linecolor": "white",
            "showbackground": true,
            "ticks": "",
            "zerolinecolor": "white"
           },
           "yaxis": {
            "backgroundcolor": "#E5ECF6",
            "gridcolor": "white",
            "gridwidth": 2,
            "linecolor": "white",
            "showbackground": true,
            "ticks": "",
            "zerolinecolor": "white"
           },
           "zaxis": {
            "backgroundcolor": "#E5ECF6",
            "gridcolor": "white",
            "gridwidth": 2,
            "linecolor": "white",
            "showbackground": true,
            "ticks": "",
            "zerolinecolor": "white"
           }
          },
          "shapedefaults": {
           "line": {
            "color": "#2a3f5f"
           }
          },
          "ternary": {
           "aaxis": {
            "gridcolor": "white",
            "linecolor": "white",
            "ticks": ""
           },
           "baxis": {
            "gridcolor": "white",
            "linecolor": "white",
            "ticks": ""
           },
           "bgcolor": "#E5ECF6",
           "caxis": {
            "gridcolor": "white",
            "linecolor": "white",
            "ticks": ""
           }
          },
          "title": {
           "x": 0.05
          },
          "xaxis": {
           "automargin": true,
           "gridcolor": "white",
           "linecolor": "white",
           "ticks": "",
           "title": {
            "standoff": 15
           },
           "zerolinecolor": "white",
           "zerolinewidth": 2
          },
          "yaxis": {
           "automargin": true,
           "gridcolor": "white",
           "linecolor": "white",
           "ticks": "",
           "title": {
            "standoff": 15
           },
           "zerolinecolor": "white",
           "zerolinewidth": 2
          }
         }
        },
        "xaxis": {
         "title": {
          "text": "Number of Variables"
         }
        },
        "yaxis": {
         "title": {
          "text": "RMSE"
         }
        }
       }
      },
      "text/html": [
       "<div>                            <div id=\"442a467a-c8f7-4b5f-afd2-fb477f8a22db\" class=\"plotly-graph-div\" style=\"height:525px; width:100%;\"></div>            <script type=\"text/javascript\">                require([\"plotly\"], function(Plotly) {                    window.PLOTLYENV=window.PLOTLYENV || {};                                    if (document.getElementById(\"442a467a-c8f7-4b5f-afd2-fb477f8a22db\")) {                    Plotly.newPlot(                        \"442a467a-c8f7-4b5f-afd2-fb477f8a22db\",                        [{\"name\":\"Training RMSE\",\"x\":[\"1\",\"2\",\"3\",\"4\",\"5\",\"6\",\"7\",\"8\",\"9\",\"10\",\"11\",\"Ridge(alpha=0.5)\",\"Ridge(alpha_best)\"],\"y\":[0.9867597184152926,0.9553456842095448,0.955136159147521,0.9515528582803472,0.9458031955274434,0.9455867940371975,0.9259455301454893,0.8902595120481971,0.8666492687340537,0.8515798757231956,0.8357178662188384,0.8357338639155634,0.8357338639155634],\"type\":\"bar\"},{\"name\":\"CV RMSE\",\"x\":[\"1\",\"2\",\"3\",\"4\",\"5\",\"6\",\"7\",\"8\",\"9\",\"10\",\"11\",\"Ridge(alpha=0.5)\",\"Ridge(alpha_best)\"],\"y\":[0.9870150638085813,0.9556756271247556,0.9557497851268671,0.9524709943151436,0.9471152327161333,0.9474286692832811,0.9279370349579781,0.8926280594900717,0.8694479872885645,0.8547226482222399,0.8387272324673581,0.8386497485189539,0.8386497485189539],\"type\":\"bar\"},{\"name\":\"Test RMSE\",\"opacity\":0.3,\"x\":[\"1\",\"2\",\"3\",\"4\",\"5\",\"6\",\"7\",\"8\",\"9\",\"10\",\"11\",\"Ridge(alpha=0.5)\",\"Ridge(alpha_best)\"],\"y\":[1.027433608864375,0.98914593180018,0.9898665549264807,0.9832452289843855,0.9742010877366526,0.9743415525612351,0.9528718073886652,0.9105693932339755,0.8973434063184984,0.8772701537957615,0.8594058872617306,0.8592716195773854,0.8592716195773854],\"type\":\"bar\"}],                        {\"template\":{\"data\":{\"histogram2dcontour\":[{\"type\":\"histogram2dcontour\",\"colorbar\":{\"outlinewidth\":0,\"ticks\":\"\"},\"colorscale\":[[0.0,\"#0d0887\"],[0.1111111111111111,\"#46039f\"],[0.2222222222222222,\"#7201a8\"],[0.3333333333333333,\"#9c179e\"],[0.4444444444444444,\"#bd3786\"],[0.5555555555555556,\"#d8576b\"],[0.6666666666666666,\"#ed7953\"],[0.7777777777777778,\"#fb9f3a\"],[0.8888888888888888,\"#fdca26\"],[1.0,\"#f0f921\"]]}],\"choropleth\":[{\"type\":\"choropleth\",\"colorbar\":{\"outlinewidth\":0,\"ticks\":\"\"}}],\"histogram2d\":[{\"type\":\"histogram2d\",\"colorbar\":{\"outlinewidth\":0,\"ticks\":\"\"},\"colorscale\":[[0.0,\"#0d0887\"],[0.1111111111111111,\"#46039f\"],[0.2222222222222222,\"#7201a8\"],[0.3333333333333333,\"#9c179e\"],[0.4444444444444444,\"#bd3786\"],[0.5555555555555556,\"#d8576b\"],[0.6666666666666666,\"#ed7953\"],[0.7777777777777778,\"#fb9f3a\"],[0.8888888888888888,\"#fdca26\"],[1.0,\"#f0f921\"]]}],\"heatmap\":[{\"type\":\"heatmap\",\"colorbar\":{\"outlinewidth\":0,\"ticks\":\"\"},\"colorscale\":[[0.0,\"#0d0887\"],[0.1111111111111111,\"#46039f\"],[0.2222222222222222,\"#7201a8\"],[0.3333333333333333,\"#9c179e\"],[0.4444444444444444,\"#bd3786\"],[0.5555555555555556,\"#d8576b\"],[0.6666666666666666,\"#ed7953\"],[0.7777777777777778,\"#fb9f3a\"],[0.8888888888888888,\"#fdca26\"],[1.0,\"#f0f921\"]]}],\"heatmapgl\":[{\"type\":\"heatmapgl\",\"colorbar\":{\"outlinewidth\":0,\"ticks\":\"\"},\"colorscale\":[[0.0,\"#0d0887\"],[0.1111111111111111,\"#46039f\"],[0.2222222222222222,\"#7201a8\"],[0.3333333333333333,\"#9c179e\"],[0.4444444444444444,\"#bd3786\"],[0.5555555555555556,\"#d8576b\"],[0.6666666666666666,\"#ed7953\"],[0.7777777777777778,\"#fb9f3a\"],[0.8888888888888888,\"#fdca26\"],[1.0,\"#f0f921\"]]}],\"contourcarpet\":[{\"type\":\"contourcarpet\",\"colorbar\":{\"outlinewidth\":0,\"ticks\":\"\"}}],\"contour\":[{\"type\":\"contour\",\"colorbar\":{\"outlinewidth\":0,\"ticks\":\"\"},\"colorscale\":[[0.0,\"#0d0887\"],[0.1111111111111111,\"#46039f\"],[0.2222222222222222,\"#7201a8\"],[0.3333333333333333,\"#9c179e\"],[0.4444444444444444,\"#bd3786\"],[0.5555555555555556,\"#d8576b\"],[0.6666666666666666,\"#ed7953\"],[0.7777777777777778,\"#fb9f3a\"],[0.8888888888888888,\"#fdca26\"],[1.0,\"#f0f921\"]]}],\"surface\":[{\"type\":\"surface\",\"colorbar\":{\"outlinewidth\":0,\"ticks\":\"\"},\"colorscale\":[[0.0,\"#0d0887\"],[0.1111111111111111,\"#46039f\"],[0.2222222222222222,\"#7201a8\"],[0.3333333333333333,\"#9c179e\"],[0.4444444444444444,\"#bd3786\"],[0.5555555555555556,\"#d8576b\"],[0.6666666666666666,\"#ed7953\"],[0.7777777777777778,\"#fb9f3a\"],[0.8888888888888888,\"#fdca26\"],[1.0,\"#f0f921\"]]}],\"mesh3d\":[{\"type\":\"mesh3d\",\"colorbar\":{\"outlinewidth\":0,\"ticks\":\"\"}}],\"scatter\":[{\"fillpattern\":{\"fillmode\":\"overlay\",\"size\":10,\"solidity\":0.2},\"type\":\"scatter\"}],\"parcoords\":[{\"type\":\"parcoords\",\"line\":{\"colorbar\":{\"outlinewidth\":0,\"ticks\":\"\"}}}],\"scatterpolargl\":[{\"type\":\"scatterpolargl\",\"marker\":{\"colorbar\":{\"outlinewidth\":0,\"ticks\":\"\"}}}],\"bar\":[{\"error_x\":{\"color\":\"#2a3f5f\"},\"error_y\":{\"color\":\"#2a3f5f\"},\"marker\":{\"line\":{\"color\":\"#E5ECF6\",\"width\":0.5},\"pattern\":{\"fillmode\":\"overlay\",\"size\":10,\"solidity\":0.2}},\"type\":\"bar\"}],\"scattergeo\":[{\"type\":\"scattergeo\",\"marker\":{\"colorbar\":{\"outlinewidth\":0,\"ticks\":\"\"}}}],\"scatterpolar\":[{\"type\":\"scatterpolar\",\"marker\":{\"colorbar\":{\"outlinewidth\":0,\"ticks\":\"\"}}}],\"histogram\":[{\"marker\":{\"pattern\":{\"fillmode\":\"overlay\",\"size\":10,\"solidity\":0.2}},\"type\":\"histogram\"}],\"scattergl\":[{\"type\":\"scattergl\",\"marker\":{\"colorbar\":{\"outlinewidth\":0,\"ticks\":\"\"}}}],\"scatter3d\":[{\"type\":\"scatter3d\",\"line\":{\"colorbar\":{\"outlinewidth\":0,\"ticks\":\"\"}},\"marker\":{\"colorbar\":{\"outlinewidth\":0,\"ticks\":\"\"}}}],\"scattermapbox\":[{\"type\":\"scattermapbox\",\"marker\":{\"colorbar\":{\"outlinewidth\":0,\"ticks\":\"\"}}}],\"scatterternary\":[{\"type\":\"scatterternary\",\"marker\":{\"colorbar\":{\"outlinewidth\":0,\"ticks\":\"\"}}}],\"scattercarpet\":[{\"type\":\"scattercarpet\",\"marker\":{\"colorbar\":{\"outlinewidth\":0,\"ticks\":\"\"}}}],\"carpet\":[{\"aaxis\":{\"endlinecolor\":\"#2a3f5f\",\"gridcolor\":\"white\",\"linecolor\":\"white\",\"minorgridcolor\":\"white\",\"startlinecolor\":\"#2a3f5f\"},\"baxis\":{\"endlinecolor\":\"#2a3f5f\",\"gridcolor\":\"white\",\"linecolor\":\"white\",\"minorgridcolor\":\"white\",\"startlinecolor\":\"#2a3f5f\"},\"type\":\"carpet\"}],\"table\":[{\"cells\":{\"fill\":{\"color\":\"#EBF0F8\"},\"line\":{\"color\":\"white\"}},\"header\":{\"fill\":{\"color\":\"#C8D4E3\"},\"line\":{\"color\":\"white\"}},\"type\":\"table\"}],\"barpolar\":[{\"marker\":{\"line\":{\"color\":\"#E5ECF6\",\"width\":0.5},\"pattern\":{\"fillmode\":\"overlay\",\"size\":10,\"solidity\":0.2}},\"type\":\"barpolar\"}],\"pie\":[{\"automargin\":true,\"type\":\"pie\"}]},\"layout\":{\"autotypenumbers\":\"strict\",\"colorway\":[\"#636efa\",\"#EF553B\",\"#00cc96\",\"#ab63fa\",\"#FFA15A\",\"#19d3f3\",\"#FF6692\",\"#B6E880\",\"#FF97FF\",\"#FECB52\"],\"font\":{\"color\":\"#2a3f5f\"},\"hovermode\":\"closest\",\"hoverlabel\":{\"align\":\"left\"},\"paper_bgcolor\":\"white\",\"plot_bgcolor\":\"#E5ECF6\",\"polar\":{\"bgcolor\":\"#E5ECF6\",\"angularaxis\":{\"gridcolor\":\"white\",\"linecolor\":\"white\",\"ticks\":\"\"},\"radialaxis\":{\"gridcolor\":\"white\",\"linecolor\":\"white\",\"ticks\":\"\"}},\"ternary\":{\"bgcolor\":\"#E5ECF6\",\"aaxis\":{\"gridcolor\":\"white\",\"linecolor\":\"white\",\"ticks\":\"\"},\"baxis\":{\"gridcolor\":\"white\",\"linecolor\":\"white\",\"ticks\":\"\"},\"caxis\":{\"gridcolor\":\"white\",\"linecolor\":\"white\",\"ticks\":\"\"}},\"coloraxis\":{\"colorbar\":{\"outlinewidth\":0,\"ticks\":\"\"}},\"colorscale\":{\"sequential\":[[0.0,\"#0d0887\"],[0.1111111111111111,\"#46039f\"],[0.2222222222222222,\"#7201a8\"],[0.3333333333333333,\"#9c179e\"],[0.4444444444444444,\"#bd3786\"],[0.5555555555555556,\"#d8576b\"],[0.6666666666666666,\"#ed7953\"],[0.7777777777777778,\"#fb9f3a\"],[0.8888888888888888,\"#fdca26\"],[1.0,\"#f0f921\"]],\"sequentialminus\":[[0.0,\"#0d0887\"],[0.1111111111111111,\"#46039f\"],[0.2222222222222222,\"#7201a8\"],[0.3333333333333333,\"#9c179e\"],[0.4444444444444444,\"#bd3786\"],[0.5555555555555556,\"#d8576b\"],[0.6666666666666666,\"#ed7953\"],[0.7777777777777778,\"#fb9f3a\"],[0.8888888888888888,\"#fdca26\"],[1.0,\"#f0f921\"]],\"diverging\":[[0,\"#8e0152\"],[0.1,\"#c51b7d\"],[0.2,\"#de77ae\"],[0.3,\"#f1b6da\"],[0.4,\"#fde0ef\"],[0.5,\"#f7f7f7\"],[0.6,\"#e6f5d0\"],[0.7,\"#b8e186\"],[0.8,\"#7fbc41\"],[0.9,\"#4d9221\"],[1,\"#276419\"]]},\"xaxis\":{\"gridcolor\":\"white\",\"linecolor\":\"white\",\"ticks\":\"\",\"title\":{\"standoff\":15},\"zerolinecolor\":\"white\",\"automargin\":true,\"zerolinewidth\":2},\"yaxis\":{\"gridcolor\":\"white\",\"linecolor\":\"white\",\"ticks\":\"\",\"title\":{\"standoff\":15},\"zerolinecolor\":\"white\",\"automargin\":true,\"zerolinewidth\":2},\"scene\":{\"xaxis\":{\"backgroundcolor\":\"#E5ECF6\",\"gridcolor\":\"white\",\"linecolor\":\"white\",\"showbackground\":true,\"ticks\":\"\",\"zerolinecolor\":\"white\",\"gridwidth\":2},\"yaxis\":{\"backgroundcolor\":\"#E5ECF6\",\"gridcolor\":\"white\",\"linecolor\":\"white\",\"showbackground\":true,\"ticks\":\"\",\"zerolinecolor\":\"white\",\"gridwidth\":2},\"zaxis\":{\"backgroundcolor\":\"#E5ECF6\",\"gridcolor\":\"white\",\"linecolor\":\"white\",\"showbackground\":true,\"ticks\":\"\",\"zerolinecolor\":\"white\",\"gridwidth\":2}},\"shapedefaults\":{\"line\":{\"color\":\"#2a3f5f\"}},\"annotationdefaults\":{\"arrowcolor\":\"#2a3f5f\",\"arrowhead\":0,\"arrowwidth\":1},\"geo\":{\"bgcolor\":\"white\",\"landcolor\":\"#E5ECF6\",\"subunitcolor\":\"white\",\"showland\":true,\"showlakes\":true,\"lakecolor\":\"white\"},\"title\":{\"x\":0.05},\"mapbox\":{\"style\":\"light\"}}},\"xaxis\":{\"title\":{\"text\":\"Number of Variables\"}},\"yaxis\":{\"title\":{\"text\":\"RMSE\"}}},                        {\"responsive\": true}                    ).then(function(){\n",
       "                            \n",
       "var gd = document.getElementById('442a467a-c8f7-4b5f-afd2-fb477f8a22db');\n",
       "var x = new MutationObserver(function (mutations, observer) {{\n",
       "        var display = window.getComputedStyle(gd).display;\n",
       "        if (!display || display === 'none') {{\n",
       "            console.log([gd, 'removed!']);\n",
       "            Plotly.purge(gd);\n",
       "            observer.disconnect();\n",
       "        }}\n",
       "}});\n",
       "\n",
       "// Listen for the removal of the full notebook cells\n",
       "var notebookContainer = gd.closest('#notebook-container');\n",
       "if (notebookContainer) {{\n",
       "    x.observe(notebookContainer, {childList: true});\n",
       "}}\n",
       "\n",
       "// Listen for the clearing of the current output cell\n",
       "var outputEl = gd.closest('.output');\n",
       "if (outputEl) {{\n",
       "    x.observe(outputEl, {childList: true});\n",
       "}}\n",
       "\n",
       "                        })                };                });            </script>        </div>"
      ]
     },
     "metadata": {},
     "output_type": "display_data"
    }
   ],
   "source": [
    "best_alpha = alphas[np.argmin(cv_values)]\n",
    "ridge_model.set_params(LinearModel__alpha=best_alpha)\n",
    "ridge_model.fit(tr, tr['quality'])\n",
    "models[\"Ridge(alpha_best)\"] = ridge_model\n",
    "compare_models(models)"
   ]
  },
  {
   "cell_type": "markdown",
   "id": "98087ead",
   "metadata": {},
   "source": [
    "### Ridge CV"
   ]
  },
  {
   "cell_type": "code",
   "execution_count": 147,
   "id": "c3f07109",
   "metadata": {},
   "outputs": [
    {
     "data": {
      "application/vnd.plotly.v1+json": {
       "config": {
        "plotlyServerURL": "https://plot.ly"
       },
       "data": [
        {
         "name": "Training RMSE",
         "type": "bar",
         "x": [
          "1",
          "2",
          "3",
          "4",
          "5",
          "6",
          "7",
          "8",
          "9",
          "10",
          "11",
          "Ridge(alpha=0.5)",
          "Ridge(alpha_best)",
          "RidgeCV"
         ],
         "y": [
          0.9867597184152926,
          0.9553456842095448,
          0.955136159147521,
          0.9515528582803472,
          0.9458031955274434,
          0.9455867940371975,
          0.9259455301454893,
          0.8902595120481971,
          0.8666492687340537,
          0.8515798757231956,
          0.8357178662188384,
          0.8357338639155634,
          0.8357338639155634,
          0.8357182744242196
         ]
        },
        {
         "name": "CV RMSE",
         "type": "bar",
         "x": [
          "1",
          "2",
          "3",
          "4",
          "5",
          "6",
          "7",
          "8",
          "9",
          "10",
          "11",
          "Ridge(alpha=0.5)",
          "Ridge(alpha_best)",
          "RidgeCV"
         ],
         "y": [
          0.9870150638085813,
          0.9556756271247556,
          0.9557497851268671,
          0.9524709943151436,
          0.9471152327161333,
          0.9474286692832811,
          0.9279370349579781,
          0.8926280594900717,
          0.8694479872885645,
          0.8547226482222399,
          0.8387272324673581,
          0.8386497485189539,
          0.8386497485189539,
          0.8387116565714601
         ]
        },
        {
         "name": "Test RMSE",
         "opacity": 0.3,
         "type": "bar",
         "x": [
          "1",
          "2",
          "3",
          "4",
          "5",
          "6",
          "7",
          "8",
          "9",
          "10",
          "11",
          "Ridge(alpha=0.5)",
          "Ridge(alpha_best)",
          "RidgeCV"
         ],
         "y": [
          1.027433608864375,
          0.98914593180018,
          0.9898665549264807,
          0.9832452289843855,
          0.9742010877366526,
          0.9743415525612351,
          0.9528718073886652,
          0.9105693932339755,
          0.8973434063184984,
          0.8772701537957615,
          0.8594058872617306,
          0.8592716195773854,
          0.8592716195773854,
          0.8593819587111692
         ]
        }
       ],
       "layout": {
        "template": {
         "data": {
          "bar": [
           {
            "error_x": {
             "color": "#2a3f5f"
            },
            "error_y": {
             "color": "#2a3f5f"
            },
            "marker": {
             "line": {
              "color": "#E5ECF6",
              "width": 0.5
             },
             "pattern": {
              "fillmode": "overlay",
              "size": 10,
              "solidity": 0.2
             }
            },
            "type": "bar"
           }
          ],
          "barpolar": [
           {
            "marker": {
             "line": {
              "color": "#E5ECF6",
              "width": 0.5
             },
             "pattern": {
              "fillmode": "overlay",
              "size": 10,
              "solidity": 0.2
             }
            },
            "type": "barpolar"
           }
          ],
          "carpet": [
           {
            "aaxis": {
             "endlinecolor": "#2a3f5f",
             "gridcolor": "white",
             "linecolor": "white",
             "minorgridcolor": "white",
             "startlinecolor": "#2a3f5f"
            },
            "baxis": {
             "endlinecolor": "#2a3f5f",
             "gridcolor": "white",
             "linecolor": "white",
             "minorgridcolor": "white",
             "startlinecolor": "#2a3f5f"
            },
            "type": "carpet"
           }
          ],
          "choropleth": [
           {
            "colorbar": {
             "outlinewidth": 0,
             "ticks": ""
            },
            "type": "choropleth"
           }
          ],
          "contour": [
           {
            "colorbar": {
             "outlinewidth": 0,
             "ticks": ""
            },
            "colorscale": [
             [
              0,
              "#0d0887"
             ],
             [
              0.1111111111111111,
              "#46039f"
             ],
             [
              0.2222222222222222,
              "#7201a8"
             ],
             [
              0.3333333333333333,
              "#9c179e"
             ],
             [
              0.4444444444444444,
              "#bd3786"
             ],
             [
              0.5555555555555556,
              "#d8576b"
             ],
             [
              0.6666666666666666,
              "#ed7953"
             ],
             [
              0.7777777777777778,
              "#fb9f3a"
             ],
             [
              0.8888888888888888,
              "#fdca26"
             ],
             [
              1,
              "#f0f921"
             ]
            ],
            "type": "contour"
           }
          ],
          "contourcarpet": [
           {
            "colorbar": {
             "outlinewidth": 0,
             "ticks": ""
            },
            "type": "contourcarpet"
           }
          ],
          "heatmap": [
           {
            "colorbar": {
             "outlinewidth": 0,
             "ticks": ""
            },
            "colorscale": [
             [
              0,
              "#0d0887"
             ],
             [
              0.1111111111111111,
              "#46039f"
             ],
             [
              0.2222222222222222,
              "#7201a8"
             ],
             [
              0.3333333333333333,
              "#9c179e"
             ],
             [
              0.4444444444444444,
              "#bd3786"
             ],
             [
              0.5555555555555556,
              "#d8576b"
             ],
             [
              0.6666666666666666,
              "#ed7953"
             ],
             [
              0.7777777777777778,
              "#fb9f3a"
             ],
             [
              0.8888888888888888,
              "#fdca26"
             ],
             [
              1,
              "#f0f921"
             ]
            ],
            "type": "heatmap"
           }
          ],
          "heatmapgl": [
           {
            "colorbar": {
             "outlinewidth": 0,
             "ticks": ""
            },
            "colorscale": [
             [
              0,
              "#0d0887"
             ],
             [
              0.1111111111111111,
              "#46039f"
             ],
             [
              0.2222222222222222,
              "#7201a8"
             ],
             [
              0.3333333333333333,
              "#9c179e"
             ],
             [
              0.4444444444444444,
              "#bd3786"
             ],
             [
              0.5555555555555556,
              "#d8576b"
             ],
             [
              0.6666666666666666,
              "#ed7953"
             ],
             [
              0.7777777777777778,
              "#fb9f3a"
             ],
             [
              0.8888888888888888,
              "#fdca26"
             ],
             [
              1,
              "#f0f921"
             ]
            ],
            "type": "heatmapgl"
           }
          ],
          "histogram": [
           {
            "marker": {
             "pattern": {
              "fillmode": "overlay",
              "size": 10,
              "solidity": 0.2
             }
            },
            "type": "histogram"
           }
          ],
          "histogram2d": [
           {
            "colorbar": {
             "outlinewidth": 0,
             "ticks": ""
            },
            "colorscale": [
             [
              0,
              "#0d0887"
             ],
             [
              0.1111111111111111,
              "#46039f"
             ],
             [
              0.2222222222222222,
              "#7201a8"
             ],
             [
              0.3333333333333333,
              "#9c179e"
             ],
             [
              0.4444444444444444,
              "#bd3786"
             ],
             [
              0.5555555555555556,
              "#d8576b"
             ],
             [
              0.6666666666666666,
              "#ed7953"
             ],
             [
              0.7777777777777778,
              "#fb9f3a"
             ],
             [
              0.8888888888888888,
              "#fdca26"
             ],
             [
              1,
              "#f0f921"
             ]
            ],
            "type": "histogram2d"
           }
          ],
          "histogram2dcontour": [
           {
            "colorbar": {
             "outlinewidth": 0,
             "ticks": ""
            },
            "colorscale": [
             [
              0,
              "#0d0887"
             ],
             [
              0.1111111111111111,
              "#46039f"
             ],
             [
              0.2222222222222222,
              "#7201a8"
             ],
             [
              0.3333333333333333,
              "#9c179e"
             ],
             [
              0.4444444444444444,
              "#bd3786"
             ],
             [
              0.5555555555555556,
              "#d8576b"
             ],
             [
              0.6666666666666666,
              "#ed7953"
             ],
             [
              0.7777777777777778,
              "#fb9f3a"
             ],
             [
              0.8888888888888888,
              "#fdca26"
             ],
             [
              1,
              "#f0f921"
             ]
            ],
            "type": "histogram2dcontour"
           }
          ],
          "mesh3d": [
           {
            "colorbar": {
             "outlinewidth": 0,
             "ticks": ""
            },
            "type": "mesh3d"
           }
          ],
          "parcoords": [
           {
            "line": {
             "colorbar": {
              "outlinewidth": 0,
              "ticks": ""
             }
            },
            "type": "parcoords"
           }
          ],
          "pie": [
           {
            "automargin": true,
            "type": "pie"
           }
          ],
          "scatter": [
           {
            "fillpattern": {
             "fillmode": "overlay",
             "size": 10,
             "solidity": 0.2
            },
            "type": "scatter"
           }
          ],
          "scatter3d": [
           {
            "line": {
             "colorbar": {
              "outlinewidth": 0,
              "ticks": ""
             }
            },
            "marker": {
             "colorbar": {
              "outlinewidth": 0,
              "ticks": ""
             }
            },
            "type": "scatter3d"
           }
          ],
          "scattercarpet": [
           {
            "marker": {
             "colorbar": {
              "outlinewidth": 0,
              "ticks": ""
             }
            },
            "type": "scattercarpet"
           }
          ],
          "scattergeo": [
           {
            "marker": {
             "colorbar": {
              "outlinewidth": 0,
              "ticks": ""
             }
            },
            "type": "scattergeo"
           }
          ],
          "scattergl": [
           {
            "marker": {
             "colorbar": {
              "outlinewidth": 0,
              "ticks": ""
             }
            },
            "type": "scattergl"
           }
          ],
          "scattermapbox": [
           {
            "marker": {
             "colorbar": {
              "outlinewidth": 0,
              "ticks": ""
             }
            },
            "type": "scattermapbox"
           }
          ],
          "scatterpolar": [
           {
            "marker": {
             "colorbar": {
              "outlinewidth": 0,
              "ticks": ""
             }
            },
            "type": "scatterpolar"
           }
          ],
          "scatterpolargl": [
           {
            "marker": {
             "colorbar": {
              "outlinewidth": 0,
              "ticks": ""
             }
            },
            "type": "scatterpolargl"
           }
          ],
          "scatterternary": [
           {
            "marker": {
             "colorbar": {
              "outlinewidth": 0,
              "ticks": ""
             }
            },
            "type": "scatterternary"
           }
          ],
          "surface": [
           {
            "colorbar": {
             "outlinewidth": 0,
             "ticks": ""
            },
            "colorscale": [
             [
              0,
              "#0d0887"
             ],
             [
              0.1111111111111111,
              "#46039f"
             ],
             [
              0.2222222222222222,
              "#7201a8"
             ],
             [
              0.3333333333333333,
              "#9c179e"
             ],
             [
              0.4444444444444444,
              "#bd3786"
             ],
             [
              0.5555555555555556,
              "#d8576b"
             ],
             [
              0.6666666666666666,
              "#ed7953"
             ],
             [
              0.7777777777777778,
              "#fb9f3a"
             ],
             [
              0.8888888888888888,
              "#fdca26"
             ],
             [
              1,
              "#f0f921"
             ]
            ],
            "type": "surface"
           }
          ],
          "table": [
           {
            "cells": {
             "fill": {
              "color": "#EBF0F8"
             },
             "line": {
              "color": "white"
             }
            },
            "header": {
             "fill": {
              "color": "#C8D4E3"
             },
             "line": {
              "color": "white"
             }
            },
            "type": "table"
           }
          ]
         },
         "layout": {
          "annotationdefaults": {
           "arrowcolor": "#2a3f5f",
           "arrowhead": 0,
           "arrowwidth": 1
          },
          "autotypenumbers": "strict",
          "coloraxis": {
           "colorbar": {
            "outlinewidth": 0,
            "ticks": ""
           }
          },
          "colorscale": {
           "diverging": [
            [
             0,
             "#8e0152"
            ],
            [
             0.1,
             "#c51b7d"
            ],
            [
             0.2,
             "#de77ae"
            ],
            [
             0.3,
             "#f1b6da"
            ],
            [
             0.4,
             "#fde0ef"
            ],
            [
             0.5,
             "#f7f7f7"
            ],
            [
             0.6,
             "#e6f5d0"
            ],
            [
             0.7,
             "#b8e186"
            ],
            [
             0.8,
             "#7fbc41"
            ],
            [
             0.9,
             "#4d9221"
            ],
            [
             1,
             "#276419"
            ]
           ],
           "sequential": [
            [
             0,
             "#0d0887"
            ],
            [
             0.1111111111111111,
             "#46039f"
            ],
            [
             0.2222222222222222,
             "#7201a8"
            ],
            [
             0.3333333333333333,
             "#9c179e"
            ],
            [
             0.4444444444444444,
             "#bd3786"
            ],
            [
             0.5555555555555556,
             "#d8576b"
            ],
            [
             0.6666666666666666,
             "#ed7953"
            ],
            [
             0.7777777777777778,
             "#fb9f3a"
            ],
            [
             0.8888888888888888,
             "#fdca26"
            ],
            [
             1,
             "#f0f921"
            ]
           ],
           "sequentialminus": [
            [
             0,
             "#0d0887"
            ],
            [
             0.1111111111111111,
             "#46039f"
            ],
            [
             0.2222222222222222,
             "#7201a8"
            ],
            [
             0.3333333333333333,
             "#9c179e"
            ],
            [
             0.4444444444444444,
             "#bd3786"
            ],
            [
             0.5555555555555556,
             "#d8576b"
            ],
            [
             0.6666666666666666,
             "#ed7953"
            ],
            [
             0.7777777777777778,
             "#fb9f3a"
            ],
            [
             0.8888888888888888,
             "#fdca26"
            ],
            [
             1,
             "#f0f921"
            ]
           ]
          },
          "colorway": [
           "#636efa",
           "#EF553B",
           "#00cc96",
           "#ab63fa",
           "#FFA15A",
           "#19d3f3",
           "#FF6692",
           "#B6E880",
           "#FF97FF",
           "#FECB52"
          ],
          "font": {
           "color": "#2a3f5f"
          },
          "geo": {
           "bgcolor": "white",
           "lakecolor": "white",
           "landcolor": "#E5ECF6",
           "showlakes": true,
           "showland": true,
           "subunitcolor": "white"
          },
          "hoverlabel": {
           "align": "left"
          },
          "hovermode": "closest",
          "mapbox": {
           "style": "light"
          },
          "paper_bgcolor": "white",
          "plot_bgcolor": "#E5ECF6",
          "polar": {
           "angularaxis": {
            "gridcolor": "white",
            "linecolor": "white",
            "ticks": ""
           },
           "bgcolor": "#E5ECF6",
           "radialaxis": {
            "gridcolor": "white",
            "linecolor": "white",
            "ticks": ""
           }
          },
          "scene": {
           "xaxis": {
            "backgroundcolor": "#E5ECF6",
            "gridcolor": "white",
            "gridwidth": 2,
            "linecolor": "white",
            "showbackground": true,
            "ticks": "",
            "zerolinecolor": "white"
           },
           "yaxis": {
            "backgroundcolor": "#E5ECF6",
            "gridcolor": "white",
            "gridwidth": 2,
            "linecolor": "white",
            "showbackground": true,
            "ticks": "",
            "zerolinecolor": "white"
           },
           "zaxis": {
            "backgroundcolor": "#E5ECF6",
            "gridcolor": "white",
            "gridwidth": 2,
            "linecolor": "white",
            "showbackground": true,
            "ticks": "",
            "zerolinecolor": "white"
           }
          },
          "shapedefaults": {
           "line": {
            "color": "#2a3f5f"
           }
          },
          "ternary": {
           "aaxis": {
            "gridcolor": "white",
            "linecolor": "white",
            "ticks": ""
           },
           "baxis": {
            "gridcolor": "white",
            "linecolor": "white",
            "ticks": ""
           },
           "bgcolor": "#E5ECF6",
           "caxis": {
            "gridcolor": "white",
            "linecolor": "white",
            "ticks": ""
           }
          },
          "title": {
           "x": 0.05
          },
          "xaxis": {
           "automargin": true,
           "gridcolor": "white",
           "linecolor": "white",
           "ticks": "",
           "title": {
            "standoff": 15
           },
           "zerolinecolor": "white",
           "zerolinewidth": 2
          },
          "yaxis": {
           "automargin": true,
           "gridcolor": "white",
           "linecolor": "white",
           "ticks": "",
           "title": {
            "standoff": 15
           },
           "zerolinecolor": "white",
           "zerolinewidth": 2
          }
         }
        },
        "xaxis": {
         "title": {
          "text": "Number of Variables"
         }
        },
        "yaxis": {
         "title": {
          "text": "RMSE"
         }
        }
       }
      },
      "text/html": [
       "<div>                            <div id=\"7db43745-2683-4725-bced-4a3686ceec9a\" class=\"plotly-graph-div\" style=\"height:525px; width:100%;\"></div>            <script type=\"text/javascript\">                require([\"plotly\"], function(Plotly) {                    window.PLOTLYENV=window.PLOTLYENV || {};                                    if (document.getElementById(\"7db43745-2683-4725-bced-4a3686ceec9a\")) {                    Plotly.newPlot(                        \"7db43745-2683-4725-bced-4a3686ceec9a\",                        [{\"name\":\"Training RMSE\",\"x\":[\"1\",\"2\",\"3\",\"4\",\"5\",\"6\",\"7\",\"8\",\"9\",\"10\",\"11\",\"Ridge(alpha=0.5)\",\"Ridge(alpha_best)\",\"RidgeCV\"],\"y\":[0.9867597184152926,0.9553456842095448,0.955136159147521,0.9515528582803472,0.9458031955274434,0.9455867940371975,0.9259455301454893,0.8902595120481971,0.8666492687340537,0.8515798757231956,0.8357178662188384,0.8357338639155634,0.8357338639155634,0.8357182744242196],\"type\":\"bar\"},{\"name\":\"CV RMSE\",\"x\":[\"1\",\"2\",\"3\",\"4\",\"5\",\"6\",\"7\",\"8\",\"9\",\"10\",\"11\",\"Ridge(alpha=0.5)\",\"Ridge(alpha_best)\",\"RidgeCV\"],\"y\":[0.9870150638085813,0.9556756271247556,0.9557497851268671,0.9524709943151436,0.9471152327161333,0.9474286692832811,0.9279370349579781,0.8926280594900717,0.8694479872885645,0.8547226482222399,0.8387272324673581,0.8386497485189539,0.8386497485189539,0.8387116565714601],\"type\":\"bar\"},{\"name\":\"Test RMSE\",\"opacity\":0.3,\"x\":[\"1\",\"2\",\"3\",\"4\",\"5\",\"6\",\"7\",\"8\",\"9\",\"10\",\"11\",\"Ridge(alpha=0.5)\",\"Ridge(alpha_best)\",\"RidgeCV\"],\"y\":[1.027433608864375,0.98914593180018,0.9898665549264807,0.9832452289843855,0.9742010877366526,0.9743415525612351,0.9528718073886652,0.9105693932339755,0.8973434063184984,0.8772701537957615,0.8594058872617306,0.8592716195773854,0.8592716195773854,0.8593819587111692],\"type\":\"bar\"}],                        {\"template\":{\"data\":{\"histogram2dcontour\":[{\"type\":\"histogram2dcontour\",\"colorbar\":{\"outlinewidth\":0,\"ticks\":\"\"},\"colorscale\":[[0.0,\"#0d0887\"],[0.1111111111111111,\"#46039f\"],[0.2222222222222222,\"#7201a8\"],[0.3333333333333333,\"#9c179e\"],[0.4444444444444444,\"#bd3786\"],[0.5555555555555556,\"#d8576b\"],[0.6666666666666666,\"#ed7953\"],[0.7777777777777778,\"#fb9f3a\"],[0.8888888888888888,\"#fdca26\"],[1.0,\"#f0f921\"]]}],\"choropleth\":[{\"type\":\"choropleth\",\"colorbar\":{\"outlinewidth\":0,\"ticks\":\"\"}}],\"histogram2d\":[{\"type\":\"histogram2d\",\"colorbar\":{\"outlinewidth\":0,\"ticks\":\"\"},\"colorscale\":[[0.0,\"#0d0887\"],[0.1111111111111111,\"#46039f\"],[0.2222222222222222,\"#7201a8\"],[0.3333333333333333,\"#9c179e\"],[0.4444444444444444,\"#bd3786\"],[0.5555555555555556,\"#d8576b\"],[0.6666666666666666,\"#ed7953\"],[0.7777777777777778,\"#fb9f3a\"],[0.8888888888888888,\"#fdca26\"],[1.0,\"#f0f921\"]]}],\"heatmap\":[{\"type\":\"heatmap\",\"colorbar\":{\"outlinewidth\":0,\"ticks\":\"\"},\"colorscale\":[[0.0,\"#0d0887\"],[0.1111111111111111,\"#46039f\"],[0.2222222222222222,\"#7201a8\"],[0.3333333333333333,\"#9c179e\"],[0.4444444444444444,\"#bd3786\"],[0.5555555555555556,\"#d8576b\"],[0.6666666666666666,\"#ed7953\"],[0.7777777777777778,\"#fb9f3a\"],[0.8888888888888888,\"#fdca26\"],[1.0,\"#f0f921\"]]}],\"heatmapgl\":[{\"type\":\"heatmapgl\",\"colorbar\":{\"outlinewidth\":0,\"ticks\":\"\"},\"colorscale\":[[0.0,\"#0d0887\"],[0.1111111111111111,\"#46039f\"],[0.2222222222222222,\"#7201a8\"],[0.3333333333333333,\"#9c179e\"],[0.4444444444444444,\"#bd3786\"],[0.5555555555555556,\"#d8576b\"],[0.6666666666666666,\"#ed7953\"],[0.7777777777777778,\"#fb9f3a\"],[0.8888888888888888,\"#fdca26\"],[1.0,\"#f0f921\"]]}],\"contourcarpet\":[{\"type\":\"contourcarpet\",\"colorbar\":{\"outlinewidth\":0,\"ticks\":\"\"}}],\"contour\":[{\"type\":\"contour\",\"colorbar\":{\"outlinewidth\":0,\"ticks\":\"\"},\"colorscale\":[[0.0,\"#0d0887\"],[0.1111111111111111,\"#46039f\"],[0.2222222222222222,\"#7201a8\"],[0.3333333333333333,\"#9c179e\"],[0.4444444444444444,\"#bd3786\"],[0.5555555555555556,\"#d8576b\"],[0.6666666666666666,\"#ed7953\"],[0.7777777777777778,\"#fb9f3a\"],[0.8888888888888888,\"#fdca26\"],[1.0,\"#f0f921\"]]}],\"surface\":[{\"type\":\"surface\",\"colorbar\":{\"outlinewidth\":0,\"ticks\":\"\"},\"colorscale\":[[0.0,\"#0d0887\"],[0.1111111111111111,\"#46039f\"],[0.2222222222222222,\"#7201a8\"],[0.3333333333333333,\"#9c179e\"],[0.4444444444444444,\"#bd3786\"],[0.5555555555555556,\"#d8576b\"],[0.6666666666666666,\"#ed7953\"],[0.7777777777777778,\"#fb9f3a\"],[0.8888888888888888,\"#fdca26\"],[1.0,\"#f0f921\"]]}],\"mesh3d\":[{\"type\":\"mesh3d\",\"colorbar\":{\"outlinewidth\":0,\"ticks\":\"\"}}],\"scatter\":[{\"fillpattern\":{\"fillmode\":\"overlay\",\"size\":10,\"solidity\":0.2},\"type\":\"scatter\"}],\"parcoords\":[{\"type\":\"parcoords\",\"line\":{\"colorbar\":{\"outlinewidth\":0,\"ticks\":\"\"}}}],\"scatterpolargl\":[{\"type\":\"scatterpolargl\",\"marker\":{\"colorbar\":{\"outlinewidth\":0,\"ticks\":\"\"}}}],\"bar\":[{\"error_x\":{\"color\":\"#2a3f5f\"},\"error_y\":{\"color\":\"#2a3f5f\"},\"marker\":{\"line\":{\"color\":\"#E5ECF6\",\"width\":0.5},\"pattern\":{\"fillmode\":\"overlay\",\"size\":10,\"solidity\":0.2}},\"type\":\"bar\"}],\"scattergeo\":[{\"type\":\"scattergeo\",\"marker\":{\"colorbar\":{\"outlinewidth\":0,\"ticks\":\"\"}}}],\"scatterpolar\":[{\"type\":\"scatterpolar\",\"marker\":{\"colorbar\":{\"outlinewidth\":0,\"ticks\":\"\"}}}],\"histogram\":[{\"marker\":{\"pattern\":{\"fillmode\":\"overlay\",\"size\":10,\"solidity\":0.2}},\"type\":\"histogram\"}],\"scattergl\":[{\"type\":\"scattergl\",\"marker\":{\"colorbar\":{\"outlinewidth\":0,\"ticks\":\"\"}}}],\"scatter3d\":[{\"type\":\"scatter3d\",\"line\":{\"colorbar\":{\"outlinewidth\":0,\"ticks\":\"\"}},\"marker\":{\"colorbar\":{\"outlinewidth\":0,\"ticks\":\"\"}}}],\"scattermapbox\":[{\"type\":\"scattermapbox\",\"marker\":{\"colorbar\":{\"outlinewidth\":0,\"ticks\":\"\"}}}],\"scatterternary\":[{\"type\":\"scatterternary\",\"marker\":{\"colorbar\":{\"outlinewidth\":0,\"ticks\":\"\"}}}],\"scattercarpet\":[{\"type\":\"scattercarpet\",\"marker\":{\"colorbar\":{\"outlinewidth\":0,\"ticks\":\"\"}}}],\"carpet\":[{\"aaxis\":{\"endlinecolor\":\"#2a3f5f\",\"gridcolor\":\"white\",\"linecolor\":\"white\",\"minorgridcolor\":\"white\",\"startlinecolor\":\"#2a3f5f\"},\"baxis\":{\"endlinecolor\":\"#2a3f5f\",\"gridcolor\":\"white\",\"linecolor\":\"white\",\"minorgridcolor\":\"white\",\"startlinecolor\":\"#2a3f5f\"},\"type\":\"carpet\"}],\"table\":[{\"cells\":{\"fill\":{\"color\":\"#EBF0F8\"},\"line\":{\"color\":\"white\"}},\"header\":{\"fill\":{\"color\":\"#C8D4E3\"},\"line\":{\"color\":\"white\"}},\"type\":\"table\"}],\"barpolar\":[{\"marker\":{\"line\":{\"color\":\"#E5ECF6\",\"width\":0.5},\"pattern\":{\"fillmode\":\"overlay\",\"size\":10,\"solidity\":0.2}},\"type\":\"barpolar\"}],\"pie\":[{\"automargin\":true,\"type\":\"pie\"}]},\"layout\":{\"autotypenumbers\":\"strict\",\"colorway\":[\"#636efa\",\"#EF553B\",\"#00cc96\",\"#ab63fa\",\"#FFA15A\",\"#19d3f3\",\"#FF6692\",\"#B6E880\",\"#FF97FF\",\"#FECB52\"],\"font\":{\"color\":\"#2a3f5f\"},\"hovermode\":\"closest\",\"hoverlabel\":{\"align\":\"left\"},\"paper_bgcolor\":\"white\",\"plot_bgcolor\":\"#E5ECF6\",\"polar\":{\"bgcolor\":\"#E5ECF6\",\"angularaxis\":{\"gridcolor\":\"white\",\"linecolor\":\"white\",\"ticks\":\"\"},\"radialaxis\":{\"gridcolor\":\"white\",\"linecolor\":\"white\",\"ticks\":\"\"}},\"ternary\":{\"bgcolor\":\"#E5ECF6\",\"aaxis\":{\"gridcolor\":\"white\",\"linecolor\":\"white\",\"ticks\":\"\"},\"baxis\":{\"gridcolor\":\"white\",\"linecolor\":\"white\",\"ticks\":\"\"},\"caxis\":{\"gridcolor\":\"white\",\"linecolor\":\"white\",\"ticks\":\"\"}},\"coloraxis\":{\"colorbar\":{\"outlinewidth\":0,\"ticks\":\"\"}},\"colorscale\":{\"sequential\":[[0.0,\"#0d0887\"],[0.1111111111111111,\"#46039f\"],[0.2222222222222222,\"#7201a8\"],[0.3333333333333333,\"#9c179e\"],[0.4444444444444444,\"#bd3786\"],[0.5555555555555556,\"#d8576b\"],[0.6666666666666666,\"#ed7953\"],[0.7777777777777778,\"#fb9f3a\"],[0.8888888888888888,\"#fdca26\"],[1.0,\"#f0f921\"]],\"sequentialminus\":[[0.0,\"#0d0887\"],[0.1111111111111111,\"#46039f\"],[0.2222222222222222,\"#7201a8\"],[0.3333333333333333,\"#9c179e\"],[0.4444444444444444,\"#bd3786\"],[0.5555555555555556,\"#d8576b\"],[0.6666666666666666,\"#ed7953\"],[0.7777777777777778,\"#fb9f3a\"],[0.8888888888888888,\"#fdca26\"],[1.0,\"#f0f921\"]],\"diverging\":[[0,\"#8e0152\"],[0.1,\"#c51b7d\"],[0.2,\"#de77ae\"],[0.3,\"#f1b6da\"],[0.4,\"#fde0ef\"],[0.5,\"#f7f7f7\"],[0.6,\"#e6f5d0\"],[0.7,\"#b8e186\"],[0.8,\"#7fbc41\"],[0.9,\"#4d9221\"],[1,\"#276419\"]]},\"xaxis\":{\"gridcolor\":\"white\",\"linecolor\":\"white\",\"ticks\":\"\",\"title\":{\"standoff\":15},\"zerolinecolor\":\"white\",\"automargin\":true,\"zerolinewidth\":2},\"yaxis\":{\"gridcolor\":\"white\",\"linecolor\":\"white\",\"ticks\":\"\",\"title\":{\"standoff\":15},\"zerolinecolor\":\"white\",\"automargin\":true,\"zerolinewidth\":2},\"scene\":{\"xaxis\":{\"backgroundcolor\":\"#E5ECF6\",\"gridcolor\":\"white\",\"linecolor\":\"white\",\"showbackground\":true,\"ticks\":\"\",\"zerolinecolor\":\"white\",\"gridwidth\":2},\"yaxis\":{\"backgroundcolor\":\"#E5ECF6\",\"gridcolor\":\"white\",\"linecolor\":\"white\",\"showbackground\":true,\"ticks\":\"\",\"zerolinecolor\":\"white\",\"gridwidth\":2},\"zaxis\":{\"backgroundcolor\":\"#E5ECF6\",\"gridcolor\":\"white\",\"linecolor\":\"white\",\"showbackground\":true,\"ticks\":\"\",\"zerolinecolor\":\"white\",\"gridwidth\":2}},\"shapedefaults\":{\"line\":{\"color\":\"#2a3f5f\"}},\"annotationdefaults\":{\"arrowcolor\":\"#2a3f5f\",\"arrowhead\":0,\"arrowwidth\":1},\"geo\":{\"bgcolor\":\"white\",\"landcolor\":\"#E5ECF6\",\"subunitcolor\":\"white\",\"showland\":true,\"showlakes\":true,\"lakecolor\":\"white\"},\"title\":{\"x\":0.05},\"mapbox\":{\"style\":\"light\"}}},\"xaxis\":{\"title\":{\"text\":\"Number of Variables\"}},\"yaxis\":{\"title\":{\"text\":\"RMSE\"}}},                        {\"responsive\": true}                    ).then(function(){\n",
       "                            \n",
       "var gd = document.getElementById('7db43745-2683-4725-bced-4a3686ceec9a');\n",
       "var x = new MutationObserver(function (mutations, observer) {{\n",
       "        var display = window.getComputedStyle(gd).display;\n",
       "        if (!display || display === 'none') {{\n",
       "            console.log([gd, 'removed!']);\n",
       "            Plotly.purge(gd);\n",
       "            observer.disconnect();\n",
       "        }}\n",
       "}});\n",
       "\n",
       "// Listen for the removal of the full notebook cells\n",
       "var notebookContainer = gd.closest('#notebook-container');\n",
       "if (notebookContainer) {{\n",
       "    x.observe(notebookContainer, {childList: true});\n",
       "}}\n",
       "\n",
       "// Listen for the clearing of the current output cell\n",
       "var outputEl = gd.closest('.output');\n",
       "if (outputEl) {{\n",
       "    x.observe(outputEl, {childList: true});\n",
       "}}\n",
       "\n",
       "                        })                };                });            </script>        </div>"
      ]
     },
     "metadata": {},
     "output_type": "display_data"
    }
   ],
   "source": [
    "alphas = np.linspace(0.5, 3, 30)\n",
    "\n",
    "ridge_model = Pipeline([\n",
    "    (\"SelectColumns\", ColumnTransformer([\n",
    "        (\"keep\", StandardScaler(), quantitative_features)\n",
    "    ])),\n",
    "    (\"LinearModel\", RidgeCV(alphas=alphas))\n",
    "])\n",
    "\n",
    "ridge_model.fit(tr, tr['quality'])\n",
    "models[\"RidgeCV\"] = ridge_model\n",
    "compare_models(models)"
   ]
  },
  {
   "cell_type": "markdown",
   "id": "a161e4d6",
   "metadata": {},
   "source": [
    "We use the ridgeCv value which will do cross validation but in order to calculate the red bar our plotting code actually calls the whole pipeline inside a cross validation loop. So at some point in the ridgeCV cross validation loop will run another cross validation loop  to choose the best alpha for each of the cross validation splits."
   ]
  },
  {
   "cell_type": "markdown",
   "id": "e8978674",
   "metadata": {},
   "source": [
    "## Lasso Regression"
   ]
  },
  {
   "cell_type": "markdown",
   "id": "48d5c1cf",
   "metadata": {},
   "source": [
    "Lasso regression is a type of linear regression that uses shrinkage. Shrinkage is where data values are shrunk towards a central point, like the mean. The lasso procedure encourages simple, sparse models (i.e. models with fewer parameters). This particular type of regression is well-suited for models showing high levels of muticollinearity or when you want to automate certain parts of model selection, like variable selection/parameter elimination.\n",
    "\n",
    "The acronym “LASSO” stands for Least Absolute Shrinkage and Selection Operator.\n",
    "\n",
    "https://www.statisticshowto.com/lasso-regression/"
   ]
  },
  {
   "cell_type": "code",
   "execution_count": 148,
   "id": "3987e205",
   "metadata": {},
   "outputs": [],
   "source": [
    "lasso_model = Pipeline([\n",
    "    (\"SelectColumns\", ColumnTransformer([\n",
    "        (\"keep\", StandardScaler(), quantitative_features)\n",
    "    ])),\n",
    "    (\"LinearModel\", LassoCV(cv=3))\n",
    "])"
   ]
  },
  {
   "cell_type": "code",
   "execution_count": 149,
   "id": "0d884055",
   "metadata": {},
   "outputs": [
    {
     "data": {
      "application/vnd.plotly.v1+json": {
       "config": {
        "plotlyServerURL": "https://plot.ly"
       },
       "data": [
        {
         "name": "Training RMSE",
         "type": "bar",
         "x": [
          "1",
          "2",
          "3",
          "4",
          "5",
          "6",
          "7",
          "8",
          "9",
          "10",
          "11",
          "Ridge(alpha=0.5)",
          "Ridge(alpha_best)",
          "RidgeCV",
          "LassoCV"
         ],
         "y": [
          0.9867597184152926,
          0.9553456842095448,
          0.955136159147521,
          0.9515528582803472,
          0.9458031955274434,
          0.9455867940371975,
          0.9259455301454893,
          0.8902595120481971,
          0.8666492687340537,
          0.8515798757231956,
          0.8357178662188384,
          0.8357338639155634,
          0.8357338639155634,
          0.8357182744242196,
          0.835757429400929
         ]
        },
        {
         "name": "CV RMSE",
         "type": "bar",
         "x": [
          "1",
          "2",
          "3",
          "4",
          "5",
          "6",
          "7",
          "8",
          "9",
          "10",
          "11",
          "Ridge(alpha=0.5)",
          "Ridge(alpha_best)",
          "RidgeCV",
          "LassoCV"
         ],
         "y": [
          0.9870150638085813,
          0.9556756271247556,
          0.9557497851268671,
          0.9524709943151436,
          0.9471152327161333,
          0.9474286692832811,
          0.9279370349579781,
          0.8926280594900717,
          0.8694479872885645,
          0.8547226482222399,
          0.8387272324673581,
          0.8386497485189539,
          0.8386497485189539,
          0.8387116565714601,
          0.8386153296380794
         ]
        },
        {
         "name": "Test RMSE",
         "opacity": 0.3,
         "type": "bar",
         "x": [
          "1",
          "2",
          "3",
          "4",
          "5",
          "6",
          "7",
          "8",
          "9",
          "10",
          "11",
          "Ridge(alpha=0.5)",
          "Ridge(alpha_best)",
          "RidgeCV",
          "LassoCV"
         ],
         "y": [
          1.027433608864375,
          0.98914593180018,
          0.9898665549264807,
          0.9832452289843855,
          0.9742010877366526,
          0.9743415525612351,
          0.9528718073886652,
          0.9105693932339755,
          0.8973434063184984,
          0.8772701537957615,
          0.8594058872617306,
          0.8592716195773854,
          0.8592716195773854,
          0.8593819587111692,
          0.8592382221571717
         ]
        }
       ],
       "layout": {
        "template": {
         "data": {
          "bar": [
           {
            "error_x": {
             "color": "#2a3f5f"
            },
            "error_y": {
             "color": "#2a3f5f"
            },
            "marker": {
             "line": {
              "color": "#E5ECF6",
              "width": 0.5
             },
             "pattern": {
              "fillmode": "overlay",
              "size": 10,
              "solidity": 0.2
             }
            },
            "type": "bar"
           }
          ],
          "barpolar": [
           {
            "marker": {
             "line": {
              "color": "#E5ECF6",
              "width": 0.5
             },
             "pattern": {
              "fillmode": "overlay",
              "size": 10,
              "solidity": 0.2
             }
            },
            "type": "barpolar"
           }
          ],
          "carpet": [
           {
            "aaxis": {
             "endlinecolor": "#2a3f5f",
             "gridcolor": "white",
             "linecolor": "white",
             "minorgridcolor": "white",
             "startlinecolor": "#2a3f5f"
            },
            "baxis": {
             "endlinecolor": "#2a3f5f",
             "gridcolor": "white",
             "linecolor": "white",
             "minorgridcolor": "white",
             "startlinecolor": "#2a3f5f"
            },
            "type": "carpet"
           }
          ],
          "choropleth": [
           {
            "colorbar": {
             "outlinewidth": 0,
             "ticks": ""
            },
            "type": "choropleth"
           }
          ],
          "contour": [
           {
            "colorbar": {
             "outlinewidth": 0,
             "ticks": ""
            },
            "colorscale": [
             [
              0,
              "#0d0887"
             ],
             [
              0.1111111111111111,
              "#46039f"
             ],
             [
              0.2222222222222222,
              "#7201a8"
             ],
             [
              0.3333333333333333,
              "#9c179e"
             ],
             [
              0.4444444444444444,
              "#bd3786"
             ],
             [
              0.5555555555555556,
              "#d8576b"
             ],
             [
              0.6666666666666666,
              "#ed7953"
             ],
             [
              0.7777777777777778,
              "#fb9f3a"
             ],
             [
              0.8888888888888888,
              "#fdca26"
             ],
             [
              1,
              "#f0f921"
             ]
            ],
            "type": "contour"
           }
          ],
          "contourcarpet": [
           {
            "colorbar": {
             "outlinewidth": 0,
             "ticks": ""
            },
            "type": "contourcarpet"
           }
          ],
          "heatmap": [
           {
            "colorbar": {
             "outlinewidth": 0,
             "ticks": ""
            },
            "colorscale": [
             [
              0,
              "#0d0887"
             ],
             [
              0.1111111111111111,
              "#46039f"
             ],
             [
              0.2222222222222222,
              "#7201a8"
             ],
             [
              0.3333333333333333,
              "#9c179e"
             ],
             [
              0.4444444444444444,
              "#bd3786"
             ],
             [
              0.5555555555555556,
              "#d8576b"
             ],
             [
              0.6666666666666666,
              "#ed7953"
             ],
             [
              0.7777777777777778,
              "#fb9f3a"
             ],
             [
              0.8888888888888888,
              "#fdca26"
             ],
             [
              1,
              "#f0f921"
             ]
            ],
            "type": "heatmap"
           }
          ],
          "heatmapgl": [
           {
            "colorbar": {
             "outlinewidth": 0,
             "ticks": ""
            },
            "colorscale": [
             [
              0,
              "#0d0887"
             ],
             [
              0.1111111111111111,
              "#46039f"
             ],
             [
              0.2222222222222222,
              "#7201a8"
             ],
             [
              0.3333333333333333,
              "#9c179e"
             ],
             [
              0.4444444444444444,
              "#bd3786"
             ],
             [
              0.5555555555555556,
              "#d8576b"
             ],
             [
              0.6666666666666666,
              "#ed7953"
             ],
             [
              0.7777777777777778,
              "#fb9f3a"
             ],
             [
              0.8888888888888888,
              "#fdca26"
             ],
             [
              1,
              "#f0f921"
             ]
            ],
            "type": "heatmapgl"
           }
          ],
          "histogram": [
           {
            "marker": {
             "pattern": {
              "fillmode": "overlay",
              "size": 10,
              "solidity": 0.2
             }
            },
            "type": "histogram"
           }
          ],
          "histogram2d": [
           {
            "colorbar": {
             "outlinewidth": 0,
             "ticks": ""
            },
            "colorscale": [
             [
              0,
              "#0d0887"
             ],
             [
              0.1111111111111111,
              "#46039f"
             ],
             [
              0.2222222222222222,
              "#7201a8"
             ],
             [
              0.3333333333333333,
              "#9c179e"
             ],
             [
              0.4444444444444444,
              "#bd3786"
             ],
             [
              0.5555555555555556,
              "#d8576b"
             ],
             [
              0.6666666666666666,
              "#ed7953"
             ],
             [
              0.7777777777777778,
              "#fb9f3a"
             ],
             [
              0.8888888888888888,
              "#fdca26"
             ],
             [
              1,
              "#f0f921"
             ]
            ],
            "type": "histogram2d"
           }
          ],
          "histogram2dcontour": [
           {
            "colorbar": {
             "outlinewidth": 0,
             "ticks": ""
            },
            "colorscale": [
             [
              0,
              "#0d0887"
             ],
             [
              0.1111111111111111,
              "#46039f"
             ],
             [
              0.2222222222222222,
              "#7201a8"
             ],
             [
              0.3333333333333333,
              "#9c179e"
             ],
             [
              0.4444444444444444,
              "#bd3786"
             ],
             [
              0.5555555555555556,
              "#d8576b"
             ],
             [
              0.6666666666666666,
              "#ed7953"
             ],
             [
              0.7777777777777778,
              "#fb9f3a"
             ],
             [
              0.8888888888888888,
              "#fdca26"
             ],
             [
              1,
              "#f0f921"
             ]
            ],
            "type": "histogram2dcontour"
           }
          ],
          "mesh3d": [
           {
            "colorbar": {
             "outlinewidth": 0,
             "ticks": ""
            },
            "type": "mesh3d"
           }
          ],
          "parcoords": [
           {
            "line": {
             "colorbar": {
              "outlinewidth": 0,
              "ticks": ""
             }
            },
            "type": "parcoords"
           }
          ],
          "pie": [
           {
            "automargin": true,
            "type": "pie"
           }
          ],
          "scatter": [
           {
            "fillpattern": {
             "fillmode": "overlay",
             "size": 10,
             "solidity": 0.2
            },
            "type": "scatter"
           }
          ],
          "scatter3d": [
           {
            "line": {
             "colorbar": {
              "outlinewidth": 0,
              "ticks": ""
             }
            },
            "marker": {
             "colorbar": {
              "outlinewidth": 0,
              "ticks": ""
             }
            },
            "type": "scatter3d"
           }
          ],
          "scattercarpet": [
           {
            "marker": {
             "colorbar": {
              "outlinewidth": 0,
              "ticks": ""
             }
            },
            "type": "scattercarpet"
           }
          ],
          "scattergeo": [
           {
            "marker": {
             "colorbar": {
              "outlinewidth": 0,
              "ticks": ""
             }
            },
            "type": "scattergeo"
           }
          ],
          "scattergl": [
           {
            "marker": {
             "colorbar": {
              "outlinewidth": 0,
              "ticks": ""
             }
            },
            "type": "scattergl"
           }
          ],
          "scattermapbox": [
           {
            "marker": {
             "colorbar": {
              "outlinewidth": 0,
              "ticks": ""
             }
            },
            "type": "scattermapbox"
           }
          ],
          "scatterpolar": [
           {
            "marker": {
             "colorbar": {
              "outlinewidth": 0,
              "ticks": ""
             }
            },
            "type": "scatterpolar"
           }
          ],
          "scatterpolargl": [
           {
            "marker": {
             "colorbar": {
              "outlinewidth": 0,
              "ticks": ""
             }
            },
            "type": "scatterpolargl"
           }
          ],
          "scatterternary": [
           {
            "marker": {
             "colorbar": {
              "outlinewidth": 0,
              "ticks": ""
             }
            },
            "type": "scatterternary"
           }
          ],
          "surface": [
           {
            "colorbar": {
             "outlinewidth": 0,
             "ticks": ""
            },
            "colorscale": [
             [
              0,
              "#0d0887"
             ],
             [
              0.1111111111111111,
              "#46039f"
             ],
             [
              0.2222222222222222,
              "#7201a8"
             ],
             [
              0.3333333333333333,
              "#9c179e"
             ],
             [
              0.4444444444444444,
              "#bd3786"
             ],
             [
              0.5555555555555556,
              "#d8576b"
             ],
             [
              0.6666666666666666,
              "#ed7953"
             ],
             [
              0.7777777777777778,
              "#fb9f3a"
             ],
             [
              0.8888888888888888,
              "#fdca26"
             ],
             [
              1,
              "#f0f921"
             ]
            ],
            "type": "surface"
           }
          ],
          "table": [
           {
            "cells": {
             "fill": {
              "color": "#EBF0F8"
             },
             "line": {
              "color": "white"
             }
            },
            "header": {
             "fill": {
              "color": "#C8D4E3"
             },
             "line": {
              "color": "white"
             }
            },
            "type": "table"
           }
          ]
         },
         "layout": {
          "annotationdefaults": {
           "arrowcolor": "#2a3f5f",
           "arrowhead": 0,
           "arrowwidth": 1
          },
          "autotypenumbers": "strict",
          "coloraxis": {
           "colorbar": {
            "outlinewidth": 0,
            "ticks": ""
           }
          },
          "colorscale": {
           "diverging": [
            [
             0,
             "#8e0152"
            ],
            [
             0.1,
             "#c51b7d"
            ],
            [
             0.2,
             "#de77ae"
            ],
            [
             0.3,
             "#f1b6da"
            ],
            [
             0.4,
             "#fde0ef"
            ],
            [
             0.5,
             "#f7f7f7"
            ],
            [
             0.6,
             "#e6f5d0"
            ],
            [
             0.7,
             "#b8e186"
            ],
            [
             0.8,
             "#7fbc41"
            ],
            [
             0.9,
             "#4d9221"
            ],
            [
             1,
             "#276419"
            ]
           ],
           "sequential": [
            [
             0,
             "#0d0887"
            ],
            [
             0.1111111111111111,
             "#46039f"
            ],
            [
             0.2222222222222222,
             "#7201a8"
            ],
            [
             0.3333333333333333,
             "#9c179e"
            ],
            [
             0.4444444444444444,
             "#bd3786"
            ],
            [
             0.5555555555555556,
             "#d8576b"
            ],
            [
             0.6666666666666666,
             "#ed7953"
            ],
            [
             0.7777777777777778,
             "#fb9f3a"
            ],
            [
             0.8888888888888888,
             "#fdca26"
            ],
            [
             1,
             "#f0f921"
            ]
           ],
           "sequentialminus": [
            [
             0,
             "#0d0887"
            ],
            [
             0.1111111111111111,
             "#46039f"
            ],
            [
             0.2222222222222222,
             "#7201a8"
            ],
            [
             0.3333333333333333,
             "#9c179e"
            ],
            [
             0.4444444444444444,
             "#bd3786"
            ],
            [
             0.5555555555555556,
             "#d8576b"
            ],
            [
             0.6666666666666666,
             "#ed7953"
            ],
            [
             0.7777777777777778,
             "#fb9f3a"
            ],
            [
             0.8888888888888888,
             "#fdca26"
            ],
            [
             1,
             "#f0f921"
            ]
           ]
          },
          "colorway": [
           "#636efa",
           "#EF553B",
           "#00cc96",
           "#ab63fa",
           "#FFA15A",
           "#19d3f3",
           "#FF6692",
           "#B6E880",
           "#FF97FF",
           "#FECB52"
          ],
          "font": {
           "color": "#2a3f5f"
          },
          "geo": {
           "bgcolor": "white",
           "lakecolor": "white",
           "landcolor": "#E5ECF6",
           "showlakes": true,
           "showland": true,
           "subunitcolor": "white"
          },
          "hoverlabel": {
           "align": "left"
          },
          "hovermode": "closest",
          "mapbox": {
           "style": "light"
          },
          "paper_bgcolor": "white",
          "plot_bgcolor": "#E5ECF6",
          "polar": {
           "angularaxis": {
            "gridcolor": "white",
            "linecolor": "white",
            "ticks": ""
           },
           "bgcolor": "#E5ECF6",
           "radialaxis": {
            "gridcolor": "white",
            "linecolor": "white",
            "ticks": ""
           }
          },
          "scene": {
           "xaxis": {
            "backgroundcolor": "#E5ECF6",
            "gridcolor": "white",
            "gridwidth": 2,
            "linecolor": "white",
            "showbackground": true,
            "ticks": "",
            "zerolinecolor": "white"
           },
           "yaxis": {
            "backgroundcolor": "#E5ECF6",
            "gridcolor": "white",
            "gridwidth": 2,
            "linecolor": "white",
            "showbackground": true,
            "ticks": "",
            "zerolinecolor": "white"
           },
           "zaxis": {
            "backgroundcolor": "#E5ECF6",
            "gridcolor": "white",
            "gridwidth": 2,
            "linecolor": "white",
            "showbackground": true,
            "ticks": "",
            "zerolinecolor": "white"
           }
          },
          "shapedefaults": {
           "line": {
            "color": "#2a3f5f"
           }
          },
          "ternary": {
           "aaxis": {
            "gridcolor": "white",
            "linecolor": "white",
            "ticks": ""
           },
           "baxis": {
            "gridcolor": "white",
            "linecolor": "white",
            "ticks": ""
           },
           "bgcolor": "#E5ECF6",
           "caxis": {
            "gridcolor": "white",
            "linecolor": "white",
            "ticks": ""
           }
          },
          "title": {
           "x": 0.05
          },
          "xaxis": {
           "automargin": true,
           "gridcolor": "white",
           "linecolor": "white",
           "ticks": "",
           "title": {
            "standoff": 15
           },
           "zerolinecolor": "white",
           "zerolinewidth": 2
          },
          "yaxis": {
           "automargin": true,
           "gridcolor": "white",
           "linecolor": "white",
           "ticks": "",
           "title": {
            "standoff": 15
           },
           "zerolinecolor": "white",
           "zerolinewidth": 2
          }
         }
        },
        "xaxis": {
         "title": {
          "text": "Number of Variables"
         }
        },
        "yaxis": {
         "title": {
          "text": "RMSE"
         }
        }
       }
      },
      "text/html": [
       "<div>                            <div id=\"21458d45-c2f8-4ce6-bbdd-7da32b3b0c67\" class=\"plotly-graph-div\" style=\"height:525px; width:100%;\"></div>            <script type=\"text/javascript\">                require([\"plotly\"], function(Plotly) {                    window.PLOTLYENV=window.PLOTLYENV || {};                                    if (document.getElementById(\"21458d45-c2f8-4ce6-bbdd-7da32b3b0c67\")) {                    Plotly.newPlot(                        \"21458d45-c2f8-4ce6-bbdd-7da32b3b0c67\",                        [{\"name\":\"Training RMSE\",\"x\":[\"1\",\"2\",\"3\",\"4\",\"5\",\"6\",\"7\",\"8\",\"9\",\"10\",\"11\",\"Ridge(alpha=0.5)\",\"Ridge(alpha_best)\",\"RidgeCV\",\"LassoCV\"],\"y\":[0.9867597184152926,0.9553456842095448,0.955136159147521,0.9515528582803472,0.9458031955274434,0.9455867940371975,0.9259455301454893,0.8902595120481971,0.8666492687340537,0.8515798757231956,0.8357178662188384,0.8357338639155634,0.8357338639155634,0.8357182744242196,0.835757429400929],\"type\":\"bar\"},{\"name\":\"CV RMSE\",\"x\":[\"1\",\"2\",\"3\",\"4\",\"5\",\"6\",\"7\",\"8\",\"9\",\"10\",\"11\",\"Ridge(alpha=0.5)\",\"Ridge(alpha_best)\",\"RidgeCV\",\"LassoCV\"],\"y\":[0.9870150638085813,0.9556756271247556,0.9557497851268671,0.9524709943151436,0.9471152327161333,0.9474286692832811,0.9279370349579781,0.8926280594900717,0.8694479872885645,0.8547226482222399,0.8387272324673581,0.8386497485189539,0.8386497485189539,0.8387116565714601,0.8386153296380794],\"type\":\"bar\"},{\"name\":\"Test RMSE\",\"opacity\":0.3,\"x\":[\"1\",\"2\",\"3\",\"4\",\"5\",\"6\",\"7\",\"8\",\"9\",\"10\",\"11\",\"Ridge(alpha=0.5)\",\"Ridge(alpha_best)\",\"RidgeCV\",\"LassoCV\"],\"y\":[1.027433608864375,0.98914593180018,0.9898665549264807,0.9832452289843855,0.9742010877366526,0.9743415525612351,0.9528718073886652,0.9105693932339755,0.8973434063184984,0.8772701537957615,0.8594058872617306,0.8592716195773854,0.8592716195773854,0.8593819587111692,0.8592382221571717],\"type\":\"bar\"}],                        {\"template\":{\"data\":{\"histogram2dcontour\":[{\"type\":\"histogram2dcontour\",\"colorbar\":{\"outlinewidth\":0,\"ticks\":\"\"},\"colorscale\":[[0.0,\"#0d0887\"],[0.1111111111111111,\"#46039f\"],[0.2222222222222222,\"#7201a8\"],[0.3333333333333333,\"#9c179e\"],[0.4444444444444444,\"#bd3786\"],[0.5555555555555556,\"#d8576b\"],[0.6666666666666666,\"#ed7953\"],[0.7777777777777778,\"#fb9f3a\"],[0.8888888888888888,\"#fdca26\"],[1.0,\"#f0f921\"]]}],\"choropleth\":[{\"type\":\"choropleth\",\"colorbar\":{\"outlinewidth\":0,\"ticks\":\"\"}}],\"histogram2d\":[{\"type\":\"histogram2d\",\"colorbar\":{\"outlinewidth\":0,\"ticks\":\"\"},\"colorscale\":[[0.0,\"#0d0887\"],[0.1111111111111111,\"#46039f\"],[0.2222222222222222,\"#7201a8\"],[0.3333333333333333,\"#9c179e\"],[0.4444444444444444,\"#bd3786\"],[0.5555555555555556,\"#d8576b\"],[0.6666666666666666,\"#ed7953\"],[0.7777777777777778,\"#fb9f3a\"],[0.8888888888888888,\"#fdca26\"],[1.0,\"#f0f921\"]]}],\"heatmap\":[{\"type\":\"heatmap\",\"colorbar\":{\"outlinewidth\":0,\"ticks\":\"\"},\"colorscale\":[[0.0,\"#0d0887\"],[0.1111111111111111,\"#46039f\"],[0.2222222222222222,\"#7201a8\"],[0.3333333333333333,\"#9c179e\"],[0.4444444444444444,\"#bd3786\"],[0.5555555555555556,\"#d8576b\"],[0.6666666666666666,\"#ed7953\"],[0.7777777777777778,\"#fb9f3a\"],[0.8888888888888888,\"#fdca26\"],[1.0,\"#f0f921\"]]}],\"heatmapgl\":[{\"type\":\"heatmapgl\",\"colorbar\":{\"outlinewidth\":0,\"ticks\":\"\"},\"colorscale\":[[0.0,\"#0d0887\"],[0.1111111111111111,\"#46039f\"],[0.2222222222222222,\"#7201a8\"],[0.3333333333333333,\"#9c179e\"],[0.4444444444444444,\"#bd3786\"],[0.5555555555555556,\"#d8576b\"],[0.6666666666666666,\"#ed7953\"],[0.7777777777777778,\"#fb9f3a\"],[0.8888888888888888,\"#fdca26\"],[1.0,\"#f0f921\"]]}],\"contourcarpet\":[{\"type\":\"contourcarpet\",\"colorbar\":{\"outlinewidth\":0,\"ticks\":\"\"}}],\"contour\":[{\"type\":\"contour\",\"colorbar\":{\"outlinewidth\":0,\"ticks\":\"\"},\"colorscale\":[[0.0,\"#0d0887\"],[0.1111111111111111,\"#46039f\"],[0.2222222222222222,\"#7201a8\"],[0.3333333333333333,\"#9c179e\"],[0.4444444444444444,\"#bd3786\"],[0.5555555555555556,\"#d8576b\"],[0.6666666666666666,\"#ed7953\"],[0.7777777777777778,\"#fb9f3a\"],[0.8888888888888888,\"#fdca26\"],[1.0,\"#f0f921\"]]}],\"surface\":[{\"type\":\"surface\",\"colorbar\":{\"outlinewidth\":0,\"ticks\":\"\"},\"colorscale\":[[0.0,\"#0d0887\"],[0.1111111111111111,\"#46039f\"],[0.2222222222222222,\"#7201a8\"],[0.3333333333333333,\"#9c179e\"],[0.4444444444444444,\"#bd3786\"],[0.5555555555555556,\"#d8576b\"],[0.6666666666666666,\"#ed7953\"],[0.7777777777777778,\"#fb9f3a\"],[0.8888888888888888,\"#fdca26\"],[1.0,\"#f0f921\"]]}],\"mesh3d\":[{\"type\":\"mesh3d\",\"colorbar\":{\"outlinewidth\":0,\"ticks\":\"\"}}],\"scatter\":[{\"fillpattern\":{\"fillmode\":\"overlay\",\"size\":10,\"solidity\":0.2},\"type\":\"scatter\"}],\"parcoords\":[{\"type\":\"parcoords\",\"line\":{\"colorbar\":{\"outlinewidth\":0,\"ticks\":\"\"}}}],\"scatterpolargl\":[{\"type\":\"scatterpolargl\",\"marker\":{\"colorbar\":{\"outlinewidth\":0,\"ticks\":\"\"}}}],\"bar\":[{\"error_x\":{\"color\":\"#2a3f5f\"},\"error_y\":{\"color\":\"#2a3f5f\"},\"marker\":{\"line\":{\"color\":\"#E5ECF6\",\"width\":0.5},\"pattern\":{\"fillmode\":\"overlay\",\"size\":10,\"solidity\":0.2}},\"type\":\"bar\"}],\"scattergeo\":[{\"type\":\"scattergeo\",\"marker\":{\"colorbar\":{\"outlinewidth\":0,\"ticks\":\"\"}}}],\"scatterpolar\":[{\"type\":\"scatterpolar\",\"marker\":{\"colorbar\":{\"outlinewidth\":0,\"ticks\":\"\"}}}],\"histogram\":[{\"marker\":{\"pattern\":{\"fillmode\":\"overlay\",\"size\":10,\"solidity\":0.2}},\"type\":\"histogram\"}],\"scattergl\":[{\"type\":\"scattergl\",\"marker\":{\"colorbar\":{\"outlinewidth\":0,\"ticks\":\"\"}}}],\"scatter3d\":[{\"type\":\"scatter3d\",\"line\":{\"colorbar\":{\"outlinewidth\":0,\"ticks\":\"\"}},\"marker\":{\"colorbar\":{\"outlinewidth\":0,\"ticks\":\"\"}}}],\"scattermapbox\":[{\"type\":\"scattermapbox\",\"marker\":{\"colorbar\":{\"outlinewidth\":0,\"ticks\":\"\"}}}],\"scatterternary\":[{\"type\":\"scatterternary\",\"marker\":{\"colorbar\":{\"outlinewidth\":0,\"ticks\":\"\"}}}],\"scattercarpet\":[{\"type\":\"scattercarpet\",\"marker\":{\"colorbar\":{\"outlinewidth\":0,\"ticks\":\"\"}}}],\"carpet\":[{\"aaxis\":{\"endlinecolor\":\"#2a3f5f\",\"gridcolor\":\"white\",\"linecolor\":\"white\",\"minorgridcolor\":\"white\",\"startlinecolor\":\"#2a3f5f\"},\"baxis\":{\"endlinecolor\":\"#2a3f5f\",\"gridcolor\":\"white\",\"linecolor\":\"white\",\"minorgridcolor\":\"white\",\"startlinecolor\":\"#2a3f5f\"},\"type\":\"carpet\"}],\"table\":[{\"cells\":{\"fill\":{\"color\":\"#EBF0F8\"},\"line\":{\"color\":\"white\"}},\"header\":{\"fill\":{\"color\":\"#C8D4E3\"},\"line\":{\"color\":\"white\"}},\"type\":\"table\"}],\"barpolar\":[{\"marker\":{\"line\":{\"color\":\"#E5ECF6\",\"width\":0.5},\"pattern\":{\"fillmode\":\"overlay\",\"size\":10,\"solidity\":0.2}},\"type\":\"barpolar\"}],\"pie\":[{\"automargin\":true,\"type\":\"pie\"}]},\"layout\":{\"autotypenumbers\":\"strict\",\"colorway\":[\"#636efa\",\"#EF553B\",\"#00cc96\",\"#ab63fa\",\"#FFA15A\",\"#19d3f3\",\"#FF6692\",\"#B6E880\",\"#FF97FF\",\"#FECB52\"],\"font\":{\"color\":\"#2a3f5f\"},\"hovermode\":\"closest\",\"hoverlabel\":{\"align\":\"left\"},\"paper_bgcolor\":\"white\",\"plot_bgcolor\":\"#E5ECF6\",\"polar\":{\"bgcolor\":\"#E5ECF6\",\"angularaxis\":{\"gridcolor\":\"white\",\"linecolor\":\"white\",\"ticks\":\"\"},\"radialaxis\":{\"gridcolor\":\"white\",\"linecolor\":\"white\",\"ticks\":\"\"}},\"ternary\":{\"bgcolor\":\"#E5ECF6\",\"aaxis\":{\"gridcolor\":\"white\",\"linecolor\":\"white\",\"ticks\":\"\"},\"baxis\":{\"gridcolor\":\"white\",\"linecolor\":\"white\",\"ticks\":\"\"},\"caxis\":{\"gridcolor\":\"white\",\"linecolor\":\"white\",\"ticks\":\"\"}},\"coloraxis\":{\"colorbar\":{\"outlinewidth\":0,\"ticks\":\"\"}},\"colorscale\":{\"sequential\":[[0.0,\"#0d0887\"],[0.1111111111111111,\"#46039f\"],[0.2222222222222222,\"#7201a8\"],[0.3333333333333333,\"#9c179e\"],[0.4444444444444444,\"#bd3786\"],[0.5555555555555556,\"#d8576b\"],[0.6666666666666666,\"#ed7953\"],[0.7777777777777778,\"#fb9f3a\"],[0.8888888888888888,\"#fdca26\"],[1.0,\"#f0f921\"]],\"sequentialminus\":[[0.0,\"#0d0887\"],[0.1111111111111111,\"#46039f\"],[0.2222222222222222,\"#7201a8\"],[0.3333333333333333,\"#9c179e\"],[0.4444444444444444,\"#bd3786\"],[0.5555555555555556,\"#d8576b\"],[0.6666666666666666,\"#ed7953\"],[0.7777777777777778,\"#fb9f3a\"],[0.8888888888888888,\"#fdca26\"],[1.0,\"#f0f921\"]],\"diverging\":[[0,\"#8e0152\"],[0.1,\"#c51b7d\"],[0.2,\"#de77ae\"],[0.3,\"#f1b6da\"],[0.4,\"#fde0ef\"],[0.5,\"#f7f7f7\"],[0.6,\"#e6f5d0\"],[0.7,\"#b8e186\"],[0.8,\"#7fbc41\"],[0.9,\"#4d9221\"],[1,\"#276419\"]]},\"xaxis\":{\"gridcolor\":\"white\",\"linecolor\":\"white\",\"ticks\":\"\",\"title\":{\"standoff\":15},\"zerolinecolor\":\"white\",\"automargin\":true,\"zerolinewidth\":2},\"yaxis\":{\"gridcolor\":\"white\",\"linecolor\":\"white\",\"ticks\":\"\",\"title\":{\"standoff\":15},\"zerolinecolor\":\"white\",\"automargin\":true,\"zerolinewidth\":2},\"scene\":{\"xaxis\":{\"backgroundcolor\":\"#E5ECF6\",\"gridcolor\":\"white\",\"linecolor\":\"white\",\"showbackground\":true,\"ticks\":\"\",\"zerolinecolor\":\"white\",\"gridwidth\":2},\"yaxis\":{\"backgroundcolor\":\"#E5ECF6\",\"gridcolor\":\"white\",\"linecolor\":\"white\",\"showbackground\":true,\"ticks\":\"\",\"zerolinecolor\":\"white\",\"gridwidth\":2},\"zaxis\":{\"backgroundcolor\":\"#E5ECF6\",\"gridcolor\":\"white\",\"linecolor\":\"white\",\"showbackground\":true,\"ticks\":\"\",\"zerolinecolor\":\"white\",\"gridwidth\":2}},\"shapedefaults\":{\"line\":{\"color\":\"#2a3f5f\"}},\"annotationdefaults\":{\"arrowcolor\":\"#2a3f5f\",\"arrowhead\":0,\"arrowwidth\":1},\"geo\":{\"bgcolor\":\"white\",\"landcolor\":\"#E5ECF6\",\"subunitcolor\":\"white\",\"showland\":true,\"showlakes\":true,\"lakecolor\":\"white\"},\"title\":{\"x\":0.05},\"mapbox\":{\"style\":\"light\"}}},\"xaxis\":{\"title\":{\"text\":\"Number of Variables\"}},\"yaxis\":{\"title\":{\"text\":\"RMSE\"}}},                        {\"responsive\": true}                    ).then(function(){\n",
       "                            \n",
       "var gd = document.getElementById('21458d45-c2f8-4ce6-bbdd-7da32b3b0c67');\n",
       "var x = new MutationObserver(function (mutations, observer) {{\n",
       "        var display = window.getComputedStyle(gd).display;\n",
       "        if (!display || display === 'none') {{\n",
       "            console.log([gd, 'removed!']);\n",
       "            Plotly.purge(gd);\n",
       "            observer.disconnect();\n",
       "        }}\n",
       "}});\n",
       "\n",
       "// Listen for the removal of the full notebook cells\n",
       "var notebookContainer = gd.closest('#notebook-container');\n",
       "if (notebookContainer) {{\n",
       "    x.observe(notebookContainer, {childList: true});\n",
       "}}\n",
       "\n",
       "// Listen for the clearing of the current output cell\n",
       "var outputEl = gd.closest('.output');\n",
       "if (outputEl) {{\n",
       "    x.observe(outputEl, {childList: true});\n",
       "}}\n",
       "\n",
       "                        })                };                });            </script>        </div>"
      ]
     },
     "metadata": {},
     "output_type": "display_data"
    }
   ],
   "source": [
    "lasso_model.fit(tr, tr['quality'])\n",
    "models[\"LassoCV\"] = lasso_model\n",
    "compare_models(models)"
   ]
  },
  {
   "cell_type": "markdown",
   "id": "d3615047",
   "metadata": {},
   "source": [
    "We can examine the distribution of model coefficients to see that Lasso is selecting only a few of the features to use in it's predictions:"
   ]
  },
  {
   "cell_type": "markdown",
   "id": "6b4f4941",
   "metadata": {},
   "source": [
    "We can expect that the Lasso model will have some variables coeffient as 0 and the Ridge model variables with small coeffients.  "
   ]
  },
  {
   "cell_type": "code",
   "execution_count": 150,
   "id": "1bf05143",
   "metadata": {},
   "outputs": [
    {
     "data": {
      "application/vnd.plotly.v1+json": {
       "config": {
        "plotlyServerURL": "https://plot.ly"
       },
       "data": [
        {
         "autobinx": false,
         "histnorm": "probability density",
         "legendgroup": "Lasso",
         "marker": {
          "color": "rgb(31, 119, 180)"
         },
         "name": "Lasso",
         "opacity": 0.7,
         "type": "histogram",
         "x": [
          0.09307319610679664,
          -0.25729303193076497,
          -0.026769058563201966,
          0.24327115497582805,
          -0.0059211130607449754,
          0.11162472583273662,
          -0.15307058718061636,
          -0.1771316776899766,
          0.08958245718276484,
          0.1215821360467991,
          0.36439887416451405
         ],
         "xaxis": "x",
         "xbins": {
          "end": 0.36439887416451405,
          "size": 0.1,
          "start": -0.25729303193076497
         },
         "yaxis": "y"
        },
        {
         "autobinx": false,
         "histnorm": "probability density",
         "legendgroup": "Ridge",
         "marker": {
          "color": "rgb(255, 127, 14)"
         },
         "name": "Ridge",
         "opacity": 0.7,
         "type": "histogram",
         "x": [
          0.10637578989571628,
          -0.2565162690781866,
          -0.028775484280967767,
          0.26014317211754356,
          -0.005185285487879554,
          0.11425599728515934,
          -0.15795936727923499,
          -0.20163024081752745,
          0.09740824699745732,
          0.12497059657251386,
          0.35409418598731435
         ],
         "xaxis": "x",
         "xbins": {
          "end": 0.35409418598731435,
          "size": 0.1,
          "start": -0.2565162690781866
         },
         "yaxis": "y"
        },
        {
         "legendgroup": "Lasso",
         "marker": {
          "color": "rgb(31, 119, 180)"
         },
         "mode": "lines",
         "name": "Lasso",
         "showlegend": false,
         "type": "scatter",
         "x": [
          -0.25729303193076497,
          -0.2560496481185744,
          -0.25480626430638387,
          -0.2535628804941933,
          -0.25231949668200276,
          -0.2510761128698122,
          -0.24983272905762163,
          -0.24858934524543105,
          -0.2473459614332405,
          -0.24610257762104995,
          -0.2448591938088594,
          -0.24361580999666882,
          -0.24237242618447827,
          -0.24112904237228772,
          -0.23988565856009716,
          -0.2386422747479066,
          -0.23739889093571603,
          -0.23615550712352548,
          -0.23491212331133493,
          -0.23366873949914438,
          -0.2324253556869538,
          -0.23118197187476325,
          -0.2299385880625727,
          -0.22869520425038214,
          -0.22745182043819157,
          -0.226208436626001,
          -0.22496505281381046,
          -0.2237216690016199,
          -0.22247828518942936,
          -0.22123490137723878,
          -0.21999151756504823,
          -0.21874813375285768,
          -0.2175047499406671,
          -0.21626136612847655,
          -0.215017982316286,
          -0.21377459850409544,
          -0.2125312146919049,
          -0.2112878308797143,
          -0.21004444706752376,
          -0.2088010632553332,
          -0.20755767944314266,
          -0.2063142956309521,
          -0.20507091181876153,
          -0.20382752800657097,
          -0.20258414419438042,
          -0.20134076038218984,
          -0.2000973765699993,
          -0.19885399275780874,
          -0.1976106089456182,
          -0.19636722513342764,
          -0.19512384132123706,
          -0.1938804575090465,
          -0.19263707369685595,
          -0.19139368988466537,
          -0.19015030607247485,
          -0.18890692226028427,
          -0.18766353844809372,
          -0.18642015463590317,
          -0.1851767708237126,
          -0.18393338701152206,
          -0.18269000319933149,
          -0.18144661938714093,
          -0.18020323557495038,
          -0.1789598517627598,
          -0.17771646795056925,
          -0.1764730841383787,
          -0.17522970032618812,
          -0.1739863165139976,
          -0.17274293270180702,
          -0.17149954888961647,
          -0.17025616507742591,
          -0.16901278126523533,
          -0.1677693974530448,
          -0.16652601364085423,
          -0.16528262982866368,
          -0.16403924601647313,
          -0.16279586220428255,
          -0.161552478392092,
          -0.16030909457990145,
          -0.15906571076771087,
          -0.15782232695552034,
          -0.15657894314332976,
          -0.1553355593311392,
          -0.15409217551894866,
          -0.15284879170675808,
          -0.15160540789456756,
          -0.15036202408237698,
          -0.14911864027018643,
          -0.14787525645799587,
          -0.1466318726458053,
          -0.14538848883361474,
          -0.1441451050214242,
          -0.1429017212092336,
          -0.1416583373970431,
          -0.1404149535848525,
          -0.13917156977266196,
          -0.1379281859604714,
          -0.13668480214828083,
          -0.1354414183360903,
          -0.13419803452389972,
          -0.13295465071170917,
          -0.13171126689951862,
          -0.13046788308732804,
          -0.1292244992751375,
          -0.12798111546294694,
          -0.12673773165075639,
          -0.1254943478385658,
          -0.12425096402637525,
          -0.1230075802141847,
          -0.12176419640199415,
          -0.12052081258980357,
          -0.11927742877761302,
          -0.11803404496542247,
          -0.11679066115323192,
          -0.11554727734104137,
          -0.11430389352885079,
          -0.11306050971666023,
          -0.11181712590446968,
          -0.11057374209227913,
          -0.10933035828008855,
          -0.108086974467898,
          -0.10684359065570745,
          -0.1056002068435169,
          -0.10435682303132632,
          -0.10311343921913577,
          -0.10187005540694521,
          -0.10062667159475466,
          -0.09938328778256411,
          -0.09813990397037353,
          -0.09689652015818298,
          -0.09565313634599243,
          -0.09440975253380188,
          -0.0931663687216113,
          -0.09192298490942075,
          -0.0906796010972302,
          -0.08943621728503964,
          -0.08819283347284906,
          -0.08694944966065851,
          -0.08570606584846796,
          -0.08446268203627741,
          -0.08321929822408686,
          -0.08197591441189628,
          -0.08073253059970573,
          -0.07948914678751517,
          -0.07824576297532462,
          -0.07700237916313404,
          -0.07575899535094349,
          -0.07451561153875294,
          -0.07327222772656239,
          -0.07202884391437181,
          -0.07078546010218126,
          -0.0695420762899907,
          -0.06829869247780015,
          -0.0670553086656096,
          -0.06581192485341902,
          -0.06456854104122847,
          -0.06332515722903792,
          -0.06208177341684737,
          -0.06083838960465679,
          -0.05959500579246624,
          -0.058351621980275686,
          -0.057108238168085135,
          -0.055864854355894555,
          -0.054621470543704004,
          -0.05337808673151345,
          -0.0521347029193229,
          -0.05089131910713232,
          -0.04964793529494177,
          -0.04840455148275122,
          -0.047161167670560666,
          -0.045917783858370115,
          -0.044674400046179535,
          -0.043431016233988984,
          -0.04218763242179843,
          -0.04094424860960788,
          -0.0397008647974173,
          -0.03845748098522675,
          -0.0372140971730362,
          -0.035970713360845646,
          -0.03472732954865507,
          -0.033483945736464515,
          -0.032240561924273964,
          -0.030997178112083412,
          -0.02975379429989286,
          -0.02851041048770228,
          -0.02726702667551173,
          -0.026023642863321178,
          -0.024780259051130626,
          -0.023536875238940047,
          -0.022293491426749495,
          -0.021050107614558944,
          -0.019806723802368392,
          -0.018563339990177813,
          -0.01731995617798726,
          -0.01607657236579671,
          -0.014833188553606158,
          -0.013589804741415606,
          -0.012346420929225027,
          -0.011103037117034475,
          -0.009859653304843924,
          -0.008616269492653372,
          -0.007372885680462793,
          -0.006129501868272269,
          -0.00488611805608169,
          -0.0036427342438911103,
          -0.0023993504317005865,
          -0.0011559666195100071,
          8.741719268051673e-05,
          0.001330801004871096,
          0.0025741848170616755,
          0.0038175686292521993,
          0.005060952441442723,
          0.006304336253633358,
          0.007547720065823937,
          0.008791103878014461,
          0.010034487690204985,
          0.011277871502395564,
          0.012521255314586144,
          0.013764639126776668,
          0.015008022938967192,
          0.016251406751157826,
          0.017494790563348406,
          0.01873817437553893,
          0.019981558187729453,
          0.021224941999920033,
          0.022468325812110612,
          0.023711709624301136,
          0.02495509343649166,
          0.02619847724868224,
          0.027441861060872874,
          0.028685244873063398,
          0.029928628685253922,
          0.0311720124974445,
          0.03241539630963508,
          0.033658780121825604,
          0.03490216393401613,
          0.03614554774620671,
          0.03738893155839734,
          0.038632315370587866,
          0.03987569918277839,
          0.04111908299496897,
          0.04236246680715955,
          0.04360585061935007,
          0.0448492344315406,
          0.046092618243731176,
          0.047336002055921755,
          0.048579385868112335,
          0.04982276968030286,
          0.05106615349249344,
          0.05230953730468402,
          0.05355292111687454,
          0.054796304929065065,
          0.056039688741255644,
          0.057283072553446224,
          0.05852645636563675,
          0.05976984017782733,
          0.061013223990017906,
          0.062256607802208486,
          0.06349999161439901,
          0.06474337542658953,
          0.06598675923878011,
          0.06723014305097069,
          0.06847352686316122,
          0.06971691067535174,
          0.07096029448754237,
          0.07220367829973295,
          0.07344706211192348,
          0.074690445924114,
          0.07593382973630458,
          0.07717721354849516,
          0.07842059736068568,
          0.07966398117287621,
          0.08090736498506684,
          0.08215074879725742,
          0.08339413260944795,
          0.08463751642163847,
          0.08588090023382905,
          0.08712428404601963,
          0.08836766785821015,
          0.08961105167040068,
          0.09085443548259126,
          0.09209781929478189,
          0.09334120310697241,
          0.09458458691916294,
          0.09582797073135352,
          0.0970713545435441,
          0.09831473835573462,
          0.09955812216792514,
          0.10080150598011572,
          0.10204488979230636,
          0.10328827360449688,
          0.1045316574166874,
          0.10577504122887799,
          0.10701842504106857,
          0.10826180885325909,
          0.10950519266544961,
          0.11074857647764019,
          0.11199196028983077,
          0.11323534410202135,
          0.11447872791421188,
          0.11572211172640245,
          0.11696549553859303,
          0.11820887935078356,
          0.11945226316297408,
          0.12069564697516466,
          0.12193903078735524,
          0.12318241459954576,
          0.12442579841173634,
          0.12566918222392692,
          0.1269125660361175,
          0.12815594984830803,
          0.12939933366049855,
          0.13064271747268913,
          0.1318861012848797,
          0.13312948509707023,
          0.1343728689092608,
          0.1356162527214514,
          0.13685963653364197,
          0.1381030203458325,
          0.13934640415802302,
          0.1405897879702136,
          0.14183317178240418,
          0.1430765555945947,
          0.14431993940678522,
          0.14556332321897586,
          0.14680670703116644,
          0.14805009084335696,
          0.1492934746555475,
          0.15053685846773807,
          0.15178024227992865,
          0.15302362609211917,
          0.1542670099043097,
          0.15551039371650033,
          0.1567537775286909,
          0.15799716134088143,
          0.15924054515307196,
          0.16048392896526253,
          0.1617273127774531,
          0.16297069658964364,
          0.16421408040183416,
          0.16545746421402474,
          0.16670084802621538,
          0.1679442318384059,
          0.16918761565059642,
          0.170430999462787,
          0.17167438327497758,
          0.1729177670871681,
          0.17416115089935863,
          0.1754045347115492,
          0.1766479185237398,
          0.17789130233593037,
          0.1791346861481209,
          0.18037806996031147,
          0.18162145377250205,
          0.18286483758469257,
          0.1841082213968831,
          0.18535160520907368,
          0.18659498902126426,
          0.18783837283345484,
          0.18908175664564536,
          0.19032514045783594,
          0.19156852427002652,
          0.19281190808221704,
          0.19405529189440757,
          0.19529867570659815,
          0.19654205951878873,
          0.19778544333097925,
          0.19902882714316983,
          0.2002722109553604,
          0.201515594767551,
          0.2027589785797415,
          0.20400236239193204,
          0.20524574620412261,
          0.2064891300163132,
          0.20773251382850372,
          0.20897589764069424,
          0.21021928145288488,
          0.21146266526507546,
          0.21270604907726598,
          0.2139494328894565,
          0.21519281670164708,
          0.21643620051383766,
          0.21767958432602819,
          0.2189229681382187,
          0.22016635195040934,
          0.22140973576259992,
          0.22265311957479045,
          0.22389650338698097,
          0.22513988719917155,
          0.22638327101136213,
          0.22762665482355265,
          0.22887003863574318,
          0.23011342244793376,
          0.2313568062601244,
          0.23260019007231492,
          0.23384357388450544,
          0.23508695769669602,
          0.2363303415088866,
          0.23757372532107712,
          0.23881710913326765,
          0.24006049294545823,
          0.24130387675764886,
          0.24254726056983938,
          0.24379064438202985,
          0.24503402819422043,
          0.246277412006411,
          0.2475207958186016,
          0.24876417963079217,
          0.25000756344298275,
          0.25125094725517333,
          0.2524943310673638,
          0.2537377148795544,
          0.25498109869174496,
          0.25622448250393554,
          0.257467866316126,
          0.2587112501283166,
          0.25995463394050716,
          0.26119801775269774,
          0.2624414015648883,
          0.2636847853770788,
          0.26492816918926937,
          0.26617155300145995,
          0.2674149368136504,
          0.2686583206258411,
          0.2699017044380317,
          0.27114508825022227,
          0.27238847206241285,
          0.2736318558746033,
          0.2748752396867939,
          0.2761186234989845,
          0.27736200731117494,
          0.2786053911233655,
          0.2798487749355561,
          0.2810921587477467,
          0.28233554255993726,
          0.2835789263721277,
          0.2848223101843183,
          0.2860656939965089,
          0.28730907780869935,
          0.28855246162088993,
          0.2897958454330806,
          0.2910392292452712,
          0.2922826130574618,
          0.29352599686965225,
          0.29476938068184283,
          0.2960127644940334,
          0.2972561483062239,
          0.29849953211841446,
          0.29974291593060504,
          0.3009862997427956,
          0.3022296835549862,
          0.30347306736717666,
          0.30471645117936724,
          0.3059598349915578,
          0.3072032188037483,
          0.30844660261593887,
          0.30968998642812945,
          0.31093337024032014,
          0.3121767540525107,
          0.3134201378647012,
          0.31466352167689177,
          0.31590690548908235,
          0.3171502893012728,
          0.3183936731134634,
          0.319637056925654,
          0.32088044073784455,
          0.32212382455003513,
          0.3233672083622256,
          0.3246105921744162,
          0.32585397598660676,
          0.3270973597987972,
          0.3283407436109878,
          0.3295841274231784,
          0.33082751123536897,
          0.33207089504755966,
          0.3333142788597501,
          0.3345576626719407,
          0.3358010464841313,
          0.33704443029632175,
          0.33828781410851233,
          0.3395311979207029,
          0.3407745817328935,
          0.34201796554508407,
          0.34326134935727454,
          0.3445047331694651,
          0.3457481169816557,
          0.34699150079384616,
          0.34823488460603674,
          0.3494782684182273,
          0.3507216522304179,
          0.3519650360426085,
          0.35320841985479895,
          0.35445180366698964,
          0.3556951874791802,
          0.3569385712913707,
          0.35818195510356127,
          0.35942533891575185,
          0.3606687227279424,
          0.361912106540133,
          0.3631554903523235
         ],
         "xaxis": "x",
         "y": [
          0.8532418260901795,
          0.8590852382850042,
          0.8649091034766128,
          0.8707128648804648,
          0.8764959780881425,
          0.8822579113838882,
          0.887998146054889,
          0.8937161766950545,
          0.8994115115020271,
          0.9050836725671729,
          0.9107321961582884,
          0.9163566329947932,
          0.9219565485151429,
          0.9275315231362331,
          0.933081152504552,
          0.9386050477388446,
          0.9441028356640644,
          0.9495741590363816,
          0.9550186767590327,
          0.9604360640887905,
          0.9658260128328495,
          0.9711882315359175,
          0.9765224456573174,
          0.9818283977379042,
          0.9871058475566087,
          0.9923545722764299,
          0.9975743665796977,
          1.002765042792441,
          1.0079264309976956,
          1.0130583791376016,
          1.0181607531041386,
          1.0232334368183649,
          1.028276332298018,
          1.0332893597133603,
          1.0382724574311486,
          1.0432255820466172,
          1.048148708403373,
          1.053041829601111,
          1.0579049569910635,
          1.0627381201591068,
          1.0675413668964546,
          1.0723147631578793,
          1.0770583930074178,
          1.081772358551502,
          1.0864567798594997,
          1.0911117948716291,
          1.0957375592942356,
          1.1003342464824244,
          1.1049020473100521,
          1.1094411700270859,
          1.11395184010436,
          1.1184343000657477,
          1.1228888093078002,
          1.127315643906895,
          1.1317150964139535,
          1.1360874756367991,
          1.140433106410226,
          1.1447523293538746,
          1.1490455006180023,
          1.153312991617254,
          1.1575551887525577,
          1.1617724931212552,
          1.1659653202156088,
          1.1701340996098228,
          1.17427927463574,
          1.1784013020473523,
          1.1825006516743213,
          1.1865778060646666,
          1.1906332601168168,
          1.194667520701217,
          1.1986811062716969,
          1.2026745464668105,
          1.2066483817013727,
          1.2106031627484128,
          1.214539450311787,
          1.2184578145896998,
          1.222358834829374,
          1.226243098873139,
          1.2301112026962038,
          1.2339637499363825,
          1.2378013514160635,
          1.2416246246567038,
          1.2454341933861466,
          1.2492306870390644,
          1.2530147402508316,
          1.256786992345151,
          1.2605480868157388,
          1.264298670802408,
          1.268039394561877,
          1.2717709109336317,
          1.2754938748012004,
          1.2792089425491695,
          1.2829167715163006,
          1.2866180194451071,
          1.2903133439282384,
          1.2940034018520465,
          1.2976888488376956,
          1.3013703386801876,
          1.3050485227856694,
          1.3087240496074153,
          1.3123975640808385,
          1.3160697070579368,
          1.3197411147415374,
          1.3234124181197364,
          1.3270842424009135,
          1.3307572064497104,
          1.334431922224367,
          1.3381089942157909,
          1.3417890188887671,
          1.345472584125681,
          1.3491602686731599,
          1.3528526415920057,
          1.3565502617108227,
          1.360253677083716,
          1.3639634244524546,
          1.3676800287134794,
          1.3714040023901393,
          1.3751358451105444,
          1.3788760430913976,
          1.3826250686282004,
          1.3863833795921936,
          1.3901514189344042,
          1.3939296141971724,
          1.3977183770335135,
          1.4015181027346757,
          1.4053291697662564,
          1.409151939313218,
          1.4129867548341484,
          1.4168339416251243,
          1.420693806393487,
          1.4245666368418881,
          1.4284527012629038,
          1.4323522481445639,
          1.4362655057870841,
          1.4401926819311284,
          1.4441339633978827,
          1.4480895157412517,
          1.4520594829124522,
          1.4560439869372872,
          1.4600431276063717,
          1.464056982178577,
          1.4680856050979423,
          1.4721290277243142,
          1.4761872580779412,
          1.4802602805982652,
          1.4843480559171267,
          1.4884505206466039,
          1.4925675871816841,
          1.4966991435179733,
          1.5008450530846202,
          1.5050051545926473,
          1.5091792618988382,
          1.51336716388536,
          1.5175686243552562,
          1.5217833819439528,
          1.5260111500469102,
          1.5302516167635334,
          1.5345044448574565,
          1.5387692717332901,
          1.5430457094299301,
          1.5473333446304944,
          1.5516317386889638,
          1.5559404276735738,
          1.5602589224270058,
          1.564586708643416,
          1.5689232469623136,
          1.5732679730793113,
          1.5776202978737432,
          1.5819796075531383,
          1.5863452638145332,
          1.5907166040225842,
          1.5950929414044408,
          1.5994735652613234,
          1.603857741196734,
          1.6082447113612275,
          1.6126336947136555,
          1.6170238872987723,
          1.6214144625411073,
          1.6258045715549605,
          1.6301933434704072,
          1.634579885775154,
          1.6389632846720905,
          1.643342605452378,
          1.6477168928838843,
          1.6520851716147824,
          1.6564464465921158,
          1.660799703495112,
          1.6651439091830238,
          1.6694780121572719,
          1.6738009430376413,
          1.678111615052276,
          1.6824089245412148,
          1.6866917514731896,
          1.6909589599754054,
          1.6952093988760044,
          1.6994419022589202,
          1.703655290030795,
          1.7078483684996537,
          1.7120199309649888,
          1.7161687583189278,
          1.7202936196581236,
          1.7243932729060223,
          1.7284664654451236,
          1.7325119347588795,
          1.7365284090828348,
          1.7405146080646205,
          1.7444692434324132,
          1.748391019671432,
          1.7522786347080896,
          1.7561307806013489,
          1.759946144240882,
          1.763723408051584,
          1.7674612507040128,
          1.7711583478303004,
          1.774813372745095,
          1.7784249971710746,
          1.7819918919685704,
          1.785512727868836,
          1.7889861762104948,
          1.7924109096786933,
          1.7957856030464732,
          1.7991089339178983,
          1.8023795834724377,
          1.8055962372101269,
          1.8087575856970186,
          1.8118623253104216,
          1.8149091589834547,
          1.8178967969483995,
          1.8208239574783769,
          1.8236893676268342,
          1.8264917639643625,
          1.8292298933123352,
          1.8319025134728817,
          1.8345083939546984,
          1.8370463166941955,
          1.8395150767715063,
          1.8419134831208477,
          1.8442403592347578,
          1.8464945438617197,
          1.8486748916966917,
          1.8507802740640655,
          1.8528095795925714,
          1.8547617148816689,
          1.856635605158948,
          1.858430194928088,
          1.860144448606908,
          1.861777351155067,
          1.8633279086909655,
          1.8647951490974117,
          1.8661781226156176,
          1.867475902427108,
          1.8686875852231195,
          1.8698122917610827,
          1.8708491674077885,
          1.8717973826688434,
          1.872656133704037,
          1.8734246428282393,
          1.8741021589974685,
          1.8746879582797795,
          1.875181344310615,
          1.8755816487323036,
          1.8758882316173688,
          1.876100481875339,
          1.8762178176427682,
          1.8762396866561635,
          1.8761655666075565,
          1.8759949654824473,
          1.875727421879871,
          1.875362505314348,
          1.874899816499489,
          1.8743389876130496,
          1.8736796825432267,
          1.872921597116015,
          1.87206445930345,
          1.8711080294125855,
          1.870052100255049,
          1.8688964972970632,
          1.8676410787897983,
          1.8662857358799778,
          1.8648303927006284,
          1.863275006441924,
          1.8616195674020517,
          1.8598640990180741,
          1.8580086578767467,
          1.8560533337052918,
          1.8539982493421319,
          1.851843560687593,
          1.8495894566346263,
          1.8472361589795891,
          1.8447839223131575,
          1.8422330338914419,
          1.8395838134874125,
          1.8368366132227392,
          1.8339918173801721,
          1.831049842196608,
          1.8280111356369917,
          1.8248761771492303,
          1.8216454774002997,
          1.8183195779937469,
          1.814899051168798,
          1.8113844994813078,
          1.807776555466779,
          1.8040758812857254,
          1.8002831683516296,
          1.796399136941795,
          1.7924245357913713,
          1.7883601416708794,
          1.7842067589475388,
          1.7799652191307493,
          1.7756363804020583,
          1.7712211271299747,
          1.7667203693700047,
          1.76213504235028,
          1.757466105943178,
          1.7527145441233232,
          1.7478813644123956,
          1.742967597311152,
          1.7379742957191062,
          1.7329025343422901,
          1.7277534090895552,
          1.7225280364578734,
          1.7172275529070842,
          1.7118531142245779,
          1.7064058948803822,
          1.700887087373138,
          1.6952979015674619,
          1.6896395640231785,
          1.6839133173169398,
          1.678120419356726,
          1.6722621426897435,
          1.6663397738042367,
          1.6603546124257247,
          1.6543079708081891,
          1.6482011730207418,
          1.64203555423028,
          1.6358124599806783,
          1.6295332454690281,
          1.623199274819466,
          1.6168119203551097,
          1.6103725618686364,
          1.603882585892031,
          1.5973433849660297,
          1.5907563569097851,
          1.5841229040912725,
          1.577444432698962,
          1.5707223520152769,
          1.5639580736923373,
          1.5571530110305218,
          1.5503085782603265,
          1.543426189828052,
          1.5365072596857827,
          1.5295532005861774,
          1.52256542338253,
          1.5155453363346003,
          1.5084943444206698,
          1.5014138486562887,
          1.4943052454201813,
          1.487169925787744,
          1.480009274872581,
          1.4728246711765134,
          1.4656174859484734,
          1.4583890825527095,
          1.4511408158466943,
          1.4438740315691323,
          1.4365900657384558,
          1.4292902440621724,
          1.4219758813574317,
          1.4146482809831578,
          1.4073087342840935,
          1.399958520047073,
          1.3925989039698523,
          1.3852311381427875,
          1.3778564605436625,
          1.3704760945459435,
          1.363091248440722,
          1.3557031149726064,
          1.3483128708897976,
          1.3409216765085858,
          1.3335306752924714,
          1.3261409934461188,
          1.3187537395243343,
          1.3113700040562342,
          1.3039908591847744,
          1.2966173583217802,
          1.2892505358186175,
          1.281891406652626,
          1.2745409661294138,
          1.2672001896011182,
          1.2598700322007033,
          1.2525514285923665,
          1.2452452927381055,
          1.2379525176804789,
          1.2306739753415992,
          1.22341051633836,
          1.2161629698138976,
          1.208932143285278,
          1.2017188225073776,
          1.1945237713529244,
          1.1873477317086372,
          1.1801914233874027,
          1.1730555440564163,
          1.1659407691811892,
          1.1588477519853244,
          1.151777123425943,
          1.1447294921846376,
          1.1377054446738186,
          1.1307055450582946,
          1.1237303352919341,
          1.116780335169236,
          1.1098560423916257,
          1.1029579326482855,
          1.096086459711314,
          1.08924205554501,
          1.0824251304290475,
          1.0756360730953214,
          1.0688752508782113,
          1.0621430098780327,
          1.0554396751373945,
          1.0487655508302152,
          1.0421209204631177,
          1.0355060470889161,
          1.0289211735319195,
          1.0223665226247383,
          1.0158422974563057,
          1.0093486816308062,
          1.002885839537179,
          0.996453916628897,
          0.9900530397136855,
          0.9836833172528483,
          0.9773448396698723,
          0.9710376796679662,
          0.9647618925561878,
          0.9585175165838231,
          0.9523045732826513,
          0.9461230678167551,
          0.9399729893395123,
          0.9338543113574127,
          0.92776699210034,
          0.9217109748979568,
          0.9156861885618239,
          0.9096925477728977,
          0.9037299534740355,
          0.8977982932671373,
          0.8918974418145724,
          0.8860272612445099,
          0.8801876015598011,
          0.8743783010500393,
          0.8685991867064377,
          0.862850074639171,
          0.8571307704968074,
          0.8514410698874842,
          0.8457807588014672,
          0.8401496140347408,
          0.8345474036132841,
          0.8289738872176793,
          0.823428816607711,
          0.8179119360466247,
          0.812422982724696,
          0.8069616871817916,
          0.8015277737285846,
          0.7961209608661102,
          0.7907409617033406,
          0.7853874843724691,
          0.7800602324415893,
          0.774758905324481,
          0.769483198687196,
          0.7642328048511573,
          0.7590074131924929,
          0.7538067105373156,
          0.7486303815526962,
          0.7434781091330449,
          0.7383495747816573,
          0.7332444589871736,
          0.7281624415947003,
          0.7231032021713648,
          0.7180664203660729,
          0.7130517762632423,
          0.7080589507303072,
          0.7030876257587815,
          0.6981374847986801,
          0.6932082130861169,
          0.688299497963885,
          0.6834110291948531,
          0.6785424992680075,
          0.6736936036969788,
          0.6688640413109104,
          0.664053514537517,
          0.6592617296782035,
          0.6544883971751212,
          0.649733231870036,
          0.6449959532549063,
          0.640276285714066,
          0.6355739587579167,
          0.6308887072480558,
          0.6262202716137462,
          0.6215683980596742,
          0.6169328387649318,
          0.6123133520731658,
          0.6077097026738566,
          0.6031216617746872
         ],
         "yaxis": "y"
        },
        {
         "legendgroup": "Ridge",
         "marker": {
          "color": "rgb(255, 127, 14)"
         },
         "mode": "lines",
         "name": "Ridge",
         "showlegend": false,
         "type": "scatter",
         "x": [
          -0.2565162690781866,
          -0.2552950481680556,
          -0.2540738272579246,
          -0.2528526063477936,
          -0.25163138543766256,
          -0.25041016452753156,
          -0.24918894361740057,
          -0.24796772270726958,
          -0.24674650179713858,
          -0.24552528088700756,
          -0.24430405997687657,
          -0.24308283906674558,
          -0.24186161815661456,
          -0.24064039724648356,
          -0.23941917633635257,
          -0.23819795542622157,
          -0.23697673451609055,
          -0.23575551360595956,
          -0.23453429269582854,
          -0.23331307178569755,
          -0.23209185087556655,
          -0.23087062996543556,
          -0.22964940905530454,
          -0.22842818814517354,
          -0.22720696723504255,
          -0.22598574632491153,
          -0.22476452541478054,
          -0.22354330450464954,
          -0.22232208359451855,
          -0.22110086268438753,
          -0.21987964177425653,
          -0.2186584208641255,
          -0.21743719995399452,
          -0.21621597904386353,
          -0.21499475813373253,
          -0.2137735372236015,
          -0.21255231631347052,
          -0.21133109540333953,
          -0.2101098744932085,
          -0.2088886535830775,
          -0.20766743267294652,
          -0.20644621176281552,
          -0.2052249908526845,
          -0.2040037699425535,
          -0.20278254903242252,
          -0.2015613281222915,
          -0.2003401072121605,
          -0.1991188863020295,
          -0.19789766539189851,
          -0.1966764444817675,
          -0.1954552235716365,
          -0.19423400266150548,
          -0.19301278175137448,
          -0.1917915608412435,
          -0.1905703399311125,
          -0.18934911902098148,
          -0.18812789811085048,
          -0.18690667720071946,
          -0.18568545629058847,
          -0.18446423538045748,
          -0.18324301447032648,
          -0.18202179356019546,
          -0.18080057265006447,
          -0.17957935173993345,
          -0.17835813082980245,
          -0.17713690991967146,
          -0.17591568900954047,
          -0.17469446809940947,
          -0.17347324718927848,
          -0.17225202627914746,
          -0.17103080536901644,
          -0.16980958445888544,
          -0.16858836354875445,
          -0.16736714263862346,
          -0.16614592172849246,
          -0.16492470081836147,
          -0.16370347990823042,
          -0.16248225899809943,
          -0.16126103808796843,
          -0.16003981717783744,
          -0.15881859626770645,
          -0.15759737535757545,
          -0.15637615444744446,
          -0.1551549335373134,
          -0.15393371262718242,
          -0.15271249171705142,
          -0.15149127080692043,
          -0.15027004989678944,
          -0.14904882898665844,
          -0.14782760807652742,
          -0.1466063871663964,
          -0.1453851662562654,
          -0.14416394534613441,
          -0.14294272443600342,
          -0.14172150352587243,
          -0.1405002826157414,
          -0.1392790617056104,
          -0.13805784079547942,
          -0.1368366198853484,
          -0.1356153989752174,
          -0.1343941780650864,
          -0.13317295715495542,
          -0.1319517362448244,
          -0.1307305153346934,
          -0.12950929442456238,
          -0.1282880735144314,
          -0.1270668526043004,
          -0.1258456316941694,
          -0.12462441078403838,
          -0.12340318987390736,
          -0.12218196896377637,
          -0.12096074805364537,
          -0.11973952714351438,
          -0.11851830623338339,
          -0.11729708532325236,
          -0.11607586441312137,
          -0.11485464350299038,
          -0.11363342259285938,
          -0.11241220168272836,
          -0.11119098077259737,
          -0.10996975986246638,
          -0.10874853895233538,
          -0.10752731804220433,
          -0.10630609713207334,
          -0.10508487622194235,
          -0.10386365531181135,
          -0.10264243440168033,
          -0.10142121349154934,
          -0.10019999258141835,
          -0.09897877167128735,
          -0.09775755076115636,
          -0.09653632985102534,
          -0.09531510894089434,
          -0.09409388803076335,
          -0.09287266712063236,
          -0.09165144621050134,
          -0.09043022530037034,
          -0.08920900439023932,
          -0.08798778348010833,
          -0.0867665625699773,
          -0.08554534165984631,
          -0.08432412074971532,
          -0.08310289983958433,
          -0.0818816789294533,
          -0.08066045801932231,
          -0.07943923710919132,
          -0.07821801619906033,
          -0.07699679528892933,
          -0.07577557437879831,
          -0.07455435346866732,
          -0.07333313255853632,
          -0.0721119116484053,
          -0.07089069073827428,
          -0.06966946982814329,
          -0.0684482489180123,
          -0.0672270280078813,
          -0.06600580709775028,
          -0.06478458618761929,
          -0.06356336527748829,
          -0.0623421443673573,
          -0.06112092345722628,
          -0.059899702547095285,
          -0.05867848163696429,
          -0.0574572607268333,
          -0.056236039816702305,
          -0.05501481890657128,
          -0.05379359799644026,
          -0.05257237708630927,
          -0.051351156176178275,
          -0.050129935266047254,
          -0.04890871435591626,
          -0.04768749344578527,
          -0.046466272535654274,
          -0.04524505162552325,
          -0.04402383071539226,
          -0.042802609805261266,
          -0.04158138889513027,
          -0.04036016798499928,
          -0.03913894707486826,
          -0.037917726164737264,
          -0.03669650525460624,
          -0.03547528434447525,
          -0.03425406343434423,
          -0.033032842524213235,
          -0.03181162161408224,
          -0.030590400703951248,
          -0.029369179793820227,
          -0.028147958883689234,
          -0.02692673797355824,
          -0.025705517063427247,
          -0.024484296153296226,
          -0.023263075243165232,
          -0.02204185433303424,
          -0.020820633422903245,
          -0.019599412512772252,
          -0.018378191602641203,
          -0.01715697069251021,
          -0.015935749782379216,
          -0.014714528872248223,
          -0.013493307962117201,
          -0.012272087051986208,
          -0.011050866141855215,
          -0.009829645231724221,
          -0.0086084243215932,
          -0.0073872034114622065,
          -0.006165982501331213,
          -0.00494476159120022,
          -0.0037235406810691707,
          -0.0025023197709381773,
          -0.0012810988608071838,
          -5.9877950676190395e-05,
          0.001161342959454803,
          0.0023825638695857965,
          0.00360378477971679,
          0.004825005689847783,
          0.006046226599978832,
          0.007267447510109826,
          0.00848866842024082,
          0.009709889330371868,
          0.010931110240502806,
          0.012152331150633855,
          0.013373552060764793,
          0.014594772970895842,
          0.015815993881026835,
          0.01703721479115783,
          0.018258435701288822,
          0.019479656611419816,
          0.02070087752155081,
          0.021922098431681858,
          0.023143319341812796,
          0.024364540251943845,
          0.025585761162074894,
          0.02680698207220583,
          0.02802820298233688,
          0.02924942389246782,
          0.030470644802598867,
          0.03169186571272986,
          0.032913086622860854,
          0.03413430753299185,
          0.0353555284431229,
          0.036576749353253835,
          0.037797970263384884,
          0.03901919117351582,
          0.04024041208364687,
          0.04146163299377792,
          0.04268285390390886,
          0.043904074814039906,
          0.045125295724170844,
          0.04634651663430189,
          0.047567737544432886,
          0.04878895845456388,
          0.05001017936469487,
          0.05123140027482592,
          0.05245262118495686,
          0.05367384209508791,
          0.05489506300521885,
          0.056116283915349896,
          0.05733750482548089,
          0.05855872573561188,
          0.05977994664574293,
          0.06100116755587387,
          0.06222238846600492,
          0.06344360937613591,
          0.0646648302862669,
          0.0658860511963979,
          0.06710727210652895,
          0.06832849301665989,
          0.06954971392679093,
          0.07077093483692187,
          0.07199215574705292,
          0.07321337665718392,
          0.07443459756731491,
          0.0756558184774459,
          0.0768770393875769,
          0.07809826029770794,
          0.07931948120783894,
          0.08054070211796993,
          0.08176192302810092,
          0.08298314393823197,
          0.08420436484836291,
          0.08542558575849396,
          0.0866468066686249,
          0.08786802757875595,
          0.08908924848888694,
          0.09031046939901793,
          0.09153169030914893,
          0.09275291121927998,
          0.09397413212941091,
          0.09519535303954196,
          0.09641657394967296,
          0.09763779485980395,
          0.098859015769935,
          0.10008023668006594,
          0.10130145759019699,
          0.10252267850032792,
          0.10374389941045897,
          0.10496512032058997,
          0.10618634123072096,
          0.10740756214085195,
          0.108628783050983,
          0.10985000396111394,
          0.11107122487124499,
          0.11229244578137598,
          0.11351366669150698,
          0.11473488760163802,
          0.11595610851176896,
          0.11717732942190001,
          0.11839855033203095,
          0.119619771242162,
          0.12084099215229299,
          0.12206221306242399,
          0.12328343397255498,
          0.12450465488268603,
          0.12572587579281697,
          0.12694709670294801,
          0.12816831761307895,
          0.12938953852321,
          0.13061075943334105,
          0.131831980343472,
          0.13305320125360304,
          0.13427442216373403,
          0.13549564307386502,
          0.13671686398399602,
          0.137938084894127,
          0.139159305804258,
          0.14038052671438905,
          0.14160174762452,
          0.14282296853465104,
          0.14404418944478198,
          0.14526541035491303,
          0.14648663126504402,
          0.14770785217517501,
          0.14892907308530606,
          0.15015029399543706,
          0.15137151490556805,
          0.15259273581569904,
          0.15381395672583004,
          0.15503517763596103,
          0.15625639854609208,
          0.15747761945622302,
          0.15869884036635407,
          0.159920061276485,
          0.16114128218661605,
          0.16236250309674705,
          0.16358372400687804,
          0.1648049449170091,
          0.16602616582714008,
          0.16724738673727108,
          0.16846860764740207,
          0.16968982855753306,
          0.17091104946766406,
          0.1721322703777951,
          0.17335349128792604,
          0.1745747121980571,
          0.17579593310818803,
          0.17701715401831908,
          0.17823837492845007,
          0.17945959583858107,
          0.18068081674871206,
          0.1819020376588431,
          0.1831232585689741,
          0.1843444794791051,
          0.1855657003892361,
          0.18678692129936708,
          0.18800814220949813,
          0.18922936311962907,
          0.19045058402976012,
          0.1916718049398911,
          0.1928930258500221,
          0.1941142467601531,
          0.1953354676702841,
          0.19655668858041508,
          0.19777790949054613,
          0.19899913040067707,
          0.20022035131080812,
          0.2014415722209391,
          0.2026627931310701,
          0.20388401404120116,
          0.2051052349513321,
          0.20632645586146314,
          0.20754767677159414,
          0.20876889768172513,
          0.20999011859185612,
          0.21121133950198712,
          0.2124325604121181,
          0.21365378132224916,
          0.2148750022323801,
          0.21609622314251115,
          0.21731744405264208,
          0.21853866496277313,
          0.21975988587290418,
          0.22098110678303512,
          0.22220232769316617,
          0.22342354860329716,
          0.22464476951342816,
          0.22586599042355915,
          0.22708721133369014,
          0.22830843224382114,
          0.22952965315395218,
          0.23075087406408312,
          0.23197209497421417,
          0.2331933158843451,
          0.23441453679447616,
          0.2356357577046072,
          0.23685697861473815,
          0.2380781995248692,
          0.2392994204350002,
          0.24052064134513118,
          0.24174186225526217,
          0.24296308316539317,
          0.24418430407552416,
          0.24540552498565515,
          0.24662674589578615,
          0.24784796680591714,
          0.24906918771604825,
          0.25029040862617913,
          0.25151162953631023,
          0.2527328504464412,
          0.2539540713565722,
          0.2551752922667032,
          0.2563965131768342,
          0.2576177340869652,
          0.2588389549970962,
          0.2600601759072272,
          0.2612813968173582,
          0.2625026177274893,
          0.26372383863762017,
          0.26494505954775116,
          0.26616628045788215,
          0.26738750136801326,
          0.26860872227814425,
          0.26982994318827525,
          0.27105116409840624,
          0.27227238500853723,
          0.2734936059186682,
          0.2747148268287992,
          0.2759360477389303,
          0.2771572686490612,
          0.2783784895591922,
          0.2795997104693232,
          0.2808209313794543,
          0.2820421522895853,
          0.2832633731997162,
          0.28448459410984717,
          0.28570581501997827,
          0.28692703593010926,
          0.28814825684024026,
          0.28936947775037125,
          0.29059069866050224,
          0.29181191957063324,
          0.29303314048076423,
          0.29425436139089534,
          0.2954755823010262,
          0.2966968032111572,
          0.2979180241212882,
          0.2991392450314193,
          0.3003604659415503,
          0.3015816868516813,
          0.3028029077618122,
          0.3040241286719433,
          0.3052453495820743,
          0.30646657049220527,
          0.3076877914023364,
          0.30890901231246726,
          0.31013023322259825,
          0.31135145413272924,
          0.31257267504286035,
          0.31379389595299134,
          0.3150151168631222,
          0.3162363377732532,
          0.3174575586833843,
          0.3186787795935153,
          0.3199000005036463,
          0.3211212214137772,
          0.3223424423239083,
          0.3235636632340393,
          0.3247848841441703,
          0.3260061050543014,
          0.3272273259644324,
          0.32844854687456326,
          0.32966976778469426,
          0.33089098869482536,
          0.33211220960495635,
          0.33333343051508735,
          0.33455465142521823,
          0.33577587233534933,
          0.33699709324548033,
          0.3382183141556113,
          0.3394395350657424,
          0.3406607559758733,
          0.3418819768860043,
          0.3431031977961353,
          0.3443244187062664,
          0.3455456396163974,
          0.3467668605265283,
          0.34798808143665927,
          0.3492093023467904,
          0.35043052325692137,
          0.35165174416705236,
          0.35287296507718324
         ],
         "xaxis": "x",
         "y": [
          0.8909053376107519,
          0.8960892345118112,
          0.9012440932817919,
          0.9063694822976384,
          0.9114649851713202,
          0.9165302009921837,
          0.9215647445611856,
          0.9265682466168083,
          0.931540354052463,
          0.936480730125198,
          0.9413890546555193,
          0.9462650242181606,
          0.9511083523236185,
          0.9559187695902888,
          0.9606960239070537,
          0.9654398805861487,
          0.9701501225061749,
          0.974826550245107,
          0.9794689822031631,
          0.984077254715407,
          0.9886512221539586,
          0.9931907570196999,
          0.9976957500233622,
          1.0021661101558932,
          1.0066017647480157,
          1.0110026595188768,
          1.0153687586137166,
          1.019700044630481,
          1.0239965186353057,
          1.028258200166824,
          1.0324851272292295,
          1.0366773562740756,
          1.0408349621707422,
          1.0449580381655752,
          1.0490466958296505,
          1.053101064995166,
          1.057121293680448,
          1.0611075480035792,
          1.0650600120846538,
          1.0689788879366804,
          1.0728643953451609,
          1.076716771736373,
          1.0805362720344012,
          1.084323168506971,
          1.088077750600126,
          1.0918003247618395,
          1.095491214254601,
          1.099150758957091,
          1.1027793151550012,
          1.1063772553211173,
          1.1099449678847573,
          1.113482856990676,
          1.1169913422475537,
          1.1204708584661989,
          1.1239218553875865,
          1.1273447974008803,
          1.1307401632515814,
          1.1341084457399564,
          1.137450151409901,
          1.1407658002284162,
          1.1440559252558578,
          1.1473210723071439,
          1.1505617996041075,
          1.1537786774191876,
          1.1569722877106454,
          1.1601432237495273,
          1.163292089738569,
          1.1664195004232647,
          1.1695260806953147,
          1.1726124651886909,
          1.1756792978685318,
          1.1787272316131208,
          1.1817569277891806,
          1.1847690558207284,
          1.1877642927517447,
          1.1907433228029123,
          1.1937068369226764,
          1.1966555323328958,
          1.19959011206935,
          1.2025112845173664,
          1.2054197629428507,
          1.2083162650189845,
          1.2112015123488817,
          1.2140762299844792,
          1.2169411459419446,
          1.219796990713898,
          1.2226444967787233,
          1.2254843981072758,
          1.2283174296672663,
          1.2311443269256261,
          1.2339658253491432,
          1.2367826599036733,
          1.2395955645522196,
          1.2424052717521812,
          1.2452125119520772,
          1.248018013088037,
          1.25082250008037,
          1.2536266943305021,
          1.256431313218596,
          1.259237069602141,
          1.2620446713158258,
          1.2648548206729837,
          1.26766821396892,
          1.2704855409864044,
          1.2733074845036452,
          1.2761347198050212,
          1.2789679141948807,
          1.281807726514687,
          1.284654806663813,
          1.287509795124262,
          1.290373322489607,
          1.2932460089984328,
          1.2961284640725594,
          1.2990212858603198,
          1.3019250607851813,
          1.30484036309997,
          1.3077677544469724,
          1.3107077834241805,
          1.3136609851579415,
          1.316627880882274,
          1.3196089775250972,
          1.3226047673016361,
          1.3256157273152411,
          1.3286423191658658,
          1.3316849885664468,
          1.3347441649674143,
          1.3378202611895633,
          1.340913673065517,
          1.3440247790899926,
          1.3471539400790948,
          1.35030149883884,
          1.353467779843119,
          1.3566530889213022,
          1.3598577129556773,
          1.3630819195889072,
          1.3663259569417048,
          1.3695900533408825,
          1.3728744170579708,
          1.3761792360585587,
          1.3795046777625246,
          1.3828508888153102,
          1.386217994870385,
          1.3896061003830558,
          1.3930152884157414,
          1.3964456204548625,
          1.3998971362394574,
          1.4033698536016532,
          1.4068637683190939,
          1.4103788539794506,
          1.4139150618570884,
          1.417472320802008,
          1.4210505371411326,
          1.4246495945920299,
          1.4282693541891405,
          1.431909654222574,
          1.4355703101895485,
          1.4392511147585145,
          1.442951837746012,
          1.44667222610631,
          1.4504120039338586,
          1.454170872478571,
          1.4579485101739749,
          1.461744572678233,
          1.4655586929280429,
          1.4693904812054186,
          1.4732395252173467,
          1.4771053901883042,
          1.4809876189656117,
          1.4848857321376077,
          1.4887992281645954,
          1.4927275835225329,
          1.4966702528594122,
          1.5006266691642771,
          1.5045962439488147,
          1.508578367441457,
          1.5125724087939147,
          1.516577716300061,
          1.5205936176270827,
          1.5246194200587972,
          1.5286544107510338,
          1.532697856998979,
          1.536749006516363,
          1.5408070877263622,
          1.5448713100641065,
          1.5489408642906337,
          1.5530149228181698,
          1.5570926400465723,
          1.5611731527107948,
          1.5652555802391992,
          1.5693390251225632,
          1.5734225732935943,
          1.5775052945167845,
          1.5815862427884095,
          1.585664456746489,
          1.5897389600905014,
          1.5938087620106558,
          1.597872857626511,
          1.6019302284347194,
          1.6059798427656815,
          1.6100206562488815,
          1.6140516122866657,
          1.618071642536237,
          1.6220796673996074,
          1.6260745965212702,
          1.630055329293332,
          1.6340207553678467,
          1.6379697551760826,
          1.6419012004544633,
          1.6458139547768893,
          1.6497068740931842,
          1.6535788072733604,
          1.6574285966574263,
          1.661255078610443,
          1.665057084082528,
          1.6688334391735065,
          1.672582965701908,
          1.6763044817779924,
          1.6799968023805014,
          1.6836587399368117,
          1.6872891049061685,
          1.6908867063656903,
          1.6944503525987977,
          1.6979788516857586,
          1.7014710120959953,
          1.7049256432818451,
          1.7083415562734146,
          1.7117175642742013,
          1.7150524832571377,
          1.7183451325607175,
          1.7215943354848546,
          1.7247989198861364,
          1.727957718772115,
          1.731069570894297,
          1.7341333213394778,
          1.7371478221190724,
          1.74011193275609,
          1.7430245208694095,
          1.7458844627549963,
          1.748690643963716,
          1.7514419598753972,
          1.7541373162687894,
          1.7567756298870743,
          1.7593558289985753,
          1.7618768539523326,
          1.7643376577281875,
          1.7667372064810458,
          1.7690744800789717,
          1.7713484726347792,
          1.7735581930307902,
          1.7757026654364192,
          1.7777809298182665,
          1.7797920424423852,
          1.7817350763684094,
          1.783609121935219,
          1.7854132872378314,
          1.7871466985952151,
          1.7888085010087087,
          1.7903978586107607,
          1.7919139551036865,
          1.793355994188156,
          1.7947231999811268,
          1.796014817422953,
          1.797230112673386,
          1.7983683734962133,
          1.7994289096322713,
          1.8004110531605806,
          1.8013141588473647,
          1.8021376044827018,
          1.8028807912045979,
          1.8035431438102436,
          1.8041241110542476,
          1.8046231659336402,
          1.8050398059594486,
          1.80537355341465,
          1.8056239555983338,
          1.805790585055887,
          1.8058730397950513,
          1.80587094348769,
          1.8057839456571305,
          1.8056117218509387,
          1.8053539737990056,
          1.8050104295568339,
          1.8045808436339112,
          1.8040649971070901,
          1.8034626977188726,
          1.8027737799605423,
          1.8019981051400737,
          1.8011355614347617,
          1.8001860639285412,
          1.7991495546339562,
          1.798026002498764,
          1.7968154033971588,
          1.7955177801056315,
          1.7941331822634576,
          1.7926616863178582,
          1.7911033954538573,
          1.7894584395088815,
          1.787726974872172,
          1.7859091843690607,
          1.784005277130207,
          1.7820154884458754,
          1.779940079605359,
          1.7777793377216642,
          1.775533575541585,
          1.7732031312412893,
          1.7707883682075771,
          1.7682896748049617,
          1.7657074641287422,
          1.7630421737442423,
          1.7602942654124143,
          1.7574642248019925,
          1.7545525611884238,
          1.7515598071397713,
          1.748486518189849,
          1.7453332724987962,
          1.7421006705013669,
          1.7387893345431737,
          1.7353999085051628,
          1.7319330574165923,
          1.728389467056799,
          1.724769843546051,
          1.7210749129257807,
          1.7173054207285128,
          1.7134621315378036,
          1.70954582853852,
          1.7055573130577795,
          1.7014974040969064,
          1.6973669378547362,
          1.6931667672426285,
          1.6888977613915432,
          1.6845608051515508,
          1.6801567985841328,
          1.6756866564476645,
          1.6711513076764486,
          1.6665516948536858,
          1.6618887736787773,
          1.6571635124293405,
          1.652376891418347,
          1.6475299024467756,
          1.6426235482521754,
          1.6376588419535618,
          1.6326368064930352,
          1.6275584740745386,
          1.6224248856001637,
          1.6172370901044166,
          1.6119961441868538,
          1.6067031114435002,
          1.6013590618974654,
          1.5959650714291636,
          1.590522221206555,
          1.5850315971158129,
          1.5794942891928272,
          1.5739113910559552,
          1.5682839993404127,
          1.562613213134725,
          1.5569001334196153,
          1.5511458625097476,
          1.545351503498699,
          1.5395181597075622,
          1.5336469341375523,
          1.527738928927008,
          1.5217952448131475,
          1.5158169805989656,
          1.5098052326256184,
          1.5037610942506658,
          1.4976856553325195,
          1.4915800017214353,
          1.485445214757402,
          1.4792823707752414,
          1.4730925406172564,
          1.4668767891537362,
          1.4606361748116303,
          1.4543717491116879,
          1.4480845562143612,
          1.441775632474743,
          1.4354460060068326,
          1.429096696257371,
          1.422728713589526,
          1.4163430588766521,
          1.409940723106377,
          1.4035226869952357,
          1.3970899206140674,
          1.3906433830243865,
          1.384184021925921,
          1.3777127733155077,
          1.3712305611575102,
          1.3647382970659443,
          1.3582368799984357,
          1.351727195962188,
          1.3452101177320548,
          1.3386865045808758,
          1.3321572020221555,
          1.325623041565199,
          1.3190848404827933,
          1.3125434015915016,
          1.3059995130446467,
          1.2994539481380278,
          1.2929074651284205,
          1.2863608070648902,
          1.279814701632936,
          1.273269861011481,
          1.2667269817427016,
          1.2601867446146855,
          1.2536498145568986,
          1.247116840548421,
          1.2405884555389055,
          1.2340652763822177,
          1.2275479037826704,
          1.2210369222537938,
          1.2145329000895426,
          1.208036389347855,
          1.201547925846444,
          1.1950680291707156,
          1.1885972026936829,
          1.1821359336077368,
          1.1756846929681457,
          1.1692439357481001,
          1.1628141009051762,
          1.1563956114590157,
          1.1499888745800633,
          1.143594281689165,
          1.1372122085678333,
          1.1308430154789768,
          1.1244870472978832,
          1.1181446336532408,
          1.111816089077967,
          1.1055017131696232,
          1.0992017907601614,
          1.0929165920947825,
          1.0866463730196338,
          1.080391375178107,
          1.074151826215461,
          1.0679279399915222,
          1.0617199168011768,
          1.0555279436023868,
          1.0493521942514528,
          1.0431928297452362,
          1.0370499984700616,
          1.0309238364569988,
          1.0248144676432482,
          1.018722004139322,
          1.012646546501729,
          1.0065881840108613,
          1.0005469949537882,
          0.9945230469116513,
          0.9885163970513553,
          0.9825270924212509,
          0.9765551702505118,
          0.9706006582518932,
          0.9646635749275707,
          0.9587439298777518,
          0.9528417241117638,
          0.9469569503613072,
          0.9410895933955727,
          0.935239630337932,
          0.929407030983888,
          0.9235917581200086,
          0.9177937678435211,
          0.9120130098823089,
          0.9062494279149907,
          0.900502959890825,
          0.8947735383491273,
          0.8890610907379477,
          0.8833655397317182,
          0.8776868035475976,
          0.8720247962602607,
          0.8663794281148507,
          0.8607506058378495,
          0.8551382329456063,
          0.849542210050276,
          0.8439624351629305,
          0.8383988039935966,
          0.8328512102479888,
          0.8273195459207168,
          0.8218037015847384,
          0.8163035666768534,
          0.8108190297790132,
          0.80534997889526,
          0.7998963017240897,
          0.7944578859260514,
          0.7890346193863981,
          0.783626390472618,
          0.7782330882866706,
          0.7728546029117624,
          0.7674908256535186,
          0.7621416492753852,
          0.7568069682281388,
          0.7514866788733463,
          0.7461806797006706,
          0.7408888715388882,
          0.7356111577605031,
          0.7303474444798674,
          0.7250976407446912,
          0.7198616587208662,
          0.714639413870508,
          0.7094308251231466,
          0.7042358150399975,
          0.6990543099712494,
          0.6938862402063077,
          0.6887315401169601
         ],
         "yaxis": "y"
        },
        {
         "legendgroup": "Lasso",
         "marker": {
          "color": "rgb(31, 119, 180)",
          "symbol": "line-ns-open"
         },
         "mode": "markers",
         "name": "Lasso",
         "showlegend": false,
         "type": "scatter",
         "x": [
          0.09307319610679664,
          -0.25729303193076497,
          -0.026769058563201966,
          0.24327115497582805,
          -0.0059211130607449754,
          0.11162472583273662,
          -0.15307058718061636,
          -0.1771316776899766,
          0.08958245718276484,
          0.1215821360467991,
          0.36439887416451405
         ],
         "xaxis": "x",
         "y": [
          "Lasso",
          "Lasso",
          "Lasso",
          "Lasso",
          "Lasso",
          "Lasso",
          "Lasso",
          "Lasso",
          "Lasso",
          "Lasso",
          "Lasso"
         ],
         "yaxis": "y2"
        },
        {
         "legendgroup": "Ridge",
         "marker": {
          "color": "rgb(255, 127, 14)",
          "symbol": "line-ns-open"
         },
         "mode": "markers",
         "name": "Ridge",
         "showlegend": false,
         "type": "scatter",
         "x": [
          0.10637578989571628,
          -0.2565162690781866,
          -0.028775484280967767,
          0.26014317211754356,
          -0.005185285487879554,
          0.11425599728515934,
          -0.15795936727923499,
          -0.20163024081752745,
          0.09740824699745732,
          0.12497059657251386,
          0.35409418598731435
         ],
         "xaxis": "x",
         "y": [
          "Ridge",
          "Ridge",
          "Ridge",
          "Ridge",
          "Ridge",
          "Ridge",
          "Ridge",
          "Ridge",
          "Ridge",
          "Ridge",
          "Ridge"
         ],
         "yaxis": "y2"
        }
       ],
       "layout": {
        "barmode": "overlay",
        "hovermode": "closest",
        "legend": {
         "traceorder": "reversed"
        },
        "template": {
         "data": {
          "bar": [
           {
            "error_x": {
             "color": "#2a3f5f"
            },
            "error_y": {
             "color": "#2a3f5f"
            },
            "marker": {
             "line": {
              "color": "#E5ECF6",
              "width": 0.5
             },
             "pattern": {
              "fillmode": "overlay",
              "size": 10,
              "solidity": 0.2
             }
            },
            "type": "bar"
           }
          ],
          "barpolar": [
           {
            "marker": {
             "line": {
              "color": "#E5ECF6",
              "width": 0.5
             },
             "pattern": {
              "fillmode": "overlay",
              "size": 10,
              "solidity": 0.2
             }
            },
            "type": "barpolar"
           }
          ],
          "carpet": [
           {
            "aaxis": {
             "endlinecolor": "#2a3f5f",
             "gridcolor": "white",
             "linecolor": "white",
             "minorgridcolor": "white",
             "startlinecolor": "#2a3f5f"
            },
            "baxis": {
             "endlinecolor": "#2a3f5f",
             "gridcolor": "white",
             "linecolor": "white",
             "minorgridcolor": "white",
             "startlinecolor": "#2a3f5f"
            },
            "type": "carpet"
           }
          ],
          "choropleth": [
           {
            "colorbar": {
             "outlinewidth": 0,
             "ticks": ""
            },
            "type": "choropleth"
           }
          ],
          "contour": [
           {
            "colorbar": {
             "outlinewidth": 0,
             "ticks": ""
            },
            "colorscale": [
             [
              0,
              "#0d0887"
             ],
             [
              0.1111111111111111,
              "#46039f"
             ],
             [
              0.2222222222222222,
              "#7201a8"
             ],
             [
              0.3333333333333333,
              "#9c179e"
             ],
             [
              0.4444444444444444,
              "#bd3786"
             ],
             [
              0.5555555555555556,
              "#d8576b"
             ],
             [
              0.6666666666666666,
              "#ed7953"
             ],
             [
              0.7777777777777778,
              "#fb9f3a"
             ],
             [
              0.8888888888888888,
              "#fdca26"
             ],
             [
              1,
              "#f0f921"
             ]
            ],
            "type": "contour"
           }
          ],
          "contourcarpet": [
           {
            "colorbar": {
             "outlinewidth": 0,
             "ticks": ""
            },
            "type": "contourcarpet"
           }
          ],
          "heatmap": [
           {
            "colorbar": {
             "outlinewidth": 0,
             "ticks": ""
            },
            "colorscale": [
             [
              0,
              "#0d0887"
             ],
             [
              0.1111111111111111,
              "#46039f"
             ],
             [
              0.2222222222222222,
              "#7201a8"
             ],
             [
              0.3333333333333333,
              "#9c179e"
             ],
             [
              0.4444444444444444,
              "#bd3786"
             ],
             [
              0.5555555555555556,
              "#d8576b"
             ],
             [
              0.6666666666666666,
              "#ed7953"
             ],
             [
              0.7777777777777778,
              "#fb9f3a"
             ],
             [
              0.8888888888888888,
              "#fdca26"
             ],
             [
              1,
              "#f0f921"
             ]
            ],
            "type": "heatmap"
           }
          ],
          "heatmapgl": [
           {
            "colorbar": {
             "outlinewidth": 0,
             "ticks": ""
            },
            "colorscale": [
             [
              0,
              "#0d0887"
             ],
             [
              0.1111111111111111,
              "#46039f"
             ],
             [
              0.2222222222222222,
              "#7201a8"
             ],
             [
              0.3333333333333333,
              "#9c179e"
             ],
             [
              0.4444444444444444,
              "#bd3786"
             ],
             [
              0.5555555555555556,
              "#d8576b"
             ],
             [
              0.6666666666666666,
              "#ed7953"
             ],
             [
              0.7777777777777778,
              "#fb9f3a"
             ],
             [
              0.8888888888888888,
              "#fdca26"
             ],
             [
              1,
              "#f0f921"
             ]
            ],
            "type": "heatmapgl"
           }
          ],
          "histogram": [
           {
            "marker": {
             "pattern": {
              "fillmode": "overlay",
              "size": 10,
              "solidity": 0.2
             }
            },
            "type": "histogram"
           }
          ],
          "histogram2d": [
           {
            "colorbar": {
             "outlinewidth": 0,
             "ticks": ""
            },
            "colorscale": [
             [
              0,
              "#0d0887"
             ],
             [
              0.1111111111111111,
              "#46039f"
             ],
             [
              0.2222222222222222,
              "#7201a8"
             ],
             [
              0.3333333333333333,
              "#9c179e"
             ],
             [
              0.4444444444444444,
              "#bd3786"
             ],
             [
              0.5555555555555556,
              "#d8576b"
             ],
             [
              0.6666666666666666,
              "#ed7953"
             ],
             [
              0.7777777777777778,
              "#fb9f3a"
             ],
             [
              0.8888888888888888,
              "#fdca26"
             ],
             [
              1,
              "#f0f921"
             ]
            ],
            "type": "histogram2d"
           }
          ],
          "histogram2dcontour": [
           {
            "colorbar": {
             "outlinewidth": 0,
             "ticks": ""
            },
            "colorscale": [
             [
              0,
              "#0d0887"
             ],
             [
              0.1111111111111111,
              "#46039f"
             ],
             [
              0.2222222222222222,
              "#7201a8"
             ],
             [
              0.3333333333333333,
              "#9c179e"
             ],
             [
              0.4444444444444444,
              "#bd3786"
             ],
             [
              0.5555555555555556,
              "#d8576b"
             ],
             [
              0.6666666666666666,
              "#ed7953"
             ],
             [
              0.7777777777777778,
              "#fb9f3a"
             ],
             [
              0.8888888888888888,
              "#fdca26"
             ],
             [
              1,
              "#f0f921"
             ]
            ],
            "type": "histogram2dcontour"
           }
          ],
          "mesh3d": [
           {
            "colorbar": {
             "outlinewidth": 0,
             "ticks": ""
            },
            "type": "mesh3d"
           }
          ],
          "parcoords": [
           {
            "line": {
             "colorbar": {
              "outlinewidth": 0,
              "ticks": ""
             }
            },
            "type": "parcoords"
           }
          ],
          "pie": [
           {
            "automargin": true,
            "type": "pie"
           }
          ],
          "scatter": [
           {
            "fillpattern": {
             "fillmode": "overlay",
             "size": 10,
             "solidity": 0.2
            },
            "type": "scatter"
           }
          ],
          "scatter3d": [
           {
            "line": {
             "colorbar": {
              "outlinewidth": 0,
              "ticks": ""
             }
            },
            "marker": {
             "colorbar": {
              "outlinewidth": 0,
              "ticks": ""
             }
            },
            "type": "scatter3d"
           }
          ],
          "scattercarpet": [
           {
            "marker": {
             "colorbar": {
              "outlinewidth": 0,
              "ticks": ""
             }
            },
            "type": "scattercarpet"
           }
          ],
          "scattergeo": [
           {
            "marker": {
             "colorbar": {
              "outlinewidth": 0,
              "ticks": ""
             }
            },
            "type": "scattergeo"
           }
          ],
          "scattergl": [
           {
            "marker": {
             "colorbar": {
              "outlinewidth": 0,
              "ticks": ""
             }
            },
            "type": "scattergl"
           }
          ],
          "scattermapbox": [
           {
            "marker": {
             "colorbar": {
              "outlinewidth": 0,
              "ticks": ""
             }
            },
            "type": "scattermapbox"
           }
          ],
          "scatterpolar": [
           {
            "marker": {
             "colorbar": {
              "outlinewidth": 0,
              "ticks": ""
             }
            },
            "type": "scatterpolar"
           }
          ],
          "scatterpolargl": [
           {
            "marker": {
             "colorbar": {
              "outlinewidth": 0,
              "ticks": ""
             }
            },
            "type": "scatterpolargl"
           }
          ],
          "scatterternary": [
           {
            "marker": {
             "colorbar": {
              "outlinewidth": 0,
              "ticks": ""
             }
            },
            "type": "scatterternary"
           }
          ],
          "surface": [
           {
            "colorbar": {
             "outlinewidth": 0,
             "ticks": ""
            },
            "colorscale": [
             [
              0,
              "#0d0887"
             ],
             [
              0.1111111111111111,
              "#46039f"
             ],
             [
              0.2222222222222222,
              "#7201a8"
             ],
             [
              0.3333333333333333,
              "#9c179e"
             ],
             [
              0.4444444444444444,
              "#bd3786"
             ],
             [
              0.5555555555555556,
              "#d8576b"
             ],
             [
              0.6666666666666666,
              "#ed7953"
             ],
             [
              0.7777777777777778,
              "#fb9f3a"
             ],
             [
              0.8888888888888888,
              "#fdca26"
             ],
             [
              1,
              "#f0f921"
             ]
            ],
            "type": "surface"
           }
          ],
          "table": [
           {
            "cells": {
             "fill": {
              "color": "#EBF0F8"
             },
             "line": {
              "color": "white"
             }
            },
            "header": {
             "fill": {
              "color": "#C8D4E3"
             },
             "line": {
              "color": "white"
             }
            },
            "type": "table"
           }
          ]
         },
         "layout": {
          "annotationdefaults": {
           "arrowcolor": "#2a3f5f",
           "arrowhead": 0,
           "arrowwidth": 1
          },
          "autotypenumbers": "strict",
          "coloraxis": {
           "colorbar": {
            "outlinewidth": 0,
            "ticks": ""
           }
          },
          "colorscale": {
           "diverging": [
            [
             0,
             "#8e0152"
            ],
            [
             0.1,
             "#c51b7d"
            ],
            [
             0.2,
             "#de77ae"
            ],
            [
             0.3,
             "#f1b6da"
            ],
            [
             0.4,
             "#fde0ef"
            ],
            [
             0.5,
             "#f7f7f7"
            ],
            [
             0.6,
             "#e6f5d0"
            ],
            [
             0.7,
             "#b8e186"
            ],
            [
             0.8,
             "#7fbc41"
            ],
            [
             0.9,
             "#4d9221"
            ],
            [
             1,
             "#276419"
            ]
           ],
           "sequential": [
            [
             0,
             "#0d0887"
            ],
            [
             0.1111111111111111,
             "#46039f"
            ],
            [
             0.2222222222222222,
             "#7201a8"
            ],
            [
             0.3333333333333333,
             "#9c179e"
            ],
            [
             0.4444444444444444,
             "#bd3786"
            ],
            [
             0.5555555555555556,
             "#d8576b"
            ],
            [
             0.6666666666666666,
             "#ed7953"
            ],
            [
             0.7777777777777778,
             "#fb9f3a"
            ],
            [
             0.8888888888888888,
             "#fdca26"
            ],
            [
             1,
             "#f0f921"
            ]
           ],
           "sequentialminus": [
            [
             0,
             "#0d0887"
            ],
            [
             0.1111111111111111,
             "#46039f"
            ],
            [
             0.2222222222222222,
             "#7201a8"
            ],
            [
             0.3333333333333333,
             "#9c179e"
            ],
            [
             0.4444444444444444,
             "#bd3786"
            ],
            [
             0.5555555555555556,
             "#d8576b"
            ],
            [
             0.6666666666666666,
             "#ed7953"
            ],
            [
             0.7777777777777778,
             "#fb9f3a"
            ],
            [
             0.8888888888888888,
             "#fdca26"
            ],
            [
             1,
             "#f0f921"
            ]
           ]
          },
          "colorway": [
           "#636efa",
           "#EF553B",
           "#00cc96",
           "#ab63fa",
           "#FFA15A",
           "#19d3f3",
           "#FF6692",
           "#B6E880",
           "#FF97FF",
           "#FECB52"
          ],
          "font": {
           "color": "#2a3f5f"
          },
          "geo": {
           "bgcolor": "white",
           "lakecolor": "white",
           "landcolor": "#E5ECF6",
           "showlakes": true,
           "showland": true,
           "subunitcolor": "white"
          },
          "hoverlabel": {
           "align": "left"
          },
          "hovermode": "closest",
          "mapbox": {
           "style": "light"
          },
          "paper_bgcolor": "white",
          "plot_bgcolor": "#E5ECF6",
          "polar": {
           "angularaxis": {
            "gridcolor": "white",
            "linecolor": "white",
            "ticks": ""
           },
           "bgcolor": "#E5ECF6",
           "radialaxis": {
            "gridcolor": "white",
            "linecolor": "white",
            "ticks": ""
           }
          },
          "scene": {
           "xaxis": {
            "backgroundcolor": "#E5ECF6",
            "gridcolor": "white",
            "gridwidth": 2,
            "linecolor": "white",
            "showbackground": true,
            "ticks": "",
            "zerolinecolor": "white"
           },
           "yaxis": {
            "backgroundcolor": "#E5ECF6",
            "gridcolor": "white",
            "gridwidth": 2,
            "linecolor": "white",
            "showbackground": true,
            "ticks": "",
            "zerolinecolor": "white"
           },
           "zaxis": {
            "backgroundcolor": "#E5ECF6",
            "gridcolor": "white",
            "gridwidth": 2,
            "linecolor": "white",
            "showbackground": true,
            "ticks": "",
            "zerolinecolor": "white"
           }
          },
          "shapedefaults": {
           "line": {
            "color": "#2a3f5f"
           }
          },
          "ternary": {
           "aaxis": {
            "gridcolor": "white",
            "linecolor": "white",
            "ticks": ""
           },
           "baxis": {
            "gridcolor": "white",
            "linecolor": "white",
            "ticks": ""
           },
           "bgcolor": "#E5ECF6",
           "caxis": {
            "gridcolor": "white",
            "linecolor": "white",
            "ticks": ""
           }
          },
          "title": {
           "x": 0.05
          },
          "xaxis": {
           "automargin": true,
           "gridcolor": "white",
           "linecolor": "white",
           "ticks": "",
           "title": {
            "standoff": 15
           },
           "zerolinecolor": "white",
           "zerolinewidth": 2
          },
          "yaxis": {
           "automargin": true,
           "gridcolor": "white",
           "linecolor": "white",
           "ticks": "",
           "title": {
            "standoff": 15
           },
           "zerolinecolor": "white",
           "zerolinewidth": 2
          }
         }
        },
        "xaxis": {
         "anchor": "y2",
         "domain": [
          0,
          1
         ],
         "zeroline": false
        },
        "yaxis": {
         "anchor": "free",
         "domain": [
          0.35,
          1
         ],
         "position": 0
        },
        "yaxis2": {
         "anchor": "x",
         "domain": [
          0,
          0.25
         ],
         "dtick": 1,
         "showticklabels": false
        }
       }
      },
      "text/html": [
       "<div>                            <div id=\"d4bcdd93-a5f4-459a-b3ca-d291eae16e5c\" class=\"plotly-graph-div\" style=\"height:525px; width:100%;\"></div>            <script type=\"text/javascript\">                require([\"plotly\"], function(Plotly) {                    window.PLOTLYENV=window.PLOTLYENV || {};                                    if (document.getElementById(\"d4bcdd93-a5f4-459a-b3ca-d291eae16e5c\")) {                    Plotly.newPlot(                        \"d4bcdd93-a5f4-459a-b3ca-d291eae16e5c\",                        [{\"autobinx\":false,\"histnorm\":\"probability density\",\"legendgroup\":\"Lasso\",\"marker\":{\"color\":\"rgb(31, 119, 180)\"},\"name\":\"Lasso\",\"opacity\":0.7,\"x\":[0.09307319610679664,-0.25729303193076497,-0.026769058563201966,0.24327115497582805,-0.0059211130607449754,0.11162472583273662,-0.15307058718061636,-0.1771316776899766,0.08958245718276484,0.1215821360467991,0.36439887416451405],\"xaxis\":\"x\",\"xbins\":{\"end\":0.36439887416451405,\"size\":0.1,\"start\":-0.25729303193076497},\"yaxis\":\"y\",\"type\":\"histogram\"},{\"autobinx\":false,\"histnorm\":\"probability density\",\"legendgroup\":\"Ridge\",\"marker\":{\"color\":\"rgb(255, 127, 14)\"},\"name\":\"Ridge\",\"opacity\":0.7,\"x\":[0.10637578989571628,-0.2565162690781866,-0.028775484280967767,0.26014317211754356,-0.005185285487879554,0.11425599728515934,-0.15795936727923499,-0.20163024081752745,0.09740824699745732,0.12497059657251386,0.35409418598731435],\"xaxis\":\"x\",\"xbins\":{\"end\":0.35409418598731435,\"size\":0.1,\"start\":-0.2565162690781866},\"yaxis\":\"y\",\"type\":\"histogram\"},{\"legendgroup\":\"Lasso\",\"marker\":{\"color\":\"rgb(31, 119, 180)\"},\"mode\":\"lines\",\"name\":\"Lasso\",\"showlegend\":false,\"x\":[-0.25729303193076497,-0.2560496481185744,-0.25480626430638387,-0.2535628804941933,-0.25231949668200276,-0.2510761128698122,-0.24983272905762163,-0.24858934524543105,-0.2473459614332405,-0.24610257762104995,-0.2448591938088594,-0.24361580999666882,-0.24237242618447827,-0.24112904237228772,-0.23988565856009716,-0.2386422747479066,-0.23739889093571603,-0.23615550712352548,-0.23491212331133493,-0.23366873949914438,-0.2324253556869538,-0.23118197187476325,-0.2299385880625727,-0.22869520425038214,-0.22745182043819157,-0.226208436626001,-0.22496505281381046,-0.2237216690016199,-0.22247828518942936,-0.22123490137723878,-0.21999151756504823,-0.21874813375285768,-0.2175047499406671,-0.21626136612847655,-0.215017982316286,-0.21377459850409544,-0.2125312146919049,-0.2112878308797143,-0.21004444706752376,-0.2088010632553332,-0.20755767944314266,-0.2063142956309521,-0.20507091181876153,-0.20382752800657097,-0.20258414419438042,-0.20134076038218984,-0.2000973765699993,-0.19885399275780874,-0.1976106089456182,-0.19636722513342764,-0.19512384132123706,-0.1938804575090465,-0.19263707369685595,-0.19139368988466537,-0.19015030607247485,-0.18890692226028427,-0.18766353844809372,-0.18642015463590317,-0.1851767708237126,-0.18393338701152206,-0.18269000319933149,-0.18144661938714093,-0.18020323557495038,-0.1789598517627598,-0.17771646795056925,-0.1764730841383787,-0.17522970032618812,-0.1739863165139976,-0.17274293270180702,-0.17149954888961647,-0.17025616507742591,-0.16901278126523533,-0.1677693974530448,-0.16652601364085423,-0.16528262982866368,-0.16403924601647313,-0.16279586220428255,-0.161552478392092,-0.16030909457990145,-0.15906571076771087,-0.15782232695552034,-0.15657894314332976,-0.1553355593311392,-0.15409217551894866,-0.15284879170675808,-0.15160540789456756,-0.15036202408237698,-0.14911864027018643,-0.14787525645799587,-0.1466318726458053,-0.14538848883361474,-0.1441451050214242,-0.1429017212092336,-0.1416583373970431,-0.1404149535848525,-0.13917156977266196,-0.1379281859604714,-0.13668480214828083,-0.1354414183360903,-0.13419803452389972,-0.13295465071170917,-0.13171126689951862,-0.13046788308732804,-0.1292244992751375,-0.12798111546294694,-0.12673773165075639,-0.1254943478385658,-0.12425096402637525,-0.1230075802141847,-0.12176419640199415,-0.12052081258980357,-0.11927742877761302,-0.11803404496542247,-0.11679066115323192,-0.11554727734104137,-0.11430389352885079,-0.11306050971666023,-0.11181712590446968,-0.11057374209227913,-0.10933035828008855,-0.108086974467898,-0.10684359065570745,-0.1056002068435169,-0.10435682303132632,-0.10311343921913577,-0.10187005540694521,-0.10062667159475466,-0.09938328778256411,-0.09813990397037353,-0.09689652015818298,-0.09565313634599243,-0.09440975253380188,-0.0931663687216113,-0.09192298490942075,-0.0906796010972302,-0.08943621728503964,-0.08819283347284906,-0.08694944966065851,-0.08570606584846796,-0.08446268203627741,-0.08321929822408686,-0.08197591441189628,-0.08073253059970573,-0.07948914678751517,-0.07824576297532462,-0.07700237916313404,-0.07575899535094349,-0.07451561153875294,-0.07327222772656239,-0.07202884391437181,-0.07078546010218126,-0.0695420762899907,-0.06829869247780015,-0.0670553086656096,-0.06581192485341902,-0.06456854104122847,-0.06332515722903792,-0.06208177341684737,-0.06083838960465679,-0.05959500579246624,-0.058351621980275686,-0.057108238168085135,-0.055864854355894555,-0.054621470543704004,-0.05337808673151345,-0.0521347029193229,-0.05089131910713232,-0.04964793529494177,-0.04840455148275122,-0.047161167670560666,-0.045917783858370115,-0.044674400046179535,-0.043431016233988984,-0.04218763242179843,-0.04094424860960788,-0.0397008647974173,-0.03845748098522675,-0.0372140971730362,-0.035970713360845646,-0.03472732954865507,-0.033483945736464515,-0.032240561924273964,-0.030997178112083412,-0.02975379429989286,-0.02851041048770228,-0.02726702667551173,-0.026023642863321178,-0.024780259051130626,-0.023536875238940047,-0.022293491426749495,-0.021050107614558944,-0.019806723802368392,-0.018563339990177813,-0.01731995617798726,-0.01607657236579671,-0.014833188553606158,-0.013589804741415606,-0.012346420929225027,-0.011103037117034475,-0.009859653304843924,-0.008616269492653372,-0.007372885680462793,-0.006129501868272269,-0.00488611805608169,-0.0036427342438911103,-0.0023993504317005865,-0.0011559666195100071,8.741719268051673e-05,0.001330801004871096,0.0025741848170616755,0.0038175686292521993,0.005060952441442723,0.006304336253633358,0.007547720065823937,0.008791103878014461,0.010034487690204985,0.011277871502395564,0.012521255314586144,0.013764639126776668,0.015008022938967192,0.016251406751157826,0.017494790563348406,0.01873817437553893,0.019981558187729453,0.021224941999920033,0.022468325812110612,0.023711709624301136,0.02495509343649166,0.02619847724868224,0.027441861060872874,0.028685244873063398,0.029928628685253922,0.0311720124974445,0.03241539630963508,0.033658780121825604,0.03490216393401613,0.03614554774620671,0.03738893155839734,0.038632315370587866,0.03987569918277839,0.04111908299496897,0.04236246680715955,0.04360585061935007,0.0448492344315406,0.046092618243731176,0.047336002055921755,0.048579385868112335,0.04982276968030286,0.05106615349249344,0.05230953730468402,0.05355292111687454,0.054796304929065065,0.056039688741255644,0.057283072553446224,0.05852645636563675,0.05976984017782733,0.061013223990017906,0.062256607802208486,0.06349999161439901,0.06474337542658953,0.06598675923878011,0.06723014305097069,0.06847352686316122,0.06971691067535174,0.07096029448754237,0.07220367829973295,0.07344706211192348,0.074690445924114,0.07593382973630458,0.07717721354849516,0.07842059736068568,0.07966398117287621,0.08090736498506684,0.08215074879725742,0.08339413260944795,0.08463751642163847,0.08588090023382905,0.08712428404601963,0.08836766785821015,0.08961105167040068,0.09085443548259126,0.09209781929478189,0.09334120310697241,0.09458458691916294,0.09582797073135352,0.0970713545435441,0.09831473835573462,0.09955812216792514,0.10080150598011572,0.10204488979230636,0.10328827360449688,0.1045316574166874,0.10577504122887799,0.10701842504106857,0.10826180885325909,0.10950519266544961,0.11074857647764019,0.11199196028983077,0.11323534410202135,0.11447872791421188,0.11572211172640245,0.11696549553859303,0.11820887935078356,0.11945226316297408,0.12069564697516466,0.12193903078735524,0.12318241459954576,0.12442579841173634,0.12566918222392692,0.1269125660361175,0.12815594984830803,0.12939933366049855,0.13064271747268913,0.1318861012848797,0.13312948509707023,0.1343728689092608,0.1356162527214514,0.13685963653364197,0.1381030203458325,0.13934640415802302,0.1405897879702136,0.14183317178240418,0.1430765555945947,0.14431993940678522,0.14556332321897586,0.14680670703116644,0.14805009084335696,0.1492934746555475,0.15053685846773807,0.15178024227992865,0.15302362609211917,0.1542670099043097,0.15551039371650033,0.1567537775286909,0.15799716134088143,0.15924054515307196,0.16048392896526253,0.1617273127774531,0.16297069658964364,0.16421408040183416,0.16545746421402474,0.16670084802621538,0.1679442318384059,0.16918761565059642,0.170430999462787,0.17167438327497758,0.1729177670871681,0.17416115089935863,0.1754045347115492,0.1766479185237398,0.17789130233593037,0.1791346861481209,0.18037806996031147,0.18162145377250205,0.18286483758469257,0.1841082213968831,0.18535160520907368,0.18659498902126426,0.18783837283345484,0.18908175664564536,0.19032514045783594,0.19156852427002652,0.19281190808221704,0.19405529189440757,0.19529867570659815,0.19654205951878873,0.19778544333097925,0.19902882714316983,0.2002722109553604,0.201515594767551,0.2027589785797415,0.20400236239193204,0.20524574620412261,0.2064891300163132,0.20773251382850372,0.20897589764069424,0.21021928145288488,0.21146266526507546,0.21270604907726598,0.2139494328894565,0.21519281670164708,0.21643620051383766,0.21767958432602819,0.2189229681382187,0.22016635195040934,0.22140973576259992,0.22265311957479045,0.22389650338698097,0.22513988719917155,0.22638327101136213,0.22762665482355265,0.22887003863574318,0.23011342244793376,0.2313568062601244,0.23260019007231492,0.23384357388450544,0.23508695769669602,0.2363303415088866,0.23757372532107712,0.23881710913326765,0.24006049294545823,0.24130387675764886,0.24254726056983938,0.24379064438202985,0.24503402819422043,0.246277412006411,0.2475207958186016,0.24876417963079217,0.25000756344298275,0.25125094725517333,0.2524943310673638,0.2537377148795544,0.25498109869174496,0.25622448250393554,0.257467866316126,0.2587112501283166,0.25995463394050716,0.26119801775269774,0.2624414015648883,0.2636847853770788,0.26492816918926937,0.26617155300145995,0.2674149368136504,0.2686583206258411,0.2699017044380317,0.27114508825022227,0.27238847206241285,0.2736318558746033,0.2748752396867939,0.2761186234989845,0.27736200731117494,0.2786053911233655,0.2798487749355561,0.2810921587477467,0.28233554255993726,0.2835789263721277,0.2848223101843183,0.2860656939965089,0.28730907780869935,0.28855246162088993,0.2897958454330806,0.2910392292452712,0.2922826130574618,0.29352599686965225,0.29476938068184283,0.2960127644940334,0.2972561483062239,0.29849953211841446,0.29974291593060504,0.3009862997427956,0.3022296835549862,0.30347306736717666,0.30471645117936724,0.3059598349915578,0.3072032188037483,0.30844660261593887,0.30968998642812945,0.31093337024032014,0.3121767540525107,0.3134201378647012,0.31466352167689177,0.31590690548908235,0.3171502893012728,0.3183936731134634,0.319637056925654,0.32088044073784455,0.32212382455003513,0.3233672083622256,0.3246105921744162,0.32585397598660676,0.3270973597987972,0.3283407436109878,0.3295841274231784,0.33082751123536897,0.33207089504755966,0.3333142788597501,0.3345576626719407,0.3358010464841313,0.33704443029632175,0.33828781410851233,0.3395311979207029,0.3407745817328935,0.34201796554508407,0.34326134935727454,0.3445047331694651,0.3457481169816557,0.34699150079384616,0.34823488460603674,0.3494782684182273,0.3507216522304179,0.3519650360426085,0.35320841985479895,0.35445180366698964,0.3556951874791802,0.3569385712913707,0.35818195510356127,0.35942533891575185,0.3606687227279424,0.361912106540133,0.3631554903523235],\"xaxis\":\"x\",\"y\":[0.8532418260901795,0.8590852382850042,0.8649091034766128,0.8707128648804648,0.8764959780881425,0.8822579113838882,0.887998146054889,0.8937161766950545,0.8994115115020271,0.9050836725671729,0.9107321961582884,0.9163566329947932,0.9219565485151429,0.9275315231362331,0.933081152504552,0.9386050477388446,0.9441028356640644,0.9495741590363816,0.9550186767590327,0.9604360640887905,0.9658260128328495,0.9711882315359175,0.9765224456573174,0.9818283977379042,0.9871058475566087,0.9923545722764299,0.9975743665796977,1.002765042792441,1.0079264309976956,1.0130583791376016,1.0181607531041386,1.0232334368183649,1.028276332298018,1.0332893597133603,1.0382724574311486,1.0432255820466172,1.048148708403373,1.053041829601111,1.0579049569910635,1.0627381201591068,1.0675413668964546,1.0723147631578793,1.0770583930074178,1.081772358551502,1.0864567798594997,1.0911117948716291,1.0957375592942356,1.1003342464824244,1.1049020473100521,1.1094411700270859,1.11395184010436,1.1184343000657477,1.1228888093078002,1.127315643906895,1.1317150964139535,1.1360874756367991,1.140433106410226,1.1447523293538746,1.1490455006180023,1.153312991617254,1.1575551887525577,1.1617724931212552,1.1659653202156088,1.1701340996098228,1.17427927463574,1.1784013020473523,1.1825006516743213,1.1865778060646666,1.1906332601168168,1.194667520701217,1.1986811062716969,1.2026745464668105,1.2066483817013727,1.2106031627484128,1.214539450311787,1.2184578145896998,1.222358834829374,1.226243098873139,1.2301112026962038,1.2339637499363825,1.2378013514160635,1.2416246246567038,1.2454341933861466,1.2492306870390644,1.2530147402508316,1.256786992345151,1.2605480868157388,1.264298670802408,1.268039394561877,1.2717709109336317,1.2754938748012004,1.2792089425491695,1.2829167715163006,1.2866180194451071,1.2903133439282384,1.2940034018520465,1.2976888488376956,1.3013703386801876,1.3050485227856694,1.3087240496074153,1.3123975640808385,1.3160697070579368,1.3197411147415374,1.3234124181197364,1.3270842424009135,1.3307572064497104,1.334431922224367,1.3381089942157909,1.3417890188887671,1.345472584125681,1.3491602686731599,1.3528526415920057,1.3565502617108227,1.360253677083716,1.3639634244524546,1.3676800287134794,1.3714040023901393,1.3751358451105444,1.3788760430913976,1.3826250686282004,1.3863833795921936,1.3901514189344042,1.3939296141971724,1.3977183770335135,1.4015181027346757,1.4053291697662564,1.409151939313218,1.4129867548341484,1.4168339416251243,1.420693806393487,1.4245666368418881,1.4284527012629038,1.4323522481445639,1.4362655057870841,1.4401926819311284,1.4441339633978827,1.4480895157412517,1.4520594829124522,1.4560439869372872,1.4600431276063717,1.464056982178577,1.4680856050979423,1.4721290277243142,1.4761872580779412,1.4802602805982652,1.4843480559171267,1.4884505206466039,1.4925675871816841,1.4966991435179733,1.5008450530846202,1.5050051545926473,1.5091792618988382,1.51336716388536,1.5175686243552562,1.5217833819439528,1.5260111500469102,1.5302516167635334,1.5345044448574565,1.5387692717332901,1.5430457094299301,1.5473333446304944,1.5516317386889638,1.5559404276735738,1.5602589224270058,1.564586708643416,1.5689232469623136,1.5732679730793113,1.5776202978737432,1.5819796075531383,1.5863452638145332,1.5907166040225842,1.5950929414044408,1.5994735652613234,1.603857741196734,1.6082447113612275,1.6126336947136555,1.6170238872987723,1.6214144625411073,1.6258045715549605,1.6301933434704072,1.634579885775154,1.6389632846720905,1.643342605452378,1.6477168928838843,1.6520851716147824,1.6564464465921158,1.660799703495112,1.6651439091830238,1.6694780121572719,1.6738009430376413,1.678111615052276,1.6824089245412148,1.6866917514731896,1.6909589599754054,1.6952093988760044,1.6994419022589202,1.703655290030795,1.7078483684996537,1.7120199309649888,1.7161687583189278,1.7202936196581236,1.7243932729060223,1.7284664654451236,1.7325119347588795,1.7365284090828348,1.7405146080646205,1.7444692434324132,1.748391019671432,1.7522786347080896,1.7561307806013489,1.759946144240882,1.763723408051584,1.7674612507040128,1.7711583478303004,1.774813372745095,1.7784249971710746,1.7819918919685704,1.785512727868836,1.7889861762104948,1.7924109096786933,1.7957856030464732,1.7991089339178983,1.8023795834724377,1.8055962372101269,1.8087575856970186,1.8118623253104216,1.8149091589834547,1.8178967969483995,1.8208239574783769,1.8236893676268342,1.8264917639643625,1.8292298933123352,1.8319025134728817,1.8345083939546984,1.8370463166941955,1.8395150767715063,1.8419134831208477,1.8442403592347578,1.8464945438617197,1.8486748916966917,1.8507802740640655,1.8528095795925714,1.8547617148816689,1.856635605158948,1.858430194928088,1.860144448606908,1.861777351155067,1.8633279086909655,1.8647951490974117,1.8661781226156176,1.867475902427108,1.8686875852231195,1.8698122917610827,1.8708491674077885,1.8717973826688434,1.872656133704037,1.8734246428282393,1.8741021589974685,1.8746879582797795,1.875181344310615,1.8755816487323036,1.8758882316173688,1.876100481875339,1.8762178176427682,1.8762396866561635,1.8761655666075565,1.8759949654824473,1.875727421879871,1.875362505314348,1.874899816499489,1.8743389876130496,1.8736796825432267,1.872921597116015,1.87206445930345,1.8711080294125855,1.870052100255049,1.8688964972970632,1.8676410787897983,1.8662857358799778,1.8648303927006284,1.863275006441924,1.8616195674020517,1.8598640990180741,1.8580086578767467,1.8560533337052918,1.8539982493421319,1.851843560687593,1.8495894566346263,1.8472361589795891,1.8447839223131575,1.8422330338914419,1.8395838134874125,1.8368366132227392,1.8339918173801721,1.831049842196608,1.8280111356369917,1.8248761771492303,1.8216454774002997,1.8183195779937469,1.814899051168798,1.8113844994813078,1.807776555466779,1.8040758812857254,1.8002831683516296,1.796399136941795,1.7924245357913713,1.7883601416708794,1.7842067589475388,1.7799652191307493,1.7756363804020583,1.7712211271299747,1.7667203693700047,1.76213504235028,1.757466105943178,1.7527145441233232,1.7478813644123956,1.742967597311152,1.7379742957191062,1.7329025343422901,1.7277534090895552,1.7225280364578734,1.7172275529070842,1.7118531142245779,1.7064058948803822,1.700887087373138,1.6952979015674619,1.6896395640231785,1.6839133173169398,1.678120419356726,1.6722621426897435,1.6663397738042367,1.6603546124257247,1.6543079708081891,1.6482011730207418,1.64203555423028,1.6358124599806783,1.6295332454690281,1.623199274819466,1.6168119203551097,1.6103725618686364,1.603882585892031,1.5973433849660297,1.5907563569097851,1.5841229040912725,1.577444432698962,1.5707223520152769,1.5639580736923373,1.5571530110305218,1.5503085782603265,1.543426189828052,1.5365072596857827,1.5295532005861774,1.52256542338253,1.5155453363346003,1.5084943444206698,1.5014138486562887,1.4943052454201813,1.487169925787744,1.480009274872581,1.4728246711765134,1.4656174859484734,1.4583890825527095,1.4511408158466943,1.4438740315691323,1.4365900657384558,1.4292902440621724,1.4219758813574317,1.4146482809831578,1.4073087342840935,1.399958520047073,1.3925989039698523,1.3852311381427875,1.3778564605436625,1.3704760945459435,1.363091248440722,1.3557031149726064,1.3483128708897976,1.3409216765085858,1.3335306752924714,1.3261409934461188,1.3187537395243343,1.3113700040562342,1.3039908591847744,1.2966173583217802,1.2892505358186175,1.281891406652626,1.2745409661294138,1.2672001896011182,1.2598700322007033,1.2525514285923665,1.2452452927381055,1.2379525176804789,1.2306739753415992,1.22341051633836,1.2161629698138976,1.208932143285278,1.2017188225073776,1.1945237713529244,1.1873477317086372,1.1801914233874027,1.1730555440564163,1.1659407691811892,1.1588477519853244,1.151777123425943,1.1447294921846376,1.1377054446738186,1.1307055450582946,1.1237303352919341,1.116780335169236,1.1098560423916257,1.1029579326482855,1.096086459711314,1.08924205554501,1.0824251304290475,1.0756360730953214,1.0688752508782113,1.0621430098780327,1.0554396751373945,1.0487655508302152,1.0421209204631177,1.0355060470889161,1.0289211735319195,1.0223665226247383,1.0158422974563057,1.0093486816308062,1.002885839537179,0.996453916628897,0.9900530397136855,0.9836833172528483,0.9773448396698723,0.9710376796679662,0.9647618925561878,0.9585175165838231,0.9523045732826513,0.9461230678167551,0.9399729893395123,0.9338543113574127,0.92776699210034,0.9217109748979568,0.9156861885618239,0.9096925477728977,0.9037299534740355,0.8977982932671373,0.8918974418145724,0.8860272612445099,0.8801876015598011,0.8743783010500393,0.8685991867064377,0.862850074639171,0.8571307704968074,0.8514410698874842,0.8457807588014672,0.8401496140347408,0.8345474036132841,0.8289738872176793,0.823428816607711,0.8179119360466247,0.812422982724696,0.8069616871817916,0.8015277737285846,0.7961209608661102,0.7907409617033406,0.7853874843724691,0.7800602324415893,0.774758905324481,0.769483198687196,0.7642328048511573,0.7590074131924929,0.7538067105373156,0.7486303815526962,0.7434781091330449,0.7383495747816573,0.7332444589871736,0.7281624415947003,0.7231032021713648,0.7180664203660729,0.7130517762632423,0.7080589507303072,0.7030876257587815,0.6981374847986801,0.6932082130861169,0.688299497963885,0.6834110291948531,0.6785424992680075,0.6736936036969788,0.6688640413109104,0.664053514537517,0.6592617296782035,0.6544883971751212,0.649733231870036,0.6449959532549063,0.640276285714066,0.6355739587579167,0.6308887072480558,0.6262202716137462,0.6215683980596742,0.6169328387649318,0.6123133520731658,0.6077097026738566,0.6031216617746872],\"yaxis\":\"y\",\"type\":\"scatter\"},{\"legendgroup\":\"Ridge\",\"marker\":{\"color\":\"rgb(255, 127, 14)\"},\"mode\":\"lines\",\"name\":\"Ridge\",\"showlegend\":false,\"x\":[-0.2565162690781866,-0.2552950481680556,-0.2540738272579246,-0.2528526063477936,-0.25163138543766256,-0.25041016452753156,-0.24918894361740057,-0.24796772270726958,-0.24674650179713858,-0.24552528088700756,-0.24430405997687657,-0.24308283906674558,-0.24186161815661456,-0.24064039724648356,-0.23941917633635257,-0.23819795542622157,-0.23697673451609055,-0.23575551360595956,-0.23453429269582854,-0.23331307178569755,-0.23209185087556655,-0.23087062996543556,-0.22964940905530454,-0.22842818814517354,-0.22720696723504255,-0.22598574632491153,-0.22476452541478054,-0.22354330450464954,-0.22232208359451855,-0.22110086268438753,-0.21987964177425653,-0.2186584208641255,-0.21743719995399452,-0.21621597904386353,-0.21499475813373253,-0.2137735372236015,-0.21255231631347052,-0.21133109540333953,-0.2101098744932085,-0.2088886535830775,-0.20766743267294652,-0.20644621176281552,-0.2052249908526845,-0.2040037699425535,-0.20278254903242252,-0.2015613281222915,-0.2003401072121605,-0.1991188863020295,-0.19789766539189851,-0.1966764444817675,-0.1954552235716365,-0.19423400266150548,-0.19301278175137448,-0.1917915608412435,-0.1905703399311125,-0.18934911902098148,-0.18812789811085048,-0.18690667720071946,-0.18568545629058847,-0.18446423538045748,-0.18324301447032648,-0.18202179356019546,-0.18080057265006447,-0.17957935173993345,-0.17835813082980245,-0.17713690991967146,-0.17591568900954047,-0.17469446809940947,-0.17347324718927848,-0.17225202627914746,-0.17103080536901644,-0.16980958445888544,-0.16858836354875445,-0.16736714263862346,-0.16614592172849246,-0.16492470081836147,-0.16370347990823042,-0.16248225899809943,-0.16126103808796843,-0.16003981717783744,-0.15881859626770645,-0.15759737535757545,-0.15637615444744446,-0.1551549335373134,-0.15393371262718242,-0.15271249171705142,-0.15149127080692043,-0.15027004989678944,-0.14904882898665844,-0.14782760807652742,-0.1466063871663964,-0.1453851662562654,-0.14416394534613441,-0.14294272443600342,-0.14172150352587243,-0.1405002826157414,-0.1392790617056104,-0.13805784079547942,-0.1368366198853484,-0.1356153989752174,-0.1343941780650864,-0.13317295715495542,-0.1319517362448244,-0.1307305153346934,-0.12950929442456238,-0.1282880735144314,-0.1270668526043004,-0.1258456316941694,-0.12462441078403838,-0.12340318987390736,-0.12218196896377637,-0.12096074805364537,-0.11973952714351438,-0.11851830623338339,-0.11729708532325236,-0.11607586441312137,-0.11485464350299038,-0.11363342259285938,-0.11241220168272836,-0.11119098077259737,-0.10996975986246638,-0.10874853895233538,-0.10752731804220433,-0.10630609713207334,-0.10508487622194235,-0.10386365531181135,-0.10264243440168033,-0.10142121349154934,-0.10019999258141835,-0.09897877167128735,-0.09775755076115636,-0.09653632985102534,-0.09531510894089434,-0.09409388803076335,-0.09287266712063236,-0.09165144621050134,-0.09043022530037034,-0.08920900439023932,-0.08798778348010833,-0.0867665625699773,-0.08554534165984631,-0.08432412074971532,-0.08310289983958433,-0.0818816789294533,-0.08066045801932231,-0.07943923710919132,-0.07821801619906033,-0.07699679528892933,-0.07577557437879831,-0.07455435346866732,-0.07333313255853632,-0.0721119116484053,-0.07089069073827428,-0.06966946982814329,-0.0684482489180123,-0.0672270280078813,-0.06600580709775028,-0.06478458618761929,-0.06356336527748829,-0.0623421443673573,-0.06112092345722628,-0.059899702547095285,-0.05867848163696429,-0.0574572607268333,-0.056236039816702305,-0.05501481890657128,-0.05379359799644026,-0.05257237708630927,-0.051351156176178275,-0.050129935266047254,-0.04890871435591626,-0.04768749344578527,-0.046466272535654274,-0.04524505162552325,-0.04402383071539226,-0.042802609805261266,-0.04158138889513027,-0.04036016798499928,-0.03913894707486826,-0.037917726164737264,-0.03669650525460624,-0.03547528434447525,-0.03425406343434423,-0.033032842524213235,-0.03181162161408224,-0.030590400703951248,-0.029369179793820227,-0.028147958883689234,-0.02692673797355824,-0.025705517063427247,-0.024484296153296226,-0.023263075243165232,-0.02204185433303424,-0.020820633422903245,-0.019599412512772252,-0.018378191602641203,-0.01715697069251021,-0.015935749782379216,-0.014714528872248223,-0.013493307962117201,-0.012272087051986208,-0.011050866141855215,-0.009829645231724221,-0.0086084243215932,-0.0073872034114622065,-0.006165982501331213,-0.00494476159120022,-0.0037235406810691707,-0.0025023197709381773,-0.0012810988608071838,-5.9877950676190395e-05,0.001161342959454803,0.0023825638695857965,0.00360378477971679,0.004825005689847783,0.006046226599978832,0.007267447510109826,0.00848866842024082,0.009709889330371868,0.010931110240502806,0.012152331150633855,0.013373552060764793,0.014594772970895842,0.015815993881026835,0.01703721479115783,0.018258435701288822,0.019479656611419816,0.02070087752155081,0.021922098431681858,0.023143319341812796,0.024364540251943845,0.025585761162074894,0.02680698207220583,0.02802820298233688,0.02924942389246782,0.030470644802598867,0.03169186571272986,0.032913086622860854,0.03413430753299185,0.0353555284431229,0.036576749353253835,0.037797970263384884,0.03901919117351582,0.04024041208364687,0.04146163299377792,0.04268285390390886,0.043904074814039906,0.045125295724170844,0.04634651663430189,0.047567737544432886,0.04878895845456388,0.05001017936469487,0.05123140027482592,0.05245262118495686,0.05367384209508791,0.05489506300521885,0.056116283915349896,0.05733750482548089,0.05855872573561188,0.05977994664574293,0.06100116755587387,0.06222238846600492,0.06344360937613591,0.0646648302862669,0.0658860511963979,0.06710727210652895,0.06832849301665989,0.06954971392679093,0.07077093483692187,0.07199215574705292,0.07321337665718392,0.07443459756731491,0.0756558184774459,0.0768770393875769,0.07809826029770794,0.07931948120783894,0.08054070211796993,0.08176192302810092,0.08298314393823197,0.08420436484836291,0.08542558575849396,0.0866468066686249,0.08786802757875595,0.08908924848888694,0.09031046939901793,0.09153169030914893,0.09275291121927998,0.09397413212941091,0.09519535303954196,0.09641657394967296,0.09763779485980395,0.098859015769935,0.10008023668006594,0.10130145759019699,0.10252267850032792,0.10374389941045897,0.10496512032058997,0.10618634123072096,0.10740756214085195,0.108628783050983,0.10985000396111394,0.11107122487124499,0.11229244578137598,0.11351366669150698,0.11473488760163802,0.11595610851176896,0.11717732942190001,0.11839855033203095,0.119619771242162,0.12084099215229299,0.12206221306242399,0.12328343397255498,0.12450465488268603,0.12572587579281697,0.12694709670294801,0.12816831761307895,0.12938953852321,0.13061075943334105,0.131831980343472,0.13305320125360304,0.13427442216373403,0.13549564307386502,0.13671686398399602,0.137938084894127,0.139159305804258,0.14038052671438905,0.14160174762452,0.14282296853465104,0.14404418944478198,0.14526541035491303,0.14648663126504402,0.14770785217517501,0.14892907308530606,0.15015029399543706,0.15137151490556805,0.15259273581569904,0.15381395672583004,0.15503517763596103,0.15625639854609208,0.15747761945622302,0.15869884036635407,0.159920061276485,0.16114128218661605,0.16236250309674705,0.16358372400687804,0.1648049449170091,0.16602616582714008,0.16724738673727108,0.16846860764740207,0.16968982855753306,0.17091104946766406,0.1721322703777951,0.17335349128792604,0.1745747121980571,0.17579593310818803,0.17701715401831908,0.17823837492845007,0.17945959583858107,0.18068081674871206,0.1819020376588431,0.1831232585689741,0.1843444794791051,0.1855657003892361,0.18678692129936708,0.18800814220949813,0.18922936311962907,0.19045058402976012,0.1916718049398911,0.1928930258500221,0.1941142467601531,0.1953354676702841,0.19655668858041508,0.19777790949054613,0.19899913040067707,0.20022035131080812,0.2014415722209391,0.2026627931310701,0.20388401404120116,0.2051052349513321,0.20632645586146314,0.20754767677159414,0.20876889768172513,0.20999011859185612,0.21121133950198712,0.2124325604121181,0.21365378132224916,0.2148750022323801,0.21609622314251115,0.21731744405264208,0.21853866496277313,0.21975988587290418,0.22098110678303512,0.22220232769316617,0.22342354860329716,0.22464476951342816,0.22586599042355915,0.22708721133369014,0.22830843224382114,0.22952965315395218,0.23075087406408312,0.23197209497421417,0.2331933158843451,0.23441453679447616,0.2356357577046072,0.23685697861473815,0.2380781995248692,0.2392994204350002,0.24052064134513118,0.24174186225526217,0.24296308316539317,0.24418430407552416,0.24540552498565515,0.24662674589578615,0.24784796680591714,0.24906918771604825,0.25029040862617913,0.25151162953631023,0.2527328504464412,0.2539540713565722,0.2551752922667032,0.2563965131768342,0.2576177340869652,0.2588389549970962,0.2600601759072272,0.2612813968173582,0.2625026177274893,0.26372383863762017,0.26494505954775116,0.26616628045788215,0.26738750136801326,0.26860872227814425,0.26982994318827525,0.27105116409840624,0.27227238500853723,0.2734936059186682,0.2747148268287992,0.2759360477389303,0.2771572686490612,0.2783784895591922,0.2795997104693232,0.2808209313794543,0.2820421522895853,0.2832633731997162,0.28448459410984717,0.28570581501997827,0.28692703593010926,0.28814825684024026,0.28936947775037125,0.29059069866050224,0.29181191957063324,0.29303314048076423,0.29425436139089534,0.2954755823010262,0.2966968032111572,0.2979180241212882,0.2991392450314193,0.3003604659415503,0.3015816868516813,0.3028029077618122,0.3040241286719433,0.3052453495820743,0.30646657049220527,0.3076877914023364,0.30890901231246726,0.31013023322259825,0.31135145413272924,0.31257267504286035,0.31379389595299134,0.3150151168631222,0.3162363377732532,0.3174575586833843,0.3186787795935153,0.3199000005036463,0.3211212214137772,0.3223424423239083,0.3235636632340393,0.3247848841441703,0.3260061050543014,0.3272273259644324,0.32844854687456326,0.32966976778469426,0.33089098869482536,0.33211220960495635,0.33333343051508735,0.33455465142521823,0.33577587233534933,0.33699709324548033,0.3382183141556113,0.3394395350657424,0.3406607559758733,0.3418819768860043,0.3431031977961353,0.3443244187062664,0.3455456396163974,0.3467668605265283,0.34798808143665927,0.3492093023467904,0.35043052325692137,0.35165174416705236,0.35287296507718324],\"xaxis\":\"x\",\"y\":[0.8909053376107519,0.8960892345118112,0.9012440932817919,0.9063694822976384,0.9114649851713202,0.9165302009921837,0.9215647445611856,0.9265682466168083,0.931540354052463,0.936480730125198,0.9413890546555193,0.9462650242181606,0.9511083523236185,0.9559187695902888,0.9606960239070537,0.9654398805861487,0.9701501225061749,0.974826550245107,0.9794689822031631,0.984077254715407,0.9886512221539586,0.9931907570196999,0.9976957500233622,1.0021661101558932,1.0066017647480157,1.0110026595188768,1.0153687586137166,1.019700044630481,1.0239965186353057,1.028258200166824,1.0324851272292295,1.0366773562740756,1.0408349621707422,1.0449580381655752,1.0490466958296505,1.053101064995166,1.057121293680448,1.0611075480035792,1.0650600120846538,1.0689788879366804,1.0728643953451609,1.076716771736373,1.0805362720344012,1.084323168506971,1.088077750600126,1.0918003247618395,1.095491214254601,1.099150758957091,1.1027793151550012,1.1063772553211173,1.1099449678847573,1.113482856990676,1.1169913422475537,1.1204708584661989,1.1239218553875865,1.1273447974008803,1.1307401632515814,1.1341084457399564,1.137450151409901,1.1407658002284162,1.1440559252558578,1.1473210723071439,1.1505617996041075,1.1537786774191876,1.1569722877106454,1.1601432237495273,1.163292089738569,1.1664195004232647,1.1695260806953147,1.1726124651886909,1.1756792978685318,1.1787272316131208,1.1817569277891806,1.1847690558207284,1.1877642927517447,1.1907433228029123,1.1937068369226764,1.1966555323328958,1.19959011206935,1.2025112845173664,1.2054197629428507,1.2083162650189845,1.2112015123488817,1.2140762299844792,1.2169411459419446,1.219796990713898,1.2226444967787233,1.2254843981072758,1.2283174296672663,1.2311443269256261,1.2339658253491432,1.2367826599036733,1.2395955645522196,1.2424052717521812,1.2452125119520772,1.248018013088037,1.25082250008037,1.2536266943305021,1.256431313218596,1.259237069602141,1.2620446713158258,1.2648548206729837,1.26766821396892,1.2704855409864044,1.2733074845036452,1.2761347198050212,1.2789679141948807,1.281807726514687,1.284654806663813,1.287509795124262,1.290373322489607,1.2932460089984328,1.2961284640725594,1.2990212858603198,1.3019250607851813,1.30484036309997,1.3077677544469724,1.3107077834241805,1.3136609851579415,1.316627880882274,1.3196089775250972,1.3226047673016361,1.3256157273152411,1.3286423191658658,1.3316849885664468,1.3347441649674143,1.3378202611895633,1.340913673065517,1.3440247790899926,1.3471539400790948,1.35030149883884,1.353467779843119,1.3566530889213022,1.3598577129556773,1.3630819195889072,1.3663259569417048,1.3695900533408825,1.3728744170579708,1.3761792360585587,1.3795046777625246,1.3828508888153102,1.386217994870385,1.3896061003830558,1.3930152884157414,1.3964456204548625,1.3998971362394574,1.4033698536016532,1.4068637683190939,1.4103788539794506,1.4139150618570884,1.417472320802008,1.4210505371411326,1.4246495945920299,1.4282693541891405,1.431909654222574,1.4355703101895485,1.4392511147585145,1.442951837746012,1.44667222610631,1.4504120039338586,1.454170872478571,1.4579485101739749,1.461744572678233,1.4655586929280429,1.4693904812054186,1.4732395252173467,1.4771053901883042,1.4809876189656117,1.4848857321376077,1.4887992281645954,1.4927275835225329,1.4966702528594122,1.5006266691642771,1.5045962439488147,1.508578367441457,1.5125724087939147,1.516577716300061,1.5205936176270827,1.5246194200587972,1.5286544107510338,1.532697856998979,1.536749006516363,1.5408070877263622,1.5448713100641065,1.5489408642906337,1.5530149228181698,1.5570926400465723,1.5611731527107948,1.5652555802391992,1.5693390251225632,1.5734225732935943,1.5775052945167845,1.5815862427884095,1.585664456746489,1.5897389600905014,1.5938087620106558,1.597872857626511,1.6019302284347194,1.6059798427656815,1.6100206562488815,1.6140516122866657,1.618071642536237,1.6220796673996074,1.6260745965212702,1.630055329293332,1.6340207553678467,1.6379697551760826,1.6419012004544633,1.6458139547768893,1.6497068740931842,1.6535788072733604,1.6574285966574263,1.661255078610443,1.665057084082528,1.6688334391735065,1.672582965701908,1.6763044817779924,1.6799968023805014,1.6836587399368117,1.6872891049061685,1.6908867063656903,1.6944503525987977,1.6979788516857586,1.7014710120959953,1.7049256432818451,1.7083415562734146,1.7117175642742013,1.7150524832571377,1.7183451325607175,1.7215943354848546,1.7247989198861364,1.727957718772115,1.731069570894297,1.7341333213394778,1.7371478221190724,1.74011193275609,1.7430245208694095,1.7458844627549963,1.748690643963716,1.7514419598753972,1.7541373162687894,1.7567756298870743,1.7593558289985753,1.7618768539523326,1.7643376577281875,1.7667372064810458,1.7690744800789717,1.7713484726347792,1.7735581930307902,1.7757026654364192,1.7777809298182665,1.7797920424423852,1.7817350763684094,1.783609121935219,1.7854132872378314,1.7871466985952151,1.7888085010087087,1.7903978586107607,1.7919139551036865,1.793355994188156,1.7947231999811268,1.796014817422953,1.797230112673386,1.7983683734962133,1.7994289096322713,1.8004110531605806,1.8013141588473647,1.8021376044827018,1.8028807912045979,1.8035431438102436,1.8041241110542476,1.8046231659336402,1.8050398059594486,1.80537355341465,1.8056239555983338,1.805790585055887,1.8058730397950513,1.80587094348769,1.8057839456571305,1.8056117218509387,1.8053539737990056,1.8050104295568339,1.8045808436339112,1.8040649971070901,1.8034626977188726,1.8027737799605423,1.8019981051400737,1.8011355614347617,1.8001860639285412,1.7991495546339562,1.798026002498764,1.7968154033971588,1.7955177801056315,1.7941331822634576,1.7926616863178582,1.7911033954538573,1.7894584395088815,1.787726974872172,1.7859091843690607,1.784005277130207,1.7820154884458754,1.779940079605359,1.7777793377216642,1.775533575541585,1.7732031312412893,1.7707883682075771,1.7682896748049617,1.7657074641287422,1.7630421737442423,1.7602942654124143,1.7574642248019925,1.7545525611884238,1.7515598071397713,1.748486518189849,1.7453332724987962,1.7421006705013669,1.7387893345431737,1.7353999085051628,1.7319330574165923,1.728389467056799,1.724769843546051,1.7210749129257807,1.7173054207285128,1.7134621315378036,1.70954582853852,1.7055573130577795,1.7014974040969064,1.6973669378547362,1.6931667672426285,1.6888977613915432,1.6845608051515508,1.6801567985841328,1.6756866564476645,1.6711513076764486,1.6665516948536858,1.6618887736787773,1.6571635124293405,1.652376891418347,1.6475299024467756,1.6426235482521754,1.6376588419535618,1.6326368064930352,1.6275584740745386,1.6224248856001637,1.6172370901044166,1.6119961441868538,1.6067031114435002,1.6013590618974654,1.5959650714291636,1.590522221206555,1.5850315971158129,1.5794942891928272,1.5739113910559552,1.5682839993404127,1.562613213134725,1.5569001334196153,1.5511458625097476,1.545351503498699,1.5395181597075622,1.5336469341375523,1.527738928927008,1.5217952448131475,1.5158169805989656,1.5098052326256184,1.5037610942506658,1.4976856553325195,1.4915800017214353,1.485445214757402,1.4792823707752414,1.4730925406172564,1.4668767891537362,1.4606361748116303,1.4543717491116879,1.4480845562143612,1.441775632474743,1.4354460060068326,1.429096696257371,1.422728713589526,1.4163430588766521,1.409940723106377,1.4035226869952357,1.3970899206140674,1.3906433830243865,1.384184021925921,1.3777127733155077,1.3712305611575102,1.3647382970659443,1.3582368799984357,1.351727195962188,1.3452101177320548,1.3386865045808758,1.3321572020221555,1.325623041565199,1.3190848404827933,1.3125434015915016,1.3059995130446467,1.2994539481380278,1.2929074651284205,1.2863608070648902,1.279814701632936,1.273269861011481,1.2667269817427016,1.2601867446146855,1.2536498145568986,1.247116840548421,1.2405884555389055,1.2340652763822177,1.2275479037826704,1.2210369222537938,1.2145329000895426,1.208036389347855,1.201547925846444,1.1950680291707156,1.1885972026936829,1.1821359336077368,1.1756846929681457,1.1692439357481001,1.1628141009051762,1.1563956114590157,1.1499888745800633,1.143594281689165,1.1372122085678333,1.1308430154789768,1.1244870472978832,1.1181446336532408,1.111816089077967,1.1055017131696232,1.0992017907601614,1.0929165920947825,1.0866463730196338,1.080391375178107,1.074151826215461,1.0679279399915222,1.0617199168011768,1.0555279436023868,1.0493521942514528,1.0431928297452362,1.0370499984700616,1.0309238364569988,1.0248144676432482,1.018722004139322,1.012646546501729,1.0065881840108613,1.0005469949537882,0.9945230469116513,0.9885163970513553,0.9825270924212509,0.9765551702505118,0.9706006582518932,0.9646635749275707,0.9587439298777518,0.9528417241117638,0.9469569503613072,0.9410895933955727,0.935239630337932,0.929407030983888,0.9235917581200086,0.9177937678435211,0.9120130098823089,0.9062494279149907,0.900502959890825,0.8947735383491273,0.8890610907379477,0.8833655397317182,0.8776868035475976,0.8720247962602607,0.8663794281148507,0.8607506058378495,0.8551382329456063,0.849542210050276,0.8439624351629305,0.8383988039935966,0.8328512102479888,0.8273195459207168,0.8218037015847384,0.8163035666768534,0.8108190297790132,0.80534997889526,0.7998963017240897,0.7944578859260514,0.7890346193863981,0.783626390472618,0.7782330882866706,0.7728546029117624,0.7674908256535186,0.7621416492753852,0.7568069682281388,0.7514866788733463,0.7461806797006706,0.7408888715388882,0.7356111577605031,0.7303474444798674,0.7250976407446912,0.7198616587208662,0.714639413870508,0.7094308251231466,0.7042358150399975,0.6990543099712494,0.6938862402063077,0.6887315401169601],\"yaxis\":\"y\",\"type\":\"scatter\"},{\"legendgroup\":\"Lasso\",\"marker\":{\"color\":\"rgb(31, 119, 180)\",\"symbol\":\"line-ns-open\"},\"mode\":\"markers\",\"name\":\"Lasso\",\"showlegend\":false,\"x\":[0.09307319610679664,-0.25729303193076497,-0.026769058563201966,0.24327115497582805,-0.0059211130607449754,0.11162472583273662,-0.15307058718061636,-0.1771316776899766,0.08958245718276484,0.1215821360467991,0.36439887416451405],\"xaxis\":\"x\",\"y\":[\"Lasso\",\"Lasso\",\"Lasso\",\"Lasso\",\"Lasso\",\"Lasso\",\"Lasso\",\"Lasso\",\"Lasso\",\"Lasso\",\"Lasso\"],\"yaxis\":\"y2\",\"type\":\"scatter\"},{\"legendgroup\":\"Ridge\",\"marker\":{\"color\":\"rgb(255, 127, 14)\",\"symbol\":\"line-ns-open\"},\"mode\":\"markers\",\"name\":\"Ridge\",\"showlegend\":false,\"x\":[0.10637578989571628,-0.2565162690781866,-0.028775484280967767,0.26014317211754356,-0.005185285487879554,0.11425599728515934,-0.15795936727923499,-0.20163024081752745,0.09740824699745732,0.12497059657251386,0.35409418598731435],\"xaxis\":\"x\",\"y\":[\"Ridge\",\"Ridge\",\"Ridge\",\"Ridge\",\"Ridge\",\"Ridge\",\"Ridge\",\"Ridge\",\"Ridge\",\"Ridge\",\"Ridge\"],\"yaxis\":\"y2\",\"type\":\"scatter\"}],                        {\"barmode\":\"overlay\",\"hovermode\":\"closest\",\"legend\":{\"traceorder\":\"reversed\"},\"xaxis\":{\"anchor\":\"y2\",\"domain\":[0.0,1.0],\"zeroline\":false},\"yaxis\":{\"anchor\":\"free\",\"domain\":[0.35,1],\"position\":0.0},\"yaxis2\":{\"anchor\":\"x\",\"domain\":[0,0.25],\"dtick\":1,\"showticklabels\":false},\"template\":{\"data\":{\"histogram2dcontour\":[{\"type\":\"histogram2dcontour\",\"colorbar\":{\"outlinewidth\":0,\"ticks\":\"\"},\"colorscale\":[[0.0,\"#0d0887\"],[0.1111111111111111,\"#46039f\"],[0.2222222222222222,\"#7201a8\"],[0.3333333333333333,\"#9c179e\"],[0.4444444444444444,\"#bd3786\"],[0.5555555555555556,\"#d8576b\"],[0.6666666666666666,\"#ed7953\"],[0.7777777777777778,\"#fb9f3a\"],[0.8888888888888888,\"#fdca26\"],[1.0,\"#f0f921\"]]}],\"choropleth\":[{\"type\":\"choropleth\",\"colorbar\":{\"outlinewidth\":0,\"ticks\":\"\"}}],\"histogram2d\":[{\"type\":\"histogram2d\",\"colorbar\":{\"outlinewidth\":0,\"ticks\":\"\"},\"colorscale\":[[0.0,\"#0d0887\"],[0.1111111111111111,\"#46039f\"],[0.2222222222222222,\"#7201a8\"],[0.3333333333333333,\"#9c179e\"],[0.4444444444444444,\"#bd3786\"],[0.5555555555555556,\"#d8576b\"],[0.6666666666666666,\"#ed7953\"],[0.7777777777777778,\"#fb9f3a\"],[0.8888888888888888,\"#fdca26\"],[1.0,\"#f0f921\"]]}],\"heatmap\":[{\"type\":\"heatmap\",\"colorbar\":{\"outlinewidth\":0,\"ticks\":\"\"},\"colorscale\":[[0.0,\"#0d0887\"],[0.1111111111111111,\"#46039f\"],[0.2222222222222222,\"#7201a8\"],[0.3333333333333333,\"#9c179e\"],[0.4444444444444444,\"#bd3786\"],[0.5555555555555556,\"#d8576b\"],[0.6666666666666666,\"#ed7953\"],[0.7777777777777778,\"#fb9f3a\"],[0.8888888888888888,\"#fdca26\"],[1.0,\"#f0f921\"]]}],\"heatmapgl\":[{\"type\":\"heatmapgl\",\"colorbar\":{\"outlinewidth\":0,\"ticks\":\"\"},\"colorscale\":[[0.0,\"#0d0887\"],[0.1111111111111111,\"#46039f\"],[0.2222222222222222,\"#7201a8\"],[0.3333333333333333,\"#9c179e\"],[0.4444444444444444,\"#bd3786\"],[0.5555555555555556,\"#d8576b\"],[0.6666666666666666,\"#ed7953\"],[0.7777777777777778,\"#fb9f3a\"],[0.8888888888888888,\"#fdca26\"],[1.0,\"#f0f921\"]]}],\"contourcarpet\":[{\"type\":\"contourcarpet\",\"colorbar\":{\"outlinewidth\":0,\"ticks\":\"\"}}],\"contour\":[{\"type\":\"contour\",\"colorbar\":{\"outlinewidth\":0,\"ticks\":\"\"},\"colorscale\":[[0.0,\"#0d0887\"],[0.1111111111111111,\"#46039f\"],[0.2222222222222222,\"#7201a8\"],[0.3333333333333333,\"#9c179e\"],[0.4444444444444444,\"#bd3786\"],[0.5555555555555556,\"#d8576b\"],[0.6666666666666666,\"#ed7953\"],[0.7777777777777778,\"#fb9f3a\"],[0.8888888888888888,\"#fdca26\"],[1.0,\"#f0f921\"]]}],\"surface\":[{\"type\":\"surface\",\"colorbar\":{\"outlinewidth\":0,\"ticks\":\"\"},\"colorscale\":[[0.0,\"#0d0887\"],[0.1111111111111111,\"#46039f\"],[0.2222222222222222,\"#7201a8\"],[0.3333333333333333,\"#9c179e\"],[0.4444444444444444,\"#bd3786\"],[0.5555555555555556,\"#d8576b\"],[0.6666666666666666,\"#ed7953\"],[0.7777777777777778,\"#fb9f3a\"],[0.8888888888888888,\"#fdca26\"],[1.0,\"#f0f921\"]]}],\"mesh3d\":[{\"type\":\"mesh3d\",\"colorbar\":{\"outlinewidth\":0,\"ticks\":\"\"}}],\"scatter\":[{\"fillpattern\":{\"fillmode\":\"overlay\",\"size\":10,\"solidity\":0.2},\"type\":\"scatter\"}],\"parcoords\":[{\"type\":\"parcoords\",\"line\":{\"colorbar\":{\"outlinewidth\":0,\"ticks\":\"\"}}}],\"scatterpolargl\":[{\"type\":\"scatterpolargl\",\"marker\":{\"colorbar\":{\"outlinewidth\":0,\"ticks\":\"\"}}}],\"bar\":[{\"error_x\":{\"color\":\"#2a3f5f\"},\"error_y\":{\"color\":\"#2a3f5f\"},\"marker\":{\"line\":{\"color\":\"#E5ECF6\",\"width\":0.5},\"pattern\":{\"fillmode\":\"overlay\",\"size\":10,\"solidity\":0.2}},\"type\":\"bar\"}],\"scattergeo\":[{\"type\":\"scattergeo\",\"marker\":{\"colorbar\":{\"outlinewidth\":0,\"ticks\":\"\"}}}],\"scatterpolar\":[{\"type\":\"scatterpolar\",\"marker\":{\"colorbar\":{\"outlinewidth\":0,\"ticks\":\"\"}}}],\"histogram\":[{\"marker\":{\"pattern\":{\"fillmode\":\"overlay\",\"size\":10,\"solidity\":0.2}},\"type\":\"histogram\"}],\"scattergl\":[{\"type\":\"scattergl\",\"marker\":{\"colorbar\":{\"outlinewidth\":0,\"ticks\":\"\"}}}],\"scatter3d\":[{\"type\":\"scatter3d\",\"line\":{\"colorbar\":{\"outlinewidth\":0,\"ticks\":\"\"}},\"marker\":{\"colorbar\":{\"outlinewidth\":0,\"ticks\":\"\"}}}],\"scattermapbox\":[{\"type\":\"scattermapbox\",\"marker\":{\"colorbar\":{\"outlinewidth\":0,\"ticks\":\"\"}}}],\"scatterternary\":[{\"type\":\"scatterternary\",\"marker\":{\"colorbar\":{\"outlinewidth\":0,\"ticks\":\"\"}}}],\"scattercarpet\":[{\"type\":\"scattercarpet\",\"marker\":{\"colorbar\":{\"outlinewidth\":0,\"ticks\":\"\"}}}],\"carpet\":[{\"aaxis\":{\"endlinecolor\":\"#2a3f5f\",\"gridcolor\":\"white\",\"linecolor\":\"white\",\"minorgridcolor\":\"white\",\"startlinecolor\":\"#2a3f5f\"},\"baxis\":{\"endlinecolor\":\"#2a3f5f\",\"gridcolor\":\"white\",\"linecolor\":\"white\",\"minorgridcolor\":\"white\",\"startlinecolor\":\"#2a3f5f\"},\"type\":\"carpet\"}],\"table\":[{\"cells\":{\"fill\":{\"color\":\"#EBF0F8\"},\"line\":{\"color\":\"white\"}},\"header\":{\"fill\":{\"color\":\"#C8D4E3\"},\"line\":{\"color\":\"white\"}},\"type\":\"table\"}],\"barpolar\":[{\"marker\":{\"line\":{\"color\":\"#E5ECF6\",\"width\":0.5},\"pattern\":{\"fillmode\":\"overlay\",\"size\":10,\"solidity\":0.2}},\"type\":\"barpolar\"}],\"pie\":[{\"automargin\":true,\"type\":\"pie\"}]},\"layout\":{\"autotypenumbers\":\"strict\",\"colorway\":[\"#636efa\",\"#EF553B\",\"#00cc96\",\"#ab63fa\",\"#FFA15A\",\"#19d3f3\",\"#FF6692\",\"#B6E880\",\"#FF97FF\",\"#FECB52\"],\"font\":{\"color\":\"#2a3f5f\"},\"hovermode\":\"closest\",\"hoverlabel\":{\"align\":\"left\"},\"paper_bgcolor\":\"white\",\"plot_bgcolor\":\"#E5ECF6\",\"polar\":{\"bgcolor\":\"#E5ECF6\",\"angularaxis\":{\"gridcolor\":\"white\",\"linecolor\":\"white\",\"ticks\":\"\"},\"radialaxis\":{\"gridcolor\":\"white\",\"linecolor\":\"white\",\"ticks\":\"\"}},\"ternary\":{\"bgcolor\":\"#E5ECF6\",\"aaxis\":{\"gridcolor\":\"white\",\"linecolor\":\"white\",\"ticks\":\"\"},\"baxis\":{\"gridcolor\":\"white\",\"linecolor\":\"white\",\"ticks\":\"\"},\"caxis\":{\"gridcolor\":\"white\",\"linecolor\":\"white\",\"ticks\":\"\"}},\"coloraxis\":{\"colorbar\":{\"outlinewidth\":0,\"ticks\":\"\"}},\"colorscale\":{\"sequential\":[[0.0,\"#0d0887\"],[0.1111111111111111,\"#46039f\"],[0.2222222222222222,\"#7201a8\"],[0.3333333333333333,\"#9c179e\"],[0.4444444444444444,\"#bd3786\"],[0.5555555555555556,\"#d8576b\"],[0.6666666666666666,\"#ed7953\"],[0.7777777777777778,\"#fb9f3a\"],[0.8888888888888888,\"#fdca26\"],[1.0,\"#f0f921\"]],\"sequentialminus\":[[0.0,\"#0d0887\"],[0.1111111111111111,\"#46039f\"],[0.2222222222222222,\"#7201a8\"],[0.3333333333333333,\"#9c179e\"],[0.4444444444444444,\"#bd3786\"],[0.5555555555555556,\"#d8576b\"],[0.6666666666666666,\"#ed7953\"],[0.7777777777777778,\"#fb9f3a\"],[0.8888888888888888,\"#fdca26\"],[1.0,\"#f0f921\"]],\"diverging\":[[0,\"#8e0152\"],[0.1,\"#c51b7d\"],[0.2,\"#de77ae\"],[0.3,\"#f1b6da\"],[0.4,\"#fde0ef\"],[0.5,\"#f7f7f7\"],[0.6,\"#e6f5d0\"],[0.7,\"#b8e186\"],[0.8,\"#7fbc41\"],[0.9,\"#4d9221\"],[1,\"#276419\"]]},\"xaxis\":{\"gridcolor\":\"white\",\"linecolor\":\"white\",\"ticks\":\"\",\"title\":{\"standoff\":15},\"zerolinecolor\":\"white\",\"automargin\":true,\"zerolinewidth\":2},\"yaxis\":{\"gridcolor\":\"white\",\"linecolor\":\"white\",\"ticks\":\"\",\"title\":{\"standoff\":15},\"zerolinecolor\":\"white\",\"automargin\":true,\"zerolinewidth\":2},\"scene\":{\"xaxis\":{\"backgroundcolor\":\"#E5ECF6\",\"gridcolor\":\"white\",\"linecolor\":\"white\",\"showbackground\":true,\"ticks\":\"\",\"zerolinecolor\":\"white\",\"gridwidth\":2},\"yaxis\":{\"backgroundcolor\":\"#E5ECF6\",\"gridcolor\":\"white\",\"linecolor\":\"white\",\"showbackground\":true,\"ticks\":\"\",\"zerolinecolor\":\"white\",\"gridwidth\":2},\"zaxis\":{\"backgroundcolor\":\"#E5ECF6\",\"gridcolor\":\"white\",\"linecolor\":\"white\",\"showbackground\":true,\"ticks\":\"\",\"zerolinecolor\":\"white\",\"gridwidth\":2}},\"shapedefaults\":{\"line\":{\"color\":\"#2a3f5f\"}},\"annotationdefaults\":{\"arrowcolor\":\"#2a3f5f\",\"arrowhead\":0,\"arrowwidth\":1},\"geo\":{\"bgcolor\":\"white\",\"landcolor\":\"#E5ECF6\",\"subunitcolor\":\"white\",\"showland\":true,\"showlakes\":true,\"lakecolor\":\"white\"},\"title\":{\"x\":0.05},\"mapbox\":{\"style\":\"light\"}}}},                        {\"responsive\": true}                    ).then(function(){\n",
       "                            \n",
       "var gd = document.getElementById('d4bcdd93-a5f4-459a-b3ca-d291eae16e5c');\n",
       "var x = new MutationObserver(function (mutations, observer) {{\n",
       "        var display = window.getComputedStyle(gd).display;\n",
       "        if (!display || display === 'none') {{\n",
       "            console.log([gd, 'removed!']);\n",
       "            Plotly.purge(gd);\n",
       "            observer.disconnect();\n",
       "        }}\n",
       "}});\n",
       "\n",
       "// Listen for the removal of the full notebook cells\n",
       "var notebookContainer = gd.closest('#notebook-container');\n",
       "if (notebookContainer) {{\n",
       "    x.observe(notebookContainer, {childList: true});\n",
       "}}\n",
       "\n",
       "// Listen for the clearing of the current output cell\n",
       "var outputEl = gd.closest('.output');\n",
       "if (outputEl) {{\n",
       "    x.observe(outputEl, {childList: true});\n",
       "}}\n",
       "\n",
       "                        })                };                });            </script>        </div>"
      ]
     },
     "metadata": {},
     "output_type": "display_data"
    }
   ],
   "source": [
    "ff.create_distplot([\n",
    "    models['LassoCV'][\"LinearModel\"].coef_, \n",
    "    models['RidgeCV'][\"LinearModel\"].coef_],\n",
    "    [\"Lasso\", \"Ridge\"], bin_size=0.1)"
   ]
  },
  {
   "cell_type": "markdown",
   "id": "cf97f455",
   "metadata": {},
   "source": [
    "From this graph we can see the Lasso modelconcentrated about the 0, and the ridge concentrated around the 0.1 just as we expected. However the peak is not very high in the Lasso model which indicated most of our variables do actually contribute to the variance in the quality of the wine "
   ]
  },
  {
   "cell_type": "markdown",
   "id": "2c959e33",
   "metadata": {},
   "source": [
    "# Logistic "
   ]
  },
  {
   "cell_type": "markdown",
   "id": "4d89634f",
   "metadata": {},
   "source": [
    "We are converting our target variable to a binary classification of either being good or bad \n",
    "Because our target variable is now a binary classification, it has only two points. Taking a straight line between the middle of the two points wouldnt make for a very accurate model of the behaviour of the two outcomes."
   ]
  },
  {
   "cell_type": "code",
   "execution_count": 151,
   "id": "30cf0fa0",
   "metadata": {},
   "outputs": [
    {
     "data": {
      "image/png": "[encoded data removed]",
      "text/plain": [
       "<Figure size 576x432 with 1 Axes>"
      ]
     },
     "metadata": {},
     "output_type": "display_data"
    }
   ],
   "source": [
    "# Generate a toy dataset, it's just a straight line with some Gaussian noise:\n",
    "xmin, xmax = -5, 5\n",
    "n_samples = 100\n",
    "np.random.seed(0)\n",
    "X = np.random.normal(size=n_samples)\n",
    "y = (X > 0).astype(float)\n",
    "X[X > 0] *= 4\n",
    "X += 0.3 * np.random.normal(size=n_samples)\n",
    "\n",
    "X = X[:, np.newaxis]\n",
    "\n",
    "# Fit the classifier\n",
    "clf = LogisticRegression(C=1e5)\n",
    "clf.fit(X, y)\n",
    "\n",
    "# and plot the result\n",
    "plt.figure(1, figsize=(8, 6))\n",
    "plt.clf()\n",
    "plt.scatter(X.ravel(), y, color=\"black\", zorder=20)\n",
    "X_test = np.linspace(-5, 10, 300)\n",
    "\n",
    "loss = expit(X_test * clf.coef_ + clf.intercept_).ravel()\n",
    "plt.plot(X_test, loss, color=\"red\", linewidth=3)\n",
    "\n",
    "ols = LinearRegression()\n",
    "ols.fit(X, y)\n",
    "plt.plot(X_test, ols.coef_ * X_test + ols.intercept_, linewidth=1)\n",
    "plt.axhline(0.5, color=\".5\")\n",
    "\n",
    "plt.ylabel(\"y\")\n",
    "plt.xlabel(\"X\")\n",
    "plt.xticks(range(-5, 10))\n",
    "plt.yticks([0, 0.5, 1])\n",
    "plt.ylim(-0.25, 1.25)\n",
    "plt.xlim(-4, 10)\n",
    "plt.legend(\n",
    "    (\"Logistic Regression Model\", \"Linear Regression Model\"),\n",
    "    loc=\"lower right\",\n",
    "    fontsize=\"small\",\n",
    ")\n",
    "plt.tight_layout()\n",
    "plt.show()"
   ]
  },
  {
   "cell_type": "markdown",
   "id": "90d9522f",
   "metadata": {},
   "source": [
    "From the above graph you can clearly see the difference in the models and why logisitic models are used for binary classification.\n",
    "To accurately determine whether or not the variable y is 0 or 1, the linear model will determine if X is greater than 1, than y = 1 or if x if less than 1, than y= 0. looking at the data points this is inaccurate for the case of y =1, compare this to the logitistic model. the logtisitc model says if X is greater than 0 than y = 1 which is a much more accurate prediction"
   ]
  },
  {
   "cell_type": "code",
   "execution_count": 152,
   "id": "0a5f2c97",
   "metadata": {},
   "outputs": [
    {
     "data": {
      "text/html": [
       "<div>\n",
       "<style scoped>\n",
       "    .dataframe tbody tr th:only-of-type {\n",
       "        vertical-align: middle;\n",
       "    }\n",
       "\n",
       "    .dataframe tbody tr th {\n",
       "        vertical-align: top;\n",
       "    }\n",
       "\n",
       "    .dataframe thead th {\n",
       "        text-align: right;\n",
       "    }\n",
       "</style>\n",
       "<table border=\"1\" class=\"dataframe\">\n",
       "  <thead>\n",
       "    <tr style=\"text-align: right;\">\n",
       "      <th></th>\n",
       "      <th>fixed acidity</th>\n",
       "      <th>volatile acidity</th>\n",
       "      <th>citric acid</th>\n",
       "      <th>residual sugar</th>\n",
       "      <th>chlorides</th>\n",
       "      <th>free sulfur dioxide</th>\n",
       "      <th>total sulfur dioxide</th>\n",
       "      <th>density</th>\n",
       "      <th>pH</th>\n",
       "      <th>sulphates</th>\n",
       "      <th>alcohol</th>\n",
       "      <th>quality</th>\n",
       "      <th>red_wine</th>\n",
       "      <th>qual</th>\n",
       "    </tr>\n",
       "  </thead>\n",
       "  <tbody>\n",
       "    <tr>\n",
       "      <th>0</th>\n",
       "      <td>0.142473</td>\n",
       "      <td>2.188833</td>\n",
       "      <td>-2.192833</td>\n",
       "      <td>-0.744778</td>\n",
       "      <td>0.569958</td>\n",
       "      <td>-1.100140</td>\n",
       "      <td>-1.446359</td>\n",
       "      <td>1.034993</td>\n",
       "      <td>1.813090</td>\n",
       "      <td>0.193097</td>\n",
       "      <td>-0.915464</td>\n",
       "      <td>-0.937230</td>\n",
       "      <td>1.750190</td>\n",
       "      <td>bad</td>\n",
       "    </tr>\n",
       "    <tr>\n",
       "      <th>1</th>\n",
       "      <td>0.451036</td>\n",
       "      <td>3.282235</td>\n",
       "      <td>-2.192833</td>\n",
       "      <td>-0.597640</td>\n",
       "      <td>1.197975</td>\n",
       "      <td>-0.311320</td>\n",
       "      <td>-0.862469</td>\n",
       "      <td>0.701486</td>\n",
       "      <td>-0.115073</td>\n",
       "      <td>0.999579</td>\n",
       "      <td>-0.580068</td>\n",
       "      <td>-0.937230</td>\n",
       "      <td>1.750190</td>\n",
       "      <td>bad</td>\n",
       "    </tr>\n",
       "    <tr>\n",
       "      <th>2</th>\n",
       "      <td>0.451036</td>\n",
       "      <td>2.553300</td>\n",
       "      <td>-1.917553</td>\n",
       "      <td>-0.660699</td>\n",
       "      <td>1.026697</td>\n",
       "      <td>-0.874763</td>\n",
       "      <td>-1.092486</td>\n",
       "      <td>0.768188</td>\n",
       "      <td>0.258120</td>\n",
       "      <td>0.797958</td>\n",
       "      <td>-0.580068</td>\n",
       "      <td>-0.937230</td>\n",
       "      <td>1.750190</td>\n",
       "      <td>bad</td>\n",
       "    </tr>\n",
       "    <tr>\n",
       "      <th>3</th>\n",
       "      <td>3.073817</td>\n",
       "      <td>-0.362438</td>\n",
       "      <td>1.661085</td>\n",
       "      <td>-0.744778</td>\n",
       "      <td>0.541412</td>\n",
       "      <td>-0.762074</td>\n",
       "      <td>-0.986324</td>\n",
       "      <td>1.101694</td>\n",
       "      <td>-0.363868</td>\n",
       "      <td>0.327510</td>\n",
       "      <td>-0.580068</td>\n",
       "      <td>0.207999</td>\n",
       "      <td>1.750190</td>\n",
       "      <td>good</td>\n",
       "    </tr>\n",
       "    <tr>\n",
       "      <th>4</th>\n",
       "      <td>0.142473</td>\n",
       "      <td>2.188833</td>\n",
       "      <td>-2.192833</td>\n",
       "      <td>-0.744778</td>\n",
       "      <td>0.569958</td>\n",
       "      <td>-1.100140</td>\n",
       "      <td>-1.446359</td>\n",
       "      <td>1.034993</td>\n",
       "      <td>1.813090</td>\n",
       "      <td>0.193097</td>\n",
       "      <td>-0.915464</td>\n",
       "      <td>-0.937230</td>\n",
       "      <td>1.750190</td>\n",
       "      <td>bad</td>\n",
       "    </tr>\n",
       "    <tr>\n",
       "      <th>...</th>\n",
       "      <td>...</td>\n",
       "      <td>...</td>\n",
       "      <td>...</td>\n",
       "      <td>...</td>\n",
       "      <td>...</td>\n",
       "      <td>...</td>\n",
       "      <td>...</td>\n",
       "      <td>...</td>\n",
       "      <td>...</td>\n",
       "      <td>...</td>\n",
       "      <td>...</td>\n",
       "      <td>...</td>\n",
       "      <td>...</td>\n",
       "      <td>...</td>\n",
       "    </tr>\n",
       "    <tr>\n",
       "      <th>6492</th>\n",
       "      <td>-0.783214</td>\n",
       "      <td>-0.787650</td>\n",
       "      <td>-0.197054</td>\n",
       "      <td>-0.807837</td>\n",
       "      <td>-0.486252</td>\n",
       "      <td>-0.367664</td>\n",
       "      <td>-0.420128</td>\n",
       "      <td>-1.186161</td>\n",
       "      <td>0.320319</td>\n",
       "      <td>-0.210144</td>\n",
       "      <td>0.593818</td>\n",
       "      <td>0.207999</td>\n",
       "      <td>-0.571367</td>\n",
       "      <td>good</td>\n",
       "    </tr>\n",
       "    <tr>\n",
       "      <th>6493</th>\n",
       "      <td>-0.474652</td>\n",
       "      <td>-0.119460</td>\n",
       "      <td>0.284686</td>\n",
       "      <td>0.537425</td>\n",
       "      <td>-0.257883</td>\n",
       "      <td>1.491697</td>\n",
       "      <td>0.924588</td>\n",
       "      <td>0.067824</td>\n",
       "      <td>-0.426067</td>\n",
       "      <td>-0.478971</td>\n",
       "      <td>-0.747766</td>\n",
       "      <td>-0.937230</td>\n",
       "      <td>-0.571367</td>\n",
       "      <td>bad</td>\n",
       "    </tr>\n",
       "    <tr>\n",
       "      <th>6494</th>\n",
       "      <td>-0.551792</td>\n",
       "      <td>-0.605417</td>\n",
       "      <td>-0.885253</td>\n",
       "      <td>-0.891916</td>\n",
       "      <td>-0.429160</td>\n",
       "      <td>-0.029599</td>\n",
       "      <td>-0.083949</td>\n",
       "      <td>-0.719251</td>\n",
       "      <td>-1.421248</td>\n",
       "      <td>-0.478971</td>\n",
       "      <td>-0.915464</td>\n",
       "      <td>0.207999</td>\n",
       "      <td>-0.571367</td>\n",
       "      <td>good</td>\n",
       "    </tr>\n",
       "    <tr>\n",
       "      <th>6495</th>\n",
       "      <td>-1.323198</td>\n",
       "      <td>-0.301694</td>\n",
       "      <td>-0.128234</td>\n",
       "      <td>-0.912936</td>\n",
       "      <td>-0.971538</td>\n",
       "      <td>-0.593041</td>\n",
       "      <td>-0.101642</td>\n",
       "      <td>-2.003251</td>\n",
       "      <td>0.755710</td>\n",
       "      <td>-1.016626</td>\n",
       "      <td>1.935402</td>\n",
       "      <td>1.353228</td>\n",
       "      <td>-0.571367</td>\n",
       "      <td>good</td>\n",
       "    </tr>\n",
       "    <tr>\n",
       "      <th>6496</th>\n",
       "      <td>-0.937495</td>\n",
       "      <td>-0.787650</td>\n",
       "      <td>0.422326</td>\n",
       "      <td>-0.975995</td>\n",
       "      <td>-1.028631</td>\n",
       "      <td>-0.480353</td>\n",
       "      <td>-0.313966</td>\n",
       "      <td>-1.763127</td>\n",
       "      <td>0.258120</td>\n",
       "      <td>-1.419867</td>\n",
       "      <td>1.096912</td>\n",
       "      <td>0.207999</td>\n",
       "      <td>-0.571367</td>\n",
       "      <td>good</td>\n",
       "    </tr>\n",
       "  </tbody>\n",
       "</table>\n",
       "<p>6497 rows × 14 columns</p>\n",
       "</div>"
      ],
      "text/plain": [
       "      fixed acidity  volatile acidity  citric acid  residual sugar  chlorides  \\\n",
       "0          0.142473          2.188833    -2.192833       -0.744778   0.569958   \n",
       "1          0.451036          3.282235    -2.192833       -0.597640   1.197975   \n",
       "2          0.451036          2.553300    -1.917553       -0.660699   1.026697   \n",
       "3          3.073817         -0.362438     1.661085       -0.744778   0.541412   \n",
       "4          0.142473          2.188833    -2.192833       -0.744778   0.569958   \n",
       "...             ...               ...          ...             ...        ...   \n",
       "6492      -0.783214         -0.787650    -0.197054       -0.807837  -0.486252   \n",
       "6493      -0.474652         -0.119460     0.284686        0.537425  -0.257883   \n",
       "6494      -0.551792         -0.605417    -0.885253       -0.891916  -0.429160   \n",
       "6495      -1.323198         -0.301694    -0.128234       -0.912936  -0.971538   \n",
       "6496      -0.937495         -0.787650     0.422326       -0.975995  -1.028631   \n",
       "\n",
       "      free sulfur dioxide  total sulfur dioxide   density        pH  \\\n",
       "0               -1.100140             -1.446359  1.034993  1.813090   \n",
       "1               -0.311320             -0.862469  0.701486 -0.115073   \n",
       "2               -0.874763             -1.092486  0.768188  0.258120   \n",
       "3               -0.762074             -0.986324  1.101694 -0.363868   \n",
       "4               -1.100140             -1.446359  1.034993  1.813090   \n",
       "...                   ...                   ...       ...       ...   \n",
       "6492            -0.367664             -0.420128 -1.186161  0.320319   \n",
       "6493             1.491697              0.924588  0.067824 -0.426067   \n",
       "6494            -0.029599             -0.083949 -0.719251 -1.421248   \n",
       "6495            -0.593041             -0.101642 -2.003251  0.755710   \n",
       "6496            -0.480353             -0.313966 -1.763127  0.258120   \n",
       "\n",
       "      sulphates   alcohol   quality  red_wine  qual  \n",
       "0      0.193097 -0.915464 -0.937230  1.750190   bad  \n",
       "1      0.999579 -0.580068 -0.937230  1.750190   bad  \n",
       "2      0.797958 -0.580068 -0.937230  1.750190   bad  \n",
       "3      0.327510 -0.580068  0.207999  1.750190  good  \n",
       "4      0.193097 -0.915464 -0.937230  1.750190   bad  \n",
       "...         ...       ...       ...       ...   ...  \n",
       "6492  -0.210144  0.593818  0.207999 -0.571367  good  \n",
       "6493  -0.478971 -0.747766 -0.937230 -0.571367   bad  \n",
       "6494  -0.478971 -0.915464  0.207999 -0.571367  good  \n",
       "6495  -1.016626  1.935402  1.353228 -0.571367  good  \n",
       "6496  -1.419867  1.096912  0.207999 -0.571367  good  \n",
       "\n",
       "[6497 rows x 14 columns]"
      ]
     },
     "execution_count": 152,
     "metadata": {},
     "output_type": "execute_result"
    }
   ],
   "source": [
    "#changing the data to binary classification\n",
    "summ = []\n",
    "for i in range(len(wine_csv)):\n",
    "    if wine['quality'][i] > 5:\n",
    "        summ.append(\"good\")\n",
    "    else:\n",
    "        summ.append(\"bad\")\n",
    "wine_csv['qual'] = summ\n",
    "wine_csv"
   ]
  },
  {
   "cell_type": "code",
   "execution_count": 153,
   "id": "a2d80348",
   "metadata": {},
   "outputs": [
    {
     "data": {
      "text/plain": [
       "good    4113\n",
       "bad     2384\n",
       "Name: qual, dtype: int64"
      ]
     },
     "execution_count": 153,
     "metadata": {},
     "output_type": "execute_result"
    }
   ],
   "source": [
    "wine_csv['qual'].value_counts()"
   ]
  },
  {
   "cell_type": "code",
   "execution_count": 154,
   "id": "7bc0d35b",
   "metadata": {},
   "outputs": [],
   "source": [
    "Y = wine_csv['qual']\n",
    "x = wine_csv.drop(['quality', 'qual'], axis=1)"
   ]
  },
  {
   "cell_type": "code",
   "execution_count": 155,
   "id": "05be6aa0",
   "metadata": {},
   "outputs": [],
   "source": [
    "X_train, X_test, y_train, y_test = train_test_split(x, Y, test_size=0.3, random_state=42)"
   ]
  },
  {
   "cell_type": "code",
   "execution_count": 156,
   "id": "a254f180",
   "metadata": {},
   "outputs": [
    {
     "name": "stdout",
     "output_type": "stream",
     "text": [
      "test accuracy is: 73.18%\n"
     ]
    }
   ],
   "source": [
    "logreg = LogisticRegression()\n",
    "logreg.fit(X_train, y_train)\n",
    "logreg_pred = logreg.predict(X_test)\n",
    "logreg_acc = accuracy_score(logreg_pred, y_test)\n",
    "print(\"test accuracy is: {:.2f}%\".format(logreg_acc*100))"
   ]
  },
  {
   "cell_type": "markdown",
   "id": "9948648b",
   "metadata": {},
   "source": [
    "Accuracy is the proportion of correct predictions over total predictions\n",
    "This means that our model gets if a wine is good or bad 73.18% of the time "
   ]
  },
  {
   "cell_type": "code",
   "execution_count": 157,
   "id": "8fe3f73b",
   "metadata": {},
   "outputs": [
    {
     "name": "stdout",
     "output_type": "stream",
     "text": [
      "              precision    recall  f1-score   support\n",
      "\n",
      "         bad       0.63      0.58      0.60       691\n",
      "        good       0.78      0.82      0.80      1259\n",
      "\n",
      "    accuracy                           0.73      1950\n",
      "   macro avg       0.71      0.70      0.70      1950\n",
      "weighted avg       0.73      0.73      0.73      1950\n",
      "\n"
     ]
    }
   ],
   "source": [
    "print(classification_report(y_test, logreg_pred))"
   ]
  },
  {
   "cell_type": "markdown",
   "id": "9c050109",
   "metadata": {},
   "source": [
    "Precision measures how good our model is when the prediction is positive, so how many predicited good wines were actually good. High precision relates to the low false positive rate\n",
    "\n",
    "Recall measures how good our model is at correctly predicting positive classes, so from all the truely good wines how many did we predict, above 0.5 is good\n",
    "\n",
    "F1 score - F1 Score is the weighted average of Precision and Recall. Therefore, this score takes both false positives and false negatives into account"
   ]
  },
  {
   "cell_type": "code",
   "execution_count": 158,
   "id": "92c57edd",
   "metadata": {},
   "outputs": [
    {
     "name": "stdout",
     "output_type": "stream",
     "text": [
      "TN:  398\n",
      "FN:  230\n",
      "TP:  1029\n",
      "FP:  293\n"
     ]
    },
    {
     "data": {
      "image/png": "[encoded data removed]",
      "text/plain": [
       "<Figure size 640x480 with 2 Axes>"
      ]
     },
     "metadata": {},
     "output_type": "display_data"
    }
   ],
   "source": [
    "style.use('classic')\n",
    "cm = confusion_matrix(y_test, logreg_pred, labels=logreg.classes_)\n",
    "disp = ConfusionMatrixDisplay(confusion_matrix= cm, display_labels=logreg.classes_)\n",
    "disp.plot()\n",
    "print(\"TN: \", cm[0][0])\n",
    "print(\"FN: \", cm[1][0])\n",
    "print(\"TP: \", cm[1][1])\n",
    "print(\"FP: \", cm[0][1])"
   ]
  },
  {
   "cell_type": "markdown",
   "id": "c287275b",
   "metadata": {},
   "source": [
    "A confusion matrix is a table that is used to define the performance of a classification algorithm. A confusion matrix visualizes and summarizes the performance of a classification algorithm\n",
    "\n",
    "From our confusion matrix we can see that the model is very good at calling true postive values, however is not as great as predicting true negative values."
   ]
  },
  {
   "cell_type": "code",
   "execution_count": 159,
   "id": "98f76153",
   "metadata": {},
   "outputs": [
    {
     "name": "stdout",
     "output_type": "stream",
     "text": [
      "Test accuracy: 76.62%\n"
     ]
    }
   ],
   "source": [
    "dtree = DecisionTreeClassifier()\n",
    "dtree.fit(X_train, y_train)\n",
    "dtree_pred = dtree.predict(X_test)\n",
    "dtree_acc = accuracy_score(dtree_pred, y_test)\n",
    "print(\"Test accuracy: {:.2f}%\".format(dtree_acc*100))"
   ]
  },
  {
   "cell_type": "code",
   "execution_count": 160,
   "id": "2f09f427",
   "metadata": {},
   "outputs": [
    {
     "name": "stdout",
     "output_type": "stream",
     "text": [
      "              precision    recall  f1-score   support\n",
      "\n",
      "         bad       0.67      0.68      0.67       691\n",
      "        good       0.82      0.81      0.82      1259\n",
      "\n",
      "    accuracy                           0.77      1950\n",
      "   macro avg       0.74      0.75      0.75      1950\n",
      "weighted avg       0.77      0.77      0.77      1950\n",
      "\n"
     ]
    }
   ],
   "source": [
    "print(classification_report(y_test, dtree_pred))"
   ]
  },
  {
   "cell_type": "code",
   "execution_count": 161,
   "id": "c59adbf0",
   "metadata": {},
   "outputs": [
    {
     "name": "stdout",
     "output_type": "stream",
     "text": [
      "TN:  471\n",
      "FN:  236\n",
      "TP:  1023\n",
      "FP:  220\n"
     ]
    },
    {
     "data": {
      "image/png": "[encoded data removed]",
      "text/plain": [
       "<Figure size 640x480 with 2 Axes>"
      ]
     },
     "metadata": {},
     "output_type": "display_data"
    }
   ],
   "source": [
    "style.use('classic')\n",
    "cm = confusion_matrix(y_test, dtree_pred, labels=dtree.classes_)\n",
    "disp = ConfusionMatrixDisplay(confusion_matrix= cm, display_labels=dtree.classes_)\n",
    "disp.plot()\n",
    "print(\"TN: \", cm[0][0])\n",
    "print(\"FN: \", cm[1][0])\n",
    "print(\"TP: \", cm[1][1])\n",
    "print(\"FP: \", cm[0][1])"
   ]
  },
  {
   "cell_type": "markdown",
   "id": "b6daec9e",
   "metadata": {},
   "source": [
    "As you can see using the DecisionTreeClassifier as the logistic model the right predictions have increased drastically.\n",
    "\n",
    "Decision Trees bisect the space into smaller and smaller regions, whereas Logistic Regression fits a single line to divide the space exactly into two"
   ]
  },
  {
   "cell_type": "markdown",
   "id": "6856da47",
   "metadata": {},
   "source": [
    "The ROC curve will summarise the prediction performance of a classification model at all classification thresholds. As a funciton of the true postitive rate and false positive rate. Where the true positive rate will be on the y axis and the false positive rate will be on the x axis.\n",
    "\n",
    "Using the graph we can see the optimal classification threshold to choose, which will give us the best true and false postitve rate for our situation. In our case of wines, and true and false positive case have the same severity, meaning we are just as happy prediciting a good wine correctly as a bad wine. In some scenarios a true postitive is much more important than a true negative, an example could be detecting Ebola where we would have our classification threshold more skewed towards the y axis (true positive rate)\n",
    "\n",
    "True postive is also known as the sensetivity and the false postiive rate is also known as specificity "
   ]
  },
  {
   "cell_type": "code",
   "execution_count": 162,
   "id": "239d5d3a",
   "metadata": {},
   "outputs": [],
   "source": [
    "label = LabelEncoder()"
   ]
  },
  {
   "cell_type": "code",
   "execution_count": 163,
   "id": "b78710f3",
   "metadata": {},
   "outputs": [],
   "source": [
    "wine_csv['qual'] = label.fit_transform(wine_csv['qual'])"
   ]
  },
  {
   "cell_type": "code",
   "execution_count": 164,
   "id": "104945b8",
   "metadata": {
    "scrolled": true
   },
   "outputs": [
    {
     "data": {
      "text/plain": [
       "array(['bad', 'good'], dtype=object)"
      ]
     },
     "execution_count": 164,
     "metadata": {},
     "output_type": "execute_result"
    }
   ],
   "source": [
    "label.classes_"
   ]
  },
  {
   "cell_type": "code",
   "execution_count": 165,
   "id": "35ab43ce",
   "metadata": {},
   "outputs": [],
   "source": [
    "X = wine_csv.drop(['quality', 'qual', 'red_wine'],axis=1)\n",
    "y = wine_csv.qual"
   ]
  },
  {
   "cell_type": "code",
   "execution_count": 166,
   "id": "6d7e37c2",
   "metadata": {},
   "outputs": [],
   "source": [
    "X_train,X_test,y_train,y_test = train_test_split(X,y,test_size=0.2,random_state=38,stratify=y)\n",
    "\n",
    "# Define preprocessing for numeric columns (normalize them so they're on the same scale)\n",
    " \n",
    "numeric_transformer = Pipeline(steps=[('scaler', StandardScaler())])\n",
    "\n",
    "# Combine preprocessing steps\n",
    "preprocessor = ColumnTransformer(transformers=[('num', numeric_transformer, quantitative_features)])\n",
    "        \n",
    "# Create preprocessing and training pipeline\n",
    "pipeline = Pipeline(steps=[('preprocessor', preprocessor),\n",
    "                           ('randomforest', RandomForestClassifier(max_depth=15))])\n",
    "\n",
    "\n",
    "# fit the pipeline to train a random forest classifier model on the training set\n",
    "\n",
    "rfc = pipeline.fit(X_train, (y_train))\n",
    "\n",
    "predictions = rfc.predict(X_test)"
   ]
  },
  {
   "cell_type": "code",
   "execution_count": 167,
   "id": "11601a2a",
   "metadata": {},
   "outputs": [],
   "source": [
    "def draw_roc_curve(y_pred_prob):\n",
    "    fpr, tpr, thresholds = roc_curve(y_true=y_test, y_score=y_pred_prob)\n",
    "    plt.subplots(figsize=(15,10))\n",
    "    plt.plot([0, 1], [0, 1], 'k--')\n",
    "    plt.plot(fpr, tpr, label='Random Forest Classifier')\n",
    "    plt.xlabel('False Positive Rate')\n",
    "    plt.ylabel('True Positive Rate')\n",
    "    plt.title('Random Forest Classifier ROC Curve')\n",
    "    plt.show();"
   ]
  },
  {
   "cell_type": "code",
   "execution_count": 168,
   "id": "24c09f2f",
   "metadata": {},
   "outputs": [
    {
     "data": {
      "image/png": "[encoded data removed]",
      "text/plain": [
       "<Figure size 1200x800 with 1 Axes>"
      ]
     },
     "metadata": {},
     "output_type": "display_data"
    }
   ],
   "source": [
    "y_pred_prob = rfc.predict_proba(X_test)[:,1]\n",
    "draw_roc_curve(y_pred_prob)"
   ]
  },
  {
   "cell_type": "markdown",
   "id": "a9b0bb8c",
   "metadata": {},
   "source": [
    "I couldve made my model better by cleaning the data better. The possible techniques i could have used is cleaning the data using z score. The z score is a standard deviation, where any data points in normally distrubted data that are 3 standard deviations away from the mean is considered an outlier.\n",
    "\n",
    "I also couldve seperated the data into the two types of wine, the red wine and white wine. This wouldve imporved the model because at the start we saw that both models had different variables with different correlated values."
   ]
  }
 ],
 "metadata": {
  "kernelspec": {
   "display_name": "Python 3 (ipykernel)",
   "language": "python",
   "name": "python3"
  },
  "language_info": {
   "codemirror_mode": {
    "name": "ipython",
    "version": 3
   },
   "file_extension": ".py",
   "mimetype": "text/x-python",
   "name": "python",
   "nbconvert_exporter": "python",
   "pygments_lexer": "ipython3",
   "version": "3.9.7"
  }
 },
 "nbformat": 4,
 "nbformat_minor": 5
}
